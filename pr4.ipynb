{
  "cells": [
    {
      "cell_type": "markdown",
      "metadata": {
        "id": "view-in-github",
        "colab_type": "text"
      },
      "source": [
        "<a href=\"https://colab.research.google.com/github/LIvanoff/Big-Data-analysis-technologies-and-tools/blob/main/pr4.ipynb\" target=\"_parent\"><img src=\"https://colab.research.google.com/assets/colab-badge.svg\" alt=\"Open In Colab\"/></a>"
      ]
    },
    {
      "cell_type": "code",
      "execution_count": null,
      "metadata": {
        "id": "cYyle0hRVWir"
      },
      "outputs": [],
      "source": [
        "import pandas as pd\n",
        "import numpy as np\n",
        "import scipy.stats as sts\n",
        "import matplotlib.pyplot as plt\n",
        "import seaborn as sns\n",
        "import torch\n",
        "import torch.nn as nn\n",
        "import torch.optim as optim\n",
        "from IPython.display import clear_output\n",
        "import scipy.stats as sts\n",
        "import statsmodels.api as sm\n",
        "from statsmodels.formula.api import ols\n",
        "from sklearn.model_selection import train_test_split\n",
        "from sklearn.metrics import r2_score\n",
        "from statsmodels.stats.multicomp import pairwise_tukeyhsd"
      ]
    },
    {
      "cell_type": "markdown",
      "metadata": {
        "id": "B6W1A1AWVpzD"
      },
      "source": [
        "## Задача 1"
      ]
    },
    {
      "cell_type": "markdown",
      "metadata": {
        "id": "WC4puKDzVoDP"
      },
      "source": [
        "Определить два вектора, представляющие собой число автомобилей,\n",
        "припаркованных в течении 5 рабочих дней у бизнес-центра на уличной\n",
        "стоянке и в подземном гараже"
      ]
    },
    {
      "cell_type": "markdown",
      "metadata": {
        "id": "wxCcEsYdVvq6"
      },
      "source": [
        "![image.png](data:image/png;base64,iVBORw0KGgoAAAANSUhEUgAAAYcAAADACAYAAADvNK8eAAAAAXNSR0IArs4c6QAAAARnQU1BAACxjwv8YQUAAAAJcEhZcwAADsMAAA7DAcdvqGQAAE4SSURBVHhe7d0HQBPXHwfwby4JG9kqIuJE3FVRFPdWHCiKiFWrgta9Z7W0Wq1arVpHcVb/gtu6cLVu615VcUAVtzhBZAa45Pe/JAcEwRqtYoT3+f9TycvLEe737n53773LSUiAz5HyFmY1aoBd9RZi4fDWqFzMAjLNCyqkvnqEq38uxqjhx9D60F+Y6CbVvMK8O8X2Xijuewg+YVFY1tpYLGUYJr/jxH8/S/KawxE8vQu+yEwMahyMrZxR03c6lo+pAyOxlGEYhtHf55scpEXQYVBPVMjKCq+Roozf12jvxM4a/gsVz0NJPPj0z/MEk2GY9/MZnzlYomx5JyEFvJnUqTxcLcUnzDtKxd3jazE39CQSVDE4vGo+Np2JhlJ8lWGY/O2dxxwkEon4E8MwDPM50me3/17J4R3fwjB6YW0rf2BxNGz6xuezHpBmGIZhPg6WHBiGYZgcWHJgGIZhcmBjDh9A6q1D2LjnKC5cjUaSKrd1IwFnWRxfNOwAP+/qsGMpOVefQ9tSxf6NLSvW4/DNWGTM7pUYO6KyZ0t4d2uAkurpc6onOLstDIfP/Y1bL9Ihc6gO/2ED0NCxYATe4OKofIQz2/fh0KmzuB2nxL99MolZbSxf0F98lj/pHR+h0jt5j7cUELG0uXsJ6rgqjlJTU4VHAu37ugQJ+wqC1In67IgX6zFv8tm0Lf4+be5VmuTCNqb+zHL3H+gaL76mI2VPIJUo0ZVC76aLJQWDYcZRSU+WeZFFRsw8Z1JEino7FR6KJIp/GkXHl35Jrg7dxPr5l77xYcewH4wlypV1hpGRXHgYaf6VZaxdrgTKu5mJT5jPntQZPrNnoWsx7VU26X8vx9y9LzU/Z+Fx7XQUakz+Cf4ub7xSk8kzHKxLOsMmY5uUcJDJ1dup8DA2g2Xh0qgX+DO+aVNIrMCw5PABpSulMDHObZXKhIYo/sjkC1zhTvh2dENYqi/7UT7A2u8X4FKa9jU11fOtWHCyDsb3cmEbmaHgOPzrVVqcA5r7dxCfMGzM4YNJw4mxrRDSdB+WtFF/QV0qDg5yRavg+1DKG2BO5GGMLqVzPbciCrsW/IyNl+ORmmaCaj0nYnSHMjARlnNr169Ye+aFtk9bIoN93Z7wszmG1Xtva8c0JFIUquyDcV0KYc/C1Tj1QtuPKpFa4Qu/wehc8fM8S/ns2lbSMYxyb475Eekgzh4dV17C772dhGSQhr+/b4efyvwPa3s6Zk8OikjsDF6PczF8jr5vCWcG1/YD4Wf1FxauPYeXSk1UIbOri55dLXHwtz9xP1VbxllWQucBPjA//ivWnX6BNE2xHA6ePeBrdRSr991BsthWLCt2wnj/L9S/Aqn3jyLkf3tw/dEdXI14CctKXhj0zVA0c/pwZzeGGsfUg4Pg2ioY95WAvN5PuHF0LMr821cspN7H0ZD/Yc/1R7hzNQIvhXXuNegbDG3mJBzuKXHv0DKEHolGirCeJeZfwLezKXb9tAQH70pRpnl/TBjhhdIm4rIE/77uFbi2Zhy+WROFIr7TMK+fK25vWYTN4QnQDGNKjDSxHdLKDAemjcCcvwh1hv2E79u7/Ou3ROSGjTnkuRTa3rcpfXsxo39ZQQcGimMO8gY057ZOp3TSeZrd1IHkZb+mvbE83VvahqzlTtT5f3dIUyv1FI2tINOsa6lTIO1OEsrSL1FQdbmmjCvSk7bGqSsKv/X4KHKTqfczHDl+tZ0StMWfpc+vbSnpcWgXKsKp17+EZOWG0kEhAMrHodS92WQ6oxCrvSb17CRq8uUquhEVRVHXf6HWphLN+y1aLaFHSnWNJDo4uAwJuwzNeFXArkT1u+jUuAraMq4I9cxoAKmnaXxFsa0496d9KUJZ+mX6robYVorqtJWLs6mJgyk1mHNbaGdJdGZiVZILv9ekwkg69AEbjqHGUXFgIJWQqmMFEpID3cplnChTykWa3cSBTBvMIfWmm3RmIlWVgyQmFWhkxspSPqQFTYxJOBshiXkZqtGiK4359mtqWFRGEomcSvivo/uaeOqx7lN2Up8iHHF2HWjC6IH083Xhl8ZupG4OnPbzVplE54VdS8rhidTnm1HU0FhobxXG0elU7fLfhb7xYWe8H4oqHo+fmaLoW2ekKHF9wTAEHY5F8VZ+aGIjhVODenDFI+yY9gtOqrsmZI5wLKxdDmdbGIXVXy0rnPI62GhPiqUOznA21/wIo1Ilof2VUtg7OQlnHkze4VDU7zsM9zATjuUJ/K1V+D74Cs4sWgX0GQL3N3zDuVFJF5SwdEDJ0qVR2sUOppqwcrAtVUacyWaCMmWKa884OFsUKaJeUBqSktLVJeoGAOeMBiAriiIOYluxtoed+iBUOIuxtxbbin1GW1HgwMKfcfS5AmfXh+Aab4ZKbqUgFfKS4uYe7AnX6RNjoDiwED8ffQ7F2fUIucbDrJIbSkmFKCtuYs+ecCEaAs4GjkVMNfWhdECXeWsxe+qvWDOhPoyRjvubp+CX0+qaeqx7eRU0a1cL7j5fYtBXJXBjSzh4cxe4iLGV2BdGUS4Jh3a+RKPBfdG1XQ006NAU5T7cCV8O2t/M/Hfp1xGRVBrlM0e83kD5D7ZtO4cU4XhDlhCBfWFh2H3uIVKFl/i7p3Hijvqr7SQ6faNZP2USTguz6NTNpSrzkckqY8iUr1BaJqx8SsTJnzqhz4l6GOVb5N03Lp246oZYAhUU5xZg6V8ZO/Ds7UP35xwyFySHa11POJsao0jZkrCS8IhLSNK+RAokp6gPKJkMcte68HQ2hXGRsihpJQEflwDt2hJ26MkpmtMPDXH1SixdUbGMJjPD0b0GhDMUYYO+jcN/RoDXZ91LS+LLFadxZllXOFfshIr3NuJEshDbzJAKreDpTuxIqY82RSth8JbzODSzFWw/4h6cJYcPRPnoAq5bVELltw08p9/GnQfqBECIf/4EL+Pi8EriidEr12DNqoloZZ99A1dG78OMAYEI7D8em/75t+9EVSJ6z1T06NoVXwYMw7fzNuJ0tDrlMB+bZbMJmNjGRrMxKWOT8MXXg1H9LTcSyWU3/kbEX0fw8lT49SjzHzZYKVz7/Y67iQk4P1qFRZ0aoceaO+K37BL06YIuSKSu/fD73UQknB8N1aJOaNRjDTTHbQJ6y8qS2tlBe+KmwpOHj4R1/C7rXoW4a1eRHLsN/vWHYOsjlaZUeX0JOtYZhjPJMbh4J1lT9rGx5PBBCI1g3xFQ/Sawf9salUgh4dQtR4Vkk7Lw7tkTPTMeX3ZA9deukJMWa42JS1ZgxbJZ6Or6b0NPUhTzCsL/Vv6AzuYnMG+0P+pXboSgvxLE15mPhiuBnt8NwRfGEhhXH4gJXQr/64alUgkbvPQtM2cyqfBg7WI88xmOOtr+p/eXdhu/j26MKvXH4u9Gi7BpaFXhmJbJXRpu/z4ajavUx9i/G2HRpqGoqu/KknCZ8TcxE7ud9Fz3qvtr0Kd5V0zefhs2zXqidTHtkqQVuqBnbTmurhmBDm3G4o9XmuKP6m27MkYfaZexbL0CbXzKvH3mgLwCKrvKhR0DIemvndj7XHtkoKZ6dh8P/uNBgdSyPDqO6Ql3OUH58hyWrDwsvsJ8WErc2/UjBg+cjj3C0Z1R9cEY3KocukwYhKq59gOn4t7x7dh7JRaq5BTAVD1OoQf+Jv5KaIURLa3f6WwjpzSc+aEzev5yArFVhmL+8Oow/4+5Jj9LOyMcZPX8BSdiq2Do/OGo/g4ri+Ljkaj+QWKKCtUqCklA33WfjONzZ2DXCxU4mzYYM6oWzDLqSezRcdIAVDcG0m+txrRlEeKZx8fDksN/FocT00ZgX61v0K9s9tTAKzN2/ClIztjpc87o0qu1ZuBRFbMDkwatRHiiSvj5BObO3IyH6lNMSkc6rz3XJD4d2sWkC8vTFAllaeAzFp0ulGt+EJKBUKj+X8z5i4hS1xUap2vFsppXmQ8s7RwWj/sOvy6dih9CbiLp+jrslg3G5E4OuW5UfPhP6NLMBx18f8TxyHtQOpXQHkikpSJNjCWfljGmQEhPSxf+K5CWgHdABxQRFpqWpo20un2kZTQA3baSnop0TXGa8LqmKKv98P/gj73XoBlaUKYjNe0ZTpy5KbQqdSVheZopsvkbJSZp/3615EQkvvFP5vHPH3txTbuykJ6ahmcnzuCmdmUJsUnVxkYHpcXiRZw2Jq+uX8d9Yf1zRdqiR3t7cHque9X9UMz83y3NGEX5vuPg76iE0Ay0hPehymCM8ykCjpJxauFs7IkTX/tYtJOW9Pceb8mneLq16yca2qYcmRuXoiY9AyggQOfR15/qF5drprlBYkSl2k6kxdv+phfqqW3KRxQ2ui45yLVTGKVmdlSqTj9aE6Ge+5hKN3eMoLpW2ilsErOaNDgsih799QM1F6e1SUyqUkDIJeEj3KXdwnKsxamUcuf61NmnIZWzt6MSVZtT35/208PP6JsbPq+2FUd/DnUjE+EUUGJUiApX9KOVEW9e2cq7K6iDPSfUdaGarQbQuntCQ0iJoG1jGpJwoKD522WlOlPwuVhKvbmdhnoUUk8lFNqOnNx6b6KbDw/ShLpWYpkxVekbQpfj0ilq91hqYC22C5kTefr1pYAezamcmbptCWWmNWjAxnDhEyTQgREVNJ9XOGigch2+px37Z1JDS3U9jiyrDqRtD8V5l/+RwcWRf0intyyniS0ctVPL1evFyI26/bSG9obHUm5/dcKBEVTBRLt9mpbrQN/v2E8zG1pqtmfOsioN3PZQqJVEm/2ttWXWntQ36AdasHw29ahkSnIHDxq585G47Lev+9//Pk7zOrmQTKjDWbelZffiKTz0K6popI0jZ1OPRu2MopRL31NNY6FMWE6VgFC68h7fyqNvfFhyeG9JtMbbmCRSW6rRYxqtO3aDHsenZm9o6Un07OYJ2jjdjyoX4khWfgydyJyXrKTEu+foQFgY7T8dRXEfZrv8rH12bUsZR7eO76adf56je+prUd5C8fAc/bnnL7qZF8HmU+hF1AkKGVmPitaaqi1TvqTIo3voz7P3hNarFX/zL9q9+8N+pvyxj1DSy8ijtOfPs1mxjb9Jf+3eTX/djBO3c53k4NCLticl0r2z+2jXn6co6vX1mUfrXh/6xoddIf3ekhHSyQVLqu/GH0G1YSGW5k6F5/uGouk4Myw9Pxueb5nJUlCxtvURKG9h/pitGDFvnFjw8RWcOCZjS3cndF0fB4lDL2y9/z94fwYXGukbn9y6Rxk9cU5+mDT6bYlBjYNDy8kY2cLiPw4qMsw7kpaC30Af8QnzoSkzxhWFf8Wf8g2WHN6bDJW790QD8ULVt+IKo7lfGxR/63QmhvmQpHB0ZZMSPjwVnp4Nxc6LydpBjITz2LXhL9x6lX9SBOtWYgwGa1v5Q0GJY3LMI8Qk6dw8SCKHZWFH2Lzha1MMhb7xYcmBMRisbeUPLI6GTd/4sG4lhmEYJgeWHBiGYZgcWHJgGIZhcmDJgWEYhsmBJQeGYRgmB5YcGIZhmBzeayorwzAM8/nSZ7fPrnNgDAZrW/kDi6NhY9c5MAzDMO+NJQeGYRgmB5YcGIZhmBxYcmAYhmFy+KwHpJX/7MKCtQcREZ0A5ds+kvC5jW1LoZZ3AHp7FhELGUNSMAcylXhybDGmr7iAdBs7GCfHgSr3wsQhjeGY7evdE3F1/XTMCXssrKd0mNcbgikD6mruRW5o8mMc+SensGbubOwv8j1CRleFTCzPol98Eq+ux/Q5YXgsrKN083oYMmUA6uZxEPWOj1DpnbzHWz6u9Js0p6EpSaQuFLAliu7du5f9cXkmNTICSV0CaXec+B7GIBlc28oDCUfHUnXXbhR6R7x/LH+XVvuUomqjD1PW7YEVdGlOU3L2mEwn1W04PYIWtHShOkEnKEFbwaDkrzgm0OUts2ho8xJkLJFRpQlnKPNOv5n0i4/i0hxq6uxBk7WVKGJBS3KpE0Qn8jiI+sbn808OQmD2D3AmqbQ0DT2svkF/dsqnwdRSSA5GTRbQB7p/OvORFLzkkEAbutqQjf9mShFL1BJCOpGFfU/aJhbykfOoSSEb8gmN0RYIEsICyMmsBgWdz7mr+tTyYxyV93+hJka5Jwe94sNH0rwmhcjGJ5QyayWEUYCTGdUIOp9Lwvl49I1PvhhzkMnl4k//QqijRy2GyUOpiI9PQcKFv3A6USyCCjHPY6G0tIK15npTHhdXr8BxRRXUq2etqaFmUb8h3LkrWL3iKBRiGfPxcNaFYJHr9b/6xYe/uBorjitQpV49ZNayqI+G7hyuCO8/aoBBzAcXwaXiyLCKaP4rMOjAdSxonP02TKpnS9DGeSCONA7Gg70DUFg3HSpjEb53G/ZfeQzepjwatGuPus7qO4Qrcf/gMqw5Gg2FiiCRWqC8Vz94cX9g+e4bSOCFMs4Ujg2/xNfNS0LbNZyEO8d2YNeJKLwyLg6Pdl3QwtVS8wqUt7F7wRqcjuGz7hqlIYFEboXK7QLhV1NsMkl3cGzHLpyIegXj4h5o16UFMhfz4CCWrDqCJ2nCGZ+2SCSB1MwJjbq1Avavx9GHyVCSBDJze1Rs0RNd3G3FmQf6/l3d0IY7gPVHHyJZKZTJCsHNS/iMdqewMOQ0YtT1pGZwEuq1kuzXqWeJ4vW7IrC5C2L/3oZNBx6jlI+w/DL63Rqr4I05KBG1oCVqjDwOe99ghP3WF26KgxjZtB8eDD+AzX1KQ6r8B7MaVMY3Eb7YFL0WnTNuYJ92HKMqN8Eik/E4dXEaaubsBP9k8mUck0PQ0bYvbo08gYszasNILIZe8ZkCy58boPI3EfDdFI21WZVwfFRlNFlkgvGnLmJaHgWx4Iw5kIIODy399m6llsH0VKdbib+/jYbWq03+8/fSxSunaNPk5lTMuiL1CbkpnuKl040f65Kcs6XOoc9I+1YlPVvnS/acnDxnRgo1RIprtDKgA/X+cR3t27+FZvtXJAszV+qz4R7xYhWKO02T6jakoOO3KCoqii7/1JSMuKLkv/GFuGz1YlZSQIfe9OO6fbR/y2zyr2hBZq59aMO9zKWQ4vL3VK/lLLokLCMqKoK2BJYiqbw2Tbsufpr0SJrpKSfOphP9T/cPzqTv35VOkTM9NfU6rXmaWe/xKm+yFup5TLueuZ609ayp0/+09dLDZ1IDOxOSS2RUcfxpvU+ZDa9t5YHUCFrh46xZV0UaBlL/Tl40ZF1EVjdTyi4KcORIVm4EHdNdkenhNKWmnCTWfrQpSSwzEPkyjklryNs4l24lveKTQrsCHImTlaMR2StR+JSaQuytyS8Pg6hvfPJFt9I7U97B8q8DsbXsNwge3hrVq9SB75S1+KXtK4QM7Ik5V3ihkgwlShaDEWcDp+JW4pE3B6sSzrDljFDUubg4Y4FH+NyvscRhEpZM9Eer5p0xZsUcdLOJwpoJs3A0VVMJsKqOFvVcUaRUKZQuXRolbE2Eo3Q7uJQUl82HY+7XS+AwaQkm+rdC885jsGJON9hErcGEWUeF8yMt47LlUdLKDiWEZZQuXQpFLOXCEbsTXFzEow5ZcTgXNQJnUxwu1rmFV9+/S4bizkWFetYoXsJarJeAWzcfIl04bnIq5SIePWXUsxXqqZeXhKOrLsPr8EvEPLyFw1M8so6ymJyMyiNg7V7MamqJ58dWYs1VS1SpVBwZx5ZQxSMuXjgrMzWHmW44JVJIheeUkoQkpVjG5D294qNCfFw8SGIK8+yVINVWQpIBBlH3kxYY/JVVWHIgAZXq1IXYYyOsicJo37s9iqWcx28rTwgnfFqabsYcfY0S4dRM/JG/is0bz+PVtfWYNGYMxqgfQXuh8mwLr+rWSIxXiRUJyWlGsCqks8qFhWQsh7+6GRvPv8K19ZO0yxAeQXtV8GzrherWichcDKSQZZviKBCWofsR1aeNmmWLz3OjeS1HBZ2/S02zjIwyHlFrJmD542Jw4N5QT/jTUq+vwPJXbdG7kgksi7mgsIHfbP3TS8T5pUHY6zoX679vAus7mzCohTdmn8sYhJCrh8s06zjbxkppSBOOYSQyYxi/3h6YPKRffOTaSpptJAshTVsJxgYYxGwftaBIvPQ3InkJ5EbG2VaAvHIVlJMq8fD2baSIZVC9wJG5AxEYGKh5DJpzCM8yd9QC/jai7hOcW43DT3PmYI7msQArN+3Azq3T0cFB/A2qODxMNUOxN4yK87ejcJ+c0WrcT+IyhMeCldi0Yye2Tu8g7JDFimo5duo5qWKO4Of+PdG1c1d8NWwqVv31KDPhabzt78qGEHt4Kqbc8MaMvuVyPxNQxeDE3K6o1fBnqBrVz/55mTdQ4cnmgfBd5IDRs3qj63dhOLC4I5xeHsLkPtNwSn26KHNEscJSUFICEnXjIxyxxicSuCLFXrsegslTesVHBsdihSGlJCRkr4T4+EQQVwTFDDCIBXITlpuZwVgIzKN7d4Tj4SycqSlMhSMAa3t74XURZ4/Go4KxYsUKzePXMU2zD2oLu0pjIyUuHz2Cl2JJBlViHF5lnC0qzuMKXwGV3jRlSkhURsrLOHokx1KQGPcKWSedSuF/wtmD+OxNOLvGGL0sBBt++w4tEtZhQLO6CNj8VHxV8Na/Kwt/awXGrXPGN1Naw/5NiYmzQ70RczG6YRq2DumBOeHZUhGTG+VthPyyBYoG7dBIcwprhkr9Q7B5ojtkkVux+ZywDo0qoVY1S6iePcRD3VWaHo1HQjY3r+qOquzs7NPRKz5GqFSrGixVz/AweyVEP3oGlXlVuBtgEPNHctCOsbw2g0ckvKYpz/hXYFq/OeoVUuL6vt2I1OnqUz6KxlMUQcsODbL6fN/GqDo8qpsiZvv3GPf7/ayduCoa26fMwzHxFCT51CEkVGn8xitajap7oLppDLZ/Pw6/38/6UKro7Zgy71jWmUxSPNKMLMQZUm/HWVVCt2FdUQGP8Meu02LpO1A9xo7QJ+jxUwDc3jZ4wDmjx4wJaIhTmDlmOaJ01i2TC2UsYuNUmjPYrJxrDveve8JDziOdV7dYa7T0bQ2HlHBcuJK1Y+EjwhGRbIPmnVtnTY1kPgH94mPd0hetHVIQfuFK1hk8H4HwiGTYNO+M1gYYxHyQHHjExL4S9v3xiI3RPQ/QopgYvBS2MYqLQYyYHTinnpg63hNmFxdiwrIb2nniqlgc/+13PGnxHSZ30EYqTZEKnpTgNRupFqUkQyGUKTPKOCd0nzAAVeQ3scq/Njy6DMaECSPQo2lrLHHwQSsLoY7yHjasjUezrhnTXoUipbDnJAWSFdrTTM6pOyYMqAL5zVXwr+2BLoMnYMKIHmjaegkcfFrg1baJ+Gr0SuzddADxpTK6dgipCgVIJexIMnfEaVCk6q4HHvdPn8N9lRkqVHXTlOj1dwk09WCFVqMmobGNtqlk1cs6PdYuT/gM6QRp+QGYNeILpB2chrGh94XzHuaNjKqibZsyiDl5EJd05rnzD6PxsoQXvN21R5O23hMx0uMZdv9+VrymQYELW8Lw4IuhmOhbuGCe/uc1YTtT79TVbf11esXH1hsTR3rg2e7fcVaMteLCFoQ9+AJDJ/q+8az9kxJnLentPd7y0fA3d9MvQV9SDWtO+FwcWdfoQUHzd1GEei6m8gWdDp1JI1q6kFwCkshdqOWImRRy6qn2zcLrpxYFUpMKZalqk47UxacT9Zy4nq5qLmXn6f7hYBpcz444iZxKewfRunMvKOb8OprsVYKkwu8q3HAY/XooY6oqT4/2Tyc/d2cqZGRElk7u5DfzMD1REsWdXUWjvMqRfYU21CcggAI0j97U8Qtb7bI7fEvrLr7ULIX4R7R/uh+5OxciIyNLcnL3o5mHn5BSWP7NX9uRo6k5OXmOoG3qS70Tw2nHoknUzkVGEs6BGg4LpsO379Dh4MFUz44jiVlpaujbi3p0qk+VKtQlvym76a5wKKrf33Wb7mTWk1GpDtNo7+10eqlbr9FwCs5WT05lOgbRskN3iU86TZNrmhJn/QV9+cNOupk1E/dfGVLbyjMJF2mhb1WqJqy71WF/0q6QadSnfQ+afybryzPU0qPWU2BtD/KfvpyCg7qQZ5OhtDEqczK1QclfceTp7qHlND2gNtlwEpKXbkcT5m+n8ETxZZFe8UmPovWBtcnDfzotDw6iLp5NaOjGKHHqeN7RNz7sTnAflRK3ZjVCg131sHDhcLSuXAwW4mCBKvUVHl39E4tHDcex1odwcqL2qL4gK7hti0ds5FmcjXwOsi2P2rXdYJdbF17aM1w7eQHRJm5CnVKwMtBThgIbR73ik4Zn107iQrQJ3GrXRqlPEER948OSw0clJIe5o7Cl5c+YUDn3IWTlP3MxNswLc0ez5MDaVv7A4mjYWHIwEAm3IhFfqjyc3jSCrHyEyKhCKJ/xHRkFGGtb+QOLo2FjyYH57LC2lT+wOBo2feNjoL2WDMMwzKfEkgPDMAyTA0sODMMwTA4sOTAMwzA5sOTAMAzD5MCSA8MwDJMDSw4MwzBMDu91nQPDMAzz+dJnt88ugmMMBmtb+QOLo2FjF8ExDMMw740lB4ZhGCYHlhwYhmGYHFhyYBiGYXJgA9IaaYjYvRxbj13DnZg08V7TEkg4DjIjc9gWK4svGrdFW08XmGleYz6GgjmQqcLLc6vw46+H8VyZgmdxNmg6fApGNHOC7h1AlE+OYfH0FbiQbgM742TEUWX0mjgEjR31vZt43sn3cVQ+wbHF07HiQjps7IyRHEeo3GsihjR2zLq3u+olzq2aihmrDuL6Cw5FqrREwKRJ6PWFlVjh09E7PkKld/Ieb/ls8LfmUAMTCUmde1Bo5FOKT4ynJzdP0MapncjV3ISKt5pOx2KVYm3mQ8vPbetN4o9/S3UqdqHfIhXCMyU93TeUqli7Uv8d6tvDihKO0tjqrtQt9A6lagp4urvah0pVG02Hs99N1CDk7zgm0NGx1cm1Wyjd0QaD+LuryadUNRqdGYxUujSrITm6eJJPnwD6slVFspFKiLNuQDMuquP8aekbH5YcdKXsor5FOZK5jqS/xMBr8XRrYQuy5mRUZvABeu32scwHUuCSQ/plmlrLgipNOKNzH+EYWt/VnuSlBtKfYkNL2NCVbGz8aXOK9rlGQgh1srCnntt0Cw1Dvo5jwgbqamND/tmDQSGdLMi+5zbt07jfaZj/bDqvuR+9WgpdX9KBiko5svVdT7Fi6aeib3zYmIMuiRRSaW4X+UlRyrsdqst43Du8H1fTxGKG+Q/4G9uw41IanFxK6nQh2aJF6zowurcZa/5I0pSkxscjJeEC/jqdqHmupop5jlilJays2UWpeSo1HvEpCbjw12lkRkMVg+exSlhaWWueKmMs4TV5BGpaaJ4KTFChz1j4l+GQcPsfPOLFYgPHxhx0pe5D/zLtsMp8GA6Hz0V9nZu88+e+QfV6MxFZYxqunPgG5aK2YU7IBSTktiqkpdFuTF/UEe/8qYwNx95t+3HlMQ+b8g3Qrn1dOJtoX1NLjT6DbXuew713a1ic34wNh+5CWq4F/HzcUVgqvP/+QSxbcxTRChVISGAW5b3Qz4vDH8t340YCL5RxMHVsiG5tOBxYfxQPk5VCmQyF3LwQ6GeHUwtDcDpGXU8KMyehXisJ9uvUsyxeH10Dm8Ml9m9s23QAj0v5CMsvA2Px8+WVgjbmkLo3EKXbr0HpWZE4MrpUZn916uGhqNBiKawmncW5KV9AErUALWuMxHF7XwSH/Ya+bgocHNkU/R4Mx4HNfVDawIYd8nUclVFY0LIGRh63h29wGH7r6wbFwZFo2u8Bhh/YjD5vCobyBn70rIZZxVbgzrZewiHAp8PGHN6HYi/1c5Lm6Fbinx6jKU3siJM5UdfQe5q+4BcrulLDkVvo3I1bdHVuCzKSlaWvt0VQ5JVDtLCbF31zWr0Anu5vG0r1avvT/L0X6cqpTTS5eTGyrtiHQm4Kr/N36eD8AKppxZHUqS8tWuBNpe0Lk40JRxKJnEp0WUW3eM1HoPQbP1JduXBa2jmUnomd0cpn68jXniO550yKFPsl0iNnkqe6Xqc19DSj3uNV5G0t1POYRtfFvyujnnWn/2nrpYfTzAZ2ZCKXkKzieNJ8/DyWr9tWLlJPj6eKMo4cum+mOLFMTfHn1+QslVG5EcfEMYZUiljhQ87q2BRpSIH9O5HXkHUUYXg9Shr5PY6pESvIx1kuHFcVoYaB/amT1xBa97ZgxG+h7oUdyX/ji6yxpE9E3/iw5KBLTA4SoyJUuXFrat+hLTWtU5GcLKTEWZSn7suvkrYJpFP40gW0Wxx/SljdgYxlbjT2lHZT5iNWUvCeJOJvB1MbOyf6anvWpq98upm+dJKRRZ3pdFmzQ4+nUB9L4iyrUI/Fp+iFkAyUTw7SeI9CxHEO5Lv2mbYxJa2jzuYyKjPsiLjDEKQep1GuMjL3WUtJYhElrSUfoV7poVn14v76hmqac2+od5jUQ2SJB0aR/4wrlBL/iO4+/TSDZgUtOZDiOI12kwuxb0DT/86ITDrdnteETISDg1o/XBMOLzKkCAchzciGE072TMqR39LLBjv2VRDimHJ1LjWz4QgSEyrnt5Qu/2swlPToN29yaTSbrmUNLn0y+saHjTnkQlqyO4L/2IudO3Zh/8H92LFmOvxKRmPDoBZo890hPFfJULn/UHiJ3Uavk5bviwFtjHBl1RIcSKiEOnWzKnKF26N3+2JIOf8bVp5QD17IYW5uBK5QHXwZUAd2wlkpV6QppszqjdJcDA7uOQ6F9q3C+WDmf7JRnyZmkQjPs8r4qDWYsPwxijlwb6gnNIHU61ix/BXa9q4EE8ticCmc1x1KBZRxPXy7cgqaWp7Gdy3qokOvvviqVz8M/+08UrnCqFazdGZXU+L5pQja64q5679HE+s72CS0Re/Z57L6vZm8k3geS4P2wnXuenzfxBp3Ng1CC+/ZOPemYMTuw9TgVIz6dRgq6s5PNnAsObwFZ1YMNTuNR+juuUIyeIojP/bHD8cyd9f/IhGX/o4EL5HDyFh3NctRuUo5SJUPcft2iliWk7G7J2qYE5JiXiCrlgovjszFwMBABKofg+bg0DOV+FpOFHsYU6fcgPeMviinM36SRYWYE3PRtVZD/KxqhPpCAmHylpXnRPxx/ToOrQxCv4BRmLV4ACoqU8A5t4dfI+3AlOrJZgz0XQSH0bPQu+t3CDuwGB2dXuLQ5D6YdipVU4fJI6on2DzQF4scRmNW7674LuwAFnd0wstDk9Fn2imxkg7VA2watwiyb1dhSMVcN0KDxfYGeuJKeKOdu1w4FL+PC2cfQSmWv5kcZmbCEbjqEe7d0Z2ewMHU1FQ4YreGvf2/HKFLzWFuKoWFgwPMxSL1e+0bj0LwihVYoX78OgZNC78hhPwtrBi3Ds7fTEFre90zBl0c7OqNwNzRDZG2dQh6zAkHm4iV9zirsmjQoTPaN6oI+R8LEfKPBZqOHo0mmisulbgd8gu2KBqgXSPtGahZpf4I2TwR7rJIbN18TlPG5A3l7RD8skWBBu0aQRMNs0roH7IZE91liNy6WVMnyyuc/HEs/qg3D3PbF/3sdrYsOeiLf4RHT4WjdM4apcoUzroS8o1MUb95PRRSXse+3ZE6yUSJR9FPgSIt0aGBzpQlJQ9e3RsoUj2/g7uvrNCopSfe/XhDhcc7QvGkx08IcHvbuzk495iBCQ2BUzPHYHnU29Me83Gonu3BxElbQG1mYdGAsmIbUyI2Ng4quRGMdXK8ufvX6OkhB5/+mcyLzCeUsbGIU6l7A7IFA1/39ICcTxcL1JJwaeEwBJuNwYI+5bO2YeHMIyIiRthCDR9LDrr4BMQn5RI2/gkOTR2GxeFK2DYaj3HtdQcbVEhKTgGBR5pu2xBWrVPPqRjvaYaLCydg2Q1tV5Qq9jh++/0JWnw3GR2006I1VDEXceKSdl47kIBTi1fheu1xCPItrA1SmgKpQvZQ8rz49R4CSkGyQigTEktmmaYeYNVqFCY1ttG+V6de5l8nLo9PTwdJy2PArBH4Iu0gpo0Nxf3PoeXmM6q4s5j95QDsKzMN20L6wzWzb9oIVdu2QZmYkzh4Sac7k3+I6Jcl4OXtLhYwecGoalu0KRODkwcvZY0FCtv+w+iXKOHlLT4XEsOCbvAPlaGi/BR+W7gQC4XHLz9PwRBvf/x6y/jz2PGKA9N6e4+3fAZSKWLvEvoxwJ2s1bNB5DZUskotatiyHXXwakq13VyoVJXG5D9pPV3J9nUFiRS+dSb1qWlFnMSIXH2CaMGGM5lTTdWUL07RosAmVKFsVWrSsQv5dOpJE9dfpcyLJymFtvW0I6mtB3Xq7kPdvupLX/m2Ia8+8+i4uCD+/mEKHlyP7DgJyUt7U9C6c/Qi5jytm+xFJaQgrnBDGvbrIbp9J6uerFQHmrb3NqW/1K3XiIYHZ68nL9ORgpYdort8Ep2eXJNMOWv64ssfaOfNrHkyeSV/tq1/k0jR107SzuDx5NfCi/rNO0QPc53NkkAXF/pS1WpCrFaH0Z+7Qmhan/bUY/4ZMsBvz8j3cUy4uJB8q1ajjkGrKezPXRQyrQ+17zGfzmiCwdONYC8qKpVo1sPrD2nJQXTgE09BVn8OfbCL4D45Bbb3Kg7fQz4Ii1qG1gV4olCBa1v8XZzcGwkq6YZKFVxg/ZaZLHxsJM6ejcRzskX52rXhZmeYA5wFIo58LCLPnkXkc4Jt+dqo7Wb3Ht2/n4a+8WHJ4ZNjySEDa1v5A4ujYdM3PmzM4ZNTgeeVIJ5HOtueGIYxECw5fEqpd3F87VyEnkyAKuYwVs3fhDPRbLYQwzCfHutW+pRUiXj2KBaKjNUpkcLczgl2BfSOQqxt5Q8sjoZN3/iw5MAYDNa28gcWR8Omb3xYtxLDMAyTA0sODMMwTA4sOTAMwzA5sOTAMAzD5MCSA8MwDJMDSw4MwzBMDu81lZVhGIb5fOmz22fXOTAGg7Wt/IHF0bCx6xwYhmGY98aSA8MwDJMDSw4MwzBMDmzM4b/in+HvXduw/+9beBTHwbZUNTTr1BH1iz/HH/vj0Kx1NbzlHi6MqCC2Lf56KCbNP4KYHLdmlcKpzUQEdS6Zeb9y1ePdmDFlO+5k3GxcYoYaATMwqI659rmByI9x5J+cwpq5s7G/yPcIGV01l206EVfXT8ecsMfC358O83pDMGVAXdi9fviteozdM6Zg+52MW/tKYFYjAAsG1dE8ywt6x0eo9E7e4y35VApFbBxJTcuUojq9p1PogbN07WYEXTwYStP6tCDPmmWosPdqg7yNo6EqeG1LQUeHlyOZzIxsiziSo2PGw4ZMZUWo51bd1qOgk+MqklzYrtXrSf3gHHxpne49aQ1E/opjAl3eMouGNi9BxhIZVZpwhlLFV7Io6NKcpuTsMZlOxglP0yNoQUsXqhN0Qud2wFqKk+OoolznFqKcA/mueya+mjf0jQ9LDu8lla4v6UDF5EWp/dKIXBpLAp2d1oAcGs+ju4a37RqsAte2EvfSeL9JtOdh9haUfvk7qunUg37XyQ3K6NXUrc1UOh+fSImJ2keSIu/v862P/BhH5f1fqIlR7smBj5xHTQrZkE9ojFgi7AHCAsjJrAYFndeprYym1d3a0NTz8ZkxTExSUF5HUd/4sDGH96C8sQgDx+3Cq/rjMS+gfC73jrVArbHzMLhkIuJydBcwjBb/0ARtZk5BGyfdFsQjYscePGncEc0sxSKk4vyixbhX4QuYKuQwNzfXPMyMMzqcmI+Nsy4Ei1wv8eJxcfUKHFdUQb161mKZsAeo3xDu3BWsXnEUCrEs9fwiLL5XAV+YKiAXY2huZpzZbWho2JjDO1Pg0OAKaBn8FM0WR2HvQMc3jOorEX3+ItKr14KLNBXRZ7Zhz3N39G5tgfObN+DQXSnKtfCDj3vh7I0j6Q6O7diFE1GvYFzcA+26tIBrxk5CeRu7F6zB6ZiM/soMEkjkVqjcLhB+NdUNNBn3ju9A2PF/8IK3RMlaXujUyg1W2soGi7UtgfIGptdrgetjrmFtF23EVE/Xwq9KL2x5roLExBG1fEdixoyRaOpkmKNZ+TKOySHoaNsXt0aewMUZtbMOCJX/YFaDyvgmwheboteis4lYnnYcoyo3wSKT8Th1cRpqck+x1q8Kem15DpXEBI61fDFyxgyMbOqU52OSbMzhY0k9RWMryAgyNxpzMmeH0uv4uwdpfkBNsuKk5NR3ES3wLk32hW3IhJOQRF6Cuqy6lXlaqbi2kgI69KYf1+2j/Vtmk39FCzJz7UMb7umceMadpkl1G1LQ8VsUFRVFl39qSkZcUfLf+II0PVjKGNo/tiY51h5JW86F05mNw6imhQXVmHySFJoFGK4C37YE/I0ZVNfJnzap+65FyuhztGPtMpozKYBau1mTVCIho5JdaGXE29vfp5Av45i0hryNc+lWStlFAY4cycqNoGO6L6SH05SacpJY+9GmJOG5MprO7VhLy+ZMooDWbmQtFbZ/o5LUZWVu3dIfl77xYcnhXSVtoK6FJAR5XZp5U8/ewvhQ8rHkyLJKD1p86oWQDJT05OB48ijEaQYV16oHFdOv0I/1a9GEM1m78KQ9geQklVLJQQd1duypdGRMIC1+pB3MeLnCi4xllYT3pWueqz+fbyE5uY05qW10yke0oIkRyd1/oGuG2UWdiSUHnm7Oqk9O3TbSS7Ekh/RoOjilORWVSciy8VyKMMCYFqjkkLSOOptLSF51Ep0XN0EN/jpNqyUnGLejVTlmpaRT9MEp1LyojCSWjWluHgdR3/iwMYd3xckhk6o7H1VQ8tqit5Kbw9yIQ6E6XyKgjh2k4FCk6RTM6l0aXMxB7DmuAH91Mzaef4Vr6ydhzJgxmkfQXhU823qhunUi4jPHLgjJaUawKqQTOuE0Ufi/lkkLjF2yCHP61YCR6hUiD+7A2cdCe1CkIFndLBjDpbyLHXvuoH6nlsjqvX6NzBFNgzYjdIArFCfWY3OkUnyB+TTkkMuFf4QNMNvOlNKQJuwfJDJj5BwaksGxaRA2hw6Aq+IE1m+OFMsNC0sO70rmivKlhWirHuLuXX2zQ26M4e5ZA+aUhJgXKeBvR+E+OaPVuJ8wZ84c7WPBSmzasRNbp3eAQ0akVHF4mGqGYuoGmRvOFrV828Liz3Ho3m0M1t4vgQrO6jcLZ4naGoyBUt7fid236qNTyzemBpE1Go8MhIf0MR48+C9tkPnPhGRdrLAUlJSARN3JJ6p4xCcSuCLF4PiGEWfrxiMR6CHF4wcPxBLDwpLDu5K5oWP7qsJR+VMc2XcmcyZCblSJsXiZJj7JhdTcHKZSCzg4mANGxjBSXsbRIy/FVzOokBj3CpnHh4rzuMJXQKU3JQfFJcxv54H+5+ph5rrlmBrQCE6m4muMAVPhYdgu/FOvI96aGwTSYqVQolARFCtmqHNdCgijSqhVzRKqZw/xUHdbT4/Go2cqmFd1R1Vjsex10mIoVaIQihQrJhYYFpYc3pkMlYdOQe8yEkT9LwgLLr8hPSRfxqr5O/FQ53BdyevOMlLh+Z27eGXVCC09jWBU3QPVTWOw/ftx+P1+VleBKno7psw7hhTxefKpQ0io0jjnlZcixf4FmHkQaNzdGyV0pkGQenyJTas1XMKZaFhYJDw7toKNWPRv+JvX8KCiL3wrsuvvPy1rtPRtDYeUcFy4kpUd+IhwRCTboHnn1m/uIuRv4tqDivD1rSgWGBaWHN4DZ9sWP6+fhdYWJzHZywtjVp/Co1TxRfB4fmk9pkzYBruePVEl86hBhZiLJ3ApSXyacAqLV11H7XFB8C3MgXPqjgkDqkB+cxX8a3ugy+AJmDCiB5q2XgIHn1awUL9HeQ8b1sajWdesr1RQKoVEQgokK7R7fomRHHJ6ij9WrMRf185jx9zJCAlXQfU8Asc2LcWWa6wbwhCpvxpj14266Njq9dSgwJWQyZj4yx+4K7Yx5dOj+PG7S2g7eygqshOHvKFQQL3rT1NkbuiZbL0nYqTHM+z+/azYk6DAhS1hePDFUEz0LazZySquhGDyxF/wR1YQcfTH73Cp7WwMNdQgasel9fceb8m3+CcnafmYLlSvvCPZ2DpSmSq1qUHzDvTVpLV0WWcqIqVso552UrL16ETdfbrRV32/It82XtRn3nHK9u0H/CPaP92P3J0LkZGRJTm5+9HMw080U1Tjzq6iUV7lyL5CG+oTEEABmkdv6viFLXESOZXu8C2tu/iSKD2SQgNrkaNlIXKs6k3fht2isz/WJzvrcuQ96wTF6v4+A1Nw25aSope0oeKdQynrGtsMsbQ9wIXkEo4sXGpRsxZNqUmHwbT8vG4DMyz5K4483T20nKYH1CYbTkLy0u1owvztFJ4ovixKj1pPgbU9yH/6cgoO6kKeTYbSxqis6Uux2wPIRS4hzsKFajVrQU2bdKDBy8/Tp4iivvFhF8HlBcV29Crui0M+YYha1hpv6oJ8MyVuzWqEBrvqYeHC4WhduRgsxN4EVeorPLr6JxaPGo5jrQ/h5EQ37QufoYLbtlR4emEfrps3RBM3zTlidqo4/HPyJG68lKOwaw3UKm9n0F/mWGDjmPYM105eQLSJG2rXLgWrbP0yKsT9cxInb7yEvLAratQqD7tPFER948OSQ174EMlh7ihsafkzJlTOvUUp/5mLsWFemDuaJQfm02JxNGz6xoeNOeQFFQ9eSeD59PecTipFkQ6D0LPCmw81pGX88HV7J/EZwzDMf8OSw0eWevc41s4NxckEFWIOr8L8TWcQ/R7XLVmWLQ+nfxu3kjqhfOaXMDEMw/w3rFuJMRisbeUPLI6GjXUrMQzDMO+NJQeGYRgmB5YcGIZhmBxYcmAYhmFyYMmBYRiGyYElB4ZhGCYHlhwYhmGYHN7rOgeGYRjm86XPbp9dBMcYDNa28gcWR8PGLoJjGIZh3htLDgzDMEwOLDkwDMMwObAxh9ckhW/F0i3HEBmdCKXwZ0rkNihRpTm6B1bD0/WrsfNcFGIUBJJwMHUoi7reAejuYSe+m/kvCmZftQovz63Cj78exnNlCp7F2aDp8CkY0cwp5w19+Cc4tWYuZu8vgu9DRqOqgd7xJ9/HUfkExxZPx4oL6bCxM0ZyHKFyr4kY0tgx8/a97xTXPKZ3fIRK7+Q93vL5Sb1OP9Y1Evb/dtTpf481t+nM8HJvfyotBcnKD6cjCWIh80EUiLb1mvjj31Kdil3ot0iF8ExJT/cNpSrWrtR/h/b2sBkSLm+hWUObUwljCckqTaAzqeILBih/xzGBjo6tTq7dQumOGAP+7mryKVWNRh+O1xYI9I3rp6BvfFhyyFUKbe1hR5y8Mn1zLus+sGrKO3OpoRHIqGUwPTXg+zF/jgpccki/TFNrWVClCWcoq5XF0Pqu9iQvNZD+fO0+xaS8T780MWLJ4VNK2EBdbWzIf3OKWKCWQCGdLMi+5zbt03eNax7TNz5szOENpFL1CSIH7vUb7Eg5zamjRHhB+JFh3ht/Yxt2XEqDk0tJna4GW7RoXQdG9zZjzR9JYpmIs0YhC3ad0SeVGo/4lARc+Os0EsUiqGLwPFYJSytrzdN3jquBYmMOuVJgZx8XdFpbFBNPXcC0mlkhVj34Bc3LjsDJpsvwaG8/ZBttSLqDYzt24UTUKxgX90C7Li2gvjmb8p9tmBNyAQm5rTZpabTpVhrXth3Gg2QlCBIh8XCQmdmiZPWW8G5RAdbZklAS7hzbgV0novDKuDg82nVBi4w7wKVG48y2PXju3hutLc5j84ZDuCsthxZ+PnAvrE5pybi6fRl2/B2DFPWAii6JJWr2HINOrq9nw7xT0MYcUvcGonT7NSg9KxJHRpfK7K9OPTwUFVoshdWkszg35QudHUwyQjraou+tkThxcQZqG4nFBiZfx1EZhQUta2DkcXv4Bofht75uUBwciab9HmD4gc3oU1r6HnHNW/rGhx37voHmzIFSkJSsEkv+Xer13xDYfSpOSFxRq6IJzs/xQXX3vth4X4m4vzZgT1J1dOzRB/52ZzF71ka8cO+JXn7NUPSf37En3hN9u5rj0E8zEfqkCrp3a4vaNtex0K8mPAbswLOMj5B6Hb8FdsfUExK41qoIk/Nz4FPdHX033sHtQ78gsF5FePb4Htv+CEaXeu0xYuoPmDzcD561umF1lPrepGao3HEofM0O4aeZoXhSrSf69u2LXv5ecHuxDWuPv9L+HiZPSGztYS1RIvLihayjUDU+HbxwmJAUnwD9Wh+TZ6RlMODXuehY5AE2fd0UbfoNROBcFcbvXadJDGr5Jq5CBnkn7/GWz1AqnRpbgWQSU6o7PZzUQ0oaimg6s+orcpWBjFsvoxdiMaVfoR/r16IJZzJrUtKeQHKSSqnkoD/pwtIFtFscq0pY3YGMZW409pS205iPWEnBe5KEN6wlH3MZlRl2VPjtagkU2smCOEtf2iC8LPwSuvJjfao14UzW50naQ4FOUpKWHEQHhcL4UB+y5CypSo/FdOoFT6R8QgfHe1AhjiMH37X0TBwjSVrrQ+ayMjTsqE7Hdcw2mrv0qk4fad4rGG1Lh+I4jXaTCzFuQNP/1gRZkE635zUhE4mcav1wjYQo6kiiNd7GbMzBAKRcnUvNbDjhRN+Eyvktpcu64wjvHNe8pW982JlDroxQo/dwtC+hwunvGqCSR2M0rFUVlT17YMGFeHCvdfvyVzdj4/lXuLZ+EsaMGaN5BO1VwbOtF6pbp8A5cCi83nDvf2n5vhjQxkz4SSKc7mnL1FRPD+LQZQXMqtRARXX3AX8Vmzeex6tr6zFJ/B1jgvZC5dkWXtWtkRivgtzcHEZcIdT5MgB17ISjGK4Imk6Zhd6lOcQc3IPjCu2y1b8oR8+1bUeM7F/pk0+zK1CM6+HblVPQ1PI0vmtRFx169cVXvfph+G/nkcoVRrWapXWmRjIGI/E8lgrbnuvc9fi+iTXubBqEFt6zcS7jNCG/xFVMEnp7j7d8vhLv0undm2n9pjA6Gv6Y1PMTlPfnUxOj7GcOKb93JxvjZrQo+u3Tl14/c8iUtI46W3BkVbkd9ezajCraGZNVpa9odYRYL+V36m5jTM0WRb9xKlzKtp5kJ3OifnuzzmCEP4I2dLUiiXFrWiZ+4KR1ncni9TMHA1Cg2pYOZdxNOrZjC+08Ek6P40/T+Ioy4WxwAO3POOjMxM4cPjnlY9rUoySV/XofaToDkq7S0k4lSC4xokrjT2qqZNA/rnlL3/iwM4d/Y+4CD68u6ObbDg0rF4WJWJyDkTGMlJdx9MhLsSCDColxr6Du7dcPB/umY7Fi4584eWIjvrbeiX4N22L+lTThNSMYGylx+egR5PgtiXF49cZfIoW5uSmkFg5wMBeLGIPCWZVFgw6d0b5RRcj/WIiQfyzQdPRoNFGfUDIGRXk7BL9sUaBBu0bQdAaYVUL/kM2Y6C5D5NbNmjoZPve4suTwHtSpN+O/akbVPVDdNAbbvx+H3+9n7aVV0dsxZd4xpIjP9cfBqrw3vhvlhUIvjmLV5mvqXwKP6qaI2f49xv1+PyvhqKKxfco8HMv8JUrwfNZng+o57tx9BatGLeFpoLNbGC3Vsz2YOGkLqM0sLBpQlnUpGSBlbCziVHLheFCnY9bcHV/39ICcTxcLsvtc48qSwzuihAQkCvteVVIC4sU9NOfUHRMGVIH85ir41/ZAl8ETMGFEDzRtvQQOPq1goa0mUCEpOUVIKzzSXm9HaQqk8uLPGgrcuBSBBOHdpco4qn8Juk8YgCrym1jlXxseXQZjwoQR6NG0NZY4+KBVxi9RxeDiiUvImEmdcGoxVl2vjXFBvigsRjstRQGeePDpOkmE+aRUcWcx+8sB2FdmGraF9IdrroM/CijUJ5HqtqItYPKYUdW2aFMmBicPXhKikYHHw+iXKOHlLT7Pol9cDZTYvaS393hL/qB8QidDZtGIli4kl4AkJmWp/dg5tP6s2JHPP6L90/3I3bkQGRlZkpO7H808rHupfCKFb51JfWpaEScxIlefIFqw4YxmBhH/8AgtGVyP7DgJmZdtQv59+pB/uzpUqXJj+mrWAXqUObWBp0f7p5OfuzMVMjIiSyd38pt5mJ6Iv0Qz5iC1JY9O3cmn21fU9ytfauPVh+YdfyZ+jiS6uu0nCvSwET6DnMp0/I7Wn4v55JfzZyh4bSuRoq+dpJ3B48mvhRf1m3eIHr5huhh/9xAtnx5AtW04kshLU7sJ82l7+Ce+1PYN8nscEy4uJN+q1ahj0GoK+3MXhUzrQ+17zKczmd+eoX9cPwV948MugstHFNt7objvIfiERWFZa2Ox9PNR4NoWfxcn90aCSrqhUgUXWOeTqWIFIo58LCLPnkXkc4Jt+dqo7WaHzF5bA4+rvvFhySEfYcmBMQQsjoZN3/iwMYd8RMXzULKxBIZhPgCWHPKFVNw9vhZzQ08iQRWDw6vmY9OZ6HeYQsswDJMd61bKF1RIfPYIsYqMuEggNbeDk93nNVGeta38gcXRsOkbH5YcGIPB2lb+wOJo2PSND+tWYhiGYXJgyYFhGIbJgSUHhmEYJgeWHBiGYZgcWHJgGIZhcmDJgWEYhsnhvaayMgzDMJ8vfXb77DoHxmCwtpU/sDgaNnadA8MwDPPeWHJgGIZhcmDJgWEYhsmBjTloKPHPrgVYezAC0QlKnbtD504iMYZtqVrwDugFzyIsv34oBbGvmr8eiknzjyBGJRZkksKpzUQEdS6pueew8skxLJ6+AhfSbWBnnIw4qoxeE4egsaPh3ZE4P8aRf3IKa+bOxv4i3yNkdFXkvH9PIq6un445YY+Fvz8d5vWGYMqAurDT2T2oXp7DqqkzsOrgdbzgiqBKywBMmtQLX1iJFfKI3vERKr2T93jLZyP95hxqaCohqUsAbYm6R/fuZX9cntmIjCAll8DdFCe+h/lw8nPbyp2Cjg4vRzKZGdkWcSRHx4yHDZnKilDPreJ9JxOO0tjqrtQt9A6lagp4urvah0pVG02HM29NaTjyVxwT6PKWWTS0eQkylsio0oQzYgx0KejSnKbk7DGZTqp3DOkRtKClC9UJOiG8W5R6iWY1dCQXTx/qE/AltapoQ1IJR9YNZtBFhVgnj+gbH5YcdCn20wBnKUlLD6XDOQKmpKfBLYXkYERNFjw0mPsu5ycFLjkk7qXxfpNoz8Psu5v0y99RTace9HtGbtjQlWxs/Glziva5RkIIdbKwp57bdAsNQ36Mo/L+L9TEKPfkwEfOoyaFbMgnNEYsEcITFkBOZjUo6Ly2dtzvw8h/9vmsZJFynZZ0KEpSzpZ818eKhXlD3/iwPpFsZJDLxR//hVyfSgzzFvxDE7SZOQVtnDLvPizgEbFjD5407ohmltqS1Ph4pCRcwF+nE7UFAlXMc8QqLWFlza47ygucdSFY5LqqeVxcvQLHFVVQr561WAZY1G8Id+4KVq84CgWUiLH0wuQRNWEhvg6TCugz1h9luATc/ueRsBTDw8YcdKUewbCKzfErBuHA9QVonO02zCo8W9IGzgOPoHHwA+wdUDhzND/tyQXs3XUM1x7FIYVXCutHWE9SM5Rs/hUavAhFyIWEXMcxpKXbwM/lCrYejYZCRcJ7LFDeqx+8uD+wfPcNJPBCGWcKx4bd0IY7gPVHHyJZKZTJCsHNKxB+dqewMOQ0YtT1hN/nJNRrJdn/Wr0AtJHsw/JdEUhQl2nqfYl+zVwgRTLuHd+BsOP/4AVviZK1vNCplRvyuAs0U0Ecc8hBeQPT67XA9THXsLaLNhLKqAVoWWMkjtv7IjjsN/R1U+DgyKbo92A4Dmzug9IGNuyQL+OYHIKOtn1xa+QJXJxRG5npXPkPZjWojG8ifLEpei06m4jlaccxqnITLDIZj1MXp6FmzkEKIdQ/wrPaLBRbcQfbetmKpR8fG3N4H4rDNLT027uVWgY/zexWSg2fTy0Ky8nGczStP3GFzi5oTzacBbX69T7x9IJWdG1II7ecoxu3rtLcFkYkK/s1bYuIpCuHFlI3r2/odGo63fixLsmF08vOoc/E5Srp2Tpfsufk5DkzktI1ZekUOdNTU6/Tmozfr6THq7zJWqjnMe26eLqbUc9Gpx7RC3F5mfWUMbR/bE1yrD2StpwLpzMbh1FNCwuqMfkk5XEXaKZ83bb0xN+YQXWd/GlTtkGtVIpY4UPOcgnJijSkwP6dyGvIOoowvB4ljXwZx6Q15G2cS7dSyi4KcORIVm4EHdN9IT2cptSUk8TajzYliWWvid/SnQo7+tPGF3nbSa1vfFi30n/CI3zDShx5YYMO46ehm2cVVClpDyPOCs6lCkPKP4ay/nhM6ewOtzIusDUVzkuFo/mipVxRpclAfN/ZGbG8DCVKFhPeYwOn4lbi2QgHqxLOsOWMUNS5uDgzQobizkWFetYoXsJarJeAWzcfIl04jnEq5SIezWTUs9GpB1gKy1EvL7OeYj+WLb0Cq4a+aO9eGbW7jMdXtdIQvu8gotjNpz8RJe7s3I37DTqiRbbTNyOUD1iLvbOawvL5MaxccxWWVSqheMZRKvPpqOIRFy+ckZuaw0x3byqRQio8p5QkJOW2PamisSXkBCqMmgwf3SlNBsQwP9Vng4NzRTfY4BVuXL6JVLFUTdM9KauM/kO9IHYdv0aK8n0HoI14m2dN/Rx9mhLhFFD8UU14ovmfpoxH1JoJWP64GBy4f6sn0jzRKTNpgbFLFmFOvxowUr1C5MEdOPtYOKhQpCBZfWzB5D3lXezYcwf1O7VEVu+1VuL5pQja64q5679HE+s72DSoBbxnn0PWKATzaci145TChpVtZ0ppSOOFYpkxjHPp9ovdNxXBqaPw67CKuUyLNQwsOfwnHAp3W4ytP/tCudQLDb8ch5/CIpAivvpOVC9wZO5ABAYGah6D5hzCsxxz3zMQYg9PxZQb3pjRt1xW/+e74GxRy7ctLP4ch+7dxmDt/RKo4KxuDvTW6zyYj0N5fyd236qPTi2zpwbVk80Y6LsIDqNnoXfX7xB2YDE6Or3Eocl9MO2U7iEJk+dkjihWWApKSkCi7vYqnFHEJxK4IsXw+qUoqgebMG6RDN+uGoKK77Xx5g2WHP4rzgH1+g1C66KxuHIpHsXL2r/fkQBnj8ajgrFixQrN49cxTVH4DdHhb63AuHXO+GZKa9jrnh28C8UlzG/ngf7n6mHmuuWYGtAITqbia8wnoMLDsF34p15HZM8NStwO+QVbFA3QrpH2HNSsUn+EbJ4Id1kktm4+pyljPhGjSqhVzRKqZw/xME0sU0uPxiPh6M68qjuq6k5seXUSP479A/XmzUX7ooa9+2XJ4TXicI32yWtILM/4VytOOILrh59vlMfI5XPQvYK9cKL5EakeY0foE/T4KQBu/+GoQ7F/AWYeBBp390YJnWym/tvojWcszEejeoiwsEh4dmwFG7FIS4nY2Dio5EYw1jkQMHf/Gj095ODTDXESZEFijZa+reGQEo4LV7KyAx8RjohkGzTv3DqrizDpEhYOC4bZmAXoUz5r41U9iUBEzkvkPzmWHHTxMYh9Jewc42MRk2ObI8TEvNR0usTFxIhdLyo83z0eA369h2rjliLI0wIqRTJSiRc22tcSjCoJySlCGZ+GdLEoQ5oiFTwpwfNZ76GUZCiEMqVOmaYerNBq1CQ0ttGGLqteVuPSLk8FpVLnMyiVwqdNR6pC+9slRnLI6Sn+WLESf107jx1zJyMkXAXV8wgc27QUW66xnU5eUj3ejV036qJjq+ypQT0YXbVtG5SJOYmDlxRimYB/iOiXJeDl7S4WMB+VQgH1rl+9bb3O1nsiRno8w+7fz0IbIQUubAnDgy+GYqKvOOVdSAwLuvkjVFYR8lO/YeHChcLjF/w8ZQi8/X/FLWMD3BWrpyy9i/d4y2eAp5u7f6GgL2uQNSfs9zlrqtEjiObvitBMI1W+OE2hM0dQSxc5SSAhuUtLGjFzFa3/bSw1c5SRVYOZdDlVSY9PrKSRjYuQFFIq1mw0rTjxRLv4xHDaOrMP1bTiSGLkSj5BC2jDGfW0VZ7uHw6mwfXsiJPIqbR3EK0794Jizq+jyV4lhOVwVLjhMPr10G26k1lPRqU6TKO9t9PppW69RsMpOFs9OZVo0J0CAgI0jy8blyQjCUf29YfQ4kP3iE+PpNDAWuRoWYgcq3rTt2G36OyP9cnOuhx5zzpBsXk7u04jf7YtfSgpekkbKt45lLKusdWVQBcX+lLVah0paHUY/bkrhKb1aU895p8hA/z2jHwWR57uHlpO0wNqkw0nbPul29GE+dspPFF8WZQetZ4Ca3uQ//TlFBzUhTybDKWNUdpJ6MTfoGCvoiSVaI4pX3tIqeSgA5SXs5L1jQ+7CK6AUKXG4dGN49gwfTQWWc5B5G/tYWgzIQtu21Lh6YV9uG7eEE3cMq+hzYGPjcTZs5F4TrYoX7s23OwMczSzwMYx7RmunbyAaBM31K5dClYG2i+jb3xYcihoEnbjm9kSBE31YsmB+ShYHA0bSw7MGyQg6lYCSpYtpvkqaEPC2lb+wOJo2FhyYD47rG3lDyyOhk3f+LDZSgzDMEwOLDkwDMMwObDkwDAMw+TAkgPDMAyTA0sODMMwTA4sOTAMwzA5sOTAMAzD5MCSA8MwDJPDe10ExzAMw3y+9Nntv3NyYBiGYfI/1q3EMAzD5MCSA8MwDJMDSw4MwzBMDiw5MAzDMDmw5MAwDMO8Bvg/QN5ahVH0rFIAAAAASUVORK5CYII=)"
      ]
    },
    {
      "cell_type": "markdown",
      "metadata": {
        "id": "vbPbeiQXVwPH"
      },
      "source": [
        "1.1. Найти и интерпретировать корреляцию между переменными\n",
        "«Улица» и «Гараж» (подсчитать корреляцию по Пирсону).\n",
        "\n",
        "1.2. Построить диаграмму рассеяния для вышеупомянутых переменных."
      ]
    },
    {
      "cell_type": "code",
      "execution_count": null,
      "metadata": {
        "colab": {
          "base_uri": "https://localhost:8080/",
          "height": 206
        },
        "id": "H9AGYpFLV1Q4",
        "outputId": "177fc07b-1c04-4688-e895-7d65b8772414"
      },
      "outputs": [
        {
          "data": {
            "text/html": [
              "\n",
              "  <div id=\"df-eee16e9f-292e-4d36-bdcd-222b1617d290\" class=\"colab-df-container\">\n",
              "    <div>\n",
              "<style scoped>\n",
              "    .dataframe tbody tr th:only-of-type {\n",
              "        vertical-align: middle;\n",
              "    }\n",
              "\n",
              "    .dataframe tbody tr th {\n",
              "        vertical-align: top;\n",
              "    }\n",
              "\n",
              "    .dataframe thead th {\n",
              "        text-align: right;\n",
              "    }\n",
              "</style>\n",
              "<table border=\"1\" class=\"dataframe\">\n",
              "  <thead>\n",
              "    <tr style=\"text-align: right;\">\n",
              "      <th></th>\n",
              "      <th>Street</th>\n",
              "      <th>Parking</th>\n",
              "    </tr>\n",
              "  </thead>\n",
              "  <tbody>\n",
              "    <tr>\n",
              "      <th>0</th>\n",
              "      <td>80</td>\n",
              "      <td>100</td>\n",
              "    </tr>\n",
              "    <tr>\n",
              "      <th>1</th>\n",
              "      <td>98</td>\n",
              "      <td>82</td>\n",
              "    </tr>\n",
              "    <tr>\n",
              "      <th>2</th>\n",
              "      <td>75</td>\n",
              "      <td>105</td>\n",
              "    </tr>\n",
              "    <tr>\n",
              "      <th>3</th>\n",
              "      <td>91</td>\n",
              "      <td>89</td>\n",
              "    </tr>\n",
              "    <tr>\n",
              "      <th>4</th>\n",
              "      <td>78</td>\n",
              "      <td>102</td>\n",
              "    </tr>\n",
              "  </tbody>\n",
              "</table>\n",
              "</div>\n",
              "    <div class=\"colab-df-buttons\">\n",
              "\n",
              "  <div class=\"colab-df-container\">\n",
              "    <button class=\"colab-df-convert\" onclick=\"convertToInteractive('df-eee16e9f-292e-4d36-bdcd-222b1617d290')\"\n",
              "            title=\"Convert this dataframe to an interactive table.\"\n",
              "            style=\"display:none;\">\n",
              "\n",
              "  <svg xmlns=\"http://www.w3.org/2000/svg\" height=\"24px\" viewBox=\"0 -960 960 960\">\n",
              "    <path d=\"M120-120v-720h720v720H120Zm60-500h600v-160H180v160Zm220 220h160v-160H400v160Zm0 220h160v-160H400v160ZM180-400h160v-160H180v160Zm440 0h160v-160H620v160ZM180-180h160v-160H180v160Zm440 0h160v-160H620v160Z\"/>\n",
              "  </svg>\n",
              "    </button>\n",
              "\n",
              "  <style>\n",
              "    .colab-df-container {\n",
              "      display:flex;\n",
              "      gap: 12px;\n",
              "    }\n",
              "\n",
              "    .colab-df-convert {\n",
              "      background-color: #E8F0FE;\n",
              "      border: none;\n",
              "      border-radius: 50%;\n",
              "      cursor: pointer;\n",
              "      display: none;\n",
              "      fill: #1967D2;\n",
              "      height: 32px;\n",
              "      padding: 0 0 0 0;\n",
              "      width: 32px;\n",
              "    }\n",
              "\n",
              "    .colab-df-convert:hover {\n",
              "      background-color: #E2EBFA;\n",
              "      box-shadow: 0px 1px 2px rgba(60, 64, 67, 0.3), 0px 1px 3px 1px rgba(60, 64, 67, 0.15);\n",
              "      fill: #174EA6;\n",
              "    }\n",
              "\n",
              "    .colab-df-buttons div {\n",
              "      margin-bottom: 4px;\n",
              "    }\n",
              "\n",
              "    [theme=dark] .colab-df-convert {\n",
              "      background-color: #3B4455;\n",
              "      fill: #D2E3FC;\n",
              "    }\n",
              "\n",
              "    [theme=dark] .colab-df-convert:hover {\n",
              "      background-color: #434B5C;\n",
              "      box-shadow: 0px 1px 3px 1px rgba(0, 0, 0, 0.15);\n",
              "      filter: drop-shadow(0px 1px 2px rgba(0, 0, 0, 0.3));\n",
              "      fill: #FFFFFF;\n",
              "    }\n",
              "  </style>\n",
              "\n",
              "    <script>\n",
              "      const buttonEl =\n",
              "        document.querySelector('#df-eee16e9f-292e-4d36-bdcd-222b1617d290 button.colab-df-convert');\n",
              "      buttonEl.style.display =\n",
              "        google.colab.kernel.accessAllowed ? 'block' : 'none';\n",
              "\n",
              "      async function convertToInteractive(key) {\n",
              "        const element = document.querySelector('#df-eee16e9f-292e-4d36-bdcd-222b1617d290');\n",
              "        const dataTable =\n",
              "          await google.colab.kernel.invokeFunction('convertToInteractive',\n",
              "                                                    [key], {});\n",
              "        if (!dataTable) return;\n",
              "\n",
              "        const docLinkHtml = 'Like what you see? Visit the ' +\n",
              "          '<a target=\"_blank\" href=https://colab.research.google.com/notebooks/data_table.ipynb>data table notebook</a>'\n",
              "          + ' to learn more about interactive tables.';\n",
              "        element.innerHTML = '';\n",
              "        dataTable['output_type'] = 'display_data';\n",
              "        await google.colab.output.renderOutput(dataTable, element);\n",
              "        const docLink = document.createElement('div');\n",
              "        docLink.innerHTML = docLinkHtml;\n",
              "        element.appendChild(docLink);\n",
              "      }\n",
              "    </script>\n",
              "  </div>\n",
              "\n",
              "\n",
              "<div id=\"df-f8acf969-26dd-4f14-a594-57cd1cd3e036\">\n",
              "  <button class=\"colab-df-quickchart\" onclick=\"quickchart('df-f8acf969-26dd-4f14-a594-57cd1cd3e036')\"\n",
              "            title=\"Suggest charts.\"\n",
              "            style=\"display:none;\">\n",
              "\n",
              "<svg xmlns=\"http://www.w3.org/2000/svg\" height=\"24px\"viewBox=\"0 0 24 24\"\n",
              "     width=\"24px\">\n",
              "    <g>\n",
              "        <path d=\"M19 3H5c-1.1 0-2 .9-2 2v14c0 1.1.9 2 2 2h14c1.1 0 2-.9 2-2V5c0-1.1-.9-2-2-2zM9 17H7v-7h2v7zm4 0h-2V7h2v10zm4 0h-2v-4h2v4z\"/>\n",
              "    </g>\n",
              "</svg>\n",
              "  </button>\n",
              "\n",
              "<style>\n",
              "  .colab-df-quickchart {\n",
              "      --bg-color: #E8F0FE;\n",
              "      --fill-color: #1967D2;\n",
              "      --hover-bg-color: #E2EBFA;\n",
              "      --hover-fill-color: #174EA6;\n",
              "      --disabled-fill-color: #AAA;\n",
              "      --disabled-bg-color: #DDD;\n",
              "  }\n",
              "\n",
              "  [theme=dark] .colab-df-quickchart {\n",
              "      --bg-color: #3B4455;\n",
              "      --fill-color: #D2E3FC;\n",
              "      --hover-bg-color: #434B5C;\n",
              "      --hover-fill-color: #FFFFFF;\n",
              "      --disabled-bg-color: #3B4455;\n",
              "      --disabled-fill-color: #666;\n",
              "  }\n",
              "\n",
              "  .colab-df-quickchart {\n",
              "    background-color: var(--bg-color);\n",
              "    border: none;\n",
              "    border-radius: 50%;\n",
              "    cursor: pointer;\n",
              "    display: none;\n",
              "    fill: var(--fill-color);\n",
              "    height: 32px;\n",
              "    padding: 0;\n",
              "    width: 32px;\n",
              "  }\n",
              "\n",
              "  .colab-df-quickchart:hover {\n",
              "    background-color: var(--hover-bg-color);\n",
              "    box-shadow: 0 1px 2px rgba(60, 64, 67, 0.3), 0 1px 3px 1px rgba(60, 64, 67, 0.15);\n",
              "    fill: var(--button-hover-fill-color);\n",
              "  }\n",
              "\n",
              "  .colab-df-quickchart-complete:disabled,\n",
              "  .colab-df-quickchart-complete:disabled:hover {\n",
              "    background-color: var(--disabled-bg-color);\n",
              "    fill: var(--disabled-fill-color);\n",
              "    box-shadow: none;\n",
              "  }\n",
              "\n",
              "  .colab-df-spinner {\n",
              "    border: 2px solid var(--fill-color);\n",
              "    border-color: transparent;\n",
              "    border-bottom-color: var(--fill-color);\n",
              "    animation:\n",
              "      spin 1s steps(1) infinite;\n",
              "  }\n",
              "\n",
              "  @keyframes spin {\n",
              "    0% {\n",
              "      border-color: transparent;\n",
              "      border-bottom-color: var(--fill-color);\n",
              "      border-left-color: var(--fill-color);\n",
              "    }\n",
              "    20% {\n",
              "      border-color: transparent;\n",
              "      border-left-color: var(--fill-color);\n",
              "      border-top-color: var(--fill-color);\n",
              "    }\n",
              "    30% {\n",
              "      border-color: transparent;\n",
              "      border-left-color: var(--fill-color);\n",
              "      border-top-color: var(--fill-color);\n",
              "      border-right-color: var(--fill-color);\n",
              "    }\n",
              "    40% {\n",
              "      border-color: transparent;\n",
              "      border-right-color: var(--fill-color);\n",
              "      border-top-color: var(--fill-color);\n",
              "    }\n",
              "    60% {\n",
              "      border-color: transparent;\n",
              "      border-right-color: var(--fill-color);\n",
              "    }\n",
              "    80% {\n",
              "      border-color: transparent;\n",
              "      border-right-color: var(--fill-color);\n",
              "      border-bottom-color: var(--fill-color);\n",
              "    }\n",
              "    90% {\n",
              "      border-color: transparent;\n",
              "      border-bottom-color: var(--fill-color);\n",
              "    }\n",
              "  }\n",
              "</style>\n",
              "\n",
              "  <script>\n",
              "    async function quickchart(key) {\n",
              "      const quickchartButtonEl =\n",
              "        document.querySelector('#' + key + ' button');\n",
              "      quickchartButtonEl.disabled = true;  // To prevent multiple clicks.\n",
              "      quickchartButtonEl.classList.add('colab-df-spinner');\n",
              "      try {\n",
              "        const charts = await google.colab.kernel.invokeFunction(\n",
              "            'suggestCharts', [key], {});\n",
              "      } catch (error) {\n",
              "        console.error('Error during call to suggestCharts:', error);\n",
              "      }\n",
              "      quickchartButtonEl.classList.remove('colab-df-spinner');\n",
              "      quickchartButtonEl.classList.add('colab-df-quickchart-complete');\n",
              "    }\n",
              "    (() => {\n",
              "      let quickchartButtonEl =\n",
              "        document.querySelector('#df-f8acf969-26dd-4f14-a594-57cd1cd3e036 button');\n",
              "      quickchartButtonEl.style.display =\n",
              "        google.colab.kernel.accessAllowed ? 'block' : 'none';\n",
              "    })();\n",
              "  </script>\n",
              "</div>\n",
              "    </div>\n",
              "  </div>\n"
            ],
            "text/plain": [
              "   Street  Parking\n",
              "0      80      100\n",
              "1      98       82\n",
              "2      75      105\n",
              "3      91       89\n",
              "4      78      102"
            ]
          },
          "execution_count": 2,
          "metadata": {},
          "output_type": "execute_result"
        }
      ],
      "source": [
        "df = pd.DataFrame({'Street': [80, 98, 75, 91, 78],\n",
        "                   'Parking': [100, 82, 105, 89, 102]})\n",
        "df"
      ]
    },
    {
      "cell_type": "code",
      "execution_count": null,
      "metadata": {
        "colab": {
          "base_uri": "https://localhost:8080/",
          "height": 112
        },
        "id": "R8goEl5RYz5s",
        "outputId": "fb638c7e-6fc8-4658-b795-5260f1c51b95"
      },
      "outputs": [
        {
          "data": {
            "text/html": [
              "\n",
              "  <div id=\"df-c0bfd450-0bcd-4358-8855-37129b1a4b77\" class=\"colab-df-container\">\n",
              "    <div>\n",
              "<style scoped>\n",
              "    .dataframe tbody tr th:only-of-type {\n",
              "        vertical-align: middle;\n",
              "    }\n",
              "\n",
              "    .dataframe tbody tr th {\n",
              "        vertical-align: top;\n",
              "    }\n",
              "\n",
              "    .dataframe thead th {\n",
              "        text-align: right;\n",
              "    }\n",
              "</style>\n",
              "<table border=\"1\" class=\"dataframe\">\n",
              "  <thead>\n",
              "    <tr style=\"text-align: right;\">\n",
              "      <th></th>\n",
              "      <th>Street</th>\n",
              "      <th>Parking</th>\n",
              "    </tr>\n",
              "  </thead>\n",
              "  <tbody>\n",
              "    <tr>\n",
              "      <th>Street</th>\n",
              "      <td>1.0</td>\n",
              "      <td>-1.0</td>\n",
              "    </tr>\n",
              "    <tr>\n",
              "      <th>Parking</th>\n",
              "      <td>-1.0</td>\n",
              "      <td>1.0</td>\n",
              "    </tr>\n",
              "  </tbody>\n",
              "</table>\n",
              "</div>\n",
              "    <div class=\"colab-df-buttons\">\n",
              "\n",
              "  <div class=\"colab-df-container\">\n",
              "    <button class=\"colab-df-convert\" onclick=\"convertToInteractive('df-c0bfd450-0bcd-4358-8855-37129b1a4b77')\"\n",
              "            title=\"Convert this dataframe to an interactive table.\"\n",
              "            style=\"display:none;\">\n",
              "\n",
              "  <svg xmlns=\"http://www.w3.org/2000/svg\" height=\"24px\" viewBox=\"0 -960 960 960\">\n",
              "    <path d=\"M120-120v-720h720v720H120Zm60-500h600v-160H180v160Zm220 220h160v-160H400v160Zm0 220h160v-160H400v160ZM180-400h160v-160H180v160Zm440 0h160v-160H620v160ZM180-180h160v-160H180v160Zm440 0h160v-160H620v160Z\"/>\n",
              "  </svg>\n",
              "    </button>\n",
              "\n",
              "  <style>\n",
              "    .colab-df-container {\n",
              "      display:flex;\n",
              "      gap: 12px;\n",
              "    }\n",
              "\n",
              "    .colab-df-convert {\n",
              "      background-color: #E8F0FE;\n",
              "      border: none;\n",
              "      border-radius: 50%;\n",
              "      cursor: pointer;\n",
              "      display: none;\n",
              "      fill: #1967D2;\n",
              "      height: 32px;\n",
              "      padding: 0 0 0 0;\n",
              "      width: 32px;\n",
              "    }\n",
              "\n",
              "    .colab-df-convert:hover {\n",
              "      background-color: #E2EBFA;\n",
              "      box-shadow: 0px 1px 2px rgba(60, 64, 67, 0.3), 0px 1px 3px 1px rgba(60, 64, 67, 0.15);\n",
              "      fill: #174EA6;\n",
              "    }\n",
              "\n",
              "    .colab-df-buttons div {\n",
              "      margin-bottom: 4px;\n",
              "    }\n",
              "\n",
              "    [theme=dark] .colab-df-convert {\n",
              "      background-color: #3B4455;\n",
              "      fill: #D2E3FC;\n",
              "    }\n",
              "\n",
              "    [theme=dark] .colab-df-convert:hover {\n",
              "      background-color: #434B5C;\n",
              "      box-shadow: 0px 1px 3px 1px rgba(0, 0, 0, 0.15);\n",
              "      filter: drop-shadow(0px 1px 2px rgba(0, 0, 0, 0.3));\n",
              "      fill: #FFFFFF;\n",
              "    }\n",
              "  </style>\n",
              "\n",
              "    <script>\n",
              "      const buttonEl =\n",
              "        document.querySelector('#df-c0bfd450-0bcd-4358-8855-37129b1a4b77 button.colab-df-convert');\n",
              "      buttonEl.style.display =\n",
              "        google.colab.kernel.accessAllowed ? 'block' : 'none';\n",
              "\n",
              "      async function convertToInteractive(key) {\n",
              "        const element = document.querySelector('#df-c0bfd450-0bcd-4358-8855-37129b1a4b77');\n",
              "        const dataTable =\n",
              "          await google.colab.kernel.invokeFunction('convertToInteractive',\n",
              "                                                    [key], {});\n",
              "        if (!dataTable) return;\n",
              "\n",
              "        const docLinkHtml = 'Like what you see? Visit the ' +\n",
              "          '<a target=\"_blank\" href=https://colab.research.google.com/notebooks/data_table.ipynb>data table notebook</a>'\n",
              "          + ' to learn more about interactive tables.';\n",
              "        element.innerHTML = '';\n",
              "        dataTable['output_type'] = 'display_data';\n",
              "        await google.colab.output.renderOutput(dataTable, element);\n",
              "        const docLink = document.createElement('div');\n",
              "        docLink.innerHTML = docLinkHtml;\n",
              "        element.appendChild(docLink);\n",
              "      }\n",
              "    </script>\n",
              "  </div>\n",
              "\n",
              "\n",
              "<div id=\"df-68789a15-0a05-4545-a969-929e949c6ef7\">\n",
              "  <button class=\"colab-df-quickchart\" onclick=\"quickchart('df-68789a15-0a05-4545-a969-929e949c6ef7')\"\n",
              "            title=\"Suggest charts.\"\n",
              "            style=\"display:none;\">\n",
              "\n",
              "<svg xmlns=\"http://www.w3.org/2000/svg\" height=\"24px\"viewBox=\"0 0 24 24\"\n",
              "     width=\"24px\">\n",
              "    <g>\n",
              "        <path d=\"M19 3H5c-1.1 0-2 .9-2 2v14c0 1.1.9 2 2 2h14c1.1 0 2-.9 2-2V5c0-1.1-.9-2-2-2zM9 17H7v-7h2v7zm4 0h-2V7h2v10zm4 0h-2v-4h2v4z\"/>\n",
              "    </g>\n",
              "</svg>\n",
              "  </button>\n",
              "\n",
              "<style>\n",
              "  .colab-df-quickchart {\n",
              "      --bg-color: #E8F0FE;\n",
              "      --fill-color: #1967D2;\n",
              "      --hover-bg-color: #E2EBFA;\n",
              "      --hover-fill-color: #174EA6;\n",
              "      --disabled-fill-color: #AAA;\n",
              "      --disabled-bg-color: #DDD;\n",
              "  }\n",
              "\n",
              "  [theme=dark] .colab-df-quickchart {\n",
              "      --bg-color: #3B4455;\n",
              "      --fill-color: #D2E3FC;\n",
              "      --hover-bg-color: #434B5C;\n",
              "      --hover-fill-color: #FFFFFF;\n",
              "      --disabled-bg-color: #3B4455;\n",
              "      --disabled-fill-color: #666;\n",
              "  }\n",
              "\n",
              "  .colab-df-quickchart {\n",
              "    background-color: var(--bg-color);\n",
              "    border: none;\n",
              "    border-radius: 50%;\n",
              "    cursor: pointer;\n",
              "    display: none;\n",
              "    fill: var(--fill-color);\n",
              "    height: 32px;\n",
              "    padding: 0;\n",
              "    width: 32px;\n",
              "  }\n",
              "\n",
              "  .colab-df-quickchart:hover {\n",
              "    background-color: var(--hover-bg-color);\n",
              "    box-shadow: 0 1px 2px rgba(60, 64, 67, 0.3), 0 1px 3px 1px rgba(60, 64, 67, 0.15);\n",
              "    fill: var(--button-hover-fill-color);\n",
              "  }\n",
              "\n",
              "  .colab-df-quickchart-complete:disabled,\n",
              "  .colab-df-quickchart-complete:disabled:hover {\n",
              "    background-color: var(--disabled-bg-color);\n",
              "    fill: var(--disabled-fill-color);\n",
              "    box-shadow: none;\n",
              "  }\n",
              "\n",
              "  .colab-df-spinner {\n",
              "    border: 2px solid var(--fill-color);\n",
              "    border-color: transparent;\n",
              "    border-bottom-color: var(--fill-color);\n",
              "    animation:\n",
              "      spin 1s steps(1) infinite;\n",
              "  }\n",
              "\n",
              "  @keyframes spin {\n",
              "    0% {\n",
              "      border-color: transparent;\n",
              "      border-bottom-color: var(--fill-color);\n",
              "      border-left-color: var(--fill-color);\n",
              "    }\n",
              "    20% {\n",
              "      border-color: transparent;\n",
              "      border-left-color: var(--fill-color);\n",
              "      border-top-color: var(--fill-color);\n",
              "    }\n",
              "    30% {\n",
              "      border-color: transparent;\n",
              "      border-left-color: var(--fill-color);\n",
              "      border-top-color: var(--fill-color);\n",
              "      border-right-color: var(--fill-color);\n",
              "    }\n",
              "    40% {\n",
              "      border-color: transparent;\n",
              "      border-right-color: var(--fill-color);\n",
              "      border-top-color: var(--fill-color);\n",
              "    }\n",
              "    60% {\n",
              "      border-color: transparent;\n",
              "      border-right-color: var(--fill-color);\n",
              "    }\n",
              "    80% {\n",
              "      border-color: transparent;\n",
              "      border-right-color: var(--fill-color);\n",
              "      border-bottom-color: var(--fill-color);\n",
              "    }\n",
              "    90% {\n",
              "      border-color: transparent;\n",
              "      border-bottom-color: var(--fill-color);\n",
              "    }\n",
              "  }\n",
              "</style>\n",
              "\n",
              "  <script>\n",
              "    async function quickchart(key) {\n",
              "      const quickchartButtonEl =\n",
              "        document.querySelector('#' + key + ' button');\n",
              "      quickchartButtonEl.disabled = true;  // To prevent multiple clicks.\n",
              "      quickchartButtonEl.classList.add('colab-df-spinner');\n",
              "      try {\n",
              "        const charts = await google.colab.kernel.invokeFunction(\n",
              "            'suggestCharts', [key], {});\n",
              "      } catch (error) {\n",
              "        console.error('Error during call to suggestCharts:', error);\n",
              "      }\n",
              "      quickchartButtonEl.classList.remove('colab-df-spinner');\n",
              "      quickchartButtonEl.classList.add('colab-df-quickchart-complete');\n",
              "    }\n",
              "    (() => {\n",
              "      let quickchartButtonEl =\n",
              "        document.querySelector('#df-68789a15-0a05-4545-a969-929e949c6ef7 button');\n",
              "      quickchartButtonEl.style.display =\n",
              "        google.colab.kernel.accessAllowed ? 'block' : 'none';\n",
              "    })();\n",
              "  </script>\n",
              "</div>\n",
              "    </div>\n",
              "  </div>\n"
            ],
            "text/plain": [
              "         Street  Parking\n",
              "Street      1.0     -1.0\n",
              "Parking    -1.0      1.0"
            ]
          },
          "execution_count": 6,
          "metadata": {},
          "output_type": "execute_result"
        }
      ],
      "source": [
        "df.corr()"
      ]
    },
    {
      "cell_type": "code",
      "execution_count": null,
      "metadata": {
        "colab": {
          "base_uri": "https://localhost:8080/",
          "height": 452
        },
        "id": "GEpbphrFX2xt",
        "outputId": "1829e25c-ddc6-4b87-93df-26e7e9be1c33"
      },
      "outputs": [
        {
          "data": {
            "text/plain": [
              "<Axes: >"
            ]
          },
          "execution_count": 5,
          "metadata": {},
          "output_type": "execute_result"
        },
        {
          "data": {
            "image/png": "[encoded data removed]",
            "text/plain": [
              "<Figure size 640x480 with 2 Axes>"
            ]
          },
          "metadata": {},
          "output_type": "display_data"
        }
      ],
      "source": [
        "sns.heatmap(df.corr(), cmap= 'coolwarm')"
      ]
    },
    {
      "cell_type": "code",
      "execution_count": null,
      "metadata": {
        "colab": {
          "base_uri": "https://localhost:8080/",
          "height": 449
        },
        "id": "3s1zHPtyZRd6",
        "outputId": "83e53926-e0d6-4e40-94c2-2dc640f2f53b"
      },
      "outputs": [
        {
          "data": {
            "image/png": "[encoded data removed]",
            "text/plain": [
              "<Figure size 640x480 with 1 Axes>"
            ]
          },
          "metadata": {},
          "output_type": "display_data"
        }
      ],
      "source": [
        "plt.scatter(x=df.Street, y=df.Parking)\n",
        "plt.xlabel('Street')\n",
        "plt.ylabel('Parking')\n",
        "plt.grid()"
      ]
    },
    {
      "cell_type": "markdown",
      "metadata": {
        "id": "YN8fI-0FaFYQ"
      },
      "source": [
        "## Задача 2"
      ]
    },
    {
      "cell_type": "markdown",
      "metadata": {
        "id": "HtWaqhJwaLva"
      },
      "source": [
        "Найти и выгрузить данные. Вывести, провести предобработку и\n",
        "описать признаки"
      ]
    },
    {
      "cell_type": "markdown",
      "metadata": {
        "id": "QEj_vdfZaOww"
      },
      "source": [
        "2.1. Построить корреляционную матрицу по одной целевой переменной.\n",
        "Определить наиболее коррелирующую переменную, продолжить с\n",
        "ней работу в следующем пункте.\n",
        "\n",
        "2.2. Реализовать регрессию вручную, отобразить наклон, сдвиг и MSE.\n",
        "\n",
        "2.3. Визуализировать регрессию на графике.\n"
      ]
    },
    {
      "cell_type": "code",
      "source": [
        "data = {'average marks': [5, 4.95, 5, 4.9, 4.8, 4.7, 4.5, 4.45, 4.43, 4.41, 4.3, 4.1, 4.05, 4.0, 3.9, 3.7, 3.59, 3.55, 3.51, 3.4, 3.38, 3.35, 3.2, 3.09, 3.0, 2.8],\n",
        "        'debt nums':     [0, 0,    1, 0,    1,   2,   1,   0,    2,    3,    1,   0,   1,   2,     3,   2,   4,    4,     5,    7,   5 ,    6,   8,   9,   7,   10]}\n",
        "\n",
        "df = pd.DataFrame(data)\n",
        "plt.scatter(df['debt nums'],df['average marks'], label='average marks')\n",
        "plt.ylabel('Средняя оценка')\n",
        "plt.xlabel(f'Количество долгов')\n",
        "plt.legend()\n",
        "\n"
      ],
      "metadata": {
        "id": "rD77Orp4uagU",
        "colab": {
          "base_uri": "https://localhost:8080/",
          "height": 466
        },
        "outputId": "83c73c82-ca74-422b-9aeb-efc3b9a0c2e7"
      },
      "execution_count": null,
      "outputs": [
        {
          "output_type": "execute_result",
          "data": {
            "text/plain": [
              "<matplotlib.legend.Legend at 0x7ad05b9e0550>"
            ]
          },
          "metadata": {},
          "execution_count": 131
        },
        {
          "output_type": "display_data",
          "data": {
            "text/plain": [
              "<Figure size 640x480 with 1 Axes>"
            ],
            "image/png": "[encoded data removed]"
          },
          "metadata": {}
        }
      ]
    },
    {
      "cell_type": "code",
      "source": [
        "X = df['debt nums'].values\n",
        "y = df['average marks'].values\n",
        "\n",
        "X = torch.Tensor(X).unsqueeze(-1)\n",
        "y = torch.Tensor(y).unsqueeze(-1)\n",
        "\n",
        "X_train, X_test, y_train, y_test = train_test_split(X, y, test_size=0.2, random_state=42)"
      ],
      "metadata": {
        "id": "3_CQsF4vLZxu"
      },
      "execution_count": null,
      "outputs": []
    },
    {
      "cell_type": "markdown",
      "metadata": {
        "id": "7ircsv5NmzuE"
      },
      "source": [
        "Реализумем регрессию с помощью фреймворка PyTorch, создав модель, состоящую из одного линейного слоя и принимающего входные данные размеров input_dim"
      ]
    },
    {
      "cell_type": "code",
      "execution_count": null,
      "metadata": {
        "id": "zvQhcWoEmTns"
      },
      "outputs": [],
      "source": [
        "class Regression(nn.Module):\n",
        "  def __init__(self, n_dim):\n",
        "    super().__init__()\n",
        "    self.fc = nn.Linear(n_dim, 1)\n",
        "\n",
        "  def forward(self, x):\n",
        "    out = self.fc(x)\n",
        "    return out\n",
        "\n",
        "  # эпоха обучения\n",
        "  def train_epoch(self, X, y, optimizer, loss):\n",
        "    pred = self.forward(X)\n",
        "    loss = loss(pred, y)\n",
        "    loss.backward()\n",
        "    optimizer.step()\n",
        "    optimizer.zero_grad()\n",
        "    return loss\n",
        "\n",
        "  # инициализация оптимизатора и лосса\n",
        "  def configure(self):\n",
        "    optimizer = torch.optim.Adam(self.parameters(), lr=1e-2)\n",
        "    loss = nn.MSELoss()\n",
        "    return optimizer, loss\n",
        "\n",
        "  # валидация\n",
        "  def eval(self, X, y, loss):\n",
        "    pred = self.forward(X)\n",
        "    loss = loss(pred, y)\n",
        "    return loss\n",
        "\n",
        "  #функция обучения\n",
        "  def fit(self, epochs, X_train, y_train, X_val, y_val, epsilon=1e-5):\n",
        "    last_loss = 1e+6\n",
        "    history = {'train': [], 'val': []}\n",
        "    optimizer, loss_fn = self.configure()\n",
        "    for epoch in range(epochs):\n",
        "      tr_loss = 0.\n",
        "      val_loss = 0.\n",
        "      loss = self.train_epoch(X_train, y_train, optimizer, loss_fn)\n",
        "      tr_loss += loss / len(X_train)\n",
        "      history['train'].append(tr_loss.item())\n",
        "\n",
        "      loss = self.eval(X_val, y_val, loss_fn)\n",
        "      val_loss += loss / len(X_val)\n",
        "      history['val'].append(val_loss.item())\n",
        "      if epoch % 100== 0:\n",
        "        print(f'epoch: {epoch+1} tr_loss: {tr_loss} val_loss: {val_loss}')\n",
        "\n",
        "      # критерий остановы\n",
        "      if abs(last_loss - history['val'][-1]) < epsilon:\n",
        "        return self, history\n",
        "      last_loss = history['val'][-1]\n",
        "    return self, history"
      ]
    },
    {
      "cell_type": "markdown",
      "metadata": {
        "id": "usJhlHGKnnCI"
      },
      "source": [
        "Обучим нашу модель воспользовавшись Стохастическим градиентым спуском - SGD и Среднеквадратичной ошибкой - MSELoss"
      ]
    },
    {
      "cell_type": "code",
      "execution_count": null,
      "metadata": {
        "colab": {
          "base_uri": "https://localhost:8080/",
          "height": 686
        },
        "id": "w2M_jtXHnysF",
        "outputId": "7d2f87af-5cd1-420b-e51b-0902e0746e0d"
      },
      "outputs": [
        {
          "output_type": "stream",
          "name": "stdout",
          "text": [
            "epoch: 1 tr_loss: 0.7478373646736145 val_loss: 2.4900574684143066\n",
            "epoch: 101 tr_loss: 0.2545824646949768 val_loss: 0.8944453597068787\n",
            "epoch: 201 tr_loss: 0.167723149061203 val_loss: 0.594965398311615\n",
            "epoch: 301 tr_loss: 0.10209928452968597 val_loss: 0.3662189543247223\n",
            "epoch: 401 tr_loss: 0.05845998600125313 val_loss: 0.21341271698474884\n",
            "epoch: 501 tr_loss: 0.03204523026943207 val_loss: 0.12043821066617966\n",
            "epoch: 601 tr_loss: 0.017405156046152115 val_loss: 0.06852295249700546\n",
            "epoch: 701 tr_loss: 0.009980747476220131 val_loss: 0.04188096895813942\n",
            "epoch: 801 tr_loss: 0.006543605122715235 val_loss: 0.029299987480044365\n",
            "epoch: 901 tr_loss: 0.0050944737158715725 val_loss: 0.023812247440218925\n",
            "epoch: 1001 tr_loss: 0.0045393346808850765 val_loss: 0.021581709384918213\n",
            "epoch: 1101 tr_loss: 0.004346553701907396 val_loss: 0.020722737535834312\n",
            "epoch: 1201 tr_loss: 0.004286008886992931 val_loss: 0.020400697365403175\n"
          ]
        },
        {
          "output_type": "execute_result",
          "data": {
            "text/plain": [
              "<matplotlib.legend.Legend at 0x7ad05be24f10>"
            ]
          },
          "metadata": {},
          "execution_count": 146
        },
        {
          "output_type": "display_data",
          "data": {
            "text/plain": [
              "<Figure size 1400x400 with 2 Axes>"
            ],
            "image/png": "[encoded data removed]"
          },
          "metadata": {}
        }
      ],
      "source": [
        "model = Regression(n_dim=1)\n",
        "model, history = model.fit(epochs=10000,\n",
        "          X_train=X_train,\n",
        "          y_train=y_train,\n",
        "          X_val=X_test,\n",
        "          y_val=y_test,\n",
        "          epsilon=1e-6)\n",
        "\n",
        "pred = model(X)\n",
        "fig, axes = plt.subplots(1, 2, figsize=(14, 4))\n",
        "axes[0].scatter(X, y, label='average marks',c=X)\n",
        "axes[0].plot(X, pred.detach().numpy(), c='r', label='predict')\n",
        "axes[0].set_title(f'y = x * {model.fc.weight.item()} + {model.fc.bias.item()} + {history[\"train\"][-1]}')\n",
        "axes[0].set_ylabel('Средняя оценка')\n",
        "axes[0].set_xlabel(f'Количество долгов \\n\\nКоэффициент детерминации: {r2_score(y_test.detach().numpy(), model(X_test).detach().numpy())}')\n",
        "axes[0].legend()\n",
        "axes[1].plot(np.arange(1, len(history['train'])+1), history['train'], label='train')\n",
        "axes[1].plot(np.arange(1, len(history['val'])+1), history['val'], label='val')\n",
        "axes[1].set_xlabel('Epochs')\n",
        "axes[1].set_ylabel('Loss')\n",
        "axes[1].legend()"
      ]
    },
    {
      "cell_type": "code",
      "execution_count": null,
      "metadata": {
        "colab": {
          "base_uri": "https://localhost:8080/"
        },
        "id": "wLTHodWW4GOS",
        "outputId": "5c8a2b59-cb05-4418-add5-e0ed8aa7447b"
      },
      "outputs": [
        {
          "output_type": "stream",
          "name": "stdout",
          "text": [
            " Коэффициент наклона: -0.19232045114040375\n",
            " Коэффициент сдвига: 4.621671199798584\n",
            " Значение ошибки: 0.020296012982726097\n"
          ]
        }
      ],
      "source": [
        "print(f' Коэффициент наклона: {model.fc.weight.item()}\\n Коэффициент сдвига: {model.fc.bias.item()}\\n Значение ошибки: {history[\"val\"][-1]}')"
      ]
    },
    {
      "cell_type": "markdown",
      "metadata": {
        "id": "gMZTwlaM4pL7"
      },
      "source": [
        "## Задача 3"
      ]
    },
    {
      "cell_type": "markdown",
      "metadata": {
        "id": "kFn4x4k-4tgN"
      },
      "source": [
        "Загрузить данные: 'insurance.csv'. Вывести и провести предобработку.\n",
        "Вывести список уникальных регионов."
      ]
    },
    {
      "cell_type": "markdown",
      "metadata": {
        "id": "gs2kdKKU4voI"
      },
      "source": [
        "3.1. Выполнить однофакторный ANOVA тест, чтобы проверить влияние\n",
        "региона на индекс массы тела (BMI), используя первый способ,\n",
        "через библиотеку Scipy.\n",
        "\n",
        "3.2. Выполнить однофакторный ANOVA тест, чтобы проверить влияние\n",
        "региона на индекс массы тела (BMI), используя второй способ, с\n",
        "помощью функции anova_lm() из библиотеки statsmodels.\n",
        "\n",
        "3.3. С помощью t критерия Стьюдента перебрать все пары. Определить\n",
        "поправку Бонферрони. Сделать выводы.\n",
        "\n",
        "3.4. Выполнить пост-хок тесты Тьюки и построить график.\n",
        "\n",
        "3.5. Выполнить двухфакторный ANOVA тест, чтобы проверить влияние\n",
        "региона и пола на индекс массы тела (BMI), используя функцию\n",
        "anova_lm() из библиотеки statsmodels.\n",
        "\n",
        "3.6. Выполнить пост-хок тесты Тьюки и построить график."
      ]
    },
    {
      "cell_type": "code",
      "execution_count": null,
      "metadata": {
        "id": "9E_da71O4zRX"
      },
      "outputs": [],
      "source": [
        "insurance_df = pd.read_csv('insurance.csv')"
      ]
    },
    {
      "cell_type": "code",
      "source": [
        "insurance_df.head(5)"
      ],
      "metadata": {
        "colab": {
          "base_uri": "https://localhost:8080/",
          "height": 206
        },
        "id": "18nqWcuFi_Lz",
        "outputId": "45ca2e70-f74e-4bcf-f761-c317ef74358c"
      },
      "execution_count": null,
      "outputs": [
        {
          "output_type": "execute_result",
          "data": {
            "text/plain": [
              "   age     sex     bmi  children smoker     region      charges\n",
              "0   19  female  27.900         0    yes  southwest  16884.92400\n",
              "1   18    male  33.770         1     no  southeast   1725.55230\n",
              "2   28    male  33.000         3     no  southeast   4449.46200\n",
              "3   33    male  22.705         0     no  northwest  21984.47061\n",
              "4   32    male  28.880         0     no  northwest   3866.85520"
            ],
            "text/html": [
              "\n",
              "  <div id=\"df-f909d7ad-ee9c-4447-8c13-a9eaacb1728f\" class=\"colab-df-container\">\n",
              "    <div>\n",
              "<style scoped>\n",
              "    .dataframe tbody tr th:only-of-type {\n",
              "        vertical-align: middle;\n",
              "    }\n",
              "\n",
              "    .dataframe tbody tr th {\n",
              "        vertical-align: top;\n",
              "    }\n",
              "\n",
              "    .dataframe thead th {\n",
              "        text-align: right;\n",
              "    }\n",
              "</style>\n",
              "<table border=\"1\" class=\"dataframe\">\n",
              "  <thead>\n",
              "    <tr style=\"text-align: right;\">\n",
              "      <th></th>\n",
              "      <th>age</th>\n",
              "      <th>sex</th>\n",
              "      <th>bmi</th>\n",
              "      <th>children</th>\n",
              "      <th>smoker</th>\n",
              "      <th>region</th>\n",
              "      <th>charges</th>\n",
              "    </tr>\n",
              "  </thead>\n",
              "  <tbody>\n",
              "    <tr>\n",
              "      <th>0</th>\n",
              "      <td>19</td>\n",
              "      <td>female</td>\n",
              "      <td>27.900</td>\n",
              "      <td>0</td>\n",
              "      <td>yes</td>\n",
              "      <td>southwest</td>\n",
              "      <td>16884.92400</td>\n",
              "    </tr>\n",
              "    <tr>\n",
              "      <th>1</th>\n",
              "      <td>18</td>\n",
              "      <td>male</td>\n",
              "      <td>33.770</td>\n",
              "      <td>1</td>\n",
              "      <td>no</td>\n",
              "      <td>southeast</td>\n",
              "      <td>1725.55230</td>\n",
              "    </tr>\n",
              "    <tr>\n",
              "      <th>2</th>\n",
              "      <td>28</td>\n",
              "      <td>male</td>\n",
              "      <td>33.000</td>\n",
              "      <td>3</td>\n",
              "      <td>no</td>\n",
              "      <td>southeast</td>\n",
              "      <td>4449.46200</td>\n",
              "    </tr>\n",
              "    <tr>\n",
              "      <th>3</th>\n",
              "      <td>33</td>\n",
              "      <td>male</td>\n",
              "      <td>22.705</td>\n",
              "      <td>0</td>\n",
              "      <td>no</td>\n",
              "      <td>northwest</td>\n",
              "      <td>21984.47061</td>\n",
              "    </tr>\n",
              "    <tr>\n",
              "      <th>4</th>\n",
              "      <td>32</td>\n",
              "      <td>male</td>\n",
              "      <td>28.880</td>\n",
              "      <td>0</td>\n",
              "      <td>no</td>\n",
              "      <td>northwest</td>\n",
              "      <td>3866.85520</td>\n",
              "    </tr>\n",
              "  </tbody>\n",
              "</table>\n",
              "</div>\n",
              "    <div class=\"colab-df-buttons\">\n",
              "\n",
              "  <div class=\"colab-df-container\">\n",
              "    <button class=\"colab-df-convert\" onclick=\"convertToInteractive('df-f909d7ad-ee9c-4447-8c13-a9eaacb1728f')\"\n",
              "            title=\"Convert this dataframe to an interactive table.\"\n",
              "            style=\"display:none;\">\n",
              "\n",
              "  <svg xmlns=\"http://www.w3.org/2000/svg\" height=\"24px\" viewBox=\"0 -960 960 960\">\n",
              "    <path d=\"M120-120v-720h720v720H120Zm60-500h600v-160H180v160Zm220 220h160v-160H400v160Zm0 220h160v-160H400v160ZM180-400h160v-160H180v160Zm440 0h160v-160H620v160ZM180-180h160v-160H180v160Zm440 0h160v-160H620v160Z\"/>\n",
              "  </svg>\n",
              "    </button>\n",
              "\n",
              "  <style>\n",
              "    .colab-df-container {\n",
              "      display:flex;\n",
              "      gap: 12px;\n",
              "    }\n",
              "\n",
              "    .colab-df-convert {\n",
              "      background-color: #E8F0FE;\n",
              "      border: none;\n",
              "      border-radius: 50%;\n",
              "      cursor: pointer;\n",
              "      display: none;\n",
              "      fill: #1967D2;\n",
              "      height: 32px;\n",
              "      padding: 0 0 0 0;\n",
              "      width: 32px;\n",
              "    }\n",
              "\n",
              "    .colab-df-convert:hover {\n",
              "      background-color: #E2EBFA;\n",
              "      box-shadow: 0px 1px 2px rgba(60, 64, 67, 0.3), 0px 1px 3px 1px rgba(60, 64, 67, 0.15);\n",
              "      fill: #174EA6;\n",
              "    }\n",
              "\n",
              "    .colab-df-buttons div {\n",
              "      margin-bottom: 4px;\n",
              "    }\n",
              "\n",
              "    [theme=dark] .colab-df-convert {\n",
              "      background-color: #3B4455;\n",
              "      fill: #D2E3FC;\n",
              "    }\n",
              "\n",
              "    [theme=dark] .colab-df-convert:hover {\n",
              "      background-color: #434B5C;\n",
              "      box-shadow: 0px 1px 3px 1px rgba(0, 0, 0, 0.15);\n",
              "      filter: drop-shadow(0px 1px 2px rgba(0, 0, 0, 0.3));\n",
              "      fill: #FFFFFF;\n",
              "    }\n",
              "  </style>\n",
              "\n",
              "    <script>\n",
              "      const buttonEl =\n",
              "        document.querySelector('#df-f909d7ad-ee9c-4447-8c13-a9eaacb1728f button.colab-df-convert');\n",
              "      buttonEl.style.display =\n",
              "        google.colab.kernel.accessAllowed ? 'block' : 'none';\n",
              "\n",
              "      async function convertToInteractive(key) {\n",
              "        const element = document.querySelector('#df-f909d7ad-ee9c-4447-8c13-a9eaacb1728f');\n",
              "        const dataTable =\n",
              "          await google.colab.kernel.invokeFunction('convertToInteractive',\n",
              "                                                    [key], {});\n",
              "        if (!dataTable) return;\n",
              "\n",
              "        const docLinkHtml = 'Like what you see? Visit the ' +\n",
              "          '<a target=\"_blank\" href=https://colab.research.google.com/notebooks/data_table.ipynb>data table notebook</a>'\n",
              "          + ' to learn more about interactive tables.';\n",
              "        element.innerHTML = '';\n",
              "        dataTable['output_type'] = 'display_data';\n",
              "        await google.colab.output.renderOutput(dataTable, element);\n",
              "        const docLink = document.createElement('div');\n",
              "        docLink.innerHTML = docLinkHtml;\n",
              "        element.appendChild(docLink);\n",
              "      }\n",
              "    </script>\n",
              "  </div>\n",
              "\n",
              "\n",
              "<div id=\"df-19950a54-82fc-48a4-997f-65d03f1c934b\">\n",
              "  <button class=\"colab-df-quickchart\" onclick=\"quickchart('df-19950a54-82fc-48a4-997f-65d03f1c934b')\"\n",
              "            title=\"Suggest charts.\"\n",
              "            style=\"display:none;\">\n",
              "\n",
              "<svg xmlns=\"http://www.w3.org/2000/svg\" height=\"24px\"viewBox=\"0 0 24 24\"\n",
              "     width=\"24px\">\n",
              "    <g>\n",
              "        <path d=\"M19 3H5c-1.1 0-2 .9-2 2v14c0 1.1.9 2 2 2h14c1.1 0 2-.9 2-2V5c0-1.1-.9-2-2-2zM9 17H7v-7h2v7zm4 0h-2V7h2v10zm4 0h-2v-4h2v4z\"/>\n",
              "    </g>\n",
              "</svg>\n",
              "  </button>\n",
              "\n",
              "<style>\n",
              "  .colab-df-quickchart {\n",
              "      --bg-color: #E8F0FE;\n",
              "      --fill-color: #1967D2;\n",
              "      --hover-bg-color: #E2EBFA;\n",
              "      --hover-fill-color: #174EA6;\n",
              "      --disabled-fill-color: #AAA;\n",
              "      --disabled-bg-color: #DDD;\n",
              "  }\n",
              "\n",
              "  [theme=dark] .colab-df-quickchart {\n",
              "      --bg-color: #3B4455;\n",
              "      --fill-color: #D2E3FC;\n",
              "      --hover-bg-color: #434B5C;\n",
              "      --hover-fill-color: #FFFFFF;\n",
              "      --disabled-bg-color: #3B4455;\n",
              "      --disabled-fill-color: #666;\n",
              "  }\n",
              "\n",
              "  .colab-df-quickchart {\n",
              "    background-color: var(--bg-color);\n",
              "    border: none;\n",
              "    border-radius: 50%;\n",
              "    cursor: pointer;\n",
              "    display: none;\n",
              "    fill: var(--fill-color);\n",
              "    height: 32px;\n",
              "    padding: 0;\n",
              "    width: 32px;\n",
              "  }\n",
              "\n",
              "  .colab-df-quickchart:hover {\n",
              "    background-color: var(--hover-bg-color);\n",
              "    box-shadow: 0 1px 2px rgba(60, 64, 67, 0.3), 0 1px 3px 1px rgba(60, 64, 67, 0.15);\n",
              "    fill: var(--button-hover-fill-color);\n",
              "  }\n",
              "\n",
              "  .colab-df-quickchart-complete:disabled,\n",
              "  .colab-df-quickchart-complete:disabled:hover {\n",
              "    background-color: var(--disabled-bg-color);\n",
              "    fill: var(--disabled-fill-color);\n",
              "    box-shadow: none;\n",
              "  }\n",
              "\n",
              "  .colab-df-spinner {\n",
              "    border: 2px solid var(--fill-color);\n",
              "    border-color: transparent;\n",
              "    border-bottom-color: var(--fill-color);\n",
              "    animation:\n",
              "      spin 1s steps(1) infinite;\n",
              "  }\n",
              "\n",
              "  @keyframes spin {\n",
              "    0% {\n",
              "      border-color: transparent;\n",
              "      border-bottom-color: var(--fill-color);\n",
              "      border-left-color: var(--fill-color);\n",
              "    }\n",
              "    20% {\n",
              "      border-color: transparent;\n",
              "      border-left-color: var(--fill-color);\n",
              "      border-top-color: var(--fill-color);\n",
              "    }\n",
              "    30% {\n",
              "      border-color: transparent;\n",
              "      border-left-color: var(--fill-color);\n",
              "      border-top-color: var(--fill-color);\n",
              "      border-right-color: var(--fill-color);\n",
              "    }\n",
              "    40% {\n",
              "      border-color: transparent;\n",
              "      border-right-color: var(--fill-color);\n",
              "      border-top-color: var(--fill-color);\n",
              "    }\n",
              "    60% {\n",
              "      border-color: transparent;\n",
              "      border-right-color: var(--fill-color);\n",
              "    }\n",
              "    80% {\n",
              "      border-color: transparent;\n",
              "      border-right-color: var(--fill-color);\n",
              "      border-bottom-color: var(--fill-color);\n",
              "    }\n",
              "    90% {\n",
              "      border-color: transparent;\n",
              "      border-bottom-color: var(--fill-color);\n",
              "    }\n",
              "  }\n",
              "</style>\n",
              "\n",
              "  <script>\n",
              "    async function quickchart(key) {\n",
              "      const quickchartButtonEl =\n",
              "        document.querySelector('#' + key + ' button');\n",
              "      quickchartButtonEl.disabled = true;  // To prevent multiple clicks.\n",
              "      quickchartButtonEl.classList.add('colab-df-spinner');\n",
              "      try {\n",
              "        const charts = await google.colab.kernel.invokeFunction(\n",
              "            'suggestCharts', [key], {});\n",
              "      } catch (error) {\n",
              "        console.error('Error during call to suggestCharts:', error);\n",
              "      }\n",
              "      quickchartButtonEl.classList.remove('colab-df-spinner');\n",
              "      quickchartButtonEl.classList.add('colab-df-quickchart-complete');\n",
              "    }\n",
              "    (() => {\n",
              "      let quickchartButtonEl =\n",
              "        document.querySelector('#df-19950a54-82fc-48a4-997f-65d03f1c934b button');\n",
              "      quickchartButtonEl.style.display =\n",
              "        google.colab.kernel.accessAllowed ? 'block' : 'none';\n",
              "    })();\n",
              "  </script>\n",
              "</div>\n",
              "    </div>\n",
              "  </div>\n"
            ]
          },
          "metadata": {},
          "execution_count": 57
        }
      ]
    },
    {
      "cell_type": "markdown",
      "source": [
        "Предобработаем данные"
      ],
      "metadata": {
        "id": "gUzt_ZnHrWLg"
      }
    },
    {
      "cell_type": "code",
      "source": [
        "for i, col in enumerate(insurance_df.region):\n",
        "  if col == 'southwest':\n",
        "    insurance_df.loc[i, 'region'] = 0\n",
        "  elif col == 'southeast':\n",
        "    insurance_df.loc[i, 'region'] = 1\n",
        "  elif col == 'northwest':\n",
        "    insurance_df.loc[i, 'region'] = 2\n",
        "  else:\n",
        "    insurance_df.loc[i, 'region'] = 3\n"
      ],
      "metadata": {
        "id": "N8tP-5-2juf3"
      },
      "execution_count": null,
      "outputs": []
    },
    {
      "cell_type": "code",
      "source": [
        "for i, col in enumerate(insurance_df.sex):\n",
        "  if col == 'male':\n",
        "    insurance_df.loc[i, 'sex'] = 0\n",
        "  else:\n",
        "    insurance_df.loc[i, 'sex'] = 1"
      ],
      "metadata": {
        "id": "VnpGLrGu8bt-"
      },
      "execution_count": null,
      "outputs": []
    },
    {
      "cell_type": "code",
      "source": [
        "southwest = insurance_df.bmi[insurance_df['region'] == 0]\n",
        "southeast = insurance_df.bmi[insurance_df['region'] == 1]\n",
        "northwest = insurance_df.bmi[insurance_df['region'] == 2]\n",
        "northeast = insurance_df.bmi[insurance_df['region'] == 3]"
      ],
      "metadata": {
        "id": "ebxcNEsAo1NK"
      },
      "execution_count": null,
      "outputs": []
    },
    {
      "cell_type": "markdown",
      "source": [
        "### 3.1"
      ],
      "metadata": {
        "id": "1cwU5XWEsICL"
      }
    },
    {
      "cell_type": "markdown",
      "source": [
        "Теперь проведём однофакторный ANOVA тест, чтобы проверить влияние региона на индекс массы тела"
      ],
      "metadata": {
        "id": "gu0863JArTSr"
      }
    },
    {
      "cell_type": "code",
      "source": [
        "sts.f_oneway(southwest, southeast, northwest, northeast)"
      ],
      "metadata": {
        "colab": {
          "base_uri": "https://localhost:8080/"
        },
        "id": "1nx3tkj5jYqX",
        "outputId": "6e55b81d-951c-472c-daad-ca7e882e66e4"
      },
      "execution_count": null,
      "outputs": [
        {
          "output_type": "execute_result",
          "data": {
            "text/plain": [
              "F_onewayResult(statistic=39.49505720170283, pvalue=1.881838913929143e-24)"
            ]
          },
          "metadata": {},
          "execution_count": 138
        }
      ]
    },
    {
      "cell_type": "markdown",
      "source": [
        "Как можно видеть p-value меньше 0.05, а значит мы отвергаем нулевую гипотезу и можем сказать, что фактор региона оказывает статистически значимое влияение на индекс массы тела"
      ],
      "metadata": {
        "id": "7Sj--zIErfrT"
      }
    },
    {
      "cell_type": "markdown",
      "source": [
        "### 3.2"
      ],
      "metadata": {
        "id": "s5TdA0vrsKkg"
      }
    },
    {
      "cell_type": "code",
      "source": [
        "model = ols('bmi ~ region', data = insurance_df).fit()\n",
        "anova_result = sm.stats.anova_lm(model, typ=2)\n",
        "anova_result"
      ],
      "metadata": {
        "colab": {
          "base_uri": "https://localhost:8080/",
          "height": 112
        },
        "id": "vfqKs-0HsLuh",
        "outputId": "2a1c9193-ac3e-4752-f1e3-effa313f1a3a"
      },
      "execution_count": null,
      "outputs": [
        {
          "output_type": "execute_result",
          "data": {
            "text/plain": [
              "                sum_sq      df          F        PR(>F)\n",
              "region     4055.880631     3.0  39.495057  1.881839e-24\n",
              "Residual  45664.319755  1334.0        NaN           NaN"
            ],
            "text/html": [
              "\n",
              "  <div id=\"df-760c74cd-249c-4f18-920e-d7b6ff11b1e9\" class=\"colab-df-container\">\n",
              "    <div>\n",
              "<style scoped>\n",
              "    .dataframe tbody tr th:only-of-type {\n",
              "        vertical-align: middle;\n",
              "    }\n",
              "\n",
              "    .dataframe tbody tr th {\n",
              "        vertical-align: top;\n",
              "    }\n",
              "\n",
              "    .dataframe thead th {\n",
              "        text-align: right;\n",
              "    }\n",
              "</style>\n",
              "<table border=\"1\" class=\"dataframe\">\n",
              "  <thead>\n",
              "    <tr style=\"text-align: right;\">\n",
              "      <th></th>\n",
              "      <th>sum_sq</th>\n",
              "      <th>df</th>\n",
              "      <th>F</th>\n",
              "      <th>PR(&gt;F)</th>\n",
              "    </tr>\n",
              "  </thead>\n",
              "  <tbody>\n",
              "    <tr>\n",
              "      <th>region</th>\n",
              "      <td>4055.880631</td>\n",
              "      <td>3.0</td>\n",
              "      <td>39.495057</td>\n",
              "      <td>1.881839e-24</td>\n",
              "    </tr>\n",
              "    <tr>\n",
              "      <th>Residual</th>\n",
              "      <td>45664.319755</td>\n",
              "      <td>1334.0</td>\n",
              "      <td>NaN</td>\n",
              "      <td>NaN</td>\n",
              "    </tr>\n",
              "  </tbody>\n",
              "</table>\n",
              "</div>\n",
              "    <div class=\"colab-df-buttons\">\n",
              "\n",
              "  <div class=\"colab-df-container\">\n",
              "    <button class=\"colab-df-convert\" onclick=\"convertToInteractive('df-760c74cd-249c-4f18-920e-d7b6ff11b1e9')\"\n",
              "            title=\"Convert this dataframe to an interactive table.\"\n",
              "            style=\"display:none;\">\n",
              "\n",
              "  <svg xmlns=\"http://www.w3.org/2000/svg\" height=\"24px\" viewBox=\"0 -960 960 960\">\n",
              "    <path d=\"M120-120v-720h720v720H120Zm60-500h600v-160H180v160Zm220 220h160v-160H400v160Zm0 220h160v-160H400v160ZM180-400h160v-160H180v160Zm440 0h160v-160H620v160ZM180-180h160v-160H180v160Zm440 0h160v-160H620v160Z\"/>\n",
              "  </svg>\n",
              "    </button>\n",
              "\n",
              "  <style>\n",
              "    .colab-df-container {\n",
              "      display:flex;\n",
              "      gap: 12px;\n",
              "    }\n",
              "\n",
              "    .colab-df-convert {\n",
              "      background-color: #E8F0FE;\n",
              "      border: none;\n",
              "      border-radius: 50%;\n",
              "      cursor: pointer;\n",
              "      display: none;\n",
              "      fill: #1967D2;\n",
              "      height: 32px;\n",
              "      padding: 0 0 0 0;\n",
              "      width: 32px;\n",
              "    }\n",
              "\n",
              "    .colab-df-convert:hover {\n",
              "      background-color: #E2EBFA;\n",
              "      box-shadow: 0px 1px 2px rgba(60, 64, 67, 0.3), 0px 1px 3px 1px rgba(60, 64, 67, 0.15);\n",
              "      fill: #174EA6;\n",
              "    }\n",
              "\n",
              "    .colab-df-buttons div {\n",
              "      margin-bottom: 4px;\n",
              "    }\n",
              "\n",
              "    [theme=dark] .colab-df-convert {\n",
              "      background-color: #3B4455;\n",
              "      fill: #D2E3FC;\n",
              "    }\n",
              "\n",
              "    [theme=dark] .colab-df-convert:hover {\n",
              "      background-color: #434B5C;\n",
              "      box-shadow: 0px 1px 3px 1px rgba(0, 0, 0, 0.15);\n",
              "      filter: drop-shadow(0px 1px 2px rgba(0, 0, 0, 0.3));\n",
              "      fill: #FFFFFF;\n",
              "    }\n",
              "  </style>\n",
              "\n",
              "    <script>\n",
              "      const buttonEl =\n",
              "        document.querySelector('#df-760c74cd-249c-4f18-920e-d7b6ff11b1e9 button.colab-df-convert');\n",
              "      buttonEl.style.display =\n",
              "        google.colab.kernel.accessAllowed ? 'block' : 'none';\n",
              "\n",
              "      async function convertToInteractive(key) {\n",
              "        const element = document.querySelector('#df-760c74cd-249c-4f18-920e-d7b6ff11b1e9');\n",
              "        const dataTable =\n",
              "          await google.colab.kernel.invokeFunction('convertToInteractive',\n",
              "                                                    [key], {});\n",
              "        if (!dataTable) return;\n",
              "\n",
              "        const docLinkHtml = 'Like what you see? Visit the ' +\n",
              "          '<a target=\"_blank\" href=https://colab.research.google.com/notebooks/data_table.ipynb>data table notebook</a>'\n",
              "          + ' to learn more about interactive tables.';\n",
              "        element.innerHTML = '';\n",
              "        dataTable['output_type'] = 'display_data';\n",
              "        await google.colab.output.renderOutput(dataTable, element);\n",
              "        const docLink = document.createElement('div');\n",
              "        docLink.innerHTML = docLinkHtml;\n",
              "        element.appendChild(docLink);\n",
              "      }\n",
              "    </script>\n",
              "  </div>\n",
              "\n",
              "\n",
              "<div id=\"df-cd09f426-714f-491b-b210-7a619ee9b48a\">\n",
              "  <button class=\"colab-df-quickchart\" onclick=\"quickchart('df-cd09f426-714f-491b-b210-7a619ee9b48a')\"\n",
              "            title=\"Suggest charts.\"\n",
              "            style=\"display:none;\">\n",
              "\n",
              "<svg xmlns=\"http://www.w3.org/2000/svg\" height=\"24px\"viewBox=\"0 0 24 24\"\n",
              "     width=\"24px\">\n",
              "    <g>\n",
              "        <path d=\"M19 3H5c-1.1 0-2 .9-2 2v14c0 1.1.9 2 2 2h14c1.1 0 2-.9 2-2V5c0-1.1-.9-2-2-2zM9 17H7v-7h2v7zm4 0h-2V7h2v10zm4 0h-2v-4h2v4z\"/>\n",
              "    </g>\n",
              "</svg>\n",
              "  </button>\n",
              "\n",
              "<style>\n",
              "  .colab-df-quickchart {\n",
              "      --bg-color: #E8F0FE;\n",
              "      --fill-color: #1967D2;\n",
              "      --hover-bg-color: #E2EBFA;\n",
              "      --hover-fill-color: #174EA6;\n",
              "      --disabled-fill-color: #AAA;\n",
              "      --disabled-bg-color: #DDD;\n",
              "  }\n",
              "\n",
              "  [theme=dark] .colab-df-quickchart {\n",
              "      --bg-color: #3B4455;\n",
              "      --fill-color: #D2E3FC;\n",
              "      --hover-bg-color: #434B5C;\n",
              "      --hover-fill-color: #FFFFFF;\n",
              "      --disabled-bg-color: #3B4455;\n",
              "      --disabled-fill-color: #666;\n",
              "  }\n",
              "\n",
              "  .colab-df-quickchart {\n",
              "    background-color: var(--bg-color);\n",
              "    border: none;\n",
              "    border-radius: 50%;\n",
              "    cursor: pointer;\n",
              "    display: none;\n",
              "    fill: var(--fill-color);\n",
              "    height: 32px;\n",
              "    padding: 0;\n",
              "    width: 32px;\n",
              "  }\n",
              "\n",
              "  .colab-df-quickchart:hover {\n",
              "    background-color: var(--hover-bg-color);\n",
              "    box-shadow: 0 1px 2px rgba(60, 64, 67, 0.3), 0 1px 3px 1px rgba(60, 64, 67, 0.15);\n",
              "    fill: var(--button-hover-fill-color);\n",
              "  }\n",
              "\n",
              "  .colab-df-quickchart-complete:disabled,\n",
              "  .colab-df-quickchart-complete:disabled:hover {\n",
              "    background-color: var(--disabled-bg-color);\n",
              "    fill: var(--disabled-fill-color);\n",
              "    box-shadow: none;\n",
              "  }\n",
              "\n",
              "  .colab-df-spinner {\n",
              "    border: 2px solid var(--fill-color);\n",
              "    border-color: transparent;\n",
              "    border-bottom-color: var(--fill-color);\n",
              "    animation:\n",
              "      spin 1s steps(1) infinite;\n",
              "  }\n",
              "\n",
              "  @keyframes spin {\n",
              "    0% {\n",
              "      border-color: transparent;\n",
              "      border-bottom-color: var(--fill-color);\n",
              "      border-left-color: var(--fill-color);\n",
              "    }\n",
              "    20% {\n",
              "      border-color: transparent;\n",
              "      border-left-color: var(--fill-color);\n",
              "      border-top-color: var(--fill-color);\n",
              "    }\n",
              "    30% {\n",
              "      border-color: transparent;\n",
              "      border-left-color: var(--fill-color);\n",
              "      border-top-color: var(--fill-color);\n",
              "      border-right-color: var(--fill-color);\n",
              "    }\n",
              "    40% {\n",
              "      border-color: transparent;\n",
              "      border-right-color: var(--fill-color);\n",
              "      border-top-color: var(--fill-color);\n",
              "    }\n",
              "    60% {\n",
              "      border-color: transparent;\n",
              "      border-right-color: var(--fill-color);\n",
              "    }\n",
              "    80% {\n",
              "      border-color: transparent;\n",
              "      border-right-color: var(--fill-color);\n",
              "      border-bottom-color: var(--fill-color);\n",
              "    }\n",
              "    90% {\n",
              "      border-color: transparent;\n",
              "      border-bottom-color: var(--fill-color);\n",
              "    }\n",
              "  }\n",
              "</style>\n",
              "\n",
              "  <script>\n",
              "    async function quickchart(key) {\n",
              "      const quickchartButtonEl =\n",
              "        document.querySelector('#' + key + ' button');\n",
              "      quickchartButtonEl.disabled = true;  // To prevent multiple clicks.\n",
              "      quickchartButtonEl.classList.add('colab-df-spinner');\n",
              "      try {\n",
              "        const charts = await google.colab.kernel.invokeFunction(\n",
              "            'suggestCharts', [key], {});\n",
              "      } catch (error) {\n",
              "        console.error('Error during call to suggestCharts:', error);\n",
              "      }\n",
              "      quickchartButtonEl.classList.remove('colab-df-spinner');\n",
              "      quickchartButtonEl.classList.add('colab-df-quickchart-complete');\n",
              "    }\n",
              "    (() => {\n",
              "      let quickchartButtonEl =\n",
              "        document.querySelector('#df-cd09f426-714f-491b-b210-7a619ee9b48a button');\n",
              "      quickchartButtonEl.style.display =\n",
              "        google.colab.kernel.accessAllowed ? 'block' : 'none';\n",
              "    })();\n",
              "  </script>\n",
              "</div>\n",
              "    </div>\n",
              "  </div>\n"
            ]
          },
          "metadata": {},
          "execution_count": 139
        }
      ]
    },
    {
      "cell_type": "markdown",
      "source": [
        "В данном тесте мы также получили очень маленькое значение p-value равное 1.881839e-24"
      ],
      "metadata": {
        "id": "Hbtlmez-tib6"
      }
    },
    {
      "cell_type": "markdown",
      "source": [
        "### 3.3"
      ],
      "metadata": {
        "id": "iesiCSv5tq-l"
      }
    },
    {
      "cell_type": "code",
      "source": [
        "region_pairs = {'southwest-southeast': [southwest, southeast],\n",
        "                'southwest-northwest': [southwest, northwest],\n",
        "                'southwest-northeast': [southwest, northeast],\n",
        "                'southeast-northwest': [southeast, northwest],\n",
        "                'southeast-northeast': [southeast, northeast],\n",
        "                'northwest-northeast': [northwest, northeast]}\n",
        "\n",
        "for key in region_pairs.keys():\n",
        "  print(key)\n",
        "  print(f'{sts.ttest_ind(region_pairs[key][0], region_pairs[key][1])}\\n')"
      ],
      "metadata": {
        "colab": {
          "base_uri": "https://localhost:8080/"
        },
        "id": "9uIpZZDeu3Z8",
        "outputId": "fc17d943-91c4-4e4c-95cf-b4a78e4abb98"
      },
      "execution_count": null,
      "outputs": [
        {
          "output_type": "stream",
          "name": "stdout",
          "text": [
            "southwest-southeast\n",
            "TtestResult(statistic=-5.908373821545118, pvalue=5.4374009639680636e-09, df=687.0)\n",
            "\n",
            "southwest-northwest\n",
            "TtestResult(statistic=3.2844171500398582, pvalue=0.001076958496307695, df=648.0)\n",
            "\n",
            "southwest-northeast\n",
            "TtestResult(statistic=3.1169000930045923, pvalue=0.0019086161671573072, df=647.0)\n",
            "\n",
            "southeast-northwest\n",
            "TtestResult(statistic=9.25649013552548, pvalue=2.643571405230106e-19, df=687.0)\n",
            "\n",
            "southeast-northeast\n",
            "TtestResult(statistic=8.790905562598699, pvalue=1.186014937424813e-17, df=686.0)\n",
            "\n",
            "northwest-northeast\n",
            "TtestResult(statistic=0.060307727183293185, pvalue=0.951929170821864, df=647.0)\n",
            "\n"
          ]
        }
      ]
    },
    {
      "cell_type": "markdown",
      "source": [
        "На основе полученных результатов теста можно сказать, что фактор региона оказывает значимое влияние, кроме одного случая, когда речь идёт о регионах northwest и northeast"
      ],
      "metadata": {
        "id": "5doV2mz_0wTv"
      }
    },
    {
      "cell_type": "markdown",
      "source": [
        "### 3.4"
      ],
      "metadata": {
        "id": "ojQJUgvi1e3G"
      }
    },
    {
      "cell_type": "code",
      "source": [
        "insurance_df.region.unique()"
      ],
      "metadata": {
        "colab": {
          "base_uri": "https://localhost:8080/"
        },
        "id": "-Qymjd4b6UA0",
        "outputId": "d8dc82f3-b008-424c-c29a-0035a31a7bf8"
      },
      "execution_count": null,
      "outputs": [
        {
          "output_type": "execute_result",
          "data": {
            "text/plain": [
              "array([0, 1, 2, 3], dtype=object)"
            ]
          },
          "metadata": {},
          "execution_count": 100
        }
      ]
    },
    {
      "cell_type": "code",
      "source": [
        "tukey = pairwise_tukeyhsd(endog=insurance_df.bmi, groups=insurance_df['region'], alpha=0.05)\n",
        "tukey.plot_simultaneous()\n",
        "tukey.summary()"
      ],
      "metadata": {
        "colab": {
          "base_uri": "https://localhost:8080/",
          "height": 714
        },
        "id": "-yygRsd95TWx",
        "outputId": "2deb5da6-bd65-4702-9662-18cf7021c714"
      },
      "execution_count": null,
      "outputs": [
        {
          "output_type": "execute_result",
          "data": {
            "text/plain": [
              "<class 'statsmodels.iolib.table.SimpleTable'>"
            ],
            "text/html": [
              "<table class=\"simpletable\">\n",
              "<caption>Multiple Comparison of Means - Tukey HSD, FWER=0.05</caption>\n",
              "<tr>\n",
              "  <th>group1</th> <th>group2</th> <th>meandiff</th>  <th>p-adj</th>  <th>lower</th>   <th>upper</th>  <th>reject</th>\n",
              "</tr>\n",
              "<tr>\n",
              "     <td>0</td>      <td>1</td>    <td>2.7594</td>    <td>0.0</td>  <td>1.6108</td>  <td>3.9079</td>   <td>True</td> \n",
              "</tr>\n",
              "<tr>\n",
              "     <td>0</td>      <td>2</td>    <td>-1.3968</td> <td>0.0127</td> <td>-2.5774</td> <td>-0.2162</td>  <td>True</td> \n",
              "</tr>\n",
              "<tr>\n",
              "     <td>0</td>      <td>3</td>    <td>-1.4231</td> <td>0.0107</td> <td>-2.6046</td> <td>-0.2416</td>  <td>True</td> \n",
              "</tr>\n",
              "<tr>\n",
              "     <td>1</td>      <td>2</td>    <td>-4.1562</td>   <td>0.0</td>  <td>-5.3047</td> <td>-3.0077</td>  <td>True</td> \n",
              "</tr>\n",
              "<tr>\n",
              "     <td>1</td>      <td>3</td>    <td>-4.1825</td>   <td>0.0</td>  <td>-5.332</td>  <td>-3.033</td>   <td>True</td> \n",
              "</tr>\n",
              "<tr>\n",
              "     <td>2</td>      <td>3</td>    <td>-0.0263</td> <td>0.9999</td> <td>-1.2078</td> <td>1.1552</td>   <td>False</td>\n",
              "</tr>\n",
              "</table>"
            ],
            "text/latex": "\\begin{center}\n\\begin{tabular}{ccccccc}\n\\toprule\n\\textbf{group1} & \\textbf{group2} & \\textbf{meandiff} & \\textbf{p-adj} & \\textbf{lower} & \\textbf{upper} & \\textbf{reject}  \\\\\n\\midrule\n       0        &        1        &       2.7594      &      0.0       &     1.6108     &     3.9079     &       True       \\\\\n       0        &        2        &      -1.3968      &     0.0127     &    -2.5774     &    -0.2162     &       True       \\\\\n       0        &        3        &      -1.4231      &     0.0107     &    -2.6046     &    -0.2416     &       True       \\\\\n       1        &        2        &      -4.1562      &      0.0       &    -5.3047     &    -3.0077     &       True       \\\\\n       1        &        3        &      -4.1825      &      0.0       &     -5.332     &     -3.033     &       True       \\\\\n       2        &        3        &      -0.0263      &     0.9999     &    -1.2078     &     1.1552     &      False       \\\\\n\\bottomrule\n\\end{tabular}\n%\\caption{Multiple Comparison of Means - Tukey HSD, FWER=0.05}\n\\end{center}"
          },
          "metadata": {},
          "execution_count": 99
        },
        {
          "output_type": "display_data",
          "data": {
            "text/plain": [
              "<Figure size 1000x600 with 1 Axes>"
            ],
            "image/png": "[encoded data removed]"
          },
          "metadata": {}
        }
      ]
    },
    {
      "cell_type": "markdown",
      "source": [
        "Из результатов данного теста можно судить о том что различия между northwest и northeast не существенные"
      ],
      "metadata": {
        "id": "kUYHBrf_7Kg1"
      }
    },
    {
      "cell_type": "markdown",
      "source": [
        "### 3.5"
      ],
      "metadata": {
        "id": "2H4S0S337YMN"
      }
    },
    {
      "cell_type": "code",
      "source": [
        "model = ols('bmi ~ region + sex + region:sex', data = insurance_df).fit()\n",
        "sm.stats.anova_lm(model, typ=2)"
      ],
      "metadata": {
        "colab": {
          "base_uri": "https://localhost:8080/",
          "height": 175
        },
        "id": "nOe9HuRT7Zqh",
        "outputId": "e0d35814-ac6d-444d-b7eb-0ae9bcde4e3f"
      },
      "execution_count": null,
      "outputs": [
        {
          "output_type": "execute_result",
          "data": {
            "text/plain": [
              "                  sum_sq      df          F        PR(>F)\n",
              "region       4034.975135     3.0  39.398134  2.163195e-24\n",
              "sex            86.007035     1.0   2.519359  1.126940e-01\n",
              "region:sex    174.157808     3.0   1.700504  1.650655e-01\n",
              "Residual    45404.154911  1330.0        NaN           NaN"
            ],
            "text/html": [
              "\n",
              "  <div id=\"df-7430f880-5187-4e0a-aa64-4ecc6aa986f0\" class=\"colab-df-container\">\n",
              "    <div>\n",
              "<style scoped>\n",
              "    .dataframe tbody tr th:only-of-type {\n",
              "        vertical-align: middle;\n",
              "    }\n",
              "\n",
              "    .dataframe tbody tr th {\n",
              "        vertical-align: top;\n",
              "    }\n",
              "\n",
              "    .dataframe thead th {\n",
              "        text-align: right;\n",
              "    }\n",
              "</style>\n",
              "<table border=\"1\" class=\"dataframe\">\n",
              "  <thead>\n",
              "    <tr style=\"text-align: right;\">\n",
              "      <th></th>\n",
              "      <th>sum_sq</th>\n",
              "      <th>df</th>\n",
              "      <th>F</th>\n",
              "      <th>PR(&gt;F)</th>\n",
              "    </tr>\n",
              "  </thead>\n",
              "  <tbody>\n",
              "    <tr>\n",
              "      <th>region</th>\n",
              "      <td>4034.975135</td>\n",
              "      <td>3.0</td>\n",
              "      <td>39.398134</td>\n",
              "      <td>2.163195e-24</td>\n",
              "    </tr>\n",
              "    <tr>\n",
              "      <th>sex</th>\n",
              "      <td>86.007035</td>\n",
              "      <td>1.0</td>\n",
              "      <td>2.519359</td>\n",
              "      <td>1.126940e-01</td>\n",
              "    </tr>\n",
              "    <tr>\n",
              "      <th>region:sex</th>\n",
              "      <td>174.157808</td>\n",
              "      <td>3.0</td>\n",
              "      <td>1.700504</td>\n",
              "      <td>1.650655e-01</td>\n",
              "    </tr>\n",
              "    <tr>\n",
              "      <th>Residual</th>\n",
              "      <td>45404.154911</td>\n",
              "      <td>1330.0</td>\n",
              "      <td>NaN</td>\n",
              "      <td>NaN</td>\n",
              "    </tr>\n",
              "  </tbody>\n",
              "</table>\n",
              "</div>\n",
              "    <div class=\"colab-df-buttons\">\n",
              "\n",
              "  <div class=\"colab-df-container\">\n",
              "    <button class=\"colab-df-convert\" onclick=\"convertToInteractive('df-7430f880-5187-4e0a-aa64-4ecc6aa986f0')\"\n",
              "            title=\"Convert this dataframe to an interactive table.\"\n",
              "            style=\"display:none;\">\n",
              "\n",
              "  <svg xmlns=\"http://www.w3.org/2000/svg\" height=\"24px\" viewBox=\"0 -960 960 960\">\n",
              "    <path d=\"M120-120v-720h720v720H120Zm60-500h600v-160H180v160Zm220 220h160v-160H400v160Zm0 220h160v-160H400v160ZM180-400h160v-160H180v160Zm440 0h160v-160H620v160ZM180-180h160v-160H180v160Zm440 0h160v-160H620v160Z\"/>\n",
              "  </svg>\n",
              "    </button>\n",
              "\n",
              "  <style>\n",
              "    .colab-df-container {\n",
              "      display:flex;\n",
              "      gap: 12px;\n",
              "    }\n",
              "\n",
              "    .colab-df-convert {\n",
              "      background-color: #E8F0FE;\n",
              "      border: none;\n",
              "      border-radius: 50%;\n",
              "      cursor: pointer;\n",
              "      display: none;\n",
              "      fill: #1967D2;\n",
              "      height: 32px;\n",
              "      padding: 0 0 0 0;\n",
              "      width: 32px;\n",
              "    }\n",
              "\n",
              "    .colab-df-convert:hover {\n",
              "      background-color: #E2EBFA;\n",
              "      box-shadow: 0px 1px 2px rgba(60, 64, 67, 0.3), 0px 1px 3px 1px rgba(60, 64, 67, 0.15);\n",
              "      fill: #174EA6;\n",
              "    }\n",
              "\n",
              "    .colab-df-buttons div {\n",
              "      margin-bottom: 4px;\n",
              "    }\n",
              "\n",
              "    [theme=dark] .colab-df-convert {\n",
              "      background-color: #3B4455;\n",
              "      fill: #D2E3FC;\n",
              "    }\n",
              "\n",
              "    [theme=dark] .colab-df-convert:hover {\n",
              "      background-color: #434B5C;\n",
              "      box-shadow: 0px 1px 3px 1px rgba(0, 0, 0, 0.15);\n",
              "      filter: drop-shadow(0px 1px 2px rgba(0, 0, 0, 0.3));\n",
              "      fill: #FFFFFF;\n",
              "    }\n",
              "  </style>\n",
              "\n",
              "    <script>\n",
              "      const buttonEl =\n",
              "        document.querySelector('#df-7430f880-5187-4e0a-aa64-4ecc6aa986f0 button.colab-df-convert');\n",
              "      buttonEl.style.display =\n",
              "        google.colab.kernel.accessAllowed ? 'block' : 'none';\n",
              "\n",
              "      async function convertToInteractive(key) {\n",
              "        const element = document.querySelector('#df-7430f880-5187-4e0a-aa64-4ecc6aa986f0');\n",
              "        const dataTable =\n",
              "          await google.colab.kernel.invokeFunction('convertToInteractive',\n",
              "                                                    [key], {});\n",
              "        if (!dataTable) return;\n",
              "\n",
              "        const docLinkHtml = 'Like what you see? Visit the ' +\n",
              "          '<a target=\"_blank\" href=https://colab.research.google.com/notebooks/data_table.ipynb>data table notebook</a>'\n",
              "          + ' to learn more about interactive tables.';\n",
              "        element.innerHTML = '';\n",
              "        dataTable['output_type'] = 'display_data';\n",
              "        await google.colab.output.renderOutput(dataTable, element);\n",
              "        const docLink = document.createElement('div');\n",
              "        docLink.innerHTML = docLinkHtml;\n",
              "        element.appendChild(docLink);\n",
              "      }\n",
              "    </script>\n",
              "  </div>\n",
              "\n",
              "\n",
              "<div id=\"df-754faae7-e905-4936-844d-df876cfc9db8\">\n",
              "  <button class=\"colab-df-quickchart\" onclick=\"quickchart('df-754faae7-e905-4936-844d-df876cfc9db8')\"\n",
              "            title=\"Suggest charts.\"\n",
              "            style=\"display:none;\">\n",
              "\n",
              "<svg xmlns=\"http://www.w3.org/2000/svg\" height=\"24px\"viewBox=\"0 0 24 24\"\n",
              "     width=\"24px\">\n",
              "    <g>\n",
              "        <path d=\"M19 3H5c-1.1 0-2 .9-2 2v14c0 1.1.9 2 2 2h14c1.1 0 2-.9 2-2V5c0-1.1-.9-2-2-2zM9 17H7v-7h2v7zm4 0h-2V7h2v10zm4 0h-2v-4h2v4z\"/>\n",
              "    </g>\n",
              "</svg>\n",
              "  </button>\n",
              "\n",
              "<style>\n",
              "  .colab-df-quickchart {\n",
              "      --bg-color: #E8F0FE;\n",
              "      --fill-color: #1967D2;\n",
              "      --hover-bg-color: #E2EBFA;\n",
              "      --hover-fill-color: #174EA6;\n",
              "      --disabled-fill-color: #AAA;\n",
              "      --disabled-bg-color: #DDD;\n",
              "  }\n",
              "\n",
              "  [theme=dark] .colab-df-quickchart {\n",
              "      --bg-color: #3B4455;\n",
              "      --fill-color: #D2E3FC;\n",
              "      --hover-bg-color: #434B5C;\n",
              "      --hover-fill-color: #FFFFFF;\n",
              "      --disabled-bg-color: #3B4455;\n",
              "      --disabled-fill-color: #666;\n",
              "  }\n",
              "\n",
              "  .colab-df-quickchart {\n",
              "    background-color: var(--bg-color);\n",
              "    border: none;\n",
              "    border-radius: 50%;\n",
              "    cursor: pointer;\n",
              "    display: none;\n",
              "    fill: var(--fill-color);\n",
              "    height: 32px;\n",
              "    padding: 0;\n",
              "    width: 32px;\n",
              "  }\n",
              "\n",
              "  .colab-df-quickchart:hover {\n",
              "    background-color: var(--hover-bg-color);\n",
              "    box-shadow: 0 1px 2px rgba(60, 64, 67, 0.3), 0 1px 3px 1px rgba(60, 64, 67, 0.15);\n",
              "    fill: var(--button-hover-fill-color);\n",
              "  }\n",
              "\n",
              "  .colab-df-quickchart-complete:disabled,\n",
              "  .colab-df-quickchart-complete:disabled:hover {\n",
              "    background-color: var(--disabled-bg-color);\n",
              "    fill: var(--disabled-fill-color);\n",
              "    box-shadow: none;\n",
              "  }\n",
              "\n",
              "  .colab-df-spinner {\n",
              "    border: 2px solid var(--fill-color);\n",
              "    border-color: transparent;\n",
              "    border-bottom-color: var(--fill-color);\n",
              "    animation:\n",
              "      spin 1s steps(1) infinite;\n",
              "  }\n",
              "\n",
              "  @keyframes spin {\n",
              "    0% {\n",
              "      border-color: transparent;\n",
              "      border-bottom-color: var(--fill-color);\n",
              "      border-left-color: var(--fill-color);\n",
              "    }\n",
              "    20% {\n",
              "      border-color: transparent;\n",
              "      border-left-color: var(--fill-color);\n",
              "      border-top-color: var(--fill-color);\n",
              "    }\n",
              "    30% {\n",
              "      border-color: transparent;\n",
              "      border-left-color: var(--fill-color);\n",
              "      border-top-color: var(--fill-color);\n",
              "      border-right-color: var(--fill-color);\n",
              "    }\n",
              "    40% {\n",
              "      border-color: transparent;\n",
              "      border-right-color: var(--fill-color);\n",
              "      border-top-color: var(--fill-color);\n",
              "    }\n",
              "    60% {\n",
              "      border-color: transparent;\n",
              "      border-right-color: var(--fill-color);\n",
              "    }\n",
              "    80% {\n",
              "      border-color: transparent;\n",
              "      border-right-color: var(--fill-color);\n",
              "      border-bottom-color: var(--fill-color);\n",
              "    }\n",
              "    90% {\n",
              "      border-color: transparent;\n",
              "      border-bottom-color: var(--fill-color);\n",
              "    }\n",
              "  }\n",
              "</style>\n",
              "\n",
              "  <script>\n",
              "    async function quickchart(key) {\n",
              "      const quickchartButtonEl =\n",
              "        document.querySelector('#' + key + ' button');\n",
              "      quickchartButtonEl.disabled = true;  // To prevent multiple clicks.\n",
              "      quickchartButtonEl.classList.add('colab-df-spinner');\n",
              "      try {\n",
              "        const charts = await google.colab.kernel.invokeFunction(\n",
              "            'suggestCharts', [key], {});\n",
              "      } catch (error) {\n",
              "        console.error('Error during call to suggestCharts:', error);\n",
              "      }\n",
              "      quickchartButtonEl.classList.remove('colab-df-spinner');\n",
              "      quickchartButtonEl.classList.add('colab-df-quickchart-complete');\n",
              "    }\n",
              "    (() => {\n",
              "      let quickchartButtonEl =\n",
              "        document.querySelector('#df-754faae7-e905-4936-844d-df876cfc9db8 button');\n",
              "      quickchartButtonEl.style.display =\n",
              "        google.colab.kernel.accessAllowed ? 'block' : 'none';\n",
              "    })();\n",
              "  </script>\n",
              "</div>\n",
              "    </div>\n",
              "  </div>\n"
            ]
          },
          "metadata": {},
          "execution_count": 107
        }
      ]
    },
    {
      "cell_type": "markdown",
      "source": [
        "В данном случае p-value для региона и пола составило 1.650655e-01, что больше 0.05, что говорит нам об отсутствии значительного эффекта взаимодействия между полом и регионом"
      ],
      "metadata": {
        "id": "49UACqZd9czE"
      }
    },
    {
      "cell_type": "markdown",
      "source": [
        "### 3.6"
      ],
      "metadata": {
        "id": "1HRhdgCw9-Gn"
      }
    },
    {
      "cell_type": "code",
      "source": [
        "insurance_df = pd.read_csv('insurance.csv')"
      ],
      "metadata": {
        "id": "CkxbtpikALdu"
      },
      "execution_count": null,
      "outputs": []
    },
    {
      "cell_type": "code",
      "source": [
        "insurance_df['combination'] = insurance_df.region + \" / \" + insurance_df.sex"
      ],
      "metadata": {
        "id": "R1G_vpUv9_I-"
      },
      "execution_count": null,
      "outputs": []
    },
    {
      "cell_type": "code",
      "source": [
        "tukey = pairwise_tukeyhsd(endog=insurance_df.bmi, groups=insurance_df['combination'], alpha=0.05)\n",
        "tukey.plot_simultaneous()\n",
        "tukey.summary()"
      ],
      "metadata": {
        "colab": {
          "base_uri": "https://localhost:8080/",
          "height": 1000
        },
        "id": "hfF2qX6IAROq",
        "outputId": "1a467f59-7158-4f11-da4e-aafa3800d8b6"
      },
      "execution_count": null,
      "outputs": [
        {
          "output_type": "execute_result",
          "data": {
            "text/plain": [
              "<class 'statsmodels.iolib.table.SimpleTable'>"
            ],
            "text/html": [
              "<table class=\"simpletable\">\n",
              "<caption>Multiple Comparison of Means - Tukey HSD, FWER=0.05</caption>\n",
              "<tr>\n",
              "        <th>group1</th>             <th>group2</th>       <th>meandiff</th>  <th>p-adj</th>  <th>lower</th>   <th>upper</th>  <th>reject</th>\n",
              "</tr>\n",
              "<tr>\n",
              "  <td>northeast / female</td>  <td>northeast / male</td>   <td>-0.2998</td> <td>0.9998</td> <td>-2.2706</td> <td>1.6711</td>   <td>False</td>\n",
              "</tr>\n",
              "<tr>\n",
              "  <td>northeast / female</td> <td>northwest / female</td>  <td>-0.0464</td>   <td>1.0</td>  <td>-2.0142</td> <td>1.9215</td>   <td>False</td>\n",
              "</tr>\n",
              "<tr>\n",
              "  <td>northeast / female</td>  <td>northwest / male</td>   <td>-0.2042</td>   <td>1.0</td>  <td>-2.1811</td> <td>1.7728</td>   <td>False</td>\n",
              "</tr>\n",
              "<tr>\n",
              "  <td>northeast / female</td> <td>southeast / female</td>  <td>3.3469</td>    <td>0.0</td>   <td>1.41</td>   <td>5.2839</td>   <td>True</td> \n",
              "</tr>\n",
              "<tr>\n",
              "  <td>northeast / female</td>  <td>southeast / male</td>   <td>4.6657</td>    <td>0.0</td>  <td>2.7634</td>   <td>6.568</td>   <td>True</td> \n",
              "</tr>\n",
              "<tr>\n",
              "  <td>northeast / female</td> <td>southwest / female</td>  <td>0.7362</td>  <td>0.9497</td> <td>-1.2377</td>  <td>2.71</td>    <td>False</td>\n",
              "</tr>\n",
              "<tr>\n",
              "  <td>northeast / female</td>  <td>southwest / male</td>   <td>1.8051</td>  <td>0.1007</td> <td>-0.1657</td>  <td>3.776</td>   <td>False</td>\n",
              "</tr>\n",
              "<tr>\n",
              "   <td>northeast / male</td>  <td>northwest / female</td>  <td>0.2534</td>  <td>0.9999</td> <td>-1.7083</td> <td>2.2152</td>   <td>False</td>\n",
              "</tr>\n",
              "<tr>\n",
              "   <td>northeast / male</td>   <td>northwest / male</td>   <td>0.0956</td>    <td>1.0</td>  <td>-1.8752</td> <td>2.0665</td>   <td>False</td>\n",
              "</tr>\n",
              "<tr>\n",
              "   <td>northeast / male</td>  <td>southeast / female</td>  <td>3.6467</td>    <td>0.0</td>  <td>1.7159</td>  <td>5.5775</td>   <td>True</td> \n",
              "</tr>\n",
              "<tr>\n",
              "   <td>northeast / male</td>   <td>southeast / male</td>   <td>4.9655</td>    <td>0.0</td>  <td>3.0695</td>  <td>6.8614</td>   <td>True</td> \n",
              "</tr>\n",
              "<tr>\n",
              "   <td>northeast / male</td>  <td>southwest / female</td>   <td>1.036</td>  <td>0.7515</td> <td>-0.9318</td> <td>3.0037</td>   <td>False</td>\n",
              "</tr>\n",
              "<tr>\n",
              "   <td>northeast / male</td>   <td>southwest / male</td>   <td>2.1049</td>  <td>0.0258</td> <td>0.1402</td>  <td>4.0697</td>   <td>True</td> \n",
              "</tr>\n",
              "<tr>\n",
              "  <td>northwest / female</td>  <td>northwest / male</td>   <td>-0.1578</td>   <td>1.0</td>  <td>-2.1257</td>  <td>1.81</td>    <td>False</td>\n",
              "</tr>\n",
              "<tr>\n",
              "  <td>northwest / female</td> <td>southeast / female</td>  <td>3.3933</td>    <td>0.0</td>  <td>1.4656</td>   <td>5.321</td>   <td>True</td> \n",
              "</tr>\n",
              "<tr>\n",
              "  <td>northwest / female</td>  <td>southeast / male</td>    <td>4.712</td>    <td>0.0</td>  <td>2.8192</td>  <td>6.6049</td>   <td>True</td> \n",
              "</tr>\n",
              "<tr>\n",
              "  <td>northwest / female</td> <td>southwest / female</td>  <td>0.7825</td>  <td>0.9294</td> <td>-1.1822</td> <td>2.7473</td>   <td>False</td>\n",
              "</tr>\n",
              "<tr>\n",
              "  <td>northwest / female</td>  <td>southwest / male</td>   <td>1.8515</td>  <td>0.0806</td> <td>-0.1103</td> <td>3.8132</td>   <td>False</td>\n",
              "</tr>\n",
              "<tr>\n",
              "   <td>northwest / male</td>  <td>southeast / female</td>  <td>3.5511</td>    <td>0.0</td>  <td>1.6141</td>  <td>5.4881</td>   <td>True</td> \n",
              "</tr>\n",
              "<tr>\n",
              "   <td>northwest / male</td>   <td>southeast / male</td>   <td>4.8698</td>    <td>0.0</td>  <td>2.9676</td>  <td>6.7721</td>   <td>True</td> \n",
              "</tr>\n",
              "<tr>\n",
              "   <td>northwest / male</td>  <td>southwest / female</td>  <td>0.9403</td>  <td>0.8354</td> <td>-1.0335</td> <td>2.9142</td>   <td>False</td>\n",
              "</tr>\n",
              "<tr>\n",
              "   <td>northwest / male</td>   <td>southwest / male</td>   <td>2.0093</td>   <td>0.042</td> <td>0.0385</td>  <td>3.9801</td>   <td>True</td> \n",
              "</tr>\n",
              "<tr>\n",
              "  <td>southeast / female</td>  <td>southeast / male</td>   <td>1.3187</td>  <td>0.3823</td> <td>-0.542</td>  <td>3.1795</td>   <td>False</td>\n",
              "</tr>\n",
              "<tr>\n",
              "  <td>southeast / female</td> <td>southwest / female</td>  <td>-2.6108</td> <td>0.0011</td> <td>-4.5446</td> <td>-0.6769</td>  <td>True</td> \n",
              "</tr>\n",
              "<tr>\n",
              "  <td>southeast / female</td>  <td>southwest / male</td>   <td>-1.5418</td> <td>0.2304</td> <td>-3.4726</td>  <td>0.389</td>   <td>False</td>\n",
              "</tr>\n",
              "<tr>\n",
              "   <td>southeast / male</td>  <td>southwest / female</td>  <td>-3.9295</td>   <td>0.0</td>  <td>-5.8286</td> <td>-2.0304</td>  <td>True</td> \n",
              "</tr>\n",
              "<tr>\n",
              "   <td>southeast / male</td>   <td>southwest / male</td>   <td>-2.8606</td> <td>0.0001</td> <td>-4.7565</td> <td>-0.9646</td>  <td>True</td> \n",
              "</tr>\n",
              "<tr>\n",
              "  <td>southwest / female</td>  <td>southwest / male</td>    <td>1.069</td>  <td>0.7201</td> <td>-0.8988</td> <td>3.0367</td>   <td>False</td>\n",
              "</tr>\n",
              "</table>"
            ],
            "text/latex": "\\begin{center}\n\\begin{tabular}{ccccccc}\n\\toprule\n \\textbf{group1}   &  \\textbf{group2}   & \\textbf{meandiff} & \\textbf{p-adj} & \\textbf{lower} & \\textbf{upper} & \\textbf{reject}  \\\\\n\\midrule\nnortheast / female &  northeast / male  &      -0.2998      &     0.9998     &    -2.2706     &     1.6711     &      False       \\\\\nnortheast / female & northwest / female &      -0.0464      &      1.0       &    -2.0142     &     1.9215     &      False       \\\\\nnortheast / female &  northwest / male  &      -0.2042      &      1.0       &    -2.1811     &     1.7728     &      False       \\\\\nnortheast / female & southeast / female &       3.3469      &      0.0       &      1.41      &     5.2839     &       True       \\\\\nnortheast / female &  southeast / male  &       4.6657      &      0.0       &     2.7634     &     6.568      &       True       \\\\\nnortheast / female & southwest / female &       0.7362      &     0.9497     &    -1.2377     &      2.71      &      False       \\\\\nnortheast / female &  southwest / male  &       1.8051      &     0.1007     &    -0.1657     &     3.776      &      False       \\\\\n northeast / male  & northwest / female &       0.2534      &     0.9999     &    -1.7083     &     2.2152     &      False       \\\\\n northeast / male  &  northwest / male  &       0.0956      &      1.0       &    -1.8752     &     2.0665     &      False       \\\\\n northeast / male  & southeast / female &       3.6467      &      0.0       &     1.7159     &     5.5775     &       True       \\\\\n northeast / male  &  southeast / male  &       4.9655      &      0.0       &     3.0695     &     6.8614     &       True       \\\\\n northeast / male  & southwest / female &       1.036       &     0.7515     &    -0.9318     &     3.0037     &      False       \\\\\n northeast / male  &  southwest / male  &       2.1049      &     0.0258     &     0.1402     &     4.0697     &       True       \\\\\nnorthwest / female &  northwest / male  &      -0.1578      &      1.0       &    -2.1257     &      1.81      &      False       \\\\\nnorthwest / female & southeast / female &       3.3933      &      0.0       &     1.4656     &     5.321      &       True       \\\\\nnorthwest / female &  southeast / male  &       4.712       &      0.0       &     2.8192     &     6.6049     &       True       \\\\\nnorthwest / female & southwest / female &       0.7825      &     0.9294     &    -1.1822     &     2.7473     &      False       \\\\\nnorthwest / female &  southwest / male  &       1.8515      &     0.0806     &    -0.1103     &     3.8132     &      False       \\\\\n northwest / male  & southeast / female &       3.5511      &      0.0       &     1.6141     &     5.4881     &       True       \\\\\n northwest / male  &  southeast / male  &       4.8698      &      0.0       &     2.9676     &     6.7721     &       True       \\\\\n northwest / male  & southwest / female &       0.9403      &     0.8354     &    -1.0335     &     2.9142     &      False       \\\\\n northwest / male  &  southwest / male  &       2.0093      &     0.042      &     0.0385     &     3.9801     &       True       \\\\\nsoutheast / female &  southeast / male  &       1.3187      &     0.3823     &     -0.542     &     3.1795     &      False       \\\\\nsoutheast / female & southwest / female &      -2.6108      &     0.0011     &    -4.5446     &    -0.6769     &       True       \\\\\nsoutheast / female &  southwest / male  &      -1.5418      &     0.2304     &    -3.4726     &     0.389      &      False       \\\\\n southeast / male  & southwest / female &      -3.9295      &      0.0       &    -5.8286     &    -2.0304     &       True       \\\\\n southeast / male  &  southwest / male  &      -2.8606      &     0.0001     &    -4.7565     &    -0.9646     &       True       \\\\\nsouthwest / female &  southwest / male  &       1.069       &     0.7201     &    -0.8988     &     3.0367     &      False       \\\\\n\\bottomrule\n\\end{tabular}\n%\\caption{Multiple Comparison of Means - Tukey HSD, FWER=0.05}\n\\end{center}"
          },
          "metadata": {},
          "execution_count": 114
        },
        {
          "output_type": "display_data",
          "data": {
            "text/plain": [
              "<Figure size 1000x600 with 1 Axes>"
            ],
            "image/png": "[encoded data removed]"
          },
          "metadata": {}
        }
      ]
    },
    {
      "cell_type": "markdown",
      "source": [
        "Результаты данного теста показывают отстуствие существенной разницы между мужщинами и женщинами регионов northwest и northeast, а также имеющуюся разницу между женщинами и мужчинами из регионов southwest и southeast"
      ],
      "metadata": {
        "id": "16SrwpSeJD49"
      }
    }
  ],
  "metadata": {
    "colab": {
      "provenance": [],
      "authorship_tag": "ABX9TyPnJCT6LUfbVKpI635z9+An",
      "include_colab_link": true
    },
    "kernelspec": {
      "display_name": "Python 3",
      "name": "python3"
    },
    "language_info": {
      "name": "python"
    }
  },
  "nbformat": 4,
  "nbformat_minor": 0
}