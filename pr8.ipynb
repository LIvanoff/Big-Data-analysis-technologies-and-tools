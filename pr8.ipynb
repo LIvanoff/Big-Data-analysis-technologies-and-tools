{
  "nbformat": 4,
  "nbformat_minor": 0,
  "metadata": {
    "colab": {
      "provenance": [],
      "toc_visible": true,
      "authorship_tag": "ABX9TyPDdS25azM0IHUbsQgAOqHx",
      "include_colab_link": true
    },
    "kernelspec": {
      "name": "python3",
      "display_name": "Python 3"
    },
    "language_info": {
      "name": "python"
    }
  },
  "cells": [
    {
      "cell_type": "markdown",
      "metadata": {
        "id": "view-in-github",
        "colab_type": "text"
      },
      "source": [
        "<a href=\"https://colab.research.google.com/github/LIvanoff/Big-Data-analysis-technologies-and-tools/blob/main/pr8.ipynb\" target=\"_parent\"><img src=\"https://colab.research.google.com/assets/colab-badge.svg\" alt=\"Open In Colab\"/></a>"
      ]
    },
    {
      "cell_type": "code",
      "execution_count": null,
      "metadata": {
        "id": "SMThS3VfEnlw"
      },
      "outputs": [],
      "source": [
        "import pandas as pd\n",
        "import time\n",
        "import matplotlib.pyplot as plt"
      ]
    },
    {
      "cell_type": "markdown",
      "source": [
        "## Задача 1-2"
      ],
      "metadata": {
        "id": "7G9-hz2mExPO"
      }
    },
    {
      "cell_type": "markdown",
      "source": [
        "1. Загрузить данные Market_Basket_Optimisation.csv.\n",
        "2. Визуализировать данные (отразить на гистограммах относительную и\n",
        "фактическую частоту встречаемости для 20 наиболее популярных\n",
        "товаров).\n"
      ],
      "metadata": {
        "id": "4O0aLuT9EzPJ"
      }
    },
    {
      "cell_type": "code",
      "source": [
        "df = pd.read_csv('Market_Basket_Optimisation.csv')\n",
        "df.head(5)"
      ],
      "metadata": {
        "colab": {
          "base_uri": "https://localhost:8080/",
          "height": 276
        },
        "id": "KAht5tvWE2uo",
        "outputId": "078f8f34-0e0d-4613-a628-1b23a0afccb6"
      },
      "execution_count": null,
      "outputs": [
        {
          "output_type": "execute_result",
          "data": {
            "text/plain": [
              "           shrimp    almonds     avocado    vegetables mix green grapes  \\\n",
              "0         burgers  meatballs        eggs               NaN          NaN   \n",
              "1         chutney        NaN         NaN               NaN          NaN   \n",
              "2          turkey    avocado         NaN               NaN          NaN   \n",
              "3   mineral water       milk  energy bar  whole wheat rice    green tea   \n",
              "4  low fat yogurt        NaN         NaN               NaN          NaN   \n",
              "\n",
              "  whole weat flour yams cottage cheese energy drink tomato juice  \\\n",
              "0              NaN  NaN            NaN          NaN          NaN   \n",
              "1              NaN  NaN            NaN          NaN          NaN   \n",
              "2              NaN  NaN            NaN          NaN          NaN   \n",
              "3              NaN  NaN            NaN          NaN          NaN   \n",
              "4              NaN  NaN            NaN          NaN          NaN   \n",
              "\n",
              "  low fat yogurt green tea honey salad mineral water salmon antioxydant juice  \\\n",
              "0            NaN       NaN   NaN   NaN           NaN    NaN               NaN   \n",
              "1            NaN       NaN   NaN   NaN           NaN    NaN               NaN   \n",
              "2            NaN       NaN   NaN   NaN           NaN    NaN               NaN   \n",
              "3            NaN       NaN   NaN   NaN           NaN    NaN               NaN   \n",
              "4            NaN       NaN   NaN   NaN           NaN    NaN               NaN   \n",
              "\n",
              "  frozen smoothie spinach  olive oil  \n",
              "0             NaN     NaN        NaN  \n",
              "1             NaN     NaN        NaN  \n",
              "2             NaN     NaN        NaN  \n",
              "3             NaN     NaN        NaN  \n",
              "4             NaN     NaN        NaN  "
            ],
            "text/html": [
              "\n",
              "  <div id=\"df-d152afaa-701e-494f-b50a-a8c379cc123c\" class=\"colab-df-container\">\n",
              "    <div>\n",
              "<style scoped>\n",
              "    .dataframe tbody tr th:only-of-type {\n",
              "        vertical-align: middle;\n",
              "    }\n",
              "\n",
              "    .dataframe tbody tr th {\n",
              "        vertical-align: top;\n",
              "    }\n",
              "\n",
              "    .dataframe thead th {\n",
              "        text-align: right;\n",
              "    }\n",
              "</style>\n",
              "<table border=\"1\" class=\"dataframe\">\n",
              "  <thead>\n",
              "    <tr style=\"text-align: right;\">\n",
              "      <th></th>\n",
              "      <th>shrimp</th>\n",
              "      <th>almonds</th>\n",
              "      <th>avocado</th>\n",
              "      <th>vegetables mix</th>\n",
              "      <th>green grapes</th>\n",
              "      <th>whole weat flour</th>\n",
              "      <th>yams</th>\n",
              "      <th>cottage cheese</th>\n",
              "      <th>energy drink</th>\n",
              "      <th>tomato juice</th>\n",
              "      <th>low fat yogurt</th>\n",
              "      <th>green tea</th>\n",
              "      <th>honey</th>\n",
              "      <th>salad</th>\n",
              "      <th>mineral water</th>\n",
              "      <th>salmon</th>\n",
              "      <th>antioxydant juice</th>\n",
              "      <th>frozen smoothie</th>\n",
              "      <th>spinach</th>\n",
              "      <th>olive oil</th>\n",
              "    </tr>\n",
              "  </thead>\n",
              "  <tbody>\n",
              "    <tr>\n",
              "      <th>0</th>\n",
              "      <td>burgers</td>\n",
              "      <td>meatballs</td>\n",
              "      <td>eggs</td>\n",
              "      <td>NaN</td>\n",
              "      <td>NaN</td>\n",
              "      <td>NaN</td>\n",
              "      <td>NaN</td>\n",
              "      <td>NaN</td>\n",
              "      <td>NaN</td>\n",
              "      <td>NaN</td>\n",
              "      <td>NaN</td>\n",
              "      <td>NaN</td>\n",
              "      <td>NaN</td>\n",
              "      <td>NaN</td>\n",
              "      <td>NaN</td>\n",
              "      <td>NaN</td>\n",
              "      <td>NaN</td>\n",
              "      <td>NaN</td>\n",
              "      <td>NaN</td>\n",
              "      <td>NaN</td>\n",
              "    </tr>\n",
              "    <tr>\n",
              "      <th>1</th>\n",
              "      <td>chutney</td>\n",
              "      <td>NaN</td>\n",
              "      <td>NaN</td>\n",
              "      <td>NaN</td>\n",
              "      <td>NaN</td>\n",
              "      <td>NaN</td>\n",
              "      <td>NaN</td>\n",
              "      <td>NaN</td>\n",
              "      <td>NaN</td>\n",
              "      <td>NaN</td>\n",
              "      <td>NaN</td>\n",
              "      <td>NaN</td>\n",
              "      <td>NaN</td>\n",
              "      <td>NaN</td>\n",
              "      <td>NaN</td>\n",
              "      <td>NaN</td>\n",
              "      <td>NaN</td>\n",
              "      <td>NaN</td>\n",
              "      <td>NaN</td>\n",
              "      <td>NaN</td>\n",
              "    </tr>\n",
              "    <tr>\n",
              "      <th>2</th>\n",
              "      <td>turkey</td>\n",
              "      <td>avocado</td>\n",
              "      <td>NaN</td>\n",
              "      <td>NaN</td>\n",
              "      <td>NaN</td>\n",
              "      <td>NaN</td>\n",
              "      <td>NaN</td>\n",
              "      <td>NaN</td>\n",
              "      <td>NaN</td>\n",
              "      <td>NaN</td>\n",
              "      <td>NaN</td>\n",
              "      <td>NaN</td>\n",
              "      <td>NaN</td>\n",
              "      <td>NaN</td>\n",
              "      <td>NaN</td>\n",
              "      <td>NaN</td>\n",
              "      <td>NaN</td>\n",
              "      <td>NaN</td>\n",
              "      <td>NaN</td>\n",
              "      <td>NaN</td>\n",
              "    </tr>\n",
              "    <tr>\n",
              "      <th>3</th>\n",
              "      <td>mineral water</td>\n",
              "      <td>milk</td>\n",
              "      <td>energy bar</td>\n",
              "      <td>whole wheat rice</td>\n",
              "      <td>green tea</td>\n",
              "      <td>NaN</td>\n",
              "      <td>NaN</td>\n",
              "      <td>NaN</td>\n",
              "      <td>NaN</td>\n",
              "      <td>NaN</td>\n",
              "      <td>NaN</td>\n",
              "      <td>NaN</td>\n",
              "      <td>NaN</td>\n",
              "      <td>NaN</td>\n",
              "      <td>NaN</td>\n",
              "      <td>NaN</td>\n",
              "      <td>NaN</td>\n",
              "      <td>NaN</td>\n",
              "      <td>NaN</td>\n",
              "      <td>NaN</td>\n",
              "    </tr>\n",
              "    <tr>\n",
              "      <th>4</th>\n",
              "      <td>low fat yogurt</td>\n",
              "      <td>NaN</td>\n",
              "      <td>NaN</td>\n",
              "      <td>NaN</td>\n",
              "      <td>NaN</td>\n",
              "      <td>NaN</td>\n",
              "      <td>NaN</td>\n",
              "      <td>NaN</td>\n",
              "      <td>NaN</td>\n",
              "      <td>NaN</td>\n",
              "      <td>NaN</td>\n",
              "      <td>NaN</td>\n",
              "      <td>NaN</td>\n",
              "      <td>NaN</td>\n",
              "      <td>NaN</td>\n",
              "      <td>NaN</td>\n",
              "      <td>NaN</td>\n",
              "      <td>NaN</td>\n",
              "      <td>NaN</td>\n",
              "      <td>NaN</td>\n",
              "    </tr>\n",
              "  </tbody>\n",
              "</table>\n",
              "</div>\n",
              "    <div class=\"colab-df-buttons\">\n",
              "\n",
              "  <div class=\"colab-df-container\">\n",
              "    <button class=\"colab-df-convert\" onclick=\"convertToInteractive('df-d152afaa-701e-494f-b50a-a8c379cc123c')\"\n",
              "            title=\"Convert this dataframe to an interactive table.\"\n",
              "            style=\"display:none;\">\n",
              "\n",
              "  <svg xmlns=\"http://www.w3.org/2000/svg\" height=\"24px\" viewBox=\"0 -960 960 960\">\n",
              "    <path d=\"M120-120v-720h720v720H120Zm60-500h600v-160H180v160Zm220 220h160v-160H400v160Zm0 220h160v-160H400v160ZM180-400h160v-160H180v160Zm440 0h160v-160H620v160ZM180-180h160v-160H180v160Zm440 0h160v-160H620v160Z\"/>\n",
              "  </svg>\n",
              "    </button>\n",
              "\n",
              "  <style>\n",
              "    .colab-df-container {\n",
              "      display:flex;\n",
              "      gap: 12px;\n",
              "    }\n",
              "\n",
              "    .colab-df-convert {\n",
              "      background-color: #E8F0FE;\n",
              "      border: none;\n",
              "      border-radius: 50%;\n",
              "      cursor: pointer;\n",
              "      display: none;\n",
              "      fill: #1967D2;\n",
              "      height: 32px;\n",
              "      padding: 0 0 0 0;\n",
              "      width: 32px;\n",
              "    }\n",
              "\n",
              "    .colab-df-convert:hover {\n",
              "      background-color: #E2EBFA;\n",
              "      box-shadow: 0px 1px 2px rgba(60, 64, 67, 0.3), 0px 1px 3px 1px rgba(60, 64, 67, 0.15);\n",
              "      fill: #174EA6;\n",
              "    }\n",
              "\n",
              "    .colab-df-buttons div {\n",
              "      margin-bottom: 4px;\n",
              "    }\n",
              "\n",
              "    [theme=dark] .colab-df-convert {\n",
              "      background-color: #3B4455;\n",
              "      fill: #D2E3FC;\n",
              "    }\n",
              "\n",
              "    [theme=dark] .colab-df-convert:hover {\n",
              "      background-color: #434B5C;\n",
              "      box-shadow: 0px 1px 3px 1px rgba(0, 0, 0, 0.15);\n",
              "      filter: drop-shadow(0px 1px 2px rgba(0, 0, 0, 0.3));\n",
              "      fill: #FFFFFF;\n",
              "    }\n",
              "  </style>\n",
              "\n",
              "    <script>\n",
              "      const buttonEl =\n",
              "        document.querySelector('#df-d152afaa-701e-494f-b50a-a8c379cc123c button.colab-df-convert');\n",
              "      buttonEl.style.display =\n",
              "        google.colab.kernel.accessAllowed ? 'block' : 'none';\n",
              "\n",
              "      async function convertToInteractive(key) {\n",
              "        const element = document.querySelector('#df-d152afaa-701e-494f-b50a-a8c379cc123c');\n",
              "        const dataTable =\n",
              "          await google.colab.kernel.invokeFunction('convertToInteractive',\n",
              "                                                    [key], {});\n",
              "        if (!dataTable) return;\n",
              "\n",
              "        const docLinkHtml = 'Like what you see? Visit the ' +\n",
              "          '<a target=\"_blank\" href=https://colab.research.google.com/notebooks/data_table.ipynb>data table notebook</a>'\n",
              "          + ' to learn more about interactive tables.';\n",
              "        element.innerHTML = '';\n",
              "        dataTable['output_type'] = 'display_data';\n",
              "        await google.colab.output.renderOutput(dataTable, element);\n",
              "        const docLink = document.createElement('div');\n",
              "        docLink.innerHTML = docLinkHtml;\n",
              "        element.appendChild(docLink);\n",
              "      }\n",
              "    </script>\n",
              "  </div>\n",
              "\n",
              "\n",
              "<div id=\"df-92162a2c-0c0b-410b-8724-f1b985c17528\">\n",
              "  <button class=\"colab-df-quickchart\" onclick=\"quickchart('df-92162a2c-0c0b-410b-8724-f1b985c17528')\"\n",
              "            title=\"Suggest charts\"\n",
              "            style=\"display:none;\">\n",
              "\n",
              "<svg xmlns=\"http://www.w3.org/2000/svg\" height=\"24px\"viewBox=\"0 0 24 24\"\n",
              "     width=\"24px\">\n",
              "    <g>\n",
              "        <path d=\"M19 3H5c-1.1 0-2 .9-2 2v14c0 1.1.9 2 2 2h14c1.1 0 2-.9 2-2V5c0-1.1-.9-2-2-2zM9 17H7v-7h2v7zm4 0h-2V7h2v10zm4 0h-2v-4h2v4z\"/>\n",
              "    </g>\n",
              "</svg>\n",
              "  </button>\n",
              "\n",
              "<style>\n",
              "  .colab-df-quickchart {\n",
              "      --bg-color: #E8F0FE;\n",
              "      --fill-color: #1967D2;\n",
              "      --hover-bg-color: #E2EBFA;\n",
              "      --hover-fill-color: #174EA6;\n",
              "      --disabled-fill-color: #AAA;\n",
              "      --disabled-bg-color: #DDD;\n",
              "  }\n",
              "\n",
              "  [theme=dark] .colab-df-quickchart {\n",
              "      --bg-color: #3B4455;\n",
              "      --fill-color: #D2E3FC;\n",
              "      --hover-bg-color: #434B5C;\n",
              "      --hover-fill-color: #FFFFFF;\n",
              "      --disabled-bg-color: #3B4455;\n",
              "      --disabled-fill-color: #666;\n",
              "  }\n",
              "\n",
              "  .colab-df-quickchart {\n",
              "    background-color: var(--bg-color);\n",
              "    border: none;\n",
              "    border-radius: 50%;\n",
              "    cursor: pointer;\n",
              "    display: none;\n",
              "    fill: var(--fill-color);\n",
              "    height: 32px;\n",
              "    padding: 0;\n",
              "    width: 32px;\n",
              "  }\n",
              "\n",
              "  .colab-df-quickchart:hover {\n",
              "    background-color: var(--hover-bg-color);\n",
              "    box-shadow: 0 1px 2px rgba(60, 64, 67, 0.3), 0 1px 3px 1px rgba(60, 64, 67, 0.15);\n",
              "    fill: var(--button-hover-fill-color);\n",
              "  }\n",
              "\n",
              "  .colab-df-quickchart-complete:disabled,\n",
              "  .colab-df-quickchart-complete:disabled:hover {\n",
              "    background-color: var(--disabled-bg-color);\n",
              "    fill: var(--disabled-fill-color);\n",
              "    box-shadow: none;\n",
              "  }\n",
              "\n",
              "  .colab-df-spinner {\n",
              "    border: 2px solid var(--fill-color);\n",
              "    border-color: transparent;\n",
              "    border-bottom-color: var(--fill-color);\n",
              "    animation:\n",
              "      spin 1s steps(1) infinite;\n",
              "  }\n",
              "\n",
              "  @keyframes spin {\n",
              "    0% {\n",
              "      border-color: transparent;\n",
              "      border-bottom-color: var(--fill-color);\n",
              "      border-left-color: var(--fill-color);\n",
              "    }\n",
              "    20% {\n",
              "      border-color: transparent;\n",
              "      border-left-color: var(--fill-color);\n",
              "      border-top-color: var(--fill-color);\n",
              "    }\n",
              "    30% {\n",
              "      border-color: transparent;\n",
              "      border-left-color: var(--fill-color);\n",
              "      border-top-color: var(--fill-color);\n",
              "      border-right-color: var(--fill-color);\n",
              "    }\n",
              "    40% {\n",
              "      border-color: transparent;\n",
              "      border-right-color: var(--fill-color);\n",
              "      border-top-color: var(--fill-color);\n",
              "    }\n",
              "    60% {\n",
              "      border-color: transparent;\n",
              "      border-right-color: var(--fill-color);\n",
              "    }\n",
              "    80% {\n",
              "      border-color: transparent;\n",
              "      border-right-color: var(--fill-color);\n",
              "      border-bottom-color: var(--fill-color);\n",
              "    }\n",
              "    90% {\n",
              "      border-color: transparent;\n",
              "      border-bottom-color: var(--fill-color);\n",
              "    }\n",
              "  }\n",
              "</style>\n",
              "\n",
              "  <script>\n",
              "    async function quickchart(key) {\n",
              "      const quickchartButtonEl =\n",
              "        document.querySelector('#' + key + ' button');\n",
              "      quickchartButtonEl.disabled = true;  // To prevent multiple clicks.\n",
              "      quickchartButtonEl.classList.add('colab-df-spinner');\n",
              "      try {\n",
              "        const charts = await google.colab.kernel.invokeFunction(\n",
              "            'suggestCharts', [key], {});\n",
              "      } catch (error) {\n",
              "        console.error('Error during call to suggestCharts:', error);\n",
              "      }\n",
              "      quickchartButtonEl.classList.remove('colab-df-spinner');\n",
              "      quickchartButtonEl.classList.add('colab-df-quickchart-complete');\n",
              "    }\n",
              "    (() => {\n",
              "      let quickchartButtonEl =\n",
              "        document.querySelector('#df-92162a2c-0c0b-410b-8724-f1b985c17528 button');\n",
              "      quickchartButtonEl.style.display =\n",
              "        google.colab.kernel.accessAllowed ? 'block' : 'none';\n",
              "    })();\n",
              "  </script>\n",
              "</div>\n",
              "    </div>\n",
              "  </div>\n"
            ]
          },
          "metadata": {},
          "execution_count": 140
        }
      ]
    },
    {
      "cell_type": "code",
      "source": [
        "df.stack().value_counts(normalize=True).head(20).plot(kind='bar')"
      ],
      "metadata": {
        "colab": {
          "base_uri": "https://localhost:8080/",
          "height": 557
        },
        "id": "5H0MCkghE21E",
        "outputId": "aa944195-4bfa-4f68-9246-ffe52383d583"
      },
      "execution_count": null,
      "outputs": [
        {
          "output_type": "execute_result",
          "data": {
            "text/plain": [
              "<Axes: >"
            ]
          },
          "metadata": {},
          "execution_count": 11
        },
        {
          "output_type": "display_data",
          "data": {
            "text/plain": [
              "<Figure size 640x480 with 1 Axes>"
            ],
            "image/png": "[encoded data removed]"
          },
          "metadata": {}
        }
      ]
    },
    {
      "cell_type": "code",
      "source": [
        "df.stack().value_counts(normalize=True).head(20).apply(lambda item: item / df.shape[0]).plot(kind='bar')"
      ],
      "metadata": {
        "colab": {
          "base_uri": "https://localhost:8080/",
          "height": 573
        },
        "id": "FDNQt660F2yO",
        "outputId": "396923b2-d48b-4f03-df6a-08dc6764c7c9"
      },
      "execution_count": null,
      "outputs": [
        {
          "output_type": "execute_result",
          "data": {
            "text/plain": [
              "<Axes: >"
            ]
          },
          "metadata": {},
          "execution_count": 12
        },
        {
          "output_type": "display_data",
          "data": {
            "text/plain": [
              "<Figure size 640x480 with 1 Axes>"
            ],
            "image/png": "[encoded data removed]"
          },
          "metadata": {}
        }
      ]
    },
    {
      "cell_type": "markdown",
      "source": [
        "## Задача 3"
      ],
      "metadata": {
        "id": "m_D7jkGFGKa4"
      }
    },
    {
      "cell_type": "markdown",
      "source": [
        "Применить алгоритм Apriori, используя 3 разные библиотеки\n",
        "(apriori_python, apyori, efficient_apriori). Подобрать гиперпараметры для\n",
        "алгоритмов так, чтобы выводилось порядка 10 наилучших правил."
      ],
      "metadata": {
        "id": "gSxJ9hoAGMaO"
      }
    },
    {
      "cell_type": "code",
      "source": [
        "transactions = []\n",
        "for i in range(df.shape[0]):\n",
        "  row = df.iloc[i].dropna().tolist()\n",
        "  transactions.append(row)"
      ],
      "metadata": {
        "id": "yCo_c65-GG0U"
      },
      "execution_count": null,
      "outputs": []
    },
    {
      "cell_type": "code",
      "source": [
        "len(transactions)"
      ],
      "metadata": {
        "colab": {
          "base_uri": "https://localhost:8080/"
        },
        "id": "t17nKjRGGpnt",
        "outputId": "ed433e32-9e09-4ab0-ec09-442565197133"
      },
      "execution_count": null,
      "outputs": [
        {
          "output_type": "execute_result",
          "data": {
            "text/plain": [
              "7500"
            ]
          },
          "metadata": {},
          "execution_count": 27
        }
      ]
    },
    {
      "cell_type": "code",
      "source": [
        "!pip install apriori_python"
      ],
      "metadata": {
        "id": "wk7ZkMgRG8TQ"
      },
      "execution_count": null,
      "outputs": []
    },
    {
      "cell_type": "markdown",
      "source": [
        "### apriori_python"
      ],
      "metadata": {
        "id": "UOjQBghHJk1r"
      }
    },
    {
      "cell_type": "code",
      "source": [
        "from apriori_python import apriori\n",
        "\n",
        "start =time.perf_counter()\n",
        "_, rules = apriori(transactions, minSup=0.04, minConf=0.1)\n",
        "time1 = (time.perf_counter() - start)\n",
        "\n",
        "rules"
      ],
      "metadata": {
        "colab": {
          "base_uri": "https://localhost:8080/"
        },
        "id": "6FaRw8M2HDkx",
        "outputId": "0dfbedef-0743-421e-bc3e-b6f61640d51e"
      },
      "execution_count": null,
      "outputs": [
        {
          "output_type": "execute_result",
          "data": {
            "text/plain": [
              "[[{'mineral water'}, {'ground beef'}, 0.17179630665920537],\n",
              " [{'mineral water'}, {'milk'}, 0.20145495243424735],\n",
              " [{'mineral water'}, {'eggs'}, 0.21376608841634023],\n",
              " [{'mineral water'}, {'chocolate'}, 0.22104085058757694],\n",
              " [{'mineral water'}, {'spaghetti'}, 0.2506994963626189],\n",
              " [{'eggs'}, {'mineral water'}, 0.28338278931750743],\n",
              " [{'chocolate'}, {'mineral water'}, 0.3213995117982099],\n",
              " [{'spaghetti'}, {'mineral water'}, 0.3430321592649311],\n",
              " [{'milk'}, {'mineral water'}, 0.37037037037037035],\n",
              " [{'ground beef'}, {'mineral water'}, 0.41655359565807326]]"
            ]
          },
          "metadata": {},
          "execution_count": 142
        }
      ]
    },
    {
      "cell_type": "markdown",
      "source": [
        "### apyori"
      ],
      "metadata": {
        "id": "zznIzT9uJmuk"
      }
    },
    {
      "cell_type": "code",
      "source": [
        "!pip install apyori"
      ],
      "metadata": {
        "id": "KoHXkyICILKM"
      },
      "execution_count": null,
      "outputs": []
    },
    {
      "cell_type": "code",
      "source": [
        "from apyori import apriori\n",
        "\n",
        "start =time.perf_counter()\n",
        "rules = apriori(transactions, min_support=0.04, min_confidence=0.019, min_lift=1.0001)\n",
        "time2 = (time.perf_counter() - start)\n",
        "rules = list(rules)\n",
        "for rule in rules:\n",
        "  for subset in rule[2]:\n",
        "    print(subset[0], subset[1])\n",
        "    print(\"Support: {0}; Confidence: {1}; Lift: {2};\".format(rule[1], subset[2], subset[3]))\n",
        "    print()"
      ],
      "metadata": {
        "colab": {
          "base_uri": "https://localhost:8080/"
        },
        "id": "cI--2p8-ICLy",
        "outputId": "938acf00-d7e0-4a5a-df9e-db17f37985a9"
      },
      "execution_count": null,
      "outputs": [
        {
          "output_type": "stream",
          "name": "stdout",
          "text": [
            "frozenset({'chocolate'}) frozenset({'mineral water'})\n",
            "Support: 0.05266666666666667; Confidence: 0.32139951179820997; Lift: 1.3489067367020564;\n",
            "\n",
            "frozenset({'mineral water'}) frozenset({'chocolate'})\n",
            "Support: 0.05266666666666667; Confidence: 0.22104085058757697; Lift: 1.3489067367020564;\n",
            "\n",
            "frozenset({'eggs'}) frozenset({'mineral water'})\n",
            "Support: 0.05093333333333333; Confidence: 0.28338278931750743; Lift: 1.1893513821383916;\n",
            "\n",
            "frozenset({'mineral water'}) frozenset({'eggs'})\n",
            "Support: 0.05093333333333333; Confidence: 0.21376608841634023; Lift: 1.1893513821383916;\n",
            "\n",
            "frozenset({'ground beef'}) frozenset({'mineral water'})\n",
            "Support: 0.040933333333333335; Confidence: 0.41655359565807326; Lift: 1.7482663499919135;\n",
            "\n",
            "frozenset({'mineral water'}) frozenset({'ground beef'})\n",
            "Support: 0.040933333333333335; Confidence: 0.1717963066592054; Lift: 1.7482663499919138;\n",
            "\n",
            "frozenset({'milk'}) frozenset({'mineral water'})\n",
            "Support: 0.048; Confidence: 0.3703703703703704; Lift: 1.5544363613753656;\n",
            "\n",
            "frozenset({'mineral water'}) frozenset({'milk'})\n",
            "Support: 0.048; Confidence: 0.20145495243424735; Lift: 1.5544363613753656;\n",
            "\n",
            "frozenset({'mineral water'}) frozenset({'spaghetti'})\n",
            "Support: 0.05973333333333333; Confidence: 0.2506994963626189; Lift: 1.4396984860027884;\n",
            "\n",
            "frozenset({'spaghetti'}) frozenset({'mineral water'})\n",
            "Support: 0.05973333333333333; Confidence: 0.3430321592649311; Lift: 1.4396984860027886;\n",
            "\n"
          ]
        }
      ]
    },
    {
      "cell_type": "markdown",
      "source": [
        "### efficient_apriori"
      ],
      "metadata": {
        "id": "lAolYHWDJpZO"
      }
    },
    {
      "cell_type": "code",
      "source": [
        "!pip install efficient_apriori"
      ],
      "metadata": {
        "id": "hj4k_771Jie_"
      },
      "execution_count": null,
      "outputs": []
    },
    {
      "cell_type": "code",
      "source": [
        "from efficient_apriori import apriori\n",
        "\n",
        "start =time.perf_counter()\n",
        "itemsets, rules = apriori(transactions, min_support=0.04, min_confidence=0.019)\n",
        "time3 = (time.perf_counter() - start)\n",
        "\n",
        "for i in range(len(rules)):\n",
        "  print(rules[i])"
      ],
      "metadata": {
        "colab": {
          "base_uri": "https://localhost:8080/"
        },
        "id": "BQTMXZJVJuy_",
        "outputId": "416bd377-65df-4512-bb9a-4dd40d7ac758"
      },
      "execution_count": null,
      "outputs": [
        {
          "output_type": "stream",
          "name": "stdout",
          "text": [
            "{mineral water} -> {chocolate} (conf: 0.221, supp: 0.053, lift: 1.349, conv: 1.073)\n",
            "{chocolate} -> {mineral water} (conf: 0.321, supp: 0.053, lift: 1.349, conv: 1.123)\n",
            "{mineral water} -> {eggs} (conf: 0.214, supp: 0.051, lift: 1.189, conv: 1.043)\n",
            "{eggs} -> {mineral water} (conf: 0.283, supp: 0.051, lift: 1.189, conv: 1.063)\n",
            "{mineral water} -> {ground beef} (conf: 0.172, supp: 0.041, lift: 1.748, conv: 1.089)\n",
            "{ground beef} -> {mineral water} (conf: 0.417, supp: 0.041, lift: 1.748, conv: 1.306)\n",
            "{mineral water} -> {milk} (conf: 0.201, supp: 0.048, lift: 1.554, conv: 1.090)\n",
            "{milk} -> {mineral water} (conf: 0.370, supp: 0.048, lift: 1.554, conv: 1.210)\n",
            "{spaghetti} -> {mineral water} (conf: 0.343, supp: 0.060, lift: 1.440, conv: 1.159)\n",
            "{mineral water} -> {spaghetti} (conf: 0.251, supp: 0.060, lift: 1.440, conv: 1.102)\n"
          ]
        }
      ]
    },
    {
      "cell_type": "markdown",
      "source": [
        "## Задача 4"
      ],
      "metadata": {
        "id": "U_kOXnOCLbKE"
      }
    },
    {
      "cell_type": "markdown",
      "source": [
        "Применить алгоритм FP-Growth из библиотеки fpgrowth_py. Подобрать\n",
        "гиперпараметры для алгоритма так, чтобы выводилось порядка 10\n",
        "наилучших правил."
      ],
      "metadata": {
        "id": "SNK3cGodLcrn"
      }
    },
    {
      "cell_type": "code",
      "source": [
        "!pip install fpgrowth_py"
      ],
      "metadata": {
        "id": "QM9ZsnTpLdBf"
      },
      "execution_count": null,
      "outputs": []
    },
    {
      "cell_type": "code",
      "source": [
        "from fpgrowth_py import fpgrowth\n",
        "\n",
        "start =time.perf_counter()\n",
        "itemsets, rules = fpgrowth(transactions, minSupRatio=0.04, minConf=0.019)\n",
        "time4 = (time.perf_counter() - start)\n",
        "\n",
        "for i in range(len(rules)):\n",
        "  print(rules[i])"
      ],
      "metadata": {
        "colab": {
          "base_uri": "https://localhost:8080/"
        },
        "id": "Db2OJcs_Ln2Y",
        "outputId": "abc4c295-7fd0-4116-c459-ead14df7e151"
      },
      "execution_count": null,
      "outputs": [
        {
          "output_type": "stream",
          "name": "stdout",
          "text": [
            "[{'mineral water'}, {'ground beef'}, 0.17179630665920537]\n",
            "[{'ground beef'}, {'mineral water'}, 0.41655359565807326]\n",
            "[{'milk'}, {'mineral water'}, 0.37037037037037035]\n",
            "[{'mineral water'}, {'milk'}, 0.20145495243424735]\n",
            "[{'mineral water'}, {'chocolate'}, 0.22104085058757694]\n",
            "[{'chocolate'}, {'mineral water'}, 0.3213995117982099]\n",
            "[{'mineral water'}, {'spaghetti'}, 0.2506994963626189]\n",
            "[{'spaghetti'}, {'mineral water'}, 0.3430321592649311]\n",
            "[{'mineral water'}, {'eggs'}, 0.21376608841634023]\n",
            "[{'eggs'}, {'mineral water'}, 0.28338278931750743]\n"
          ]
        }
      ]
    },
    {
      "cell_type": "markdown",
      "source": [
        "## Задача 5"
      ],
      "metadata": {
        "id": "eBz3fdRRL4HF"
      }
    },
    {
      "cell_type": "markdown",
      "source": [
        "Сравнить время выполнения всех алгоритмов и построить гистограмму."
      ],
      "metadata": {
        "id": "jkOetMH3L5hg"
      }
    },
    {
      "cell_type": "code",
      "source": [
        "plt.bar(['apriori_python','apyori','efficient_apriori','fpgrowth'], [time1, time2, time3, time4])\n",
        "plt.ylabel('time')\n",
        "plt.show()"
      ],
      "metadata": {
        "colab": {
          "base_uri": "https://localhost:8080/",
          "height": 430
        },
        "id": "3A21p-toL516",
        "outputId": "9880201d-d20c-4e08-ec34-3ba547222b61"
      },
      "execution_count": null,
      "outputs": [
        {
          "output_type": "display_data",
          "data": {
            "text/plain": [
              "<Figure size 640x480 with 1 Axes>"
            ],
            "image/png": "[encoded data removed]"
          },
          "metadata": {}
        }
      ]
    },
    {
      "cell_type": "markdown",
      "source": [
        "## Задача 6-7"
      ],
      "metadata": {
        "id": "th6TvYSxMYFe"
      }
    },
    {
      "cell_type": "markdown",
      "source": [
        "6. Загрузить данные data.csv.\n",
        "7. Визуализировать данные (отразить на гистограммах относительную и\n",
        "фактическую частоту встречаемости для 20 наиболее популярных\n",
        "товаров)."
      ],
      "metadata": {
        "id": "nEuxEV4fMaYu"
      }
    },
    {
      "cell_type": "code",
      "source": [
        "df = pd.read_csv('data.csv')\n",
        "df.head(5)"
      ],
      "metadata": {
        "colab": {
          "base_uri": "https://localhost:8080/",
          "height": 206
        },
        "id": "l0XwhlhIMc-g",
        "outputId": "9d53c4bd-278d-4030-f236-98e2303530f8"
      },
      "execution_count": null,
      "outputs": [
        {
          "output_type": "execute_result",
          "data": {
            "text/plain": [
              "           Bread    Unnamed: 1 Unnamed: 2 Unnamed: 3 Unnamed: 4 Unnamed: 5  \\\n",
              "0   Scandinavian  Scandinavian        NaN        NaN        NaN        NaN   \n",
              "1  Hot chocolate           Jam    Cookies        NaN        NaN        NaN   \n",
              "2         Muffin           NaN        NaN        NaN        NaN        NaN   \n",
              "3         Coffee        Pastry      Bread        NaN        NaN        NaN   \n",
              "4      Medialuna        Pastry     Muffin        NaN        NaN        NaN   \n",
              "\n",
              "  Unnamed: 6 Unnamed: 7 Unnamed: 8 Unnamed: 9 Unnamed: 10 Unnamed: 11  \n",
              "0        NaN        NaN        NaN        NaN         NaN         NaN  \n",
              "1        NaN        NaN        NaN        NaN         NaN         NaN  \n",
              "2        NaN        NaN        NaN        NaN         NaN         NaN  \n",
              "3        NaN        NaN        NaN        NaN         NaN         NaN  \n",
              "4        NaN        NaN        NaN        NaN         NaN         NaN  "
            ],
            "text/html": [
              "\n",
              "  <div id=\"df-9d5b9f76-587e-410f-a39c-42d1b8c4eedd\" class=\"colab-df-container\">\n",
              "    <div>\n",
              "<style scoped>\n",
              "    .dataframe tbody tr th:only-of-type {\n",
              "        vertical-align: middle;\n",
              "    }\n",
              "\n",
              "    .dataframe tbody tr th {\n",
              "        vertical-align: top;\n",
              "    }\n",
              "\n",
              "    .dataframe thead th {\n",
              "        text-align: right;\n",
              "    }\n",
              "</style>\n",
              "<table border=\"1\" class=\"dataframe\">\n",
              "  <thead>\n",
              "    <tr style=\"text-align: right;\">\n",
              "      <th></th>\n",
              "      <th>Bread</th>\n",
              "      <th>Unnamed: 1</th>\n",
              "      <th>Unnamed: 2</th>\n",
              "      <th>Unnamed: 3</th>\n",
              "      <th>Unnamed: 4</th>\n",
              "      <th>Unnamed: 5</th>\n",
              "      <th>Unnamed: 6</th>\n",
              "      <th>Unnamed: 7</th>\n",
              "      <th>Unnamed: 8</th>\n",
              "      <th>Unnamed: 9</th>\n",
              "      <th>Unnamed: 10</th>\n",
              "      <th>Unnamed: 11</th>\n",
              "    </tr>\n",
              "  </thead>\n",
              "  <tbody>\n",
              "    <tr>\n",
              "      <th>0</th>\n",
              "      <td>Scandinavian</td>\n",
              "      <td>Scandinavian</td>\n",
              "      <td>NaN</td>\n",
              "      <td>NaN</td>\n",
              "      <td>NaN</td>\n",
              "      <td>NaN</td>\n",
              "      <td>NaN</td>\n",
              "      <td>NaN</td>\n",
              "      <td>NaN</td>\n",
              "      <td>NaN</td>\n",
              "      <td>NaN</td>\n",
              "      <td>NaN</td>\n",
              "    </tr>\n",
              "    <tr>\n",
              "      <th>1</th>\n",
              "      <td>Hot chocolate</td>\n",
              "      <td>Jam</td>\n",
              "      <td>Cookies</td>\n",
              "      <td>NaN</td>\n",
              "      <td>NaN</td>\n",
              "      <td>NaN</td>\n",
              "      <td>NaN</td>\n",
              "      <td>NaN</td>\n",
              "      <td>NaN</td>\n",
              "      <td>NaN</td>\n",
              "      <td>NaN</td>\n",
              "      <td>NaN</td>\n",
              "    </tr>\n",
              "    <tr>\n",
              "      <th>2</th>\n",
              "      <td>Muffin</td>\n",
              "      <td>NaN</td>\n",
              "      <td>NaN</td>\n",
              "      <td>NaN</td>\n",
              "      <td>NaN</td>\n",
              "      <td>NaN</td>\n",
              "      <td>NaN</td>\n",
              "      <td>NaN</td>\n",
              "      <td>NaN</td>\n",
              "      <td>NaN</td>\n",
              "      <td>NaN</td>\n",
              "      <td>NaN</td>\n",
              "    </tr>\n",
              "    <tr>\n",
              "      <th>3</th>\n",
              "      <td>Coffee</td>\n",
              "      <td>Pastry</td>\n",
              "      <td>Bread</td>\n",
              "      <td>NaN</td>\n",
              "      <td>NaN</td>\n",
              "      <td>NaN</td>\n",
              "      <td>NaN</td>\n",
              "      <td>NaN</td>\n",
              "      <td>NaN</td>\n",
              "      <td>NaN</td>\n",
              "      <td>NaN</td>\n",
              "      <td>NaN</td>\n",
              "    </tr>\n",
              "    <tr>\n",
              "      <th>4</th>\n",
              "      <td>Medialuna</td>\n",
              "      <td>Pastry</td>\n",
              "      <td>Muffin</td>\n",
              "      <td>NaN</td>\n",
              "      <td>NaN</td>\n",
              "      <td>NaN</td>\n",
              "      <td>NaN</td>\n",
              "      <td>NaN</td>\n",
              "      <td>NaN</td>\n",
              "      <td>NaN</td>\n",
              "      <td>NaN</td>\n",
              "      <td>NaN</td>\n",
              "    </tr>\n",
              "  </tbody>\n",
              "</table>\n",
              "</div>\n",
              "    <div class=\"colab-df-buttons\">\n",
              "\n",
              "  <div class=\"colab-df-container\">\n",
              "    <button class=\"colab-df-convert\" onclick=\"convertToInteractive('df-9d5b9f76-587e-410f-a39c-42d1b8c4eedd')\"\n",
              "            title=\"Convert this dataframe to an interactive table.\"\n",
              "            style=\"display:none;\">\n",
              "\n",
              "  <svg xmlns=\"http://www.w3.org/2000/svg\" height=\"24px\" viewBox=\"0 -960 960 960\">\n",
              "    <path d=\"M120-120v-720h720v720H120Zm60-500h600v-160H180v160Zm220 220h160v-160H400v160Zm0 220h160v-160H400v160ZM180-400h160v-160H180v160Zm440 0h160v-160H620v160ZM180-180h160v-160H180v160Zm440 0h160v-160H620v160Z\"/>\n",
              "  </svg>\n",
              "    </button>\n",
              "\n",
              "  <style>\n",
              "    .colab-df-container {\n",
              "      display:flex;\n",
              "      gap: 12px;\n",
              "    }\n",
              "\n",
              "    .colab-df-convert {\n",
              "      background-color: #E8F0FE;\n",
              "      border: none;\n",
              "      border-radius: 50%;\n",
              "      cursor: pointer;\n",
              "      display: none;\n",
              "      fill: #1967D2;\n",
              "      height: 32px;\n",
              "      padding: 0 0 0 0;\n",
              "      width: 32px;\n",
              "    }\n",
              "\n",
              "    .colab-df-convert:hover {\n",
              "      background-color: #E2EBFA;\n",
              "      box-shadow: 0px 1px 2px rgba(60, 64, 67, 0.3), 0px 1px 3px 1px rgba(60, 64, 67, 0.15);\n",
              "      fill: #174EA6;\n",
              "    }\n",
              "\n",
              "    .colab-df-buttons div {\n",
              "      margin-bottom: 4px;\n",
              "    }\n",
              "\n",
              "    [theme=dark] .colab-df-convert {\n",
              "      background-color: #3B4455;\n",
              "      fill: #D2E3FC;\n",
              "    }\n",
              "\n",
              "    [theme=dark] .colab-df-convert:hover {\n",
              "      background-color: #434B5C;\n",
              "      box-shadow: 0px 1px 3px 1px rgba(0, 0, 0, 0.15);\n",
              "      filter: drop-shadow(0px 1px 2px rgba(0, 0, 0, 0.3));\n",
              "      fill: #FFFFFF;\n",
              "    }\n",
              "  </style>\n",
              "\n",
              "    <script>\n",
              "      const buttonEl =\n",
              "        document.querySelector('#df-9d5b9f76-587e-410f-a39c-42d1b8c4eedd button.colab-df-convert');\n",
              "      buttonEl.style.display =\n",
              "        google.colab.kernel.accessAllowed ? 'block' : 'none';\n",
              "\n",
              "      async function convertToInteractive(key) {\n",
              "        const element = document.querySelector('#df-9d5b9f76-587e-410f-a39c-42d1b8c4eedd');\n",
              "        const dataTable =\n",
              "          await google.colab.kernel.invokeFunction('convertToInteractive',\n",
              "                                                    [key], {});\n",
              "        if (!dataTable) return;\n",
              "\n",
              "        const docLinkHtml = 'Like what you see? Visit the ' +\n",
              "          '<a target=\"_blank\" href=https://colab.research.google.com/notebooks/data_table.ipynb>data table notebook</a>'\n",
              "          + ' to learn more about interactive tables.';\n",
              "        element.innerHTML = '';\n",
              "        dataTable['output_type'] = 'display_data';\n",
              "        await google.colab.output.renderOutput(dataTable, element);\n",
              "        const docLink = document.createElement('div');\n",
              "        docLink.innerHTML = docLinkHtml;\n",
              "        element.appendChild(docLink);\n",
              "      }\n",
              "    </script>\n",
              "  </div>\n",
              "\n",
              "\n",
              "<div id=\"df-3f1ab93b-95c6-4b59-9a2e-58b172198345\">\n",
              "  <button class=\"colab-df-quickchart\" onclick=\"quickchart('df-3f1ab93b-95c6-4b59-9a2e-58b172198345')\"\n",
              "            title=\"Suggest charts\"\n",
              "            style=\"display:none;\">\n",
              "\n",
              "<svg xmlns=\"http://www.w3.org/2000/svg\" height=\"24px\"viewBox=\"0 0 24 24\"\n",
              "     width=\"24px\">\n",
              "    <g>\n",
              "        <path d=\"M19 3H5c-1.1 0-2 .9-2 2v14c0 1.1.9 2 2 2h14c1.1 0 2-.9 2-2V5c0-1.1-.9-2-2-2zM9 17H7v-7h2v7zm4 0h-2V7h2v10zm4 0h-2v-4h2v4z\"/>\n",
              "    </g>\n",
              "</svg>\n",
              "  </button>\n",
              "\n",
              "<style>\n",
              "  .colab-df-quickchart {\n",
              "      --bg-color: #E8F0FE;\n",
              "      --fill-color: #1967D2;\n",
              "      --hover-bg-color: #E2EBFA;\n",
              "      --hover-fill-color: #174EA6;\n",
              "      --disabled-fill-color: #AAA;\n",
              "      --disabled-bg-color: #DDD;\n",
              "  }\n",
              "\n",
              "  [theme=dark] .colab-df-quickchart {\n",
              "      --bg-color: #3B4455;\n",
              "      --fill-color: #D2E3FC;\n",
              "      --hover-bg-color: #434B5C;\n",
              "      --hover-fill-color: #FFFFFF;\n",
              "      --disabled-bg-color: #3B4455;\n",
              "      --disabled-fill-color: #666;\n",
              "  }\n",
              "\n",
              "  .colab-df-quickchart {\n",
              "    background-color: var(--bg-color);\n",
              "    border: none;\n",
              "    border-radius: 50%;\n",
              "    cursor: pointer;\n",
              "    display: none;\n",
              "    fill: var(--fill-color);\n",
              "    height: 32px;\n",
              "    padding: 0;\n",
              "    width: 32px;\n",
              "  }\n",
              "\n",
              "  .colab-df-quickchart:hover {\n",
              "    background-color: var(--hover-bg-color);\n",
              "    box-shadow: 0 1px 2px rgba(60, 64, 67, 0.3), 0 1px 3px 1px rgba(60, 64, 67, 0.15);\n",
              "    fill: var(--button-hover-fill-color);\n",
              "  }\n",
              "\n",
              "  .colab-df-quickchart-complete:disabled,\n",
              "  .colab-df-quickchart-complete:disabled:hover {\n",
              "    background-color: var(--disabled-bg-color);\n",
              "    fill: var(--disabled-fill-color);\n",
              "    box-shadow: none;\n",
              "  }\n",
              "\n",
              "  .colab-df-spinner {\n",
              "    border: 2px solid var(--fill-color);\n",
              "    border-color: transparent;\n",
              "    border-bottom-color: var(--fill-color);\n",
              "    animation:\n",
              "      spin 1s steps(1) infinite;\n",
              "  }\n",
              "\n",
              "  @keyframes spin {\n",
              "    0% {\n",
              "      border-color: transparent;\n",
              "      border-bottom-color: var(--fill-color);\n",
              "      border-left-color: var(--fill-color);\n",
              "    }\n",
              "    20% {\n",
              "      border-color: transparent;\n",
              "      border-left-color: var(--fill-color);\n",
              "      border-top-color: var(--fill-color);\n",
              "    }\n",
              "    30% {\n",
              "      border-color: transparent;\n",
              "      border-left-color: var(--fill-color);\n",
              "      border-top-color: var(--fill-color);\n",
              "      border-right-color: var(--fill-color);\n",
              "    }\n",
              "    40% {\n",
              "      border-color: transparent;\n",
              "      border-right-color: var(--fill-color);\n",
              "      border-top-color: var(--fill-color);\n",
              "    }\n",
              "    60% {\n",
              "      border-color: transparent;\n",
              "      border-right-color: var(--fill-color);\n",
              "    }\n",
              "    80% {\n",
              "      border-color: transparent;\n",
              "      border-right-color: var(--fill-color);\n",
              "      border-bottom-color: var(--fill-color);\n",
              "    }\n",
              "    90% {\n",
              "      border-color: transparent;\n",
              "      border-bottom-color: var(--fill-color);\n",
              "    }\n",
              "  }\n",
              "</style>\n",
              "\n",
              "  <script>\n",
              "    async function quickchart(key) {\n",
              "      const quickchartButtonEl =\n",
              "        document.querySelector('#' + key + ' button');\n",
              "      quickchartButtonEl.disabled = true;  // To prevent multiple clicks.\n",
              "      quickchartButtonEl.classList.add('colab-df-spinner');\n",
              "      try {\n",
              "        const charts = await google.colab.kernel.invokeFunction(\n",
              "            'suggestCharts', [key], {});\n",
              "      } catch (error) {\n",
              "        console.error('Error during call to suggestCharts:', error);\n",
              "      }\n",
              "      quickchartButtonEl.classList.remove('colab-df-spinner');\n",
              "      quickchartButtonEl.classList.add('colab-df-quickchart-complete');\n",
              "    }\n",
              "    (() => {\n",
              "      let quickchartButtonEl =\n",
              "        document.querySelector('#df-3f1ab93b-95c6-4b59-9a2e-58b172198345 button');\n",
              "      quickchartButtonEl.style.display =\n",
              "        google.colab.kernel.accessAllowed ? 'block' : 'none';\n",
              "    })();\n",
              "  </script>\n",
              "</div>\n",
              "    </div>\n",
              "  </div>\n"
            ]
          },
          "metadata": {},
          "execution_count": 98
        }
      ]
    },
    {
      "cell_type": "code",
      "source": [
        "df.stack().value_counts(normalize=True).head(20).plot(kind='bar')"
      ],
      "metadata": {
        "colab": {
          "base_uri": "https://localhost:8080/",
          "height": 529
        },
        "id": "Pjog7B2OMl7E",
        "outputId": "7ee45d7a-9589-4373-895e-ce07c50adf49"
      },
      "execution_count": null,
      "outputs": [
        {
          "output_type": "execute_result",
          "data": {
            "text/plain": [
              "<Axes: >"
            ]
          },
          "metadata": {},
          "execution_count": 99
        },
        {
          "output_type": "display_data",
          "data": {
            "text/plain": [
              "<Figure size 640x480 with 1 Axes>"
            ],
            "image/png": "[encoded data removed]"
          },
          "metadata": {}
        }
      ]
    },
    {
      "cell_type": "code",
      "source": [
        "df.stack().value_counts(normalize=True).head(20).apply(lambda item: item / df.shape[0]).plot(kind='bar')"
      ],
      "metadata": {
        "colab": {
          "base_uri": "https://localhost:8080/",
          "height": 544
        },
        "id": "51fPDUAMMohp",
        "outputId": "d167334c-4542-4cae-c1e9-eb68a22e4cb5"
      },
      "execution_count": null,
      "outputs": [
        {
          "output_type": "execute_result",
          "data": {
            "text/plain": [
              "<Axes: >"
            ]
          },
          "metadata": {},
          "execution_count": 100
        },
        {
          "output_type": "display_data",
          "data": {
            "text/plain": [
              "<Figure size 640x480 with 1 Axes>"
            ],
            "image/png": "[encoded data removed]"
          },
          "metadata": {}
        }
      ]
    },
    {
      "cell_type": "markdown",
      "source": [
        "## Задача 8"
      ],
      "metadata": {
        "id": "_6uJmYoWMxGJ"
      }
    },
    {
      "cell_type": "markdown",
      "source": [
        "Применить алгоритм Apriori, используя 3 разные библиотеки\n",
        "(apriori_python, apyori, efficient_apriori). Подобрать гиперпараметры для\n",
        "алгоритмов так, чтобы выводилось порядка 10 наилучших правил.\n"
      ],
      "metadata": {
        "id": "vJWoA5xfM0Or"
      }
    },
    {
      "cell_type": "code",
      "source": [
        "transactions = []\n",
        "for i in range(df.shape[0]):\n",
        "  row = df.iloc[i].dropna().tolist()\n",
        "  transactions.append(row)\n",
        "\n",
        "len(transactions)"
      ],
      "metadata": {
        "colab": {
          "base_uri": "https://localhost:8080/"
        },
        "id": "UPUexU2wM0hx",
        "outputId": "f7d0f23b-5797-4d09-8d83-0b7741e8f27c"
      },
      "execution_count": null,
      "outputs": [
        {
          "output_type": "execute_result",
          "data": {
            "text/plain": [
              "9530"
            ]
          },
          "metadata": {},
          "execution_count": 101
        }
      ]
    },
    {
      "cell_type": "code",
      "source": [
        "from apriori_python import apriori\n",
        "\n",
        "start =time.perf_counter()\n",
        "_, rules = apriori(transactions, minSup=0.035, minConf=0.04)\n",
        "time1 = (time.perf_counter() - start)\n",
        "\n",
        "rules"
      ],
      "metadata": {
        "colab": {
          "base_uri": "https://localhost:8080/"
        },
        "id": "3Rftk9SONAWS",
        "outputId": "525a71ba-d00a-42f0-8859-e9e345b8557b"
      },
      "execution_count": null,
      "outputs": [
        {
          "output_type": "execute_result",
          "data": {
            "text/plain": [
              "[[{'Coffee'}, {'Sandwich'}, 0.0799469964664311],\n",
              " [{'Coffee'}, {'Pastry'}, 0.09938162544169611],\n",
              " [{'Coffee'}, {'Tea'}, 0.10424028268551237],\n",
              " [{'Coffee'}, {'Cake'}, 0.11439929328621908],\n",
              " [{'Coffee'}, {'Bread'}, 0.1881625441696113],\n",
              " [{'Bread'}, {'Coffee'}, 0.2751937984496124],\n",
              " [{'Tea'}, {'Coffee'}, 0.3496296296296296],\n",
              " [{'Cake'}, {'Coffee'}, 0.5269582909460834],\n",
              " [{'Sandwich'}, {'Coffee'}, 0.5323529411764706],\n",
              " [{'Pastry'}, {'Coffee'}, 0.5521472392638037]]"
            ]
          },
          "metadata": {},
          "execution_count": 110
        }
      ]
    },
    {
      "cell_type": "code",
      "source": [
        "from apyori import apriori\n",
        "\n",
        "start =time.perf_counter()\n",
        "rules = apriori(transactions, min_support=0.029, min_confidence=0.01, min_lift=1.0001)\n",
        "time2 = (time.perf_counter() - start)\n",
        "rules = list(rules)\n",
        "for rule in rules:\n",
        "  for subset in rule[2]:\n",
        "    print(subset[0], subset[1])\n",
        "    print(\"Support: {0}; Confidence: {1}; Lift: {2};\".format(rule[1], subset[2], subset[3]))\n",
        "    print()"
      ],
      "metadata": {
        "colab": {
          "base_uri": "https://localhost:8080/"
        },
        "id": "ewr4x_8hNTzN",
        "outputId": "d45431d4-02ca-4845-b9b7-5d649cb343b4"
      },
      "execution_count": null,
      "outputs": [
        {
          "output_type": "stream",
          "name": "stdout",
          "text": [
            "frozenset({'Cake'}) frozenset({'Coffee'})\n",
            "Support: 0.05435466946484785; Confidence: 0.5269582909460834; Lift: 1.109079618532724;\n",
            "\n",
            "frozenset({'Coffee'}) frozenset({'Cake'})\n",
            "Support: 0.05435466946484785; Confidence: 0.11439929328621908; Lift: 1.109079618532724;\n",
            "\n",
            "frozenset({'Coffee'}) frozenset({'Hot chocolate'})\n",
            "Support: 0.02938090241343127; Confidence: 0.06183745583038869; Lift: 1.0675923080862395;\n",
            "\n",
            "frozenset({'Hot chocolate'}) frozenset({'Coffee'})\n",
            "Support: 0.02938090241343127; Confidence: 0.5072463768115942; Lift: 1.0675923080862397;\n",
            "\n",
            "frozenset({'Coffee'}) frozenset({'Medialuna'})\n",
            "Support: 0.034942287513116475; Confidence: 0.07354240282685512; Lift: 1.198049741777657;\n",
            "\n",
            "frozenset({'Medialuna'}) frozenset({'Coffee'})\n",
            "Support: 0.034942287513116475; Confidence: 0.5692307692307693; Lift: 1.1980497417776572;\n",
            "\n",
            "frozenset({'Coffee'}) frozenset({'Pastry'})\n",
            "Support: 0.0472193074501574; Confidence: 0.09938162544169611; Lift: 1.162094344121919;\n",
            "\n",
            "frozenset({'Pastry'}) frozenset({'Coffee'})\n",
            "Support: 0.0472193074501574; Confidence: 0.5521472392638037; Lift: 1.162094344121919;\n",
            "\n",
            "frozenset({'Coffee'}) frozenset({'Sandwich'})\n",
            "Support: 0.037985309548793283; Confidence: 0.0799469964664311; Lift: 1.1204336416545417;\n",
            "\n",
            "frozenset({'Sandwich'}) frozenset({'Coffee'})\n",
            "Support: 0.037985309548793283; Confidence: 0.5323529411764706; Lift: 1.1204336416545417;\n",
            "\n"
          ]
        }
      ]
    },
    {
      "cell_type": "code",
      "source": [
        "from efficient_apriori import apriori\n",
        "\n",
        "start =time.perf_counter()\n",
        "itemsets, rules = apriori(transactions, min_support=0.035, min_confidence=0.04)\n",
        "time3 = (time.perf_counter() - start)\n",
        "\n",
        "for i in range(len(rules)):\n",
        "  print(rules[i])"
      ],
      "metadata": {
        "colab": {
          "base_uri": "https://localhost:8080/"
        },
        "id": "WaZxmyvuN3HT",
        "outputId": "35f98dcd-bc41-4264-d79c-92a73e71804f"
      },
      "execution_count": null,
      "outputs": [
        {
          "output_type": "stream",
          "name": "stdout",
          "text": [
            "{Coffee} -> {Bread} (conf: 0.188, supp: 0.089, lift: 0.579, conv: 0.832)\n",
            "{Bread} -> {Coffee} (conf: 0.275, supp: 0.089, lift: 0.579, conv: 0.724)\n",
            "{Coffee} -> {Cake} (conf: 0.114, supp: 0.054, lift: 1.109, conv: 1.013)\n",
            "{Cake} -> {Coffee} (conf: 0.527, supp: 0.054, lift: 1.109, conv: 1.110)\n",
            "{Pastry} -> {Coffee} (conf: 0.552, supp: 0.047, lift: 1.162, conv: 1.172)\n",
            "{Coffee} -> {Pastry} (conf: 0.099, supp: 0.047, lift: 1.162, conv: 1.015)\n",
            "{Sandwich} -> {Coffee} (conf: 0.532, supp: 0.038, lift: 1.120, conv: 1.122)\n",
            "{Coffee} -> {Sandwich} (conf: 0.080, supp: 0.038, lift: 1.120, conv: 1.009)\n",
            "{Tea} -> {Coffee} (conf: 0.350, supp: 0.050, lift: 0.736, conv: 0.807)\n",
            "{Coffee} -> {Tea} (conf: 0.104, supp: 0.050, lift: 0.736, conv: 0.958)\n"
          ]
        }
      ]
    },
    {
      "cell_type": "markdown",
      "source": [
        "## Задача 9"
      ],
      "metadata": {
        "id": "9YeyYwaJOFcM"
      }
    },
    {
      "cell_type": "markdown",
      "source": [
        "Применить алгоритм FP-Growth из библиотеки fpgrowth_py. Подобрать\n",
        "гиперпараметры для алгоритма так, чтобы выводилось порядка 10\n",
        "наилучших правил.\n"
      ],
      "metadata": {
        "id": "IMbMqPkHOHwt"
      }
    },
    {
      "cell_type": "code",
      "source": [
        "from fpgrowth_py import fpgrowth\n",
        "\n",
        "start =time.perf_counter()\n",
        "itemsets, rules = fpgrowth(transactions, minSupRatio=0.05, minConf=0.04)\n",
        "time4 = (time.perf_counter() - start)\n",
        "\n",
        "for i in range(len(rules)):\n",
        "  print(rules[i])"
      ],
      "metadata": {
        "colab": {
          "base_uri": "https://localhost:8080/"
        },
        "id": "1ITYfOX6N8cM",
        "outputId": "4102407f-c0c2-424c-ceaf-cfa9d8a63088"
      },
      "execution_count": null,
      "outputs": [
        {
          "output_type": "stream",
          "name": "stdout",
          "text": [
            "[{'Sandwich'}, {'Coffee'}, 0.5323529411764706]\n",
            "[{'Coffee'}, {'Sandwich'}, 0.0799469964664311]\n",
            "[{'Pastry'}, {'Coffee'}, 0.5521472392638037]\n",
            "[{'Coffee'}, {'Pastry'}, 0.09938162544169611]\n",
            "[{'Cake'}, {'Coffee'}, 0.5269582909460834]\n",
            "[{'Coffee'}, {'Cake'}, 0.11439929328621908]\n",
            "[{'Tea'}, {'Coffee'}, 0.3496296296296296]\n",
            "[{'Coffee'}, {'Tea'}, 0.10424028268551237]\n",
            "[{'Bread'}, {'Coffee'}, 0.2751937984496124]\n",
            "[{'Coffee'}, {'Bread'}, 0.1881625441696113]\n"
          ]
        }
      ]
    },
    {
      "cell_type": "markdown",
      "source": [
        "## Задача 10"
      ],
      "metadata": {
        "id": "lr-o3z-tOI9y"
      }
    },
    {
      "cell_type": "markdown",
      "source": [
        "Сравнить время выполнения всех алгоритмов и построить гистограмму."
      ],
      "metadata": {
        "id": "9DvFjLfVOLOI"
      }
    },
    {
      "cell_type": "code",
      "source": [
        "plt.bar(['apriori_python','apyori','efficient_apriori','fpgrowth'], [time1, time2, time3, time4])\n",
        "plt.ylabel('time')\n",
        "plt.show()"
      ],
      "metadata": {
        "colab": {
          "base_uri": "https://localhost:8080/",
          "height": 430
        },
        "id": "7qVbgK0zOMsG",
        "outputId": "2a7ab64f-74ad-4285-b344-2fb0dee43d39"
      },
      "execution_count": null,
      "outputs": [
        {
          "output_type": "display_data",
          "data": {
            "text/plain": [
              "<Figure size 640x480 with 1 Axes>"
            ],
            "image/png": "[encoded data removed]"
          },
          "metadata": {}
        }
      ]
    }
  ]
}