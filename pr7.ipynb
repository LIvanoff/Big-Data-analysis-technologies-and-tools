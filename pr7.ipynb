{
  "nbformat": 4,
  "nbformat_minor": 0,
  "metadata": {
    "colab": {
      "provenance": [],
      "authorship_tag": "ABX9TyOwxJK0eEXN6EF0zeSkHxmR",
      "include_colab_link": true
    },
    "kernelspec": {
      "name": "python3",
      "display_name": "Python 3"
    },
    "language_info": {
      "name": "python"
    },
    "widgets": {
      "application/vnd.jupyter.widget-state+json": {
        "e8bf98d20a704f5eb500ab22d9e62ae5": {
          "model_module": "catboost-widget",
          "model_name": "CatboostWidgetModel",
          "model_module_version": "^1.0.0",
          "state": {
            "_dom_classes": [],
            "_model_module": "catboost-widget",
            "_model_module_version": "^1.0.0",
            "_model_name": "CatboostWidgetModel",
            "_view_count": null,
            "_view_module": "catboost-widget",
            "_view_module_version": "^1.0.0",
            "_view_name": "CatboostWidgetView",
            "data": {
              "catboost_info": {
                "path": "catboost_info",
                "name": "catboost_info",
                "content": {
                  "passed_iterations": 999,
                  "total_iterations": 1000,
                  "data": {
                    "iterations": [
                      {
                        "learn": [
                          0.6725753341
                        ],
                        "iteration": 0,
                        "passed_time": 0.02332026332,
                        "remaining_time": 23.29694305,
                        "test": [
                          0.6727971996
                        ]
                      },
                      {
                        "learn": [
                          0.6572541183
                        ],
                        "iteration": 1,
                        "passed_time": 0.0449994688,
                        "remaining_time": 22.45473493,
                        "test": [
                          0.6576182172
                        ]
                      },
                      {
                        "learn": [
                          0.6453218214
                        ],
                        "iteration": 2,
                        "passed_time": 0.06341214462,
                        "remaining_time": 21.0739694,
                        "test": [
                          0.6456209987
                        ]
                      },
                      {
                        "learn": [
                          0.6358813667
                        ],
                        "iteration": 3,
                        "passed_time": 0.08506733838,
                        "remaining_time": 21.18176726,
                        "test": [
                          0.6361791543
                        ]
                      },
                      {
                        "learn": [
                          0.6283747092
                        ],
                        "iteration": 4,
                        "passed_time": 0.1094151307,
                        "remaining_time": 21.77361101,
                        "test": [
                          0.6287822142
                        ]
                      },
                      {
                        "learn": [
                          0.6223319019
                        ],
                        "iteration": 5,
                        "passed_time": 0.1315959648,
                        "remaining_time": 21.80106483,
                        "test": [
                          0.6227650783
                        ]
                      },
                      {
                        "learn": [
                          0.6178140687
                        ],
                        "iteration": 6,
                        "passed_time": 0.1543292252,
                        "remaining_time": 21.89270294,
                        "test": [
                          0.6183451916
                        ]
                      },
                      {
                        "learn": [
                          0.6141390933
                        ],
                        "iteration": 7,
                        "passed_time": 0.1775087128,
                        "remaining_time": 22.01108038,
                        "test": [
                          0.6146929389
                        ]
                      },
                      {
                        "learn": [
                          0.6101181035
                        ],
                        "iteration": 8,
                        "passed_time": 0.2001188857,
                        "remaining_time": 22.03531286,
                        "test": [
                          0.6107512128
                        ]
                      },
                      {
                        "learn": [
                          0.6070888146
                        ],
                        "iteration": 9,
                        "passed_time": 0.2229026688,
                        "remaining_time": 22.06736421,
                        "test": [
                          0.6078378467
                        ]
                      },
                      {
                        "learn": [
                          0.6048115174
                        ],
                        "iteration": 10,
                        "passed_time": 0.2497168559,
                        "remaining_time": 22.4518155,
                        "test": [
                          0.6056498619
                        ]
                      },
                      {
                        "learn": [
                          0.6029803982
                        ],
                        "iteration": 11,
                        "passed_time": 0.2849305835,
                        "remaining_time": 23.45928471,
                        "test": [
                          0.603895528
                        ]
                      },
                      {
                        "learn": [
                          0.6014475179
                        ],
                        "iteration": 12,
                        "passed_time": 0.3085626362,
                        "remaining_time": 23.42702476,
                        "test": [
                          0.6023619991
                        ]
                      },
                      {
                        "learn": [
                          0.6000104458
                        ],
                        "iteration": 13,
                        "passed_time": 0.3318319146,
                        "remaining_time": 23.3704477,
                        "test": [
                          0.6009984796
                        ]
                      },
                      {
                        "learn": [
                          0.5989209456
                        ],
                        "iteration": 14,
                        "passed_time": 0.3548009608,
                        "remaining_time": 23.29859642,
                        "test": [
                          0.5999704952
                        ]
                      },
                      {
                        "learn": [
                          0.5982336053
                        ],
                        "iteration": 15,
                        "passed_time": 0.3874867277,
                        "remaining_time": 23.83043375,
                        "test": [
                          0.5993678147
                        ]
                      },
                      {
                        "learn": [
                          0.5975348952
                        ],
                        "iteration": 16,
                        "passed_time": 0.4103808295,
                        "remaining_time": 23.72966797,
                        "test": [
                          0.5987300097
                        ]
                      },
                      {
                        "learn": [
                          0.5968570903
                        ],
                        "iteration": 17,
                        "passed_time": 0.4333645849,
                        "remaining_time": 23.64244569,
                        "test": [
                          0.598110013
                        ]
                      },
                      {
                        "learn": [
                          0.5962241694
                        ],
                        "iteration": 18,
                        "passed_time": 0.45784615,
                        "remaining_time": 23.63931964,
                        "test": [
                          0.5976083206
                        ]
                      },
                      {
                        "learn": [
                          0.5954386583
                        ],
                        "iteration": 19,
                        "passed_time": 0.480505281,
                        "remaining_time": 23.54475877,
                        "test": [
                          0.5967765399
                        ]
                      },
                      {
                        "learn": [
                          0.5950316955
                        ],
                        "iteration": 20,
                        "passed_time": 0.5044434638,
                        "remaining_time": 23.51667386,
                        "test": [
                          0.5964612843
                        ]
                      },
                      {
                        "learn": [
                          0.5944332919
                        ],
                        "iteration": 21,
                        "passed_time": 0.5274584925,
                        "remaining_time": 23.44792753,
                        "test": [
                          0.5959138714
                        ]
                      },
                      {
                        "learn": [
                          0.5940782366
                        ],
                        "iteration": 22,
                        "passed_time": 0.5548502423,
                        "remaining_time": 23.56907334,
                        "test": [
                          0.5956776593
                        ]
                      },
                      {
                        "learn": [
                          0.5936974936
                        ],
                        "iteration": 23,
                        "passed_time": 0.5781257823,
                        "remaining_time": 23.51044848,
                        "test": [
                          0.5953582563
                        ]
                      },
                      {
                        "learn": [
                          0.5934062892
                        ],
                        "iteration": 24,
                        "passed_time": 0.6008334972,
                        "remaining_time": 23.43250639,
                        "test": [
                          0.5950714889
                        ]
                      },
                      {
                        "learn": [
                          0.5930931625
                        ],
                        "iteration": 25,
                        "passed_time": 0.6268265534,
                        "remaining_time": 23.48188704,
                        "test": [
                          0.5948745969
                        ]
                      },
                      {
                        "learn": [
                          0.5926529767
                        ],
                        "iteration": 26,
                        "passed_time": 0.650224964,
                        "remaining_time": 23.43218111,
                        "test": [
                          0.5944111022
                        ]
                      },
                      {
                        "learn": [
                          0.5923303034
                        ],
                        "iteration": 27,
                        "passed_time": 0.6768265579,
                        "remaining_time": 23.49555051,
                        "test": [
                          0.594076126
                        ]
                      },
                      {
                        "learn": [
                          0.5920182195
                        ],
                        "iteration": 28,
                        "passed_time": 0.6997295323,
                        "remaining_time": 23.42887503,
                        "test": [
                          0.5938354408
                        ]
                      },
                      {
                        "learn": [
                          0.5918522585
                        ],
                        "iteration": 29,
                        "passed_time": 0.7237530448,
                        "remaining_time": 23.40134845,
                        "test": [
                          0.5937356461
                        ]
                      },
                      {
                        "learn": [
                          0.5915656794
                        ],
                        "iteration": 30,
                        "passed_time": 0.7468179635,
                        "remaining_time": 23.34408408,
                        "test": [
                          0.59344715
                        ]
                      },
                      {
                        "learn": [
                          0.5913038401
                        ],
                        "iteration": 31,
                        "passed_time": 0.7707345464,
                        "remaining_time": 23.31472003,
                        "test": [
                          0.5931838816
                        ]
                      },
                      {
                        "learn": [
                          0.5910692205
                        ],
                        "iteration": 32,
                        "passed_time": 0.7923504924,
                        "remaining_time": 23.21827049,
                        "test": [
                          0.59298491
                        ]
                      },
                      {
                        "learn": [
                          0.5908588809
                        ],
                        "iteration": 33,
                        "passed_time": 0.8150860234,
                        "remaining_time": 23.15803231,
                        "test": [
                          0.5928441313
                        ]
                      },
                      {
                        "learn": [
                          0.5907416421
                        ],
                        "iteration": 34,
                        "passed_time": 0.8378862711,
                        "remaining_time": 23.10172147,
                        "test": [
                          0.5928706936
                        ]
                      },
                      {
                        "learn": [
                          0.5906016876
                        ],
                        "iteration": 35,
                        "passed_time": 0.8605554061,
                        "remaining_time": 23.04376143,
                        "test": [
                          0.5928320706
                        ]
                      },
                      {
                        "learn": [
                          0.5904711123
                        ],
                        "iteration": 36,
                        "passed_time": 0.8846481873,
                        "remaining_time": 23.02476228,
                        "test": [
                          0.5927748055
                        ]
                      },
                      {
                        "learn": [
                          0.5902433648
                        ],
                        "iteration": 37,
                        "passed_time": 0.9073509994,
                        "remaining_time": 22.97030688,
                        "test": [
                          0.5925384115
                        ]
                      },
                      {
                        "learn": [
                          0.5900707198
                        ],
                        "iteration": 38,
                        "passed_time": 0.940219954,
                        "remaining_time": 23.16798399,
                        "test": [
                          0.59242974
                        ]
                      },
                      {
                        "learn": [
                          0.5899450351
                        ],
                        "iteration": 39,
                        "passed_time": 0.9610682486,
                        "remaining_time": 23.06563797,
                        "test": [
                          0.5923451199
                        ]
                      },
                      {
                        "learn": [
                          0.5898595343
                        ],
                        "iteration": 40,
                        "passed_time": 0.9836073582,
                        "remaining_time": 23.00681601,
                        "test": [
                          0.5923078723
                        ]
                      },
                      {
                        "learn": [
                          0.5897287746
                        ],
                        "iteration": 41,
                        "passed_time": 1.007386231,
                        "remaining_time": 22.97800021,
                        "test": [
                          0.5922168336
                        ]
                      },
                      {
                        "learn": [
                          0.5895789422
                        ],
                        "iteration": 42,
                        "passed_time": 1.031024596,
                        "remaining_time": 22.94629158,
                        "test": [
                          0.5921684455
                        ]
                      },
                      {
                        "learn": [
                          0.5894477234
                        ],
                        "iteration": 43,
                        "passed_time": 1.05466014,
                        "remaining_time": 22.9148885,
                        "test": [
                          0.5920322099
                        ]
                      },
                      {
                        "learn": [
                          0.5893131951
                        ],
                        "iteration": 44,
                        "passed_time": 1.076502854,
                        "remaining_time": 22.84578278,
                        "test": [
                          0.5918859391
                        ]
                      },
                      {
                        "learn": [
                          0.5892291148
                        ],
                        "iteration": 45,
                        "passed_time": 1.098817953,
                        "remaining_time": 22.78852885,
                        "test": [
                          0.5918121532
                        ]
                      },
                      {
                        "learn": [
                          0.5890750808
                        ],
                        "iteration": 46,
                        "passed_time": 1.125646428,
                        "remaining_time": 22.82427758,
                        "test": [
                          0.5916596082
                        ]
                      },
                      {
                        "learn": [
                          0.5889771038
                        ],
                        "iteration": 47,
                        "passed_time": 1.148946189,
                        "remaining_time": 22.78743274,
                        "test": [
                          0.5916645205
                        ]
                      },
                      {
                        "learn": [
                          0.5888024954
                        ],
                        "iteration": 48,
                        "passed_time": 1.171513262,
                        "remaining_time": 22.73692065,
                        "test": [
                          0.5915252033
                        ]
                      },
                      {
                        "learn": [
                          0.5887233593
                        ],
                        "iteration": 49,
                        "passed_time": 1.194401546,
                        "remaining_time": 22.69362937,
                        "test": [
                          0.5914988612
                        ]
                      },
                      {
                        "learn": [
                          0.5886573884
                        ],
                        "iteration": 50,
                        "passed_time": 1.21591597,
                        "remaining_time": 22.62557363,
                        "test": [
                          0.5914597065
                        ]
                      },
                      {
                        "learn": [
                          0.5885857311
                        ],
                        "iteration": 51,
                        "passed_time": 1.239252449,
                        "remaining_time": 22.59252542,
                        "test": [
                          0.5914309858
                        ]
                      },
                      {
                        "learn": [
                          0.5884969402
                        ],
                        "iteration": 52,
                        "passed_time": 1.262067935,
                        "remaining_time": 22.55053462,
                        "test": [
                          0.5914224789
                        ]
                      },
                      {
                        "learn": [
                          0.588418051
                        ],
                        "iteration": 53,
                        "passed_time": 1.289470403,
                        "remaining_time": 22.58961113,
                        "test": [
                          0.591377075
                        ]
                      },
                      {
                        "learn": [
                          0.5883445623
                        ],
                        "iteration": 54,
                        "passed_time": 1.319218446,
                        "remaining_time": 22.66657148,
                        "test": [
                          0.5913960967
                        ]
                      },
                      {
                        "learn": [
                          0.5882493949
                        ],
                        "iteration": 55,
                        "passed_time": 1.348183162,
                        "remaining_time": 22.72651616,
                        "test": [
                          0.5913792342
                        ]
                      },
                      {
                        "learn": [
                          0.5881281938
                        ],
                        "iteration": 56,
                        "passed_time": 1.371005097,
                        "remaining_time": 22.6817159,
                        "test": [
                          0.5913522722
                        ]
                      },
                      {
                        "learn": [
                          0.5880491748
                        ],
                        "iteration": 57,
                        "passed_time": 1.394182236,
                        "remaining_time": 22.64344252,
                        "test": [
                          0.5913272208
                        ]
                      },
                      {
                        "learn": [
                          0.5879779772
                        ],
                        "iteration": 58,
                        "passed_time": 1.417931662,
                        "remaining_time": 22.61480837,
                        "test": [
                          0.5913292123
                        ]
                      },
                      {
                        "learn": [
                          0.5879020586
                        ],
                        "iteration": 59,
                        "passed_time": 1.443606382,
                        "remaining_time": 22.61649998,
                        "test": [
                          0.5913026456
                        ]
                      },
                      {
                        "learn": [
                          0.5878605536
                        ],
                        "iteration": 60,
                        "passed_time": 1.465208388,
                        "remaining_time": 22.55460125,
                        "test": [
                          0.5912571098
                        ]
                      },
                      {
                        "learn": [
                          0.587750559
                        ],
                        "iteration": 61,
                        "passed_time": 1.487996765,
                        "remaining_time": 22.51195105,
                        "test": [
                          0.5911851472
                        ]
                      },
                      {
                        "learn": [
                          0.5877081989
                        ],
                        "iteration": 62,
                        "passed_time": 1.510817108,
                        "remaining_time": 22.47040682,
                        "test": [
                          0.5912001379
                        ]
                      },
                      {
                        "learn": [
                          0.5876560656
                        ],
                        "iteration": 63,
                        "passed_time": 1.534163972,
                        "remaining_time": 22.4371481,
                        "test": [
                          0.5911982934
                        ]
                      },
                      {
                        "learn": [
                          0.5875684583
                        ],
                        "iteration": 64,
                        "passed_time": 1.55577157,
                        "remaining_time": 22.37917566,
                        "test": [
                          0.591152375
                        ]
                      },
                      {
                        "learn": [
                          0.5875311049
                        ],
                        "iteration": 65,
                        "passed_time": 1.583044701,
                        "remaining_time": 22.40248107,
                        "test": [
                          0.5911490013
                        ]
                      },
                      {
                        "learn": [
                          0.5874399352
                        ],
                        "iteration": 66,
                        "passed_time": 1.614223224,
                        "remaining_time": 22.47866071,
                        "test": [
                          0.591163827
                        ]
                      },
                      {
                        "learn": [
                          0.5873531865
                        ],
                        "iteration": 67,
                        "passed_time": 1.637145901,
                        "remaining_time": 22.43852911,
                        "test": [
                          0.5910726117
                        ]
                      },
                      {
                        "learn": [
                          0.5872396456
                        ],
                        "iteration": 68,
                        "passed_time": 1.659995335,
                        "remaining_time": 22.39790807,
                        "test": [
                          0.5909779208
                        ]
                      },
                      {
                        "learn": [
                          0.5871440219
                        ],
                        "iteration": 69,
                        "passed_time": 1.684318021,
                        "remaining_time": 22.37736799,
                        "test": [
                          0.5909424908
                        ]
                      },
                      {
                        "learn": [
                          0.5870947195
                        ],
                        "iteration": 70,
                        "passed_time": 1.706965114,
                        "remaining_time": 22.33479705,
                        "test": [
                          0.5909497206
                        ]
                      },
                      {
                        "learn": [
                          0.5870035718
                        ],
                        "iteration": 71,
                        "passed_time": 1.730568055,
                        "remaining_time": 22.30509938,
                        "test": [
                          0.5909518528
                        ]
                      },
                      {
                        "learn": [
                          0.5869136169
                        ],
                        "iteration": 72,
                        "passed_time": 1.751868043,
                        "remaining_time": 22.24632433,
                        "test": [
                          0.5909086566
                        ]
                      },
                      {
                        "learn": [
                          0.5868317701
                        ],
                        "iteration": 73,
                        "passed_time": 1.777847845,
                        "remaining_time": 22.24712304,
                        "test": [
                          0.5908502384
                        ]
                      },
                      {
                        "learn": [
                          0.5867678989
                        ],
                        "iteration": 74,
                        "passed_time": 1.800582483,
                        "remaining_time": 22.20718396,
                        "test": [
                          0.5908267984
                        ]
                      },
                      {
                        "learn": [
                          0.5867062459
                        ],
                        "iteration": 75,
                        "passed_time": 1.823551574,
                        "remaining_time": 22.17054808,
                        "test": [
                          0.5908227003
                        ]
                      },
                      {
                        "learn": [
                          0.5866363681
                        ],
                        "iteration": 76,
                        "passed_time": 1.84603074,
                        "remaining_time": 22.12839446,
                        "test": [
                          0.5907779866
                        ]
                      },
                      {
                        "learn": [
                          0.5865537028
                        ],
                        "iteration": 77,
                        "passed_time": 1.868221981,
                        "remaining_time": 22.08334188,
                        "test": [
                          0.5907525448
                        ]
                      },
                      {
                        "learn": [
                          0.5864860304
                        ],
                        "iteration": 78,
                        "passed_time": 1.89235848,
                        "remaining_time": 22.06154633,
                        "test": [
                          0.5907075839
                        ]
                      },
                      {
                        "learn": [
                          0.5863774182
                        ],
                        "iteration": 79,
                        "passed_time": 1.914972137,
                        "remaining_time": 22.02217957,
                        "test": [
                          0.590700358
                        ]
                      },
                      {
                        "learn": [
                          0.5863424679
                        ],
                        "iteration": 80,
                        "passed_time": 1.950860577,
                        "remaining_time": 22.1338379,
                        "test": [
                          0.5906887359
                        ]
                      },
                      {
                        "learn": [
                          0.5862799673
                        ],
                        "iteration": 81,
                        "passed_time": 1.973643426,
                        "remaining_time": 22.09517885,
                        "test": [
                          0.590670931
                        ]
                      },
                      {
                        "learn": [
                          0.5862207902
                        ],
                        "iteration": 82,
                        "passed_time": 1.99514488,
                        "remaining_time": 22.04274524,
                        "test": [
                          0.5906094316
                        ]
                      },
                      {
                        "learn": [
                          0.586192509
                        ],
                        "iteration": 83,
                        "passed_time": 2.017614835,
                        "remaining_time": 22.00160939,
                        "test": [
                          0.5905904304
                        ]
                      },
                      {
                        "learn": [
                          0.586023697
                        ],
                        "iteration": 84,
                        "passed_time": 2.04009821,
                        "remaining_time": 21.9610572,
                        "test": [
                          0.590402039
                        ]
                      },
                      {
                        "learn": [
                          0.585949767
                        ],
                        "iteration": 85,
                        "passed_time": 2.063603232,
                        "remaining_time": 21.93178319,
                        "test": [
                          0.5903685433
                        ]
                      },
                      {
                        "learn": [
                          0.5859078202
                        ],
                        "iteration": 86,
                        "passed_time": 2.086605852,
                        "remaining_time": 21.89736946,
                        "test": [
                          0.5903510706
                        ]
                      },
                      {
                        "learn": [
                          0.5858261619
                        ],
                        "iteration": 87,
                        "passed_time": 2.109573958,
                        "remaining_time": 21.86285738,
                        "test": [
                          0.5903967066
                        ]
                      },
                      {
                        "learn": [
                          0.5857932301
                        ],
                        "iteration": 88,
                        "passed_time": 2.132991707,
                        "remaining_time": 21.83320725,
                        "test": [
                          0.5904014245
                        ]
                      },
                      {
                        "learn": [
                          0.5857178498
                        ],
                        "iteration": 89,
                        "passed_time": 2.155597257,
                        "remaining_time": 21.79548338,
                        "test": [
                          0.5903838003
                        ]
                      },
                      {
                        "learn": [
                          0.5856809227
                        ],
                        "iteration": 90,
                        "passed_time": 2.179902441,
                        "remaining_time": 21.77506943,
                        "test": [
                          0.5903976615
                        ]
                      },
                      {
                        "learn": [
                          0.5856258085
                        ],
                        "iteration": 91,
                        "passed_time": 2.203080686,
                        "remaining_time": 21.74344851,
                        "test": [
                          0.5903622984
                        ]
                      },
                      {
                        "learn": [
                          0.5855644588
                        ],
                        "iteration": 92,
                        "passed_time": 2.226677214,
                        "remaining_time": 21.71608853,
                        "test": [
                          0.5903317846
                        ]
                      },
                      {
                        "learn": [
                          0.5854892491
                        ],
                        "iteration": 93,
                        "passed_time": 2.250241696,
                        "remaining_time": 21.68849975,
                        "test": [
                          0.5903473147
                        ]
                      },
                      {
                        "learn": [
                          0.5853828764
                        ],
                        "iteration": 94,
                        "passed_time": 2.275066802,
                        "remaining_time": 21.6730048,
                        "test": [
                          0.5902456405
                        ]
                      },
                      {
                        "learn": [
                          0.5853100302
                        ],
                        "iteration": 95,
                        "passed_time": 2.30205788,
                        "remaining_time": 21.6777117,
                        "test": [
                          0.5902006731
                        ]
                      },
                      {
                        "learn": [
                          0.5852073027
                        ],
                        "iteration": 96,
                        "passed_time": 2.334511277,
                        "remaining_time": 21.73261529,
                        "test": [
                          0.590062029
                        ]
                      },
                      {
                        "learn": [
                          0.5851307874
                        ],
                        "iteration": 97,
                        "passed_time": 2.35703205,
                        "remaining_time": 21.6943154,
                        "test": [
                          0.5900724762
                        ]
                      },
                      {
                        "learn": [
                          0.5850753533
                        ],
                        "iteration": 98,
                        "passed_time": 2.379790563,
                        "remaining_time": 21.65849796,
                        "test": [
                          0.5900592715
                        ]
                      },
                      {
                        "learn": [
                          0.5850554144
                        ],
                        "iteration": 99,
                        "passed_time": 2.401640723,
                        "remaining_time": 21.61476651,
                        "test": [
                          0.5900384288
                        ]
                      },
                      {
                        "learn": [
                          0.5850027405
                        ],
                        "iteration": 100,
                        "passed_time": 2.42515326,
                        "remaining_time": 21.58626516,
                        "test": [
                          0.5900504632
                        ]
                      },
                      {
                        "learn": [
                          0.5848968246
                        ],
                        "iteration": 101,
                        "passed_time": 2.447822902,
                        "remaining_time": 21.55044085,
                        "test": [
                          0.5899553378
                        ]
                      },
                      {
                        "learn": [
                          0.5848245846
                        ],
                        "iteration": 102,
                        "passed_time": 2.471772086,
                        "remaining_time": 21.52601515,
                        "test": [
                          0.5899658556
                        ]
                      },
                      {
                        "learn": [
                          0.5847234851
                        ],
                        "iteration": 103,
                        "passed_time": 2.494533891,
                        "remaining_time": 21.4913689,
                        "test": [
                          0.5899415599
                        ]
                      },
                      {
                        "learn": [
                          0.5846670759
                        ],
                        "iteration": 104,
                        "passed_time": 2.519360138,
                        "remaining_time": 21.47454594,
                        "test": [
                          0.5899400627
                        ]
                      },
                      {
                        "learn": [
                          0.5845677428
                        ],
                        "iteration": 105,
                        "passed_time": 2.541972602,
                        "remaining_time": 21.438901,
                        "test": [
                          0.5899226807
                        ]
                      },
                      {
                        "learn": [
                          0.584496616
                        ],
                        "iteration": 106,
                        "passed_time": 2.565270565,
                        "remaining_time": 21.4092207,
                        "test": [
                          0.589929455
                        ]
                      },
                      {
                        "learn": [
                          0.5844345693
                        ],
                        "iteration": 107,
                        "passed_time": 2.588482578,
                        "remaining_time": 21.3789487,
                        "test": [
                          0.5899222956
                        ]
                      },
                      {
                        "learn": [
                          0.5843843367
                        ],
                        "iteration": 108,
                        "passed_time": 2.61322593,
                        "remaining_time": 21.36132389,
                        "test": [
                          0.5899374745
                        ]
                      },
                      {
                        "learn": [
                          0.584343315
                        ],
                        "iteration": 109,
                        "passed_time": 2.634975622,
                        "remaining_time": 21.31934821,
                        "test": [
                          0.5899282768
                        ]
                      },
                      {
                        "learn": [
                          0.5842794211
                        ],
                        "iteration": 110,
                        "passed_time": 2.65803308,
                        "remaining_time": 21.28821089,
                        "test": [
                          0.5899227969
                        ]
                      },
                      {
                        "learn": [
                          0.5841868806
                        ],
                        "iteration": 111,
                        "passed_time": 2.682050194,
                        "remaining_time": 21.26482654,
                        "test": [
                          0.589886279
                        ]
                      },
                      {
                        "learn": [
                          0.5841100912
                        ],
                        "iteration": 112,
                        "passed_time": 2.705279132,
                        "remaining_time": 21.23524416,
                        "test": [
                          0.5898453112
                        ]
                      },
                      {
                        "learn": [
                          0.5840374026
                        ],
                        "iteration": 113,
                        "passed_time": 2.729099778,
                        "remaining_time": 21.21037196,
                        "test": [
                          0.5898288976
                        ]
                      },
                      {
                        "learn": [
                          0.5839930672
                        ],
                        "iteration": 114,
                        "passed_time": 2.75094575,
                        "remaining_time": 21.17032164,
                        "test": [
                          0.5898340048
                        ]
                      },
                      {
                        "learn": [
                          0.5839676001
                        ],
                        "iteration": 115,
                        "passed_time": 2.773234157,
                        "remaining_time": 21.13395685,
                        "test": [
                          0.5898327298
                        ]
                      },
                      {
                        "learn": [
                          0.583941846
                        ],
                        "iteration": 116,
                        "passed_time": 2.798436381,
                        "remaining_time": 21.11982329,
                        "test": [
                          0.5898222676
                        ]
                      },
                      {
                        "learn": [
                          0.5838940208
                        ],
                        "iteration": 117,
                        "passed_time": 2.830820386,
                        "remaining_time": 21.15918288,
                        "test": [
                          0.5898156508
                        ]
                      },
                      {
                        "learn": [
                          0.5838541139
                        ],
                        "iteration": 118,
                        "passed_time": 2.857057917,
                        "remaining_time": 21.15183214,
                        "test": [
                          0.5898250199
                        ]
                      },
                      {
                        "learn": [
                          0.5837699344
                        ],
                        "iteration": 119,
                        "passed_time": 2.880688022,
                        "remaining_time": 21.12504549,
                        "test": [
                          0.589751856
                        ]
                      },
                      {
                        "learn": [
                          0.5837419432
                        ],
                        "iteration": 120,
                        "passed_time": 2.902373906,
                        "remaining_time": 21.0841873,
                        "test": [
                          0.5897507954
                        ]
                      },
                      {
                        "learn": [
                          0.5836733504
                        ],
                        "iteration": 121,
                        "passed_time": 2.931773487,
                        "remaining_time": 21.09915673,
                        "test": [
                          0.5897787917
                        ]
                      },
                      {
                        "learn": [
                          0.5835973374
                        ],
                        "iteration": 122,
                        "passed_time": 2.960565293,
                        "remaining_time": 21.10907123,
                        "test": [
                          0.5897876202
                        ]
                      },
                      {
                        "learn": [
                          0.5835002041
                        ],
                        "iteration": 123,
                        "passed_time": 2.983696753,
                        "remaining_time": 21.07837384,
                        "test": [
                          0.5897251758
                        ]
                      },
                      {
                        "learn": [
                          0.5831862943
                        ],
                        "iteration": 124,
                        "passed_time": 3.006443049,
                        "remaining_time": 21.04510134,
                        "test": [
                          0.5893327178
                        ]
                      },
                      {
                        "learn": [
                          0.583111532
                        ],
                        "iteration": 125,
                        "passed_time": 3.03366152,
                        "remaining_time": 21.04301721,
                        "test": [
                          0.5893182026
                        ]
                      },
                      {
                        "learn": [
                          0.5830139782
                        ],
                        "iteration": 126,
                        "passed_time": 3.056806499,
                        "remaining_time": 21.01253601,
                        "test": [
                          0.5892532092
                        ]
                      },
                      {
                        "learn": [
                          0.582932499
                        ],
                        "iteration": 127,
                        "passed_time": 3.077673632,
                        "remaining_time": 20.96665162,
                        "test": [
                          0.5892053638
                        ]
                      },
                      {
                        "learn": [
                          0.5828367175
                        ],
                        "iteration": 128,
                        "passed_time": 3.100362798,
                        "remaining_time": 20.93345734,
                        "test": [
                          0.5891451435
                        ]
                      },
                      {
                        "learn": [
                          0.5827341762
                        ],
                        "iteration": 129,
                        "passed_time": 3.124811444,
                        "remaining_time": 20.91219966,
                        "test": [
                          0.5891361453
                        ]
                      },
                      {
                        "learn": [
                          0.5826758855
                        ],
                        "iteration": 130,
                        "passed_time": 3.146076479,
                        "remaining_time": 20.86977451,
                        "test": [
                          0.5891057079
                        ]
                      },
                      {
                        "learn": [
                          0.5825845665
                        ],
                        "iteration": 131,
                        "passed_time": 3.168569982,
                        "remaining_time": 20.83574806,
                        "test": [
                          0.5890999371
                        ]
                      },
                      {
                        "learn": [
                          0.582501798
                        ],
                        "iteration": 132,
                        "passed_time": 3.191010631,
                        "remaining_time": 20.8015505,
                        "test": [
                          0.5890690203
                        ]
                      },
                      {
                        "learn": [
                          0.5824325163
                        ],
                        "iteration": 133,
                        "passed_time": 3.213332144,
                        "remaining_time": 20.76675848,
                        "test": [
                          0.5891059735
                        ]
                      },
                      {
                        "learn": [
                          0.5823506009
                        ],
                        "iteration": 134,
                        "passed_time": 3.236865281,
                        "remaining_time": 20.73991458,
                        "test": [
                          0.5890864661
                        ]
                      },
                      {
                        "learn": [
                          0.582242367
                        ],
                        "iteration": 135,
                        "passed_time": 3.26149612,
                        "remaining_time": 20.720093,
                        "test": [
                          0.5890198868
                        ]
                      },
                      {
                        "learn": [
                          0.5821430043
                        ],
                        "iteration": 136,
                        "passed_time": 3.285000075,
                        "remaining_time": 20.69310266,
                        "test": [
                          0.589032083
                        ]
                      },
                      {
                        "learn": [
                          0.582090561
                        ],
                        "iteration": 137,
                        "passed_time": 3.311324556,
                        "remaining_time": 20.68378092,
                        "test": [
                          0.5890181128
                        ]
                      },
                      {
                        "learn": [
                          0.5819748738
                        ],
                        "iteration": 138,
                        "passed_time": 3.376791624,
                        "remaining_time": 20.9166733,
                        "test": [
                          0.5890090155
                        ]
                      },
                      {
                        "learn": [
                          0.5818783149
                        ],
                        "iteration": 139,
                        "passed_time": 3.440339338,
                        "remaining_time": 21.13351307,
                        "test": [
                          0.5889686776
                        ]
                      },
                      {
                        "learn": [
                          0.5817245256
                        ],
                        "iteration": 140,
                        "passed_time": 3.498852358,
                        "remaining_time": 21.31570337,
                        "test": [
                          0.588817377
                        ]
                      },
                      {
                        "learn": [
                          0.5816587335
                        ],
                        "iteration": 141,
                        "passed_time": 3.550973106,
                        "remaining_time": 21.45587975,
                        "test": [
                          0.5888022672
                        ]
                      },
                      {
                        "learn": [
                          0.5815671671
                        ],
                        "iteration": 142,
                        "passed_time": 3.610201094,
                        "remaining_time": 21.6359604,
                        "test": [
                          0.5888052773
                        ]
                      },
                      {
                        "learn": [
                          0.5815275843
                        ],
                        "iteration": 143,
                        "passed_time": 3.664637508,
                        "remaining_time": 21.78423408,
                        "test": [
                          0.5888202885
                        ]
                      },
                      {
                        "learn": [
                          0.5814230367
                        ],
                        "iteration": 144,
                        "passed_time": 3.718698309,
                        "remaining_time": 21.92749692,
                        "test": [
                          0.5887978833
                        ]
                      },
                      {
                        "learn": [
                          0.5813133837
                        ],
                        "iteration": 145,
                        "passed_time": 3.777215105,
                        "remaining_time": 22.09412123,
                        "test": [
                          0.588719002
                        ]
                      },
                      {
                        "learn": [
                          0.5812356967
                        ],
                        "iteration": 146,
                        "passed_time": 3.840567005,
                        "remaining_time": 22.28573915,
                        "test": [
                          0.5886669658
                        ]
                      },
                      {
                        "learn": [
                          0.581181496
                        ],
                        "iteration": 147,
                        "passed_time": 3.887970503,
                        "remaining_time": 22.38210046,
                        "test": [
                          0.5886691953
                        ]
                      },
                      {
                        "learn": [
                          0.5811511979
                        ],
                        "iteration": 148,
                        "passed_time": 3.95038901,
                        "remaining_time": 22.56228891,
                        "test": [
                          0.5886714509
                        ]
                      },
                      {
                        "learn": [
                          0.5810127354
                        ],
                        "iteration": 149,
                        "passed_time": 4.008618057,
                        "remaining_time": 22.71550233,
                        "test": [
                          0.5885444928
                        ]
                      },
                      {
                        "learn": [
                          0.5809355794
                        ],
                        "iteration": 150,
                        "passed_time": 4.063581891,
                        "remaining_time": 22.84755646,
                        "test": [
                          0.5885510614
                        ]
                      },
                      {
                        "learn": [
                          0.5807551246
                        ],
                        "iteration": 151,
                        "passed_time": 4.12137468,
                        "remaining_time": 22.99293243,
                        "test": [
                          0.5883830048
                        ]
                      },
                      {
                        "learn": [
                          0.5806738252
                        ],
                        "iteration": 152,
                        "passed_time": 4.182732826,
                        "remaining_time": 23.15539022,
                        "test": [
                          0.5883886383
                        ]
                      },
                      {
                        "learn": [
                          0.5805982962
                        ],
                        "iteration": 153,
                        "passed_time": 4.236985581,
                        "remaining_time": 23.2759078,
                        "test": [
                          0.5883880699
                        ]
                      },
                      {
                        "learn": [
                          0.5805259563
                        ],
                        "iteration": 154,
                        "passed_time": 4.295395958,
                        "remaining_time": 23.41683603,
                        "test": [
                          0.5883797029
                        ]
                      },
                      {
                        "learn": [
                          0.5804448485
                        ],
                        "iteration": 155,
                        "passed_time": 4.358900246,
                        "remaining_time": 23.582768,
                        "test": [
                          0.5884037977
                        ]
                      },
                      {
                        "learn": [
                          0.5803536229
                        ],
                        "iteration": 156,
                        "passed_time": 4.418304099,
                        "remaining_time": 23.72376023,
                        "test": [
                          0.5884029398
                        ]
                      },
                      {
                        "learn": [
                          0.5803158168
                        ],
                        "iteration": 157,
                        "passed_time": 4.475605399,
                        "remaining_time": 23.85101105,
                        "test": [
                          0.5883951644
                        ]
                      },
                      {
                        "learn": [
                          0.5802510161
                        ],
                        "iteration": 158,
                        "passed_time": 4.53565571,
                        "remaining_time": 23.99048083,
                        "test": [
                          0.5883881408
                        ]
                      },
                      {
                        "learn": [
                          0.5801622424
                        ],
                        "iteration": 159,
                        "passed_time": 4.596315314,
                        "remaining_time": 24.1306554,
                        "test": [
                          0.5883391217
                        ]
                      },
                      {
                        "learn": [
                          0.5800783381
                        ],
                        "iteration": 160,
                        "passed_time": 4.655978169,
                        "remaining_time": 24.26314089,
                        "test": [
                          0.5883391359
                        ]
                      },
                      {
                        "learn": [
                          0.5800209046
                        ],
                        "iteration": 161,
                        "passed_time": 4.716065032,
                        "remaining_time": 24.39544751,
                        "test": [
                          0.5883336051
                        ]
                      },
                      {
                        "learn": [
                          0.5799544593
                        ],
                        "iteration": 162,
                        "passed_time": 4.766708246,
                        "remaining_time": 24.47690063,
                        "test": [
                          0.5883487341
                        ]
                      },
                      {
                        "learn": [
                          0.5798834278
                        ],
                        "iteration": 163,
                        "passed_time": 4.797942435,
                        "remaining_time": 24.45780412,
                        "test": [
                          0.5883477426
                        ]
                      },
                      {
                        "learn": [
                          0.5797731627
                        ],
                        "iteration": 164,
                        "passed_time": 4.830240232,
                        "remaining_time": 24.44394299,
                        "test": [
                          0.5882903243
                        ]
                      },
                      {
                        "learn": [
                          0.5796944234
                        ],
                        "iteration": 165,
                        "passed_time": 4.887309693,
                        "remaining_time": 24.55431497,
                        "test": [
                          0.5882945817
                        ]
                      },
                      {
                        "learn": [
                          0.5796083472
                        ],
                        "iteration": 166,
                        "passed_time": 4.9406532,
                        "remaining_time": 24.6440965,
                        "test": [
                          0.588296153
                        ]
                      },
                      {
                        "learn": [
                          0.5795209926
                        ],
                        "iteration": 167,
                        "passed_time": 5.015133131,
                        "remaining_time": 24.83684979,
                        "test": [
                          0.5882309889
                        ]
                      },
                      {
                        "learn": [
                          0.5794043664
                        ],
                        "iteration": 168,
                        "passed_time": 5.072239125,
                        "remaining_time": 24.94101013,
                        "test": [
                          0.5881245492
                        ]
                      },
                      {
                        "learn": [
                          0.5793338499
                        ],
                        "iteration": 169,
                        "passed_time": 5.122293443,
                        "remaining_time": 25.00884446,
                        "test": [
                          0.5881483601
                        ]
                      },
                      {
                        "learn": [
                          0.5792711796
                        ],
                        "iteration": 170,
                        "passed_time": 5.175458558,
                        "remaining_time": 25.09038096,
                        "test": [
                          0.588144645
                        ]
                      },
                      {
                        "learn": [
                          0.579113983
                        ],
                        "iteration": 171,
                        "passed_time": 5.238778514,
                        "remaining_time": 25.2192361,
                        "test": [
                          0.5879949439
                        ]
                      },
                      {
                        "learn": [
                          0.5790775752
                        ],
                        "iteration": 172,
                        "passed_time": 5.294690855,
                        "remaining_time": 25.31045859,
                        "test": [
                          0.5880086775
                        ]
                      },
                      {
                        "learn": [
                          0.5790181671
                        ],
                        "iteration": 173,
                        "passed_time": 5.341497508,
                        "remaining_time": 25.35676403,
                        "test": [
                          0.5879927399
                        ]
                      },
                      {
                        "learn": [
                          0.5789319767
                        ],
                        "iteration": 174,
                        "passed_time": 5.378439329,
                        "remaining_time": 25.35549969,
                        "test": [
                          0.5879954205
                        ]
                      },
                      {
                        "learn": [
                          0.5788493517
                        ],
                        "iteration": 175,
                        "passed_time": 5.432829893,
                        "remaining_time": 25.43552177,
                        "test": [
                          0.5880063087
                        ]
                      },
                      {
                        "learn": [
                          0.5787744136
                        ],
                        "iteration": 176,
                        "passed_time": 5.463598775,
                        "remaining_time": 25.40419092,
                        "test": [
                          0.5879942783
                        ]
                      },
                      {
                        "learn": [
                          0.5787428757
                        ],
                        "iteration": 177,
                        "passed_time": 5.492032716,
                        "remaining_time": 25.36208367,
                        "test": [
                          0.5879964978
                        ]
                      },
                      {
                        "learn": [
                          0.5786593855
                        ],
                        "iteration": 178,
                        "passed_time": 5.52434407,
                        "remaining_time": 25.33791331,
                        "test": [
                          0.5879915531
                        ]
                      },
                      {
                        "learn": [
                          0.5785906512
                        ],
                        "iteration": 179,
                        "passed_time": 5.576485696,
                        "remaining_time": 25.40399039,
                        "test": [
                          0.5879948562
                        ]
                      },
                      {
                        "learn": [
                          0.5785023312
                        ],
                        "iteration": 180,
                        "passed_time": 5.633130637,
                        "remaining_time": 25.48913807,
                        "test": [
                          0.5880430889
                        ]
                      },
                      {
                        "learn": [
                          0.5784324784
                        ],
                        "iteration": 181,
                        "passed_time": 5.68897453,
                        "remaining_time": 25.56912728,
                        "test": [
                          0.5880443783
                        ]
                      },
                      {
                        "learn": [
                          0.5783963996
                        ],
                        "iteration": 182,
                        "passed_time": 5.74760969,
                        "remaining_time": 25.66009354,
                        "test": [
                          0.588061354
                        ]
                      },
                      {
                        "learn": [
                          0.5783289811
                        ],
                        "iteration": 183,
                        "passed_time": 5.803767176,
                        "remaining_time": 25.73844574,
                        "test": [
                          0.5880717847
                        ]
                      },
                      {
                        "learn": [
                          0.5782629235
                        ],
                        "iteration": 184,
                        "passed_time": 5.862413843,
                        "remaining_time": 25.82630963,
                        "test": [
                          0.5880556818
                        ]
                      },
                      {
                        "learn": [
                          0.5781808106
                        ],
                        "iteration": 185,
                        "passed_time": 5.924764174,
                        "remaining_time": 25.92880666,
                        "test": [
                          0.5880418351
                        ]
                      },
                      {
                        "learn": [
                          0.5781261293
                        ],
                        "iteration": 186,
                        "passed_time": 5.990731947,
                        "remaining_time": 26.04526777,
                        "test": [
                          0.5880474989
                        ]
                      },
                      {
                        "learn": [
                          0.5780614442
                        ],
                        "iteration": 187,
                        "passed_time": 6.049574549,
                        "remaining_time": 26.12901348,
                        "test": [
                          0.5880554054
                        ]
                      },
                      {
                        "learn": [
                          0.5780552146
                        ],
                        "iteration": 188,
                        "passed_time": 6.102134006,
                        "remaining_time": 26.1842893,
                        "test": [
                          0.5880632891
                        ]
                      },
                      {
                        "learn": [
                          0.5779788895
                        ],
                        "iteration": 189,
                        "passed_time": 6.163866813,
                        "remaining_time": 26.27753747,
                        "test": [
                          0.5880574381
                        ]
                      },
                      {
                        "learn": [
                          0.5779303584
                        ],
                        "iteration": 190,
                        "passed_time": 6.220135765,
                        "remaining_time": 26.34602007,
                        "test": [
                          0.5880280795
                        ]
                      },
                      {
                        "learn": [
                          0.5778519606
                        ],
                        "iteration": 191,
                        "passed_time": 6.273669652,
                        "remaining_time": 26.40169312,
                        "test": [
                          0.587992649
                        ]
                      },
                      {
                        "learn": [
                          0.5777955955
                        ],
                        "iteration": 192,
                        "passed_time": 6.331466359,
                        "remaining_time": 26.47405882,
                        "test": [
                          0.5879877155
                        ]
                      },
                      {
                        "learn": [
                          0.5777195514
                        ],
                        "iteration": 193,
                        "passed_time": 6.388862318,
                        "remaining_time": 26.54341767,
                        "test": [
                          0.58801269
                        ]
                      },
                      {
                        "learn": [
                          0.5776539306
                        ],
                        "iteration": 194,
                        "passed_time": 6.450435263,
                        "remaining_time": 26.62871993,
                        "test": [
                          0.5880173405
                        ]
                      },
                      {
                        "learn": [
                          0.5775755784
                        ],
                        "iteration": 195,
                        "passed_time": 6.509500741,
                        "remaining_time": 26.70223773,
                        "test": [
                          0.5879945756
                        ]
                      },
                      {
                        "learn": [
                          0.5775101436
                        ],
                        "iteration": 196,
                        "passed_time": 6.569467864,
                        "remaining_time": 26.77808475,
                        "test": [
                          0.5880173666
                        ]
                      },
                      {
                        "learn": [
                          0.5774156993
                        ],
                        "iteration": 197,
                        "passed_time": 6.630446605,
                        "remaining_time": 26.85665746,
                        "test": [
                          0.5879994828
                        ]
                      },
                      {
                        "learn": [
                          0.5773399983
                        ],
                        "iteration": 198,
                        "passed_time": 6.686098166,
                        "remaining_time": 26.91238508,
                        "test": [
                          0.5879860092
                        ]
                      },
                      {
                        "learn": [
                          0.5772506486
                        ],
                        "iteration": 199,
                        "passed_time": 6.744063075,
                        "remaining_time": 26.9762523,
                        "test": [
                          0.5879948458
                        ]
                      },
                      {
                        "learn": [
                          0.5771697177
                        ],
                        "iteration": 200,
                        "passed_time": 6.793866279,
                        "remaining_time": 27.00646347,
                        "test": [
                          0.5879692175
                        ]
                      },
                      {
                        "learn": [
                          0.5770882056
                        ],
                        "iteration": 201,
                        "passed_time": 6.852167841,
                        "remaining_time": 27.06945513,
                        "test": [
                          0.5880019317
                        ]
                      },
                      {
                        "learn": [
                          0.5770195737
                        ],
                        "iteration": 202,
                        "passed_time": 6.907760795,
                        "remaining_time": 27.12061751,
                        "test": [
                          0.587991794
                        ]
                      },
                      {
                        "learn": [
                          0.5769543565
                        ],
                        "iteration": 203,
                        "passed_time": 6.970691516,
                        "remaining_time": 27.19936493,
                        "test": [
                          0.5879607257
                        ]
                      },
                      {
                        "learn": [
                          0.5769050127
                        ],
                        "iteration": 204,
                        "passed_time": 7.022897925,
                        "remaining_time": 27.23514073,
                        "test": [
                          0.5879622843
                        ]
                      },
                      {
                        "learn": [
                          0.5768506491
                        ],
                        "iteration": 205,
                        "passed_time": 7.06795931,
                        "remaining_time": 27.24252278,
                        "test": [
                          0.5879834017
                        ]
                      },
                      {
                        "learn": [
                          0.5767998271
                        ],
                        "iteration": 206,
                        "passed_time": 7.105006896,
                        "remaining_time": 27.21869792,
                        "test": [
                          0.5879701208
                        ]
                      },
                      {
                        "learn": [
                          0.5767095082
                        ],
                        "iteration": 207,
                        "passed_time": 7.157114155,
                        "remaining_time": 27.25208851,
                        "test": [
                          0.5879755426
                        ]
                      },
                      {
                        "learn": [
                          0.5766399971
                        ],
                        "iteration": 208,
                        "passed_time": 7.212746801,
                        "remaining_time": 27.29800344,
                        "test": [
                          0.5879858847
                        ]
                      },
                      {
                        "learn": [
                          0.5765660111
                        ],
                        "iteration": 209,
                        "passed_time": 7.267220943,
                        "remaining_time": 27.33859307,
                        "test": [
                          0.5879246353
                        ]
                      },
                      {
                        "learn": [
                          0.5765122696
                        ],
                        "iteration": 210,
                        "passed_time": 7.321653951,
                        "remaining_time": 27.37812781,
                        "test": [
                          0.5879342628
                        ]
                      },
                      {
                        "learn": [
                          0.5764240648
                        ],
                        "iteration": 211,
                        "passed_time": 7.367081817,
                        "remaining_time": 27.38330411,
                        "test": [
                          0.5878956102
                        ]
                      },
                      {
                        "learn": [
                          0.5763548113
                        ],
                        "iteration": 212,
                        "passed_time": 7.424411293,
                        "remaining_time": 27.43197975,
                        "test": [
                          0.5879227371
                        ]
                      },
                      {
                        "learn": [
                          0.5762838738
                        ],
                        "iteration": 213,
                        "passed_time": 7.482857301,
                        "remaining_time": 27.4837656,
                        "test": [
                          0.5879135323
                        ]
                      },
                      {
                        "learn": [
                          0.5762432784
                        ],
                        "iteration": 214,
                        "passed_time": 7.547269477,
                        "remaining_time": 27.55630949,
                        "test": [
                          0.5879324436
                        ]
                      },
                      {
                        "learn": [
                          0.5761605664
                        ],
                        "iteration": 215,
                        "passed_time": 7.603947414,
                        "remaining_time": 27.59951284,
                        "test": [
                          0.5879410826
                        ]
                      },
                      {
                        "learn": [
                          0.5760948545
                        ],
                        "iteration": 216,
                        "passed_time": 7.64233357,
                        "remaining_time": 27.57579348,
                        "test": [
                          0.5879805849
                        ]
                      },
                      {
                        "learn": [
                          0.5760273381
                        ],
                        "iteration": 217,
                        "passed_time": 7.664787306,
                        "remaining_time": 27.49478749,
                        "test": [
                          0.5880084165
                        ]
                      },
                      {
                        "learn": [
                          0.5759445589
                        ],
                        "iteration": 218,
                        "passed_time": 7.688932705,
                        "remaining_time": 27.42034905,
                        "test": [
                          0.5879717599
                        ]
                      },
                      {
                        "learn": [
                          0.5759119065
                        ],
                        "iteration": 219,
                        "passed_time": 7.71019788,
                        "remaining_time": 27.33615612,
                        "test": [
                          0.5879832307
                        ]
                      },
                      {
                        "learn": [
                          0.5758501307
                        ],
                        "iteration": 220,
                        "passed_time": 7.732685966,
                        "remaining_time": 27.25684329,
                        "test": [
                          0.5879685933
                        ]
                      },
                      {
                        "learn": [
                          0.5757743419
                        ],
                        "iteration": 221,
                        "passed_time": 7.755827487,
                        "remaining_time": 27.18033236,
                        "test": [
                          0.5879494196
                        ]
                      },
                      {
                        "learn": [
                          0.5757097249
                        ],
                        "iteration": 222,
                        "passed_time": 7.777938587,
                        "remaining_time": 27.10070979,
                        "test": [
                          0.5879237175
                        ]
                      },
                      {
                        "learn": [
                          0.5756799949
                        ],
                        "iteration": 223,
                        "passed_time": 7.799206457,
                        "remaining_time": 27.01867951,
                        "test": [
                          0.5879311656
                        ]
                      },
                      {
                        "learn": [
                          0.5756254315
                        ],
                        "iteration": 224,
                        "passed_time": 7.821251504,
                        "remaining_time": 26.93986629,
                        "test": [
                          0.5879227711
                        ]
                      },
                      {
                        "learn": [
                          0.575555578
                        ],
                        "iteration": 225,
                        "passed_time": 7.844161693,
                        "remaining_time": 26.86451836,
                        "test": [
                          0.5878954009
                        ]
                      },
                      {
                        "learn": [
                          0.5754741706
                        ],
                        "iteration": 226,
                        "passed_time": 7.866374294,
                        "remaining_time": 26.78725696,
                        "test": [
                          0.5878601901
                        ]
                      },
                      {
                        "learn": [
                          0.5754206014
                        ],
                        "iteration": 227,
                        "passed_time": 7.888727232,
                        "remaining_time": 26.71095361,
                        "test": [
                          0.5878352047
                        ]
                      },
                      {
                        "learn": [
                          0.5753599064
                        ],
                        "iteration": 228,
                        "passed_time": 7.912129917,
                        "remaining_time": 26.63865575,
                        "test": [
                          0.5878539928
                        ]
                      },
                      {
                        "learn": [
                          0.5753451703
                        ],
                        "iteration": 229,
                        "passed_time": 7.932958857,
                        "remaining_time": 26.55816661,
                        "test": [
                          0.5878702881
                        ]
                      },
                      {
                        "learn": [
                          0.5752995017
                        ],
                        "iteration": 230,
                        "passed_time": 7.955073215,
                        "remaining_time": 26.48247317,
                        "test": [
                          0.5878634229
                        ]
                      },
                      {
                        "learn": [
                          0.5751396532
                        ],
                        "iteration": 231,
                        "passed_time": 7.97926761,
                        "remaining_time": 26.41412726,
                        "test": [
                          0.5877418429
                        ]
                      },
                      {
                        "learn": [
                          0.5750285378
                        ],
                        "iteration": 232,
                        "passed_time": 8.00297675,
                        "remaining_time": 26.34456295,
                        "test": [
                          0.5876696829
                        ]
                      },
                      {
                        "learn": [
                          0.5749732372
                        ],
                        "iteration": 233,
                        "passed_time": 8.027929288,
                        "remaining_time": 26.27946083,
                        "test": [
                          0.5876278411
                        ]
                      },
                      {
                        "learn": [
                          0.5749089159
                        ],
                        "iteration": 234,
                        "passed_time": 8.067430022,
                        "remaining_time": 26.26205943,
                        "test": [
                          0.58764159
                        ]
                      },
                      {
                        "learn": [
                          0.5747986351
                        ],
                        "iteration": 235,
                        "passed_time": 8.090172366,
                        "remaining_time": 26.19021901,
                        "test": [
                          0.5875881055
                        ]
                      },
                      {
                        "learn": [
                          0.574772745
                        ],
                        "iteration": 236,
                        "passed_time": 8.111519079,
                        "remaining_time": 26.11429982,
                        "test": [
                          0.587594988
                        ]
                      },
                      {
                        "learn": [
                          0.5747350095
                        ],
                        "iteration": 237,
                        "passed_time": 8.133868016,
                        "remaining_time": 26.04204802,
                        "test": [
                          0.5875943787
                        ]
                      },
                      {
                        "learn": [
                          0.574660382
                        ],
                        "iteration": 238,
                        "passed_time": 8.155786482,
                        "remaining_time": 25.96884315,
                        "test": [
                          0.5875194075
                        ]
                      },
                      {
                        "learn": [
                          0.5746141916
                        ],
                        "iteration": 239,
                        "passed_time": 8.178041537,
                        "remaining_time": 25.89713153,
                        "test": [
                          0.5875391255
                        ]
                      },
                      {
                        "learn": [
                          0.574531372
                        ],
                        "iteration": 240,
                        "passed_time": 8.202768195,
                        "remaining_time": 25.83361436,
                        "test": [
                          0.5875803692
                        ]
                      },
                      {
                        "learn": [
                          0.5744440153
                        ],
                        "iteration": 241,
                        "passed_time": 8.22502406,
                        "remaining_time": 25.76267867,
                        "test": [
                          0.5876009776
                        ]
                      },
                      {
                        "learn": [
                          0.5743917871
                        ],
                        "iteration": 242,
                        "passed_time": 8.250639693,
                        "remaining_time": 25.70261007,
                        "test": [
                          0.5876017481
                        ]
                      },
                      {
                        "learn": [
                          0.57433601
                        ],
                        "iteration": 243,
                        "passed_time": 8.27444178,
                        "remaining_time": 25.63720486,
                        "test": [
                          0.5875748131
                        ]
                      },
                      {
                        "learn": [
                          0.5742703396
                        ],
                        "iteration": 244,
                        "passed_time": 8.298201709,
                        "remaining_time": 25.57200935,
                        "test": [
                          0.5875710984
                        ]
                      },
                      {
                        "learn": [
                          0.5742057519
                        ],
                        "iteration": 245,
                        "passed_time": 8.322424137,
                        "remaining_time": 25.50856829,
                        "test": [
                          0.5875846855
                        ]
                      },
                      {
                        "learn": [
                          0.5741486312
                        ],
                        "iteration": 246,
                        "passed_time": 8.344367684,
                        "remaining_time": 25.43849743,
                        "test": [
                          0.5875901533
                        ]
                      },
                      {
                        "learn": [
                          0.574100344
                        ],
                        "iteration": 247,
                        "passed_time": 8.366749961,
                        "remaining_time": 25.37014504,
                        "test": [
                          0.5875709498
                        ]
                      },
                      {
                        "learn": [
                          0.5740314026
                        ],
                        "iteration": 248,
                        "passed_time": 8.389088067,
                        "remaining_time": 25.30202867,
                        "test": [
                          0.5875987257
                        ]
                      },
                      {
                        "learn": [
                          0.5738915596
                        ],
                        "iteration": 249,
                        "passed_time": 8.413341441,
                        "remaining_time": 25.24002432,
                        "test": [
                          0.5874269757
                        ]
                      },
                      {
                        "learn": [
                          0.573828873
                        ],
                        "iteration": 250,
                        "passed_time": 8.436305178,
                        "remaining_time": 25.17447242,
                        "test": [
                          0.587406809
                        ]
                      },
                      {
                        "learn": [
                          0.573749271
                        ],
                        "iteration": 251,
                        "passed_time": 8.458610275,
                        "remaining_time": 25.10730352,
                        "test": [
                          0.5873894133
                        ]
                      },
                      {
                        "learn": [
                          0.5737079711
                        ],
                        "iteration": 252,
                        "passed_time": 8.480944959,
                        "remaining_time": 25.04057662,
                        "test": [
                          0.5874043558
                        ]
                      },
                      {
                        "learn": [
                          0.57364746
                        ],
                        "iteration": 253,
                        "passed_time": 8.505994151,
                        "remaining_time": 24.9821718,
                        "test": [
                          0.5873948707
                        ]
                      },
                      {
                        "learn": [
                          0.5735657734
                        ],
                        "iteration": 254,
                        "passed_time": 8.528714818,
                        "remaining_time": 24.91722564,
                        "test": [
                          0.5873820483
                        ]
                      },
                      {
                        "learn": [
                          0.5735084033
                        ],
                        "iteration": 255,
                        "passed_time": 8.563626548,
                        "remaining_time": 24.88803965,
                        "test": [
                          0.5873571908
                        ]
                      },
                      {
                        "learn": [
                          0.5734322693
                        ],
                        "iteration": 256,
                        "passed_time": 8.586259223,
                        "remaining_time": 24.82330974,
                        "test": [
                          0.5873768197
                        ]
                      },
                      {
                        "learn": [
                          0.5733600137
                        ],
                        "iteration": 257,
                        "passed_time": 8.61228805,
                        "remaining_time": 24.76867339,
                        "test": [
                          0.5873477221
                        ]
                      },
                      {
                        "learn": [
                          0.5732865381
                        ],
                        "iteration": 258,
                        "passed_time": 8.634466084,
                        "remaining_time": 24.7032408,
                        "test": [
                          0.5873487535
                        ]
                      },
                      {
                        "learn": [
                          0.5732145994
                        ],
                        "iteration": 259,
                        "passed_time": 8.656862983,
                        "remaining_time": 24.63876387,
                        "test": [
                          0.5873664878
                        ]
                      },
                      {
                        "learn": [
                          0.5731371676
                        ],
                        "iteration": 260,
                        "passed_time": 8.679675872,
                        "remaining_time": 24.57578724,
                        "test": [
                          0.5873448036
                        ]
                      },
                      {
                        "learn": [
                          0.5730842328
                        ],
                        "iteration": 261,
                        "passed_time": 8.70270494,
                        "remaining_time": 24.51372613,
                        "test": [
                          0.587342287
                        ]
                      },
                      {
                        "learn": [
                          0.5730703951
                        ],
                        "iteration": 262,
                        "passed_time": 8.723603514,
                        "remaining_time": 24.4459916,
                        "test": [
                          0.5873534741
                        ]
                      },
                      {
                        "learn": [
                          0.5730177925
                        ],
                        "iteration": 263,
                        "passed_time": 8.746346633,
                        "remaining_time": 24.38375425,
                        "test": [
                          0.5873611848
                        ]
                      },
                      {
                        "learn": [
                          0.5729670576
                        ],
                        "iteration": 264,
                        "passed_time": 8.769170487,
                        "remaining_time": 24.3220389,
                        "test": [
                          0.5873548513
                        ]
                      },
                      {
                        "learn": [
                          0.5729185789
                        ],
                        "iteration": 265,
                        "passed_time": 8.790268877,
                        "remaining_time": 24.25585472,
                        "test": [
                          0.5873261086
                        ]
                      },
                      {
                        "learn": [
                          0.5728449662
                        ],
                        "iteration": 266,
                        "passed_time": 8.823604294,
                        "remaining_time": 24.2236028,
                        "test": [
                          0.5873424888
                        ]
                      },
                      {
                        "learn": [
                          0.5727864055
                        ],
                        "iteration": 267,
                        "passed_time": 8.845660959,
                        "remaining_time": 24.16053665,
                        "test": [
                          0.5873964442
                        ]
                      },
                      {
                        "learn": [
                          0.5727283138
                        ],
                        "iteration": 268,
                        "passed_time": 8.868471877,
                        "remaining_time": 24.09982506,
                        "test": [
                          0.5874221085
                        ]
                      },
                      {
                        "learn": [
                          0.5726416659
                        ],
                        "iteration": 269,
                        "passed_time": 8.892460837,
                        "remaining_time": 24.0425793,
                        "test": [
                          0.587422273
                        ]
                      },
                      {
                        "learn": [
                          0.5725877764
                        ],
                        "iteration": 270,
                        "passed_time": 8.914527589,
                        "remaining_time": 23.98040816,
                        "test": [
                          0.5874245939
                        ]
                      },
                      {
                        "learn": [
                          0.572525468
                        ],
                        "iteration": 271,
                        "passed_time": 8.938866494,
                        "remaining_time": 23.92461326,
                        "test": [
                          0.5874145136
                        ]
                      },
                      {
                        "learn": [
                          0.5724774326
                        ],
                        "iteration": 272,
                        "passed_time": 8.961404736,
                        "remaining_time": 23.86425364,
                        "test": [
                          0.5874309023
                        ]
                      },
                      {
                        "learn": [
                          0.5723721326
                        ],
                        "iteration": 273,
                        "passed_time": 8.984943711,
                        "remaining_time": 23.80682166,
                        "test": [
                          0.5874242668
                        ]
                      },
                      {
                        "learn": [
                          0.5723008424
                        ],
                        "iteration": 274,
                        "passed_time": 9.007994508,
                        "remaining_time": 23.74834916,
                        "test": [
                          0.5874417032
                        ]
                      },
                      {
                        "learn": [
                          0.5722625795
                        ],
                        "iteration": 275,
                        "passed_time": 9.040121881,
                        "remaining_time": 23.71394291,
                        "test": [
                          0.5874431307
                        ]
                      },
                      {
                        "learn": [
                          0.5721850869
                        ],
                        "iteration": 276,
                        "passed_time": 9.077244268,
                        "remaining_time": 23.69259063,
                        "test": [
                          0.5874415449
                        ]
                      },
                      {
                        "learn": [
                          0.5721389747
                        ],
                        "iteration": 277,
                        "passed_time": 9.101097884,
                        "remaining_time": 23.63666429,
                        "test": [
                          0.587450671
                        ]
                      },
                      {
                        "learn": [
                          0.5720725162
                        ],
                        "iteration": 278,
                        "passed_time": 9.123064279,
                        "remaining_time": 23.57609084,
                        "test": [
                          0.5874674582
                        ]
                      },
                      {
                        "learn": [
                          0.5720232114
                        ],
                        "iteration": 279,
                        "passed_time": 9.147669016,
                        "remaining_time": 23.52257747,
                        "test": [
                          0.5874772877
                        ]
                      },
                      {
                        "learn": [
                          0.5719813801
                        ],
                        "iteration": 280,
                        "passed_time": 9.170031136,
                        "remaining_time": 23.46353163,
                        "test": [
                          0.5874842334
                        ]
                      },
                      {
                        "learn": [
                          0.571935123
                        ],
                        "iteration": 281,
                        "passed_time": 9.192912864,
                        "remaining_time": 23.40606892,
                        "test": [
                          0.5874638229
                        ]
                      },
                      {
                        "learn": [
                          0.5718779768
                        ],
                        "iteration": 282,
                        "passed_time": 9.215050066,
                        "remaining_time": 23.3469643,
                        "test": [
                          0.587442892
                        ]
                      },
                      {
                        "learn": [
                          0.5717913463
                        ],
                        "iteration": 283,
                        "passed_time": 9.23773485,
                        "remaining_time": 23.28950054,
                        "test": [
                          0.5874681717
                        ]
                      },
                      {
                        "learn": [
                          0.5717451208
                        ],
                        "iteration": 284,
                        "passed_time": 9.264069854,
                        "remaining_time": 23.24143841,
                        "test": [
                          0.5874600851
                        ]
                      },
                      {
                        "learn": [
                          0.5716816031
                        ],
                        "iteration": 285,
                        "passed_time": 9.287097875,
                        "remaining_time": 23.18527232,
                        "test": [
                          0.5874247827
                        ]
                      },
                      {
                        "learn": [
                          0.5716224598
                        ],
                        "iteration": 286,
                        "passed_time": 9.309705425,
                        "remaining_time": 23.12829257,
                        "test": [
                          0.5873488281
                        ]
                      },
                      {
                        "learn": [
                          0.5715915148
                        ],
                        "iteration": 287,
                        "passed_time": 9.331168191,
                        "remaining_time": 23.06872136,
                        "test": [
                          0.5873531084
                        ]
                      },
                      {
                        "learn": [
                          0.5715491008
                        ],
                        "iteration": 288,
                        "passed_time": 9.352989919,
                        "remaining_time": 23.010297,
                        "test": [
                          0.5873589887
                        ]
                      },
                      {
                        "learn": [
                          0.5714715319
                        ],
                        "iteration": 289,
                        "passed_time": 9.375135708,
                        "remaining_time": 22.95291846,
                        "test": [
                          0.5873546451
                        ]
                      },
                      {
                        "learn": [
                          0.5714212643
                        ],
                        "iteration": 290,
                        "passed_time": 9.399421387,
                        "remaining_time": 22.90099575,
                        "test": [
                          0.5873648873
                        ]
                      },
                      {
                        "learn": [
                          0.5713685627
                        ],
                        "iteration": 291,
                        "passed_time": 9.422651031,
                        "remaining_time": 22.84670182,
                        "test": [
                          0.5873668284
                        ]
                      },
                      {
                        "learn": [
                          0.5712922029
                        ],
                        "iteration": 292,
                        "passed_time": 9.446382359,
                        "remaining_time": 22.79383047,
                        "test": [
                          0.5873415202
                        ]
                      },
                      {
                        "learn": [
                          0.5712536663
                        ],
                        "iteration": 293,
                        "passed_time": 9.467731167,
                        "remaining_time": 22.73543607,
                        "test": [
                          0.5873336402
                        ]
                      },
                      {
                        "learn": [
                          0.5711931292
                        ],
                        "iteration": 294,
                        "passed_time": 9.490535286,
                        "remaining_time": 22.68077077,
                        "test": [
                          0.5873241267
                        ]
                      },
                      {
                        "learn": [
                          0.5711167408
                        ],
                        "iteration": 295,
                        "passed_time": 9.51434152,
                        "remaining_time": 22.62870416,
                        "test": [
                          0.587320979
                        ]
                      },
                      {
                        "learn": [
                          0.571047355
                        ],
                        "iteration": 296,
                        "passed_time": 9.536713855,
                        "remaining_time": 22.57343381,
                        "test": [
                          0.5873224697
                        ]
                      },
                      {
                        "learn": [
                          0.5709866547
                        ],
                        "iteration": 297,
                        "passed_time": 9.565275109,
                        "remaining_time": 22.53296351,
                        "test": [
                          0.58729487
                        ]
                      },
                      {
                        "learn": [
                          0.5709285242
                        ],
                        "iteration": 298,
                        "passed_time": 9.597905371,
                        "remaining_time": 22.50211259,
                        "test": [
                          0.5873299383
                        ]
                      },
                      {
                        "learn": [
                          0.5708211374
                        ],
                        "iteration": 299,
                        "passed_time": 9.624073814,
                        "remaining_time": 22.45617223,
                        "test": [
                          0.5872250311
                        ]
                      },
                      {
                        "learn": [
                          0.5707549886
                        ],
                        "iteration": 300,
                        "passed_time": 9.647448485,
                        "remaining_time": 22.40387539,
                        "test": [
                          0.5872255444
                        ]
                      },
                      {
                        "learn": [
                          0.5706786612
                        ],
                        "iteration": 301,
                        "passed_time": 9.670851977,
                        "remaining_time": 22.35183669,
                        "test": [
                          0.5872294584
                        ]
                      },
                      {
                        "learn": [
                          0.5706439999
                        ],
                        "iteration": 302,
                        "passed_time": 9.69344408,
                        "remaining_time": 22.29812054,
                        "test": [
                          0.5872316
                        ]
                      },
                      {
                        "learn": [
                          0.5705703594
                        ],
                        "iteration": 303,
                        "passed_time": 9.716536222,
                        "remaining_time": 22.24575398,
                        "test": [
                          0.5872793684
                        ]
                      },
                      {
                        "learn": [
                          0.5705247475
                        ],
                        "iteration": 304,
                        "passed_time": 9.738404461,
                        "remaining_time": 22.19079049,
                        "test": [
                          0.5872603412
                        ]
                      },
                      {
                        "learn": [
                          0.5704452064
                        ],
                        "iteration": 305,
                        "passed_time": 9.763433508,
                        "remaining_time": 22.14321194,
                        "test": [
                          0.5872382726
                        ]
                      },
                      {
                        "learn": [
                          0.5702201704
                        ],
                        "iteration": 306,
                        "passed_time": 9.786100393,
                        "remaining_time": 22.09044812,
                        "test": [
                          0.5870887133
                        ]
                      },
                      {
                        "learn": [
                          0.5701811938
                        ],
                        "iteration": 307,
                        "passed_time": 9.808333398,
                        "remaining_time": 22.03690491,
                        "test": [
                          0.5871040749
                        ]
                      },
                      {
                        "learn": [
                          0.5701195288
                        ],
                        "iteration": 308,
                        "passed_time": 9.831581315,
                        "remaining_time": 21.98583394,
                        "test": [
                          0.5870880322
                        ]
                      },
                      {
                        "learn": [
                          0.5700720586
                        ],
                        "iteration": 309,
                        "passed_time": 9.853509164,
                        "remaining_time": 21.93200427,
                        "test": [
                          0.5871097588
                        ]
                      },
                      {
                        "learn": [
                          0.5700045614
                        ],
                        "iteration": 310,
                        "passed_time": 9.875917113,
                        "remaining_time": 21.87944338,
                        "test": [
                          0.5871296272
                        ]
                      },
                      {
                        "learn": [
                          0.5699512545
                        ],
                        "iteration": 311,
                        "passed_time": 9.899916942,
                        "remaining_time": 21.83058608,
                        "test": [
                          0.5871019626
                        ]
                      },
                      {
                        "learn": [
                          0.5698869746
                        ],
                        "iteration": 312,
                        "passed_time": 9.922748446,
                        "remaining_time": 21.77932327,
                        "test": [
                          0.5870790423
                        ]
                      },
                      {
                        "learn": [
                          0.5697984046
                        ],
                        "iteration": 313,
                        "passed_time": 9.945971307,
                        "remaining_time": 21.72909655,
                        "test": [
                          0.5871061274
                        ]
                      },
                      {
                        "learn": [
                          0.5697187962
                        ],
                        "iteration": 314,
                        "passed_time": 9.969916592,
                        "remaining_time": 21.68061227,
                        "test": [
                          0.5871161596
                        ]
                      },
                      {
                        "learn": [
                          0.569651861
                        ],
                        "iteration": 315,
                        "passed_time": 9.994911201,
                        "remaining_time": 21.63455462,
                        "test": [
                          0.5870680677
                        ]
                      },
                      {
                        "learn": [
                          0.569593853
                        ],
                        "iteration": 316,
                        "passed_time": 10.01812161,
                        "remaining_time": 21.58478567,
                        "test": [
                          0.5870549532
                        ]
                      },
                      {
                        "learn": [
                          0.5695707485
                        ],
                        "iteration": 317,
                        "passed_time": 10.05424398,
                        "remaining_time": 21.56287545,
                        "test": [
                          0.5870400388
                        ]
                      },
                      {
                        "learn": [
                          0.5695038113
                        ],
                        "iteration": 318,
                        "passed_time": 10.08742699,
                        "remaining_time": 21.53460119,
                        "test": [
                          0.5870206203
                        ]
                      },
                      {
                        "learn": [
                          0.5694274544
                        ],
                        "iteration": 319,
                        "passed_time": 10.10970007,
                        "remaining_time": 21.48311264,
                        "test": [
                          0.587009624
                        ]
                      },
                      {
                        "learn": [
                          0.5693789813
                        ],
                        "iteration": 320,
                        "passed_time": 10.13176943,
                        "remaining_time": 21.43137522,
                        "test": [
                          0.5870162388
                        ]
                      },
                      {
                        "learn": [
                          0.5693044441
                        ],
                        "iteration": 321,
                        "passed_time": 10.15466111,
                        "remaining_time": 21.38155353,
                        "test": [
                          0.5869930715
                        ]
                      },
                      {
                        "learn": [
                          0.5692723188
                        ],
                        "iteration": 322,
                        "passed_time": 10.17675559,
                        "remaining_time": 21.33022766,
                        "test": [
                          0.5869773361
                        ]
                      },
                      {
                        "learn": [
                          0.5692158055
                        ],
                        "iteration": 323,
                        "passed_time": 10.19908066,
                        "remaining_time": 21.27956335,
                        "test": [
                          0.5869957483
                        ]
                      },
                      {
                        "learn": [
                          0.5691830656
                        ],
                        "iteration": 324,
                        "passed_time": 10.22057778,
                        "remaining_time": 21.22735385,
                        "test": [
                          0.5869977843
                        ]
                      },
                      {
                        "learn": [
                          0.5691288408
                        ],
                        "iteration": 325,
                        "passed_time": 10.24325946,
                        "remaining_time": 21.17778183,
                        "test": [
                          0.5869789319
                        ]
                      },
                      {
                        "learn": [
                          0.5691105876
                        ],
                        "iteration": 326,
                        "passed_time": 10.26419759,
                        "remaining_time": 21.12478587,
                        "test": [
                          0.5869816691
                        ]
                      },
                      {
                        "learn": [
                          0.5690603072
                        ],
                        "iteration": 327,
                        "passed_time": 10.29179349,
                        "remaining_time": 21.08562569,
                        "test": [
                          0.5869506819
                        ]
                      },
                      {
                        "learn": [
                          0.5690119896
                        ],
                        "iteration": 328,
                        "passed_time": 10.31496265,
                        "remaining_time": 21.03750741,
                        "test": [
                          0.5869358245
                        ]
                      },
                      {
                        "learn": [
                          0.56895031
                        ],
                        "iteration": 329,
                        "passed_time": 10.3382725,
                        "remaining_time": 20.98982598,
                        "test": [
                          0.5869770319
                        ]
                      },
                      {
                        "learn": [
                          0.5689037987
                        ],
                        "iteration": 330,
                        "passed_time": 10.36081446,
                        "remaining_time": 20.94073979,
                        "test": [
                          0.5869797381
                        ]
                      },
                      {
                        "learn": [
                          0.5688238136
                        ],
                        "iteration": 331,
                        "passed_time": 10.3852493,
                        "remaining_time": 20.89562208,
                        "test": [
                          0.5869740128
                        ]
                      },
                      {
                        "learn": [
                          0.568779584
                        ],
                        "iteration": 332,
                        "passed_time": 10.40802498,
                        "remaining_time": 20.8473053,
                        "test": [
                          0.5870250449
                        ]
                      },
                      {
                        "learn": [
                          0.56872249
                        ],
                        "iteration": 333,
                        "passed_time": 10.42963539,
                        "remaining_time": 20.79681787,
                        "test": [
                          0.5870138886
                        ]
                      },
                      {
                        "learn": [
                          0.5686767588
                        ],
                        "iteration": 334,
                        "passed_time": 10.45158794,
                        "remaining_time": 20.74718202,
                        "test": [
                          0.587016109
                        ]
                      },
                      {
                        "learn": [
                          0.5686010454
                        ],
                        "iteration": 335,
                        "passed_time": 10.47424225,
                        "remaining_time": 20.69909778,
                        "test": [
                          0.5869994259
                        ]
                      },
                      {
                        "learn": [
                          0.5685409935
                        ],
                        "iteration": 336,
                        "passed_time": 10.4977905,
                        "remaining_time": 20.65292315,
                        "test": [
                          0.5870102924
                        ]
                      },
                      {
                        "learn": [
                          0.5684782087
                        ],
                        "iteration": 337,
                        "passed_time": 10.52004252,
                        "remaining_time": 20.60434364,
                        "test": [
                          0.5870174024
                        ]
                      },
                      {
                        "learn": [
                          0.5684027411
                        ],
                        "iteration": 338,
                        "passed_time": 10.54294737,
                        "remaining_time": 20.55719236,
                        "test": [
                          0.5869832074
                        ]
                      },
                      {
                        "learn": [
                          0.568358508
                        ],
                        "iteration": 339,
                        "passed_time": 10.56465326,
                        "remaining_time": 20.50785632,
                        "test": [
                          0.5869657548
                        ]
                      },
                      {
                        "learn": [
                          0.5682937708
                        ],
                        "iteration": 340,
                        "passed_time": 10.6048414,
                        "remaining_time": 20.49440024,
                        "test": [
                          0.5869775352
                        ]
                      },
                      {
                        "learn": [
                          0.5682223147
                        ],
                        "iteration": 341,
                        "passed_time": 10.62786541,
                        "remaining_time": 20.44776444,
                        "test": [
                          0.5869883763
                        ]
                      },
                      {
                        "learn": [
                          0.5681634829
                        ],
                        "iteration": 342,
                        "passed_time": 10.64963118,
                        "remaining_time": 20.39885622,
                        "test": [
                          0.5869689203
                        ]
                      },
                      {
                        "learn": [
                          0.568139799
                        ],
                        "iteration": 343,
                        "passed_time": 10.67032274,
                        "remaining_time": 20.34805732,
                        "test": [
                          0.5869644227
                        ]
                      },
                      {
                        "learn": [
                          0.5680242226
                        ],
                        "iteration": 344,
                        "passed_time": 10.69455574,
                        "remaining_time": 20.30415655,
                        "test": [
                          0.5868521081
                        ]
                      },
                      {
                        "learn": [
                          0.5679869973
                        ],
                        "iteration": 345,
                        "passed_time": 10.71655594,
                        "remaining_time": 20.25614908,
                        "test": [
                          0.5868404308
                        ]
                      },
                      {
                        "learn": [
                          0.5679105945
                        ],
                        "iteration": 346,
                        "passed_time": 10.73930476,
                        "remaining_time": 20.20970031,
                        "test": [
                          0.5867990916
                        ]
                      },
                      {
                        "learn": [
                          0.5678666961
                        ],
                        "iteration": 347,
                        "passed_time": 10.7622027,
                        "remaining_time": 20.16366713,
                        "test": [
                          0.5867920474
                        ]
                      },
                      {
                        "learn": [
                          0.5678115671
                        ],
                        "iteration": 348,
                        "passed_time": 10.78587207,
                        "remaining_time": 20.1192055,
                        "test": [
                          0.5868001944
                        ]
                      },
                      {
                        "learn": [
                          0.5677697394
                        ],
                        "iteration": 349,
                        "passed_time": 10.8077642,
                        "remaining_time": 20.07156209,
                        "test": [
                          0.5867727059
                        ]
                      },
                      {
                        "learn": [
                          0.5677118935
                        ],
                        "iteration": 350,
                        "passed_time": 10.82988958,
                        "remaining_time": 20.02449669,
                        "test": [
                          0.5867530208
                        ]
                      },
                      {
                        "learn": [
                          0.5676835187
                        ],
                        "iteration": 351,
                        "passed_time": 10.85205926,
                        "remaining_time": 19.97765455,
                        "test": [
                          0.5867510082
                        ]
                      },
                      {
                        "learn": [
                          0.5676252378
                        ],
                        "iteration": 352,
                        "passed_time": 10.87593386,
                        "remaining_time": 19.93407707,
                        "test": [
                          0.586751914
                        ]
                      },
                      {
                        "learn": [
                          0.5675869892
                        ],
                        "iteration": 353,
                        "passed_time": 10.8985151,
                        "remaining_time": 19.88825073,
                        "test": [
                          0.5867507208
                        ]
                      },
                      {
                        "learn": [
                          0.5675590596
                        ],
                        "iteration": 354,
                        "passed_time": 10.92033455,
                        "remaining_time": 19.84117122,
                        "test": [
                          0.5867370696
                        ]
                      },
                      {
                        "learn": [
                          0.5675417117
                        ],
                        "iteration": 355,
                        "passed_time": 10.94116019,
                        "remaining_time": 19.79243586,
                        "test": [
                          0.5867616921
                        ]
                      },
                      {
                        "learn": [
                          0.5674772234
                        ],
                        "iteration": 356,
                        "passed_time": 10.96345754,
                        "remaining_time": 19.74650756,
                        "test": [
                          0.586772055
                        ]
                      },
                      {
                        "learn": [
                          0.5674180757
                        ],
                        "iteration": 357,
                        "passed_time": 10.98608946,
                        "remaining_time": 19.70131127,
                        "test": [
                          0.5867692503
                        ]
                      },
                      {
                        "learn": [
                          0.5673612484
                        ],
                        "iteration": 358,
                        "passed_time": 11.00866554,
                        "remaining_time": 19.65614098,
                        "test": [
                          0.5867495571
                        ]
                      },
                      {
                        "learn": [
                          0.5673223028
                        ],
                        "iteration": 359,
                        "passed_time": 11.03060362,
                        "remaining_time": 19.609962,
                        "test": [
                          0.586737574
                        ]
                      },
                      {
                        "learn": [
                          0.5672850249
                        ],
                        "iteration": 360,
                        "passed_time": 11.20093135,
                        "remaining_time": 19.82657931,
                        "test": [
                          0.5867451032
                        ]
                      },
                      {
                        "learn": [
                          0.5672134033
                        ],
                        "iteration": 361,
                        "passed_time": 11.23928234,
                        "remaining_time": 19.80845892,
                        "test": [
                          0.5867163307
                        ]
                      },
                      {
                        "learn": [
                          0.5671925512
                        ],
                        "iteration": 362,
                        "passed_time": 11.26283643,
                        "remaining_time": 19.76426117,
                        "test": [
                          0.5867150753
                        ]
                      },
                      {
                        "learn": [
                          0.5671414802
                        ],
                        "iteration": 363,
                        "passed_time": 11.28562843,
                        "remaining_time": 19.71884529,
                        "test": [
                          0.5867197061
                        ]
                      },
                      {
                        "learn": [
                          0.5670527135
                        ],
                        "iteration": 364,
                        "passed_time": 11.30797181,
                        "remaining_time": 19.67277288,
                        "test": [
                          0.5866789496
                        ]
                      },
                      {
                        "learn": [
                          0.5670009372
                        ],
                        "iteration": 365,
                        "passed_time": 11.33010242,
                        "remaining_time": 19.62646157,
                        "test": [
                          0.586690758
                        ]
                      },
                      {
                        "learn": [
                          0.5669617011
                        ],
                        "iteration": 366,
                        "passed_time": 11.3527409,
                        "remaining_time": 19.58115801,
                        "test": [
                          0.5867049183
                        ]
                      },
                      {
                        "learn": [
                          0.5669007886
                        ],
                        "iteration": 367,
                        "passed_time": 11.37484446,
                        "remaining_time": 19.53505896,
                        "test": [
                          0.5867236936
                        ]
                      },
                      {
                        "learn": [
                          0.5668494747
                        ],
                        "iteration": 368,
                        "passed_time": 11.39988744,
                        "remaining_time": 19.49411646,
                        "test": [
                          0.586741957
                        ]
                      },
                      {
                        "learn": [
                          0.5667637012
                        ],
                        "iteration": 369,
                        "passed_time": 11.42305709,
                        "remaining_time": 19.45007019,
                        "test": [
                          0.5866523502
                        ]
                      },
                      {
                        "learn": [
                          0.5666723728
                        ],
                        "iteration": 370,
                        "passed_time": 11.44960732,
                        "remaining_time": 19.41186794,
                        "test": [
                          0.5866658347
                        ]
                      },
                      {
                        "learn": [
                          0.566642471
                        ],
                        "iteration": 371,
                        "passed_time": 11.47249391,
                        "remaining_time": 19.36754349,
                        "test": [
                          0.5866574591
                        ]
                      },
                      {
                        "learn": [
                          0.5665860015
                        ],
                        "iteration": 372,
                        "passed_time": 11.49531738,
                        "remaining_time": 19.32322787,
                        "test": [
                          0.5866409865
                        ]
                      },
                      {
                        "learn": [
                          0.5665456039
                        ],
                        "iteration": 373,
                        "passed_time": 11.51874186,
                        "remaining_time": 19.28003316,
                        "test": [
                          0.5866365933
                        ]
                      },
                      {
                        "learn": [
                          0.5664861118
                        ],
                        "iteration": 374,
                        "passed_time": 11.54089105,
                        "remaining_time": 19.23481842,
                        "test": [
                          0.5866365911
                        ]
                      },
                      {
                        "learn": [
                          0.5664312221
                        ],
                        "iteration": 375,
                        "passed_time": 11.56292398,
                        "remaining_time": 19.18953341,
                        "test": [
                          0.5866366218
                        ]
                      },
                      {
                        "learn": [
                          0.5663781245
                        ],
                        "iteration": 376,
                        "passed_time": 11.58494919,
                        "remaining_time": 19.14435901,
                        "test": [
                          0.5866235434
                        ]
                      },
                      {
                        "learn": [
                          0.5663091386
                        ],
                        "iteration": 377,
                        "passed_time": 11.61607787,
                        "remaining_time": 19.11428687,
                        "test": [
                          0.5866320113
                        ]
                      },
                      {
                        "learn": [
                          0.5662692407
                        ],
                        "iteration": 378,
                        "passed_time": 11.64592038,
                        "remaining_time": 19.08210173,
                        "test": [
                          0.5866529049
                        ]
                      },
                      {
                        "learn": [
                          0.5662073327
                        ],
                        "iteration": 379,
                        "passed_time": 11.66929539,
                        "remaining_time": 19.03937669,
                        "test": [
                          0.5866387466
                        ]
                      },
                      {
                        "learn": [
                          0.5661544941
                        ],
                        "iteration": 380,
                        "passed_time": 11.69252911,
                        "remaining_time": 18.99652368,
                        "test": [
                          0.5866175499
                        ]
                      },
                      {
                        "learn": [
                          0.5660895692
                        ],
                        "iteration": 381,
                        "passed_time": 11.71472556,
                        "remaining_time": 18.95209528,
                        "test": [
                          0.5866278047
                        ]
                      },
                      {
                        "learn": [
                          0.5660419725
                        ],
                        "iteration": 382,
                        "passed_time": 11.73916563,
                        "remaining_time": 18.91139737,
                        "test": [
                          0.5866146281
                        ]
                      },
                      {
                        "learn": [
                          0.5659849471
                        ],
                        "iteration": 383,
                        "passed_time": 11.76366352,
                        "remaining_time": 18.8708769,
                        "test": [
                          0.5866144752
                        ]
                      },
                      {
                        "learn": [
                          0.5659485598
                        ],
                        "iteration": 384,
                        "passed_time": 11.7866419,
                        "remaining_time": 18.82801238,
                        "test": [
                          0.5866048486
                        ]
                      },
                      {
                        "learn": [
                          0.5658902689
                        ],
                        "iteration": 385,
                        "passed_time": 11.80955822,
                        "remaining_time": 18.7851522,
                        "test": [
                          0.5865946849
                        ]
                      },
                      {
                        "learn": [
                          0.565824524
                        ],
                        "iteration": 386,
                        "passed_time": 11.83185652,
                        "remaining_time": 18.74141615,
                        "test": [
                          0.5865799209
                        ]
                      },
                      {
                        "learn": [
                          0.565774411
                        ],
                        "iteration": 387,
                        "passed_time": 11.8535261,
                        "remaining_time": 18.6967989,
                        "test": [
                          0.5865952454
                        ]
                      },
                      {
                        "learn": [
                          0.5657379428
                        ],
                        "iteration": 388,
                        "passed_time": 11.87634231,
                        "remaining_time": 18.65410064,
                        "test": [
                          0.5865738716
                        ]
                      },
                      {
                        "learn": [
                          0.5656386688
                        ],
                        "iteration": 389,
                        "passed_time": 11.89982618,
                        "remaining_time": 18.61254864,
                        "test": [
                          0.5864704008
                        ]
                      },
                      {
                        "learn": [
                          0.5655626701
                        ],
                        "iteration": 390,
                        "passed_time": 11.92313501,
                        "remaining_time": 18.57081642,
                        "test": [
                          0.5864941573
                        ]
                      },
                      {
                        "learn": [
                          0.5654828609
                        ],
                        "iteration": 391,
                        "passed_time": 11.94615066,
                        "remaining_time": 18.52872348,
                        "test": [
                          0.5865253713
                        ]
                      },
                      {
                        "learn": [
                          0.5654532936
                        ],
                        "iteration": 392,
                        "passed_time": 11.96767138,
                        "remaining_time": 18.48441864,
                        "test": [
                          0.5865290789
                        ]
                      },
                      {
                        "learn": [
                          0.5654145549
                        ],
                        "iteration": 393,
                        "passed_time": 11.9901873,
                        "remaining_time": 18.44176016,
                        "test": [
                          0.5865368496
                        ]
                      },
                      {
                        "learn": [
                          0.5653501189
                        ],
                        "iteration": 394,
                        "passed_time": 12.01255513,
                        "remaining_time": 18.39897684,
                        "test": [
                          0.5865454094
                        ]
                      },
                      {
                        "learn": [
                          0.5652848358
                        ],
                        "iteration": 395,
                        "passed_time": 12.03598299,
                        "remaining_time": 18.35791346,
                        "test": [
                          0.586541166
                        ]
                      },
                      {
                        "learn": [
                          0.5652046229
                        ],
                        "iteration": 396,
                        "passed_time": 12.05876083,
                        "remaining_time": 18.31595159,
                        "test": [
                          0.5866032826
                        ]
                      },
                      {
                        "learn": [
                          0.5651509772
                        ],
                        "iteration": 397,
                        "passed_time": 12.08341261,
                        "remaining_time": 18.27692058,
                        "test": [
                          0.5866185412
                        ]
                      },
                      {
                        "learn": [
                          0.5650977869
                        ],
                        "iteration": 398,
                        "passed_time": 12.10747604,
                        "remaining_time": 18.23707544,
                        "test": [
                          0.5866135737
                        ]
                      },
                      {
                        "learn": [
                          0.5650399028
                        ],
                        "iteration": 399,
                        "passed_time": 12.13107461,
                        "remaining_time": 18.19661191,
                        "test": [
                          0.5866173794
                        ]
                      },
                      {
                        "learn": [
                          0.5649950044
                        ],
                        "iteration": 400,
                        "passed_time": 12.1545162,
                        "remaining_time": 18.15599802,
                        "test": [
                          0.5866480496
                        ]
                      },
                      {
                        "learn": [
                          0.5649639613
                        ],
                        "iteration": 401,
                        "passed_time": 12.17696761,
                        "remaining_time": 18.11399659,
                        "test": [
                          0.5866470994
                        ]
                      },
                      {
                        "learn": [
                          0.5649107417
                        ],
                        "iteration": 402,
                        "passed_time": 12.21946343,
                        "remaining_time": 18.10178577,
                        "test": [
                          0.5866813588
                        ]
                      },
                      {
                        "learn": [
                          0.5648603665
                        ],
                        "iteration": 403,
                        "passed_time": 12.25273905,
                        "remaining_time": 18.07582295,
                        "test": [
                          0.5867190324
                        ]
                      },
                      {
                        "learn": [
                          0.5648063673
                        ],
                        "iteration": 404,
                        "passed_time": 12.2755309,
                        "remaining_time": 18.03442194,
                        "test": [
                          0.5867480042
                        ]
                      },
                      {
                        "learn": [
                          0.5647837189
                        ],
                        "iteration": 405,
                        "passed_time": 12.29677051,
                        "remaining_time": 17.99084158,
                        "test": [
                          0.5867340399
                        ]
                      },
                      {
                        "learn": [
                          0.5647715102
                        ],
                        "iteration": 406,
                        "passed_time": 12.317884,
                        "remaining_time": 17.94718726,
                        "test": [
                          0.5867420714
                        ]
                      },
                      {
                        "learn": [
                          0.5647217724
                        ],
                        "iteration": 407,
                        "passed_time": 12.34014361,
                        "remaining_time": 17.90530641,
                        "test": [
                          0.5867561604
                        ]
                      },
                      {
                        "learn": [
                          0.5646223044
                        ],
                        "iteration": 408,
                        "passed_time": 12.36252464,
                        "remaining_time": 17.86369697,
                        "test": [
                          0.5866622133
                        ]
                      },
                      {
                        "learn": [
                          0.564604066
                        ],
                        "iteration": 409,
                        "passed_time": 12.38577759,
                        "remaining_time": 17.82343604,
                        "test": [
                          0.5866676563
                        ]
                      },
                      {
                        "learn": [
                          0.5645367199
                        ],
                        "iteration": 410,
                        "passed_time": 12.40866361,
                        "remaining_time": 17.78273203,
                        "test": [
                          0.5866317018
                        ]
                      },
                      {
                        "learn": [
                          0.5644684982
                        ],
                        "iteration": 411,
                        "passed_time": 12.43081107,
                        "remaining_time": 17.74106046,
                        "test": [
                          0.5866874332
                        ]
                      },
                      {
                        "learn": [
                          0.564405148
                        ],
                        "iteration": 412,
                        "passed_time": 12.45911296,
                        "remaining_time": 17.70823077,
                        "test": [
                          0.5866352205
                        ]
                      },
                      {
                        "learn": [
                          0.5643581579
                        ],
                        "iteration": 413,
                        "passed_time": 12.48159457,
                        "remaining_time": 17.66718459,
                        "test": [
                          0.5866227918
                        ]
                      },
                      {
                        "learn": [
                          0.5643087165
                        ],
                        "iteration": 414,
                        "passed_time": 12.50503284,
                        "remaining_time": 17.62757641,
                        "test": [
                          0.5866687558
                        ]
                      },
                      {
                        "learn": [
                          0.5642358828
                        ],
                        "iteration": 415,
                        "passed_time": 12.52960355,
                        "remaining_time": 17.58963576,
                        "test": [
                          0.5866331951
                        ]
                      },
                      {
                        "learn": [
                          0.564176805
                        ],
                        "iteration": 416,
                        "passed_time": 12.55158276,
                        "remaining_time": 17.54813608,
                        "test": [
                          0.5866002365
                        ]
                      },
                      {
                        "learn": [
                          0.564130191
                        ],
                        "iteration": 417,
                        "passed_time": 12.5743872,
                        "remaining_time": 17.50787883,
                        "test": [
                          0.5865990961
                        ]
                      },
                      {
                        "learn": [
                          0.5640985503
                        ],
                        "iteration": 418,
                        "passed_time": 12.59585061,
                        "remaining_time": 17.46584536,
                        "test": [
                          0.5866133629
                        ]
                      },
                      {
                        "learn": [
                          0.564015997
                        ],
                        "iteration": 419,
                        "passed_time": 12.62263056,
                        "remaining_time": 17.43125172,
                        "test": [
                          0.5865961421
                        ]
                      },
                      {
                        "learn": [
                          0.5639879847
                        ],
                        "iteration": 420,
                        "passed_time": 12.65131703,
                        "remaining_time": 17.39931725,
                        "test": [
                          0.5865879864
                        ]
                      },
                      {
                        "learn": [
                          0.563926314
                        ],
                        "iteration": 421,
                        "passed_time": 12.67982119,
                        "remaining_time": 17.36714845,
                        "test": [
                          0.5866460394
                        ]
                      },
                      {
                        "learn": [
                          0.5638645777
                        ],
                        "iteration": 422,
                        "passed_time": 12.70372911,
                        "remaining_time": 17.32872742,
                        "test": [
                          0.5866576588
                        ]
                      },
                      {
                        "learn": [
                          0.5638186386
                        ],
                        "iteration": 423,
                        "passed_time": 12.72591164,
                        "remaining_time": 17.28803091,
                        "test": [
                          0.586656088
                        ]
                      },
                      {
                        "learn": [
                          0.5637452907
                        ],
                        "iteration": 424,
                        "passed_time": 12.75011425,
                        "remaining_time": 17.25015458,
                        "test": [
                          0.5866808309
                        ]
                      },
                      {
                        "learn": [
                          0.5637055869
                        ],
                        "iteration": 425,
                        "passed_time": 12.77189563,
                        "remaining_time": 17.20908002,
                        "test": [
                          0.5866919859
                        ]
                      },
                      {
                        "learn": [
                          0.5636500936
                        ],
                        "iteration": 426,
                        "passed_time": 12.79469939,
                        "remaining_time": 17.1694678,
                        "test": [
                          0.5866989014
                        ]
                      },
                      {
                        "learn": [
                          0.5635923182
                        ],
                        "iteration": 427,
                        "passed_time": 12.81810656,
                        "remaining_time": 17.13074054,
                        "test": [
                          0.5866671773
                        ]
                      },
                      {
                        "learn": [
                          0.563533683
                        ],
                        "iteration": 428,
                        "passed_time": 12.84141249,
                        "remaining_time": 17.09194996,
                        "test": [
                          0.5866594079
                        ]
                      },
                      {
                        "learn": [
                          0.5634857261
                        ],
                        "iteration": 429,
                        "passed_time": 12.86546406,
                        "remaining_time": 17.05421981,
                        "test": [
                          0.5866771451
                        ]
                      },
                      {
                        "learn": [
                          0.5633987972
                        ],
                        "iteration": 430,
                        "passed_time": 12.88884668,
                        "remaining_time": 17.01566999,
                        "test": [
                          0.5867024229
                        ]
                      },
                      {
                        "learn": [
                          0.5633761807
                        ],
                        "iteration": 431,
                        "passed_time": 12.91037422,
                        "remaining_time": 16.97475129,
                        "test": [
                          0.586706919
                        ]
                      },
                      {
                        "learn": [
                          0.5633159816
                        ],
                        "iteration": 432,
                        "passed_time": 12.9331057,
                        "remaining_time": 16.93549869,
                        "test": [
                          0.5867371322
                        ]
                      },
                      {
                        "learn": [
                          0.5632808656
                        ],
                        "iteration": 433,
                        "passed_time": 12.9546627,
                        "remaining_time": 16.89479053,
                        "test": [
                          0.5867406967
                        ]
                      },
                      {
                        "learn": [
                          0.5632398282
                        ],
                        "iteration": 434,
                        "passed_time": 12.97689609,
                        "remaining_time": 16.85504894,
                        "test": [
                          0.5867532662
                        ]
                      },
                      {
                        "learn": [
                          0.5631896015
                        ],
                        "iteration": 435,
                        "passed_time": 13.00100764,
                        "remaining_time": 16.81781723,
                        "test": [
                          0.586766472
                        ]
                      },
                      {
                        "learn": [
                          0.5631534291
                        ],
                        "iteration": 436,
                        "passed_time": 13.02388458,
                        "remaining_time": 16.77905496,
                        "test": [
                          0.586791421
                        ]
                      },
                      {
                        "learn": [
                          0.5631373841
                        ],
                        "iteration": 437,
                        "passed_time": 13.04679011,
                        "remaining_time": 16.74040192,
                        "test": [
                          0.5868012741
                        ]
                      },
                      {
                        "learn": [
                          0.5630840463
                        ],
                        "iteration": 438,
                        "passed_time": 13.07006916,
                        "remaining_time": 16.70229794,
                        "test": [
                          0.5868159104
                        ]
                      },
                      {
                        "learn": [
                          0.5630274425
                        ],
                        "iteration": 439,
                        "passed_time": 13.09223521,
                        "remaining_time": 16.66284481,
                        "test": [
                          0.5868626752
                        ]
                      },
                      {
                        "learn": [
                          0.5629641114
                        ],
                        "iteration": 440,
                        "passed_time": 13.11614012,
                        "remaining_time": 16.62567421,
                        "test": [
                          0.5869052419
                        ]
                      },
                      {
                        "learn": [
                          0.5629200115
                        ],
                        "iteration": 441,
                        "passed_time": 13.13877016,
                        "remaining_time": 16.58695419,
                        "test": [
                          0.586945309
                        ]
                      },
                      {
                        "learn": [
                          0.562876785
                        ],
                        "iteration": 442,
                        "passed_time": 13.16271766,
                        "remaining_time": 16.54996329,
                        "test": [
                          0.5869346232
                        ]
                      },
                      {
                        "learn": [
                          0.5628694027
                        ],
                        "iteration": 443,
                        "passed_time": 13.18358763,
                        "remaining_time": 16.5091773,
                        "test": [
                          0.5869364414
                        ]
                      },
                      {
                        "learn": [
                          0.5628450733
                        ],
                        "iteration": 444,
                        "passed_time": 13.20564493,
                        "remaining_time": 16.46996166,
                        "test": [
                          0.5869240477
                        ]
                      },
                      {
                        "learn": [
                          0.5628003701
                        ],
                        "iteration": 445,
                        "passed_time": 13.26008483,
                        "remaining_time": 16.47104708,
                        "test": [
                          0.5869157096
                        ]
                      },
                      {
                        "learn": [
                          0.5627533887
                        ],
                        "iteration": 446,
                        "passed_time": 13.28179302,
                        "remaining_time": 16.43139047,
                        "test": [
                          0.5869139033
                        ]
                      },
                      {
                        "learn": [
                          0.5626914901
                        ],
                        "iteration": 447,
                        "passed_time": 13.30470178,
                        "remaining_time": 16.39329326,
                        "test": [
                          0.5869505428
                        ]
                      },
                      {
                        "learn": [
                          0.5626261668
                        ],
                        "iteration": 448,
                        "passed_time": 13.32850455,
                        "remaining_time": 16.35636082,
                        "test": [
                          0.5869472789
                        ]
                      },
                      {
                        "learn": [
                          0.5625784904
                        ],
                        "iteration": 449,
                        "passed_time": 13.35139564,
                        "remaining_time": 16.31837245,
                        "test": [
                          0.5869568877
                        ]
                      },
                      {
                        "learn": [
                          0.5625355897
                        ],
                        "iteration": 450,
                        "passed_time": 13.37514871,
                        "remaining_time": 16.28150031,
                        "test": [
                          0.5869837655
                        ]
                      },
                      {
                        "learn": [
                          0.5624533584
                        ],
                        "iteration": 451,
                        "passed_time": 13.39732437,
                        "remaining_time": 16.24277379,
                        "test": [
                          0.5870106898
                        ]
                      },
                      {
                        "learn": [
                          0.5624307527
                        ],
                        "iteration": 452,
                        "passed_time": 13.4179792,
                        "remaining_time": 16.20228393,
                        "test": [
                          0.5870150064
                        ]
                      },
                      {
                        "learn": [
                          0.5623593678
                        ],
                        "iteration": 453,
                        "passed_time": 13.44094061,
                        "remaining_time": 16.16465545,
                        "test": [
                          0.586997544
                        ]
                      },
                      {
                        "learn": [
                          0.5622830028
                        ],
                        "iteration": 454,
                        "passed_time": 13.46801291,
                        "remaining_time": 16.13201546,
                        "test": [
                          0.5870150308
                        ]
                      },
                      {
                        "learn": [
                          0.5622367493
                        ],
                        "iteration": 455,
                        "passed_time": 13.49012424,
                        "remaining_time": 16.09348155,
                        "test": [
                          0.5870111259
                        ]
                      },
                      {
                        "learn": [
                          0.5622015179
                        ],
                        "iteration": 456,
                        "passed_time": 13.51171545,
                        "remaining_time": 16.05440151,
                        "test": [
                          0.5869882814
                        ]
                      },
                      {
                        "learn": [
                          0.5621701232
                        ],
                        "iteration": 457,
                        "passed_time": 13.53241044,
                        "remaining_time": 16.01433724,
                        "test": [
                          0.5869655768
                        ]
                      },
                      {
                        "learn": [
                          0.5621230668
                        ],
                        "iteration": 458,
                        "passed_time": 13.55477571,
                        "remaining_time": 15.97632605,
                        "test": [
                          0.5869664792
                        ]
                      },
                      {
                        "learn": [
                          0.5620840613
                        ],
                        "iteration": 459,
                        "passed_time": 13.57743997,
                        "remaining_time": 15.93873387,
                        "test": [
                          0.586971185
                        ]
                      },
                      {
                        "learn": [
                          0.5620467107
                        ],
                        "iteration": 460,
                        "passed_time": 13.60277153,
                        "remaining_time": 15.90432506,
                        "test": [
                          0.5869730088
                        ]
                      },
                      {
                        "learn": [
                          0.5620243343
                        ],
                        "iteration": 461,
                        "passed_time": 13.62412589,
                        "remaining_time": 15.86532409,
                        "test": [
                          0.5869753331
                        ]
                      },
                      {
                        "learn": [
                          0.5619707515
                        ],
                        "iteration": 462,
                        "passed_time": 13.64730367,
                        "remaining_time": 15.82851419,
                        "test": [
                          0.5869879432
                        ]
                      },
                      {
                        "learn": [
                          0.5619098153
                        ],
                        "iteration": 463,
                        "passed_time": 13.67386626,
                        "remaining_time": 15.79567309,
                        "test": [
                          0.5869784963
                        ]
                      },
                      {
                        "learn": [
                          0.5618703514
                        ],
                        "iteration": 464,
                        "passed_time": 13.70402878,
                        "remaining_time": 15.76700086,
                        "test": [
                          0.5869483176
                        ]
                      },
                      {
                        "learn": [
                          0.5618160799
                        ],
                        "iteration": 465,
                        "passed_time": 13.72568648,
                        "remaining_time": 15.72857635,
                        "test": [
                          0.5869635487
                        ]
                      },
                      {
                        "learn": [
                          0.5617713053
                        ],
                        "iteration": 466,
                        "passed_time": 13.74897903,
                        "remaining_time": 15.69208956,
                        "test": [
                          0.5869547249
                        ]
                      },
                      {
                        "learn": [
                          0.5617414317
                        ],
                        "iteration": 467,
                        "passed_time": 13.76996665,
                        "remaining_time": 15.65303902,
                        "test": [
                          0.5869557051
                        ]
                      },
                      {
                        "learn": [
                          0.5616895954
                        ],
                        "iteration": 468,
                        "passed_time": 13.7922535,
                        "remaining_time": 15.61553648,
                        "test": [
                          0.5870090235
                        ]
                      },
                      {
                        "learn": [
                          0.5615717292
                        ],
                        "iteration": 469,
                        "passed_time": 13.81484428,
                        "remaining_time": 15.57844142,
                        "test": [
                          0.5869112811
                        ]
                      },
                      {
                        "learn": [
                          0.5614977449
                        ],
                        "iteration": 470,
                        "passed_time": 13.84764918,
                        "remaining_time": 15.55287986,
                        "test": [
                          0.586898314
                        ]
                      },
                      {
                        "learn": [
                          0.561448213
                        ],
                        "iteration": 471,
                        "passed_time": 13.8722911,
                        "remaining_time": 15.51815615,
                        "test": [
                          0.5868880609
                        ]
                      },
                      {
                        "learn": [
                          0.5613992116
                        ],
                        "iteration": 472,
                        "passed_time": 13.89748355,
                        "remaining_time": 15.48408844,
                        "test": [
                          0.5868684446
                        ]
                      },
                      {
                        "learn": [
                          0.5613407651
                        ],
                        "iteration": 473,
                        "passed_time": 13.92076274,
                        "remaining_time": 15.44793502,
                        "test": [
                          0.586893496
                        ]
                      },
                      {
                        "learn": [
                          0.5612802255
                        ],
                        "iteration": 474,
                        "passed_time": 13.94594312,
                        "remaining_time": 15.41393713,
                        "test": [
                          0.5868791441
                        ]
                      },
                      {
                        "learn": [
                          0.5612144681
                        ],
                        "iteration": 475,
                        "passed_time": 13.96970541,
                        "remaining_time": 15.3784152,
                        "test": [
                          0.5868872182
                        ]
                      },
                      {
                        "learn": [
                          0.5611724892
                        ],
                        "iteration": 476,
                        "passed_time": 13.99173167,
                        "remaining_time": 15.34103913,
                        "test": [
                          0.5868766684
                        ]
                      },
                      {
                        "learn": [
                          0.5611324041
                        ],
                        "iteration": 477,
                        "passed_time": 14.01471948,
                        "remaining_time": 15.30477734,
                        "test": [
                          0.5868868624
                        ]
                      },
                      {
                        "learn": [
                          0.5610749955
                        ],
                        "iteration": 478,
                        "passed_time": 14.03741094,
                        "remaining_time": 15.26824864,
                        "test": [
                          0.5868764145
                        ]
                      },
                      {
                        "learn": [
                          0.5610186618
                        ],
                        "iteration": 479,
                        "passed_time": 14.06010773,
                        "remaining_time": 15.23178337,
                        "test": [
                          0.586870051
                        ]
                      },
                      {
                        "learn": [
                          0.5609647208
                        ],
                        "iteration": 480,
                        "passed_time": 14.08266292,
                        "remaining_time": 15.19522257,
                        "test": [
                          0.5868693726
                        ]
                      },
                      {
                        "learn": [
                          0.5608995273
                        ],
                        "iteration": 481,
                        "passed_time": 14.10544537,
                        "remaining_time": 15.15896411,
                        "test": [
                          0.5868720313
                        ]
                      },
                      {
                        "learn": [
                          0.5608463179
                        ],
                        "iteration": 482,
                        "passed_time": 14.1293327,
                        "remaining_time": 15.12394412,
                        "test": [
                          0.5868517018
                        ]
                      },
                      {
                        "learn": [
                          0.5607828907
                        ],
                        "iteration": 483,
                        "passed_time": 14.15279899,
                        "remaining_time": 15.08852124,
                        "test": [
                          0.5868591987
                        ]
                      },
                      {
                        "learn": [
                          0.5607567767
                        ],
                        "iteration": 484,
                        "passed_time": 14.17414197,
                        "remaining_time": 15.05089302,
                        "test": [
                          0.5868446466
                        ]
                      },
                      {
                        "learn": [
                          0.5606865852
                        ],
                        "iteration": 485,
                        "passed_time": 14.19786955,
                        "remaining_time": 15.01585381,
                        "test": [
                          0.5868286079
                        ]
                      },
                      {
                        "learn": [
                          0.5606591264
                        ],
                        "iteration": 486,
                        "passed_time": 14.21976724,
                        "remaining_time": 14.97893346,
                        "test": [
                          0.5868105635
                        ]
                      },
                      {
                        "learn": [
                          0.5606033765
                        ],
                        "iteration": 487,
                        "passed_time": 14.26960576,
                        "remaining_time": 14.97138965,
                        "test": [
                          0.586808148
                        ]
                      },
                      {
                        "learn": [
                          0.5605669669
                        ],
                        "iteration": 488,
                        "passed_time": 14.29727839,
                        "remaining_time": 14.94050972,
                        "test": [
                          0.5868241692
                        ]
                      },
                      {
                        "learn": [
                          0.5605043034
                        ],
                        "iteration": 489,
                        "passed_time": 14.3193201,
                        "remaining_time": 14.90378214,
                        "test": [
                          0.5868550555
                        ]
                      },
                      {
                        "learn": [
                          0.5604480588
                        ],
                        "iteration": 490,
                        "passed_time": 14.34171578,
                        "remaining_time": 14.86748133,
                        "test": [
                          0.5868774345
                        ]
                      },
                      {
                        "learn": [
                          0.5603724913
                        ],
                        "iteration": 491,
                        "passed_time": 14.36642627,
                        "remaining_time": 14.83362713,
                        "test": [
                          0.5868587011
                        ]
                      },
                      {
                        "learn": [
                          0.5603205549
                        ],
                        "iteration": 492,
                        "passed_time": 14.38910608,
                        "remaining_time": 14.79772167,
                        "test": [
                          0.5868884039
                        ]
                      },
                      {
                        "learn": [
                          0.5602844564
                        ],
                        "iteration": 493,
                        "passed_time": 14.41186299,
                        "remaining_time": 14.76194873,
                        "test": [
                          0.5868949229
                        ]
                      },
                      {
                        "learn": [
                          0.5602465461
                        ],
                        "iteration": 494,
                        "passed_time": 14.43366388,
                        "remaining_time": 14.72525305,
                        "test": [
                          0.5868869763
                        ]
                      },
                      {
                        "learn": [
                          0.560138708
                        ],
                        "iteration": 495,
                        "passed_time": 14.45767113,
                        "remaining_time": 14.69085937,
                        "test": [
                          0.5868137279
                        ]
                      },
                      {
                        "learn": [
                          0.5601051401
                        ],
                        "iteration": 496,
                        "passed_time": 14.47861468,
                        "remaining_time": 14.6534068,
                        "test": [
                          0.5867707992
                        ]
                      },
                      {
                        "learn": [
                          0.5600412081
                        ],
                        "iteration": 497,
                        "passed_time": 14.50340479,
                        "remaining_time": 14.619898,
                        "test": [
                          0.5867753697
                        ]
                      },
                      {
                        "learn": [
                          0.5599856924
                        ],
                        "iteration": 498,
                        "passed_time": 14.52630524,
                        "remaining_time": 14.5845269,
                        "test": [
                          0.5867675047
                        ]
                      },
                      {
                        "learn": [
                          0.5599506655
                        ],
                        "iteration": 499,
                        "passed_time": 14.54755159,
                        "remaining_time": 14.54755159,
                        "test": [
                          0.5867701292
                        ]
                      },
                      {
                        "learn": [
                          0.5599164447
                        ],
                        "iteration": 500,
                        "passed_time": 14.56936933,
                        "remaining_time": 14.51120817,
                        "test": [
                          0.5867696291
                        ]
                      },
                      {
                        "learn": [
                          0.559879494
                        ],
                        "iteration": 501,
                        "passed_time": 14.59174495,
                        "remaining_time": 14.47547606,
                        "test": [
                          0.5867789218
                        ]
                      },
                      {
                        "learn": [
                          0.5598102828
                        ],
                        "iteration": 502,
                        "passed_time": 14.61816954,
                        "remaining_time": 14.44379774,
                        "test": [
                          0.5867906084
                        ]
                      },
                      {
                        "learn": [
                          0.5597568226
                        ],
                        "iteration": 503,
                        "passed_time": 14.6397176,
                        "remaining_time": 14.40734113,
                        "test": [
                          0.5868115655
                        ]
                      },
                      {
                        "learn": [
                          0.5597037818
                        ],
                        "iteration": 504,
                        "passed_time": 14.66194195,
                        "remaining_time": 14.37160647,
                        "test": [
                          0.5868376703
                        ]
                      },
                      {
                        "learn": [
                          0.5596536386
                        ],
                        "iteration": 505,
                        "passed_time": 14.68701819,
                        "remaining_time": 14.33870946,
                        "test": [
                          0.586842401
                        ]
                      },
                      {
                        "learn": [
                          0.5595997568
                        ],
                        "iteration": 506,
                        "passed_time": 14.71719177,
                        "remaining_time": 14.31079989,
                        "test": [
                          0.5868376989
                        ]
                      },
                      {
                        "learn": [
                          0.5595290309
                        ],
                        "iteration": 507,
                        "passed_time": 14.74126262,
                        "remaining_time": 14.27697088,
                        "test": [
                          0.586846701
                        ]
                      },
                      {
                        "learn": [
                          0.5594741769
                        ],
                        "iteration": 508,
                        "passed_time": 14.76346436,
                        "remaining_time": 14.24137721,
                        "test": [
                          0.5868745107
                        ]
                      },
                      {
                        "learn": [
                          0.5594363442
                        ],
                        "iteration": 509,
                        "passed_time": 14.78513128,
                        "remaining_time": 14.20532221,
                        "test": [
                          0.5868556549
                        ]
                      },
                      {
                        "learn": [
                          0.559395134
                        ],
                        "iteration": 510,
                        "passed_time": 14.80729467,
                        "remaining_time": 14.16979861,
                        "test": [
                          0.5868566988
                        ]
                      },
                      {
                        "learn": [
                          0.5593847925
                        ],
                        "iteration": 511,
                        "passed_time": 14.82790409,
                        "remaining_time": 14.13284608,
                        "test": [
                          0.5868760129
                        ]
                      },
                      {
                        "learn": [
                          0.5592773909
                        ],
                        "iteration": 512,
                        "passed_time": 14.85288309,
                        "remaining_time": 14.10010539,
                        "test": [
                          0.5868014838
                        ]
                      },
                      {
                        "learn": [
                          0.559245844
                        ],
                        "iteration": 513,
                        "passed_time": 14.87510649,
                        "remaining_time": 14.06478941,
                        "test": [
                          0.5867953677
                        ]
                      },
                      {
                        "learn": [
                          0.5592000883
                        ],
                        "iteration": 514,
                        "passed_time": 14.89806833,
                        "remaining_time": 14.03021969,
                        "test": [
                          0.5868007147
                        ]
                      },
                      {
                        "learn": [
                          0.5591335227
                        ],
                        "iteration": 515,
                        "passed_time": 14.9212056,
                        "remaining_time": 13.99585951,
                        "test": [
                          0.5868223444
                        ]
                      },
                      {
                        "learn": [
                          0.5590728525
                        ],
                        "iteration": 516,
                        "passed_time": 14.9427546,
                        "remaining_time": 13.96005894,
                        "test": [
                          0.586811479
                        ]
                      },
                      {
                        "learn": [
                          0.5590173189
                        ],
                        "iteration": 517,
                        "passed_time": 14.96548625,
                        "remaining_time": 13.92541384,
                        "test": [
                          0.5868234392
                        ]
                      },
                      {
                        "learn": [
                          0.5589882136
                        ],
                        "iteration": 518,
                        "passed_time": 14.9878717,
                        "remaining_time": 13.89049381,
                        "test": [
                          0.5868556794
                        ]
                      },
                      {
                        "learn": [
                          0.5589441318
                        ],
                        "iteration": 519,
                        "passed_time": 15.01004805,
                        "remaining_time": 13.85542897,
                        "test": [
                          0.5868708262
                        ]
                      },
                      {
                        "learn": [
                          0.5589013093
                        ],
                        "iteration": 520,
                        "passed_time": 15.03234022,
                        "remaining_time": 13.82052009,
                        "test": [
                          0.5868672887
                        ]
                      },
                      {
                        "learn": [
                          0.5588847436
                        ],
                        "iteration": 521,
                        "passed_time": 15.05300563,
                        "remaining_time": 13.7841699,
                        "test": [
                          0.5868719443
                        ]
                      },
                      {
                        "learn": [
                          0.55886368
                        ],
                        "iteration": 522,
                        "passed_time": 15.07452102,
                        "remaining_time": 13.74865492,
                        "test": [
                          0.5868472536
                        ]
                      },
                      {
                        "learn": [
                          0.5588092496
                        ],
                        "iteration": 523,
                        "passed_time": 15.09941925,
                        "remaining_time": 13.71626634,
                        "test": [
                          0.5868633743
                        ]
                      },
                      {
                        "learn": [
                          0.5587287538
                        ],
                        "iteration": 524,
                        "passed_time": 15.12227489,
                        "remaining_time": 13.68205823,
                        "test": [
                          0.5868322832
                        ]
                      },
                      {
                        "learn": [
                          0.5586640637
                        ],
                        "iteration": 525,
                        "passed_time": 15.14642662,
                        "remaining_time": 13.64906125,
                        "test": [
                          0.5868482497
                        ]
                      },
                      {
                        "learn": [
                          0.5586210386
                        ],
                        "iteration": 526,
                        "passed_time": 15.16972245,
                        "remaining_time": 13.61532964,
                        "test": [
                          0.5868563015
                        ]
                      },
                      {
                        "learn": [
                          0.5585528529
                        ],
                        "iteration": 527,
                        "passed_time": 15.19298268,
                        "remaining_time": 13.58160573,
                        "test": [
                          0.5868333664
                        ]
                      },
                      {
                        "learn": [
                          0.5585140895
                        ],
                        "iteration": 528,
                        "passed_time": 15.21569563,
                        "remaining_time": 13.54743411,
                        "test": [
                          0.5868398266
                        ]
                      },
                      {
                        "learn": [
                          0.5584386308
                        ],
                        "iteration": 529,
                        "passed_time": 15.25828516,
                        "remaining_time": 13.53093212,
                        "test": [
                          0.5868270894
                        ]
                      },
                      {
                        "learn": [
                          0.5583612977
                        ],
                        "iteration": 530,
                        "passed_time": 15.30367977,
                        "remaining_time": 13.51680944,
                        "test": [
                          0.5868653962
                        ]
                      },
                      {
                        "learn": [
                          0.5583223939
                        ],
                        "iteration": 531,
                        "passed_time": 15.3255605,
                        "remaining_time": 13.48188405,
                        "test": [
                          0.5868878972
                        ]
                      },
                      {
                        "learn": [
                          0.5582636578
                        ],
                        "iteration": 532,
                        "passed_time": 15.34822408,
                        "remaining_time": 13.44769352,
                        "test": [
                          0.5868867091
                        ]
                      },
                      {
                        "learn": [
                          0.5581949889
                        ],
                        "iteration": 533,
                        "passed_time": 15.37350202,
                        "remaining_time": 13.41582761,
                        "test": [
                          0.5868681586
                        ]
                      },
                      {
                        "learn": [
                          0.5581654315
                        ],
                        "iteration": 534,
                        "passed_time": 15.39496666,
                        "remaining_time": 13.38067195,
                        "test": [
                          0.5868848061
                        ]
                      },
                      {
                        "learn": [
                          0.5581039242
                        ],
                        "iteration": 535,
                        "passed_time": 15.41727915,
                        "remaining_time": 13.34630136,
                        "test": [
                          0.5869107473
                        ]
                      },
                      {
                        "learn": [
                          0.5580484197
                        ],
                        "iteration": 536,
                        "passed_time": 15.44244136,
                        "remaining_time": 13.31443268,
                        "test": [
                          0.5868910135
                        ]
                      },
                      {
                        "learn": [
                          0.5579835538
                        ],
                        "iteration": 537,
                        "passed_time": 15.46455142,
                        "remaining_time": 13.27996795,
                        "test": [
                          0.5868460996
                        ]
                      },
                      {
                        "learn": [
                          0.5579324008
                        ],
                        "iteration": 538,
                        "passed_time": 15.4870552,
                        "remaining_time": 13.2458858,
                        "test": [
                          0.5868300277
                        ]
                      },
                      {
                        "learn": [
                          0.5578396615
                        ],
                        "iteration": 539,
                        "passed_time": 15.51155025,
                        "remaining_time": 13.21354281,
                        "test": [
                          0.5867483211
                        ]
                      },
                      {
                        "learn": [
                          0.5577972145
                        ],
                        "iteration": 540,
                        "passed_time": 15.54210978,
                        "remaining_time": 13.1863741,
                        "test": [
                          0.5867713919
                        ]
                      },
                      {
                        "learn": [
                          0.5577626125
                        ],
                        "iteration": 541,
                        "passed_time": 15.56432155,
                        "remaining_time": 13.15213888,
                        "test": [
                          0.5867842001
                        ]
                      },
                      {
                        "learn": [
                          0.5577272085
                        ],
                        "iteration": 542,
                        "passed_time": 15.5866473,
                        "remaining_time": 13.11804386,
                        "test": [
                          0.5867746873
                        ]
                      },
                      {
                        "learn": [
                          0.5576207339
                        ],
                        "iteration": 543,
                        "passed_time": 15.61373981,
                        "remaining_time": 13.08798778,
                        "test": [
                          0.5867415398
                        ]
                      },
                      {
                        "learn": [
                          0.5575629494
                        ],
                        "iteration": 544,
                        "passed_time": 15.63757496,
                        "remaining_time": 13.05522313,
                        "test": [
                          0.5867631848
                        ]
                      },
                      {
                        "learn": [
                          0.5575206777
                        ],
                        "iteration": 545,
                        "passed_time": 15.65912902,
                        "remaining_time": 13.02059446,
                        "test": [
                          0.5867611601
                        ]
                      },
                      {
                        "learn": [
                          0.5574803548
                        ],
                        "iteration": 546,
                        "passed_time": 15.68052865,
                        "remaining_time": 12.9858857,
                        "test": [
                          0.5867418287
                        ]
                      },
                      {
                        "learn": [
                          0.5574419236
                        ],
                        "iteration": 547,
                        "passed_time": 15.70661297,
                        "remaining_time": 12.95508953,
                        "test": [
                          0.5867126055
                        ]
                      },
                      {
                        "learn": [
                          0.5573974119
                        ],
                        "iteration": 548,
                        "passed_time": 15.73731412,
                        "remaining_time": 12.92810322,
                        "test": [
                          0.5867066682
                        ]
                      },
                      {
                        "learn": [
                          0.5573407271
                        ],
                        "iteration": 549,
                        "passed_time": 15.76044379,
                        "remaining_time": 12.89490856,
                        "test": [
                          0.586683134
                        ]
                      },
                      {
                        "learn": [
                          0.5572845111
                        ],
                        "iteration": 550,
                        "passed_time": 15.78309762,
                        "remaining_time": 12.86136267,
                        "test": [
                          0.5866793325
                        ]
                      },
                      {
                        "learn": [
                          0.5572279143
                        ],
                        "iteration": 551,
                        "passed_time": 15.8056063,
                        "remaining_time": 12.82773845,
                        "test": [
                          0.5866736978
                        ]
                      },
                      {
                        "learn": [
                          0.5571566858
                        ],
                        "iteration": 552,
                        "passed_time": 15.82965159,
                        "remaining_time": 12.7953965,
                        "test": [
                          0.5866638704
                        ]
                      },
                      {
                        "learn": [
                          0.5571145302
                        ],
                        "iteration": 553,
                        "passed_time": 15.8526051,
                        "remaining_time": 12.76220555,
                        "test": [
                          0.5866601379
                        ]
                      },
                      {
                        "learn": [
                          0.5570565298
                        ],
                        "iteration": 554,
                        "passed_time": 15.87557101,
                        "remaining_time": 12.72906144,
                        "test": [
                          0.586648849
                        ]
                      },
                      {
                        "learn": [
                          0.5570201274
                        ],
                        "iteration": 555,
                        "passed_time": 15.89779682,
                        "remaining_time": 12.69536293,
                        "test": [
                          0.5866451175
                        ]
                      },
                      {
                        "learn": [
                          0.556955033
                        ],
                        "iteration": 556,
                        "passed_time": 15.92043113,
                        "remaining_time": 12.6620305,
                        "test": [
                          0.5866277184
                        ]
                      },
                      {
                        "learn": [
                          0.5568906723
                        ],
                        "iteration": 557,
                        "passed_time": 15.94359788,
                        "remaining_time": 12.62915817,
                        "test": [
                          0.5866754691
                        ]
                      },
                      {
                        "learn": [
                          0.5568642819
                        ],
                        "iteration": 558,
                        "passed_time": 15.96600194,
                        "remaining_time": 12.59571888,
                        "test": [
                          0.5867038823
                        ]
                      },
                      {
                        "learn": [
                          0.5568339542
                        ],
                        "iteration": 559,
                        "passed_time": 15.988946,
                        "remaining_time": 12.56274329,
                        "test": [
                          0.5867047619
                        ]
                      },
                      {
                        "learn": [
                          0.5567789812
                        ],
                        "iteration": 560,
                        "passed_time": 16.01051506,
                        "remaining_time": 12.52872747,
                        "test": [
                          0.5866877381
                        ]
                      },
                      {
                        "learn": [
                          0.5567533823
                        ],
                        "iteration": 561,
                        "passed_time": 16.0333855,
                        "remaining_time": 12.49577019,
                        "test": [
                          0.5867071524
                        ]
                      },
                      {
                        "learn": [
                          0.5567086297
                        ],
                        "iteration": 562,
                        "passed_time": 16.05497475,
                        "remaining_time": 12.46185429,
                        "test": [
                          0.5866847763
                        ]
                      },
                      {
                        "learn": [
                          0.5565669111
                        ],
                        "iteration": 563,
                        "passed_time": 16.07835788,
                        "remaining_time": 12.42936886,
                        "test": [
                          0.5865442223
                        ]
                      },
                      {
                        "learn": [
                          0.5565451721
                        ],
                        "iteration": 564,
                        "passed_time": 16.10053541,
                        "remaining_time": 12.39598744,
                        "test": [
                          0.5865366346
                        ]
                      },
                      {
                        "learn": [
                          0.5564983684
                        ],
                        "iteration": 565,
                        "passed_time": 16.12340184,
                        "remaining_time": 12.36317385,
                        "test": [
                          0.5865213003
                        ]
                      },
                      {
                        "learn": [
                          0.5564371322
                        ],
                        "iteration": 566,
                        "passed_time": 16.145481,
                        "remaining_time": 12.32979414,
                        "test": [
                          0.5865504411
                        ]
                      },
                      {
                        "learn": [
                          0.556396868
                        ],
                        "iteration": 567,
                        "passed_time": 16.1674073,
                        "remaining_time": 12.29633795,
                        "test": [
                          0.5865515811
                        ]
                      },
                      {
                        "learn": [
                          0.5563469857
                        ],
                        "iteration": 568,
                        "passed_time": 16.19147929,
                        "remaining_time": 12.26454758,
                        "test": [
                          0.5865367705
                        ]
                      },
                      {
                        "learn": [
                          0.5562967413
                        ],
                        "iteration": 569,
                        "passed_time": 16.21423815,
                        "remaining_time": 12.2317937,
                        "test": [
                          0.586579474
                        ]
                      },
                      {
                        "learn": [
                          0.5562504341
                        ],
                        "iteration": 570,
                        "passed_time": 16.2354295,
                        "remaining_time": 12.19789712,
                        "test": [
                          0.586595717
                        ]
                      },
                      {
                        "learn": [
                          0.5562081274
                        ],
                        "iteration": 571,
                        "passed_time": 16.28341174,
                        "remaining_time": 12.1840913,
                        "test": [
                          0.5866017622
                        ]
                      },
                      {
                        "learn": [
                          0.5561598776
                        ],
                        "iteration": 572,
                        "passed_time": 16.32103115,
                        "remaining_time": 12.16244381,
                        "test": [
                          0.5866173518
                        ]
                      },
                      {
                        "learn": [
                          0.5560973649
                        ],
                        "iteration": 573,
                        "passed_time": 16.34382874,
                        "remaining_time": 12.12974049,
                        "test": [
                          0.5865965743
                        ]
                      },
                      {
                        "learn": [
                          0.5560670086
                        ],
                        "iteration": 574,
                        "passed_time": 16.36852674,
                        "remaining_time": 12.09847628,
                        "test": [
                          0.5866155646
                        ]
                      },
                      {
                        "learn": [
                          0.5560310715
                        ],
                        "iteration": 575,
                        "passed_time": 16.39055015,
                        "remaining_time": 12.06526608,
                        "test": [
                          0.5866102374
                        ]
                      },
                      {
                        "learn": [
                          0.5559907206
                        ],
                        "iteration": 576,
                        "passed_time": 16.41215826,
                        "remaining_time": 12.0317902,
                        "test": [
                          0.5866082629
                        ]
                      },
                      {
                        "learn": [
                          0.5559456444
                        ],
                        "iteration": 577,
                        "passed_time": 16.43461849,
                        "remaining_time": 11.99897751,
                        "test": [
                          0.5866330087
                        ]
                      },
                      {
                        "learn": [
                          0.5558859388
                        ],
                        "iteration": 578,
                        "passed_time": 16.45699438,
                        "remaining_time": 11.96613927,
                        "test": [
                          0.5866072304
                        ]
                      },
                      {
                        "learn": [
                          0.5558383353
                        ],
                        "iteration": 579,
                        "passed_time": 16.47904111,
                        "remaining_time": 11.93309873,
                        "test": [
                          0.586609877
                        ]
                      },
                      {
                        "learn": [
                          0.5557907878
                        ],
                        "iteration": 580,
                        "passed_time": 16.50120804,
                        "remaining_time": 11.90018273,
                        "test": [
                          0.5866187254
                        ]
                      },
                      {
                        "learn": [
                          0.5557419323
                        ],
                        "iteration": 581,
                        "passed_time": 16.52748367,
                        "remaining_time": 11.8702546,
                        "test": [
                          0.5865677221
                        ]
                      },
                      {
                        "learn": [
                          0.555687065
                        ],
                        "iteration": 582,
                        "passed_time": 16.55029338,
                        "remaining_time": 11.83785993,
                        "test": [
                          0.5865661822
                        ]
                      },
                      {
                        "learn": [
                          0.5556346902
                        ],
                        "iteration": 583,
                        "passed_time": 16.57330923,
                        "remaining_time": 11.80564493,
                        "test": [
                          0.5865544146
                        ]
                      },
                      {
                        "learn": [
                          0.5555781932
                        ],
                        "iteration": 584,
                        "passed_time": 16.60011685,
                        "remaining_time": 11.77615127,
                        "test": [
                          0.5865875672
                        ]
                      },
                      {
                        "learn": [
                          0.5555200592
                        ],
                        "iteration": 585,
                        "passed_time": 16.62363705,
                        "remaining_time": 11.74434426,
                        "test": [
                          0.5865926688
                        ]
                      },
                      {
                        "learn": [
                          0.5554909099
                        ],
                        "iteration": 586,
                        "passed_time": 16.64545775,
                        "remaining_time": 11.71136976,
                        "test": [
                          0.5866024469
                        ]
                      },
                      {
                        "learn": [
                          0.5554267612
                        ],
                        "iteration": 587,
                        "passed_time": 16.66851669,
                        "remaining_time": 11.67930081,
                        "test": [
                          0.586605525
                        ]
                      },
                      {
                        "learn": [
                          0.5553970134
                        ],
                        "iteration": 588,
                        "passed_time": 16.69042173,
                        "remaining_time": 11.64645727,
                        "test": [
                          0.5866130313
                        ]
                      },
                      {
                        "learn": [
                          0.5553275402
                        ],
                        "iteration": 589,
                        "passed_time": 16.71255977,
                        "remaining_time": 11.61381272,
                        "test": [
                          0.5866761159
                        ]
                      },
                      {
                        "learn": [
                          0.5552964498
                        ],
                        "iteration": 590,
                        "passed_time": 16.74665186,
                        "remaining_time": 11.5894765,
                        "test": [
                          0.5866874116
                        ]
                      },
                      {
                        "learn": [
                          0.555233175
                        ],
                        "iteration": 591,
                        "passed_time": 16.77007183,
                        "remaining_time": 11.55775221,
                        "test": [
                          0.5866803546
                        ]
                      },
                      {
                        "learn": [
                          0.5551867975
                        ],
                        "iteration": 592,
                        "passed_time": 16.79242247,
                        "remaining_time": 11.525322,
                        "test": [
                          0.5866913589
                        ]
                      },
                      {
                        "learn": [
                          0.5551068103
                        ],
                        "iteration": 593,
                        "passed_time": 16.81603145,
                        "remaining_time": 11.4937858,
                        "test": [
                          0.5867341167
                        ]
                      },
                      {
                        "learn": [
                          0.555063588
                        ],
                        "iteration": 594,
                        "passed_time": 16.84001549,
                        "remaining_time": 11.46253155,
                        "test": [
                          0.5867285745
                        ]
                      },
                      {
                        "learn": [
                          0.5550119967
                        ],
                        "iteration": 595,
                        "passed_time": 16.86292417,
                        "remaining_time": 11.43057276,
                        "test": [
                          0.5867578636
                        ]
                      },
                      {
                        "learn": [
                          0.554995838
                        ],
                        "iteration": 596,
                        "passed_time": 16.88560884,
                        "remaining_time": 11.39849307,
                        "test": [
                          0.5867357107
                        ]
                      },
                      {
                        "learn": [
                          0.5549468875
                        ],
                        "iteration": 597,
                        "passed_time": 16.90735617,
                        "remaining_time": 11.36581468,
                        "test": [
                          0.5867415368
                        ]
                      },
                      {
                        "learn": [
                          0.5548936488
                        ],
                        "iteration": 598,
                        "passed_time": 16.93111766,
                        "remaining_time": 11.33452117,
                        "test": [
                          0.5867441261
                        ]
                      },
                      {
                        "learn": [
                          0.5548338145
                        ],
                        "iteration": 599,
                        "passed_time": 16.95522392,
                        "remaining_time": 11.30348261,
                        "test": [
                          0.5867701407
                        ]
                      },
                      {
                        "learn": [
                          0.5548018585
                        ],
                        "iteration": 600,
                        "passed_time": 16.9783331,
                        "remaining_time": 11.27180517,
                        "test": [
                          0.5867757278
                        ]
                      },
                      {
                        "learn": [
                          0.5547548997
                        ],
                        "iteration": 601,
                        "passed_time": 17.00183115,
                        "remaining_time": 11.24041328,
                        "test": [
                          0.5867519822
                        ]
                      },
                      {
                        "learn": [
                          0.5546995346
                        ],
                        "iteration": 602,
                        "passed_time": 17.02411004,
                        "remaining_time": 11.20824492,
                        "test": [
                          0.5867800236
                        ]
                      },
                      {
                        "learn": [
                          0.5546492239
                        ],
                        "iteration": 603,
                        "passed_time": 17.04583898,
                        "remaining_time": 11.17574873,
                        "test": [
                          0.5867930533
                        ]
                      },
                      {
                        "learn": [
                          0.5546149413
                        ],
                        "iteration": 604,
                        "passed_time": 17.06735099,
                        "remaining_time": 11.14314652,
                        "test": [
                          0.5867775598
                        ]
                      },
                      {
                        "learn": [
                          0.5545954468
                        ],
                        "iteration": 605,
                        "passed_time": 17.08884666,
                        "remaining_time": 11.11057027,
                        "test": [
                          0.5867697181
                        ]
                      },
                      {
                        "learn": [
                          0.5545395681
                        ],
                        "iteration": 606,
                        "passed_time": 17.1118862,
                        "remaining_time": 11.07903011,
                        "test": [
                          0.5867510988
                        ]
                      },
                      {
                        "learn": [
                          0.5544939814
                        ],
                        "iteration": 607,
                        "passed_time": 17.13465806,
                        "remaining_time": 11.04734533,
                        "test": [
                          0.5867578896
                        ]
                      },
                      {
                        "learn": [
                          0.5544674264
                        ],
                        "iteration": 608,
                        "passed_time": 17.15650762,
                        "remaining_time": 11.01509767,
                        "test": [
                          0.586784233
                        ]
                      },
                      {
                        "learn": [
                          0.5544497664
                        ],
                        "iteration": 609,
                        "passed_time": 17.17810735,
                        "remaining_time": 10.98272437,
                        "test": [
                          0.5867883785
                        ]
                      },
                      {
                        "learn": [
                          0.5543949167
                        ],
                        "iteration": 610,
                        "passed_time": 17.2024709,
                        "remaining_time": 10.95214596,
                        "test": [
                          0.5867788536
                        ]
                      },
                      {
                        "learn": [
                          0.5543593342
                        ],
                        "iteration": 611,
                        "passed_time": 17.22495096,
                        "remaining_time": 10.92039374,
                        "test": [
                          0.5867702873
                        ]
                      },
                      {
                        "learn": [
                          0.5543023256
                        ],
                        "iteration": 612,
                        "passed_time": 17.24868436,
                        "remaining_time": 10.88946305,
                        "test": [
                          0.5867388471
                        ]
                      },
                      {
                        "learn": [
                          0.5542592108
                        ],
                        "iteration": 613,
                        "passed_time": 17.27187654,
                        "remaining_time": 10.85821554,
                        "test": [
                          0.5867377548
                        ]
                      },
                      {
                        "learn": [
                          0.554216267
                        ],
                        "iteration": 614,
                        "passed_time": 17.32795307,
                        "remaining_time": 10.84758038,
                        "test": [
                          0.586738754
                        ]
                      },
                      {
                        "learn": [
                          0.5541795922
                        ],
                        "iteration": 615,
                        "passed_time": 17.35698775,
                        "remaining_time": 10.81994042,
                        "test": [
                          0.5867295628
                        ]
                      },
                      {
                        "learn": [
                          0.5541436328
                        ],
                        "iteration": 616,
                        "passed_time": 17.37845159,
                        "remaining_time": 10.78759637,
                        "test": [
                          0.5867674103
                        ]
                      },
                      {
                        "learn": [
                          0.5541179254
                        ],
                        "iteration": 617,
                        "passed_time": 17.39998253,
                        "remaining_time": 10.75532901,
                        "test": [
                          0.586791621
                        ]
                      },
                      {
                        "learn": [
                          0.5540738557
                        ],
                        "iteration": 618,
                        "passed_time": 17.42300336,
                        "remaining_time": 10.72401338,
                        "test": [
                          0.586816771
                        ]
                      },
                      {
                        "learn": [
                          0.5540076902
                        ],
                        "iteration": 619,
                        "passed_time": 17.44684455,
                        "remaining_time": 10.6932273,
                        "test": [
                          0.5868277896
                        ]
                      },
                      {
                        "learn": [
                          0.5539783917
                        ],
                        "iteration": 620,
                        "passed_time": 17.46880851,
                        "remaining_time": 10.66131792,
                        "test": [
                          0.5868297132
                        ]
                      },
                      {
                        "learn": [
                          0.5539472463
                        ],
                        "iteration": 621,
                        "passed_time": 17.49120282,
                        "remaining_time": 10.62970203,
                        "test": [
                          0.5868364532
                        ]
                      },
                      {
                        "learn": [
                          0.5538936436
                        ],
                        "iteration": 622,
                        "passed_time": 17.51438712,
                        "remaining_time": 10.59859381,
                        "test": [
                          0.5868779567
                        ]
                      },
                      {
                        "learn": [
                          0.5538487373
                        ],
                        "iteration": 623,
                        "passed_time": 17.5376268,
                        "remaining_time": 10.56754435,
                        "test": [
                          0.5869123578
                        ]
                      },
                      {
                        "learn": [
                          0.5538035862
                        ],
                        "iteration": 624,
                        "passed_time": 17.5598993,
                        "remaining_time": 10.53593958,
                        "test": [
                          0.5869255792
                        ]
                      },
                      {
                        "learn": [
                          0.5537634615
                        ],
                        "iteration": 625,
                        "passed_time": 17.60566206,
                        "remaining_time": 10.51839874,
                        "test": [
                          0.586927865
                        ]
                      },
                      {
                        "learn": [
                          0.5537133452
                        ],
                        "iteration": 626,
                        "passed_time": 17.66469874,
                        "remaining_time": 10.50866448,
                        "test": [
                          0.5869634234
                        ]
                      },
                      {
                        "learn": [
                          0.5536739746
                        ],
                        "iteration": 627,
                        "passed_time": 17.72381396,
                        "remaining_time": 10.49881974,
                        "test": [
                          0.5869635946
                        ]
                      },
                      {
                        "learn": [
                          0.5536445491
                        ],
                        "iteration": 628,
                        "passed_time": 17.79100788,
                        "remaining_time": 10.49358334,
                        "test": [
                          0.5869687199
                        ]
                      },
                      {
                        "learn": [
                          0.5535936045
                        ],
                        "iteration": 629,
                        "passed_time": 17.82466393,
                        "remaining_time": 10.46845342,
                        "test": [
                          0.5869582692
                        ]
                      },
                      {
                        "learn": [
                          0.5535510801
                        ],
                        "iteration": 630,
                        "passed_time": 17.85551438,
                        "remaining_time": 10.4416558,
                        "test": [
                          0.5869586018
                        ]
                      },
                      {
                        "learn": [
                          0.5535048585
                        ],
                        "iteration": 631,
                        "passed_time": 17.90178843,
                        "remaining_time": 10.42382618,
                        "test": [
                          0.5869661407
                        ]
                      },
                      {
                        "learn": [
                          0.5534531819
                        ],
                        "iteration": 632,
                        "passed_time": 17.95949957,
                        "remaining_time": 10.41253767,
                        "test": [
                          0.5869483691
                        ]
                      },
                      {
                        "learn": [
                          0.5533553693
                        ],
                        "iteration": 633,
                        "passed_time": 18.00449199,
                        "remaining_time": 10.39376036,
                        "test": [
                          0.5868394806
                        ]
                      },
                      {
                        "learn": [
                          0.5533389547
                        ],
                        "iteration": 634,
                        "passed_time": 18.06007001,
                        "remaining_time": 10.38098512,
                        "test": [
                          0.5868230027
                        ]
                      },
                      {
                        "learn": [
                          0.553314236
                        ],
                        "iteration": 635,
                        "passed_time": 18.11810148,
                        "remaining_time": 10.36947946,
                        "test": [
                          0.5868362978
                        ]
                      },
                      {
                        "learn": [
                          0.5532866882
                        ],
                        "iteration": 636,
                        "passed_time": 18.17323573,
                        "remaining_time": 10.35617672,
                        "test": [
                          0.5868149533
                        ]
                      },
                      {
                        "learn": [
                          0.5532381254
                        ],
                        "iteration": 637,
                        "passed_time": 18.22754563,
                        "remaining_time": 10.34227511,
                        "test": [
                          0.5868144581
                        ]
                      },
                      {
                        "learn": [
                          0.5532224506
                        ],
                        "iteration": 638,
                        "passed_time": 18.2812088,
                        "remaining_time": 10.32788165,
                        "test": [
                          0.5868317279
                        ]
                      },
                      {
                        "learn": [
                          0.5531665438
                        ],
                        "iteration": 639,
                        "passed_time": 18.37913877,
                        "remaining_time": 10.33826556,
                        "test": [
                          0.5868398989
                        ]
                      },
                      {
                        "learn": [
                          0.5531189735
                        ],
                        "iteration": 640,
                        "passed_time": 18.44799014,
                        "remaining_time": 10.33202568,
                        "test": [
                          0.5868529535
                        ]
                      },
                      {
                        "learn": [
                          0.5530576229
                        ],
                        "iteration": 641,
                        "passed_time": 18.50607362,
                        "remaining_time": 10.31958622,
                        "test": [
                          0.5868505102
                        ]
                      },
                      {
                        "learn": [
                          0.5529868421
                        ],
                        "iteration": 642,
                        "passed_time": 18.56775389,
                        "remaining_time": 10.30900177,
                        "test": [
                          0.5868830171
                        ]
                      },
                      {
                        "learn": [
                          0.5529271632
                        ],
                        "iteration": 643,
                        "passed_time": 18.62685021,
                        "remaining_time": 10.29683024,
                        "test": [
                          0.5868892472
                        ]
                      },
                      {
                        "learn": [
                          0.5528734776
                        ],
                        "iteration": 644,
                        "passed_time": 18.68592712,
                        "remaining_time": 10.28450252,
                        "test": [
                          0.586880759
                        ]
                      },
                      {
                        "learn": [
                          0.5528445076
                        ],
                        "iteration": 645,
                        "passed_time": 18.74525385,
                        "remaining_time": 10.27216697,
                        "test": [
                          0.5868557497
                        ]
                      },
                      {
                        "learn": [
                          0.5527990203
                        ],
                        "iteration": 646,
                        "passed_time": 18.80474327,
                        "remaining_time": 10.25977492,
                        "test": [
                          0.5868744149
                        ]
                      },
                      {
                        "learn": [
                          0.5527527724
                        ],
                        "iteration": 647,
                        "passed_time": 18.85907029,
                        "remaining_time": 10.24443324,
                        "test": [
                          0.5869020573
                        ]
                      },
                      {
                        "learn": [
                          0.5527412877
                        ],
                        "iteration": 648,
                        "passed_time": 18.91201314,
                        "remaining_time": 10.22822283,
                        "test": [
                          0.586895802
                        ]
                      },
                      {
                        "learn": [
                          0.5526989125
                        ],
                        "iteration": 649,
                        "passed_time": 18.96978197,
                        "remaining_time": 10.21449799,
                        "test": [
                          0.5869230641
                        ]
                      },
                      {
                        "learn": [
                          0.5526533374
                        ],
                        "iteration": 650,
                        "passed_time": 19.02390528,
                        "remaining_time": 10.19868348,
                        "test": [
                          0.5869539042
                        ]
                      },
                      {
                        "learn": [
                          0.5525935811
                        ],
                        "iteration": 651,
                        "passed_time": 19.07842859,
                        "remaining_time": 10.18296496,
                        "test": [
                          0.5869764403
                        ]
                      },
                      {
                        "learn": [
                          0.5525310135
                        ],
                        "iteration": 652,
                        "passed_time": 19.13654129,
                        "remaining_time": 10.16903496,
                        "test": [
                          0.5869893191
                        ]
                      },
                      {
                        "learn": [
                          0.5525103402
                        ],
                        "iteration": 653,
                        "passed_time": 19.19391507,
                        "remaining_time": 10.15457892,
                        "test": [
                          0.5869946306
                        ]
                      },
                      {
                        "learn": [
                          0.5524607092
                        ],
                        "iteration": 654,
                        "passed_time": 19.24630529,
                        "remaining_time": 10.13736691,
                        "test": [
                          0.5869797995
                        ]
                      },
                      {
                        "learn": [
                          0.5524109082
                        ],
                        "iteration": 655,
                        "passed_time": 19.2986351,
                        "remaining_time": 10.12001597,
                        "test": [
                          0.5869768479
                        ]
                      },
                      {
                        "learn": [
                          0.5523759508
                        ],
                        "iteration": 656,
                        "passed_time": 19.35620894,
                        "remaining_time": 10.1052963,
                        "test": [
                          0.5869919127
                        ]
                      },
                      {
                        "learn": [
                          0.5523413662
                        ],
                        "iteration": 657,
                        "passed_time": 19.45415128,
                        "remaining_time": 10.11142817,
                        "test": [
                          0.5869690584
                        ]
                      },
                      {
                        "learn": [
                          0.5522835362
                        ],
                        "iteration": 658,
                        "passed_time": 19.51520238,
                        "remaining_time": 10.0981548,
                        "test": [
                          0.5869886432
                        ]
                      },
                      {
                        "learn": [
                          0.552249094
                        ],
                        "iteration": 659,
                        "passed_time": 19.57323176,
                        "remaining_time": 10.08318,
                        "test": [
                          0.587012905
                        ]
                      },
                      {
                        "learn": [
                          0.552190653
                        ],
                        "iteration": 660,
                        "passed_time": 19.63162362,
                        "remaining_time": 10.06826083,
                        "test": [
                          0.5870279477
                        ]
                      },
                      {
                        "learn": [
                          0.5521379998
                        ],
                        "iteration": 661,
                        "passed_time": 19.67357057,
                        "remaining_time": 10.04481398,
                        "test": [
                          0.5870404419
                        ]
                      },
                      {
                        "learn": [
                          0.552090718
                        ],
                        "iteration": 662,
                        "passed_time": 19.7377561,
                        "remaining_time": 10.03261509,
                        "test": [
                          0.5870395745
                        ]
                      },
                      {
                        "learn": [
                          0.5520440195
                        ],
                        "iteration": 663,
                        "passed_time": 19.79907301,
                        "remaining_time": 10.01880803,
                        "test": [
                          0.5870485242
                        ]
                      },
                      {
                        "learn": [
                          0.552014666
                        ],
                        "iteration": 664,
                        "passed_time": 19.85601772,
                        "remaining_time": 10.00265554,
                        "test": [
                          0.5870620362
                        ]
                      },
                      {
                        "learn": [
                          0.5519685192
                        ],
                        "iteration": 665,
                        "passed_time": 19.91130661,
                        "remaining_time": 9.985550162,
                        "test": [
                          0.5870780232
                        ]
                      },
                      {
                        "learn": [
                          0.5518962931
                        ],
                        "iteration": 666,
                        "passed_time": 19.9680882,
                        "remaining_time": 9.96907552,
                        "test": [
                          0.5870257658
                        ]
                      },
                      {
                        "learn": [
                          0.5518825648
                        ],
                        "iteration": 667,
                        "passed_time": 20.02306983,
                        "remaining_time": 9.951585602,
                        "test": [
                          0.5870307163
                        ]
                      },
                      {
                        "learn": [
                          0.5518374572
                        ],
                        "iteration": 668,
                        "passed_time": 20.07831355,
                        "remaining_time": 9.934113283,
                        "test": [
                          0.5870253157
                        ]
                      },
                      {
                        "learn": [
                          0.5517942502
                        ],
                        "iteration": 669,
                        "passed_time": 20.13537417,
                        "remaining_time": 9.917423097,
                        "test": [
                          0.5870236578
                        ]
                      },
                      {
                        "learn": [
                          0.5517427522
                        ],
                        "iteration": 670,
                        "passed_time": 20.19468143,
                        "remaining_time": 9.901714143,
                        "test": [
                          0.5870471367
                        ]
                      },
                      {
                        "learn": [
                          0.5516942799
                        ],
                        "iteration": 671,
                        "passed_time": 20.25456846,
                        "remaining_time": 9.886158413,
                        "test": [
                          0.5870376143
                        ]
                      },
                      {
                        "learn": [
                          0.5516558684
                        ],
                        "iteration": 672,
                        "passed_time": 20.30864116,
                        "remaining_time": 9.867645854,
                        "test": [
                          0.5870573548
                        ]
                      },
                      {
                        "learn": [
                          0.5516129101
                        ],
                        "iteration": 673,
                        "passed_time": 20.36788136,
                        "remaining_time": 9.851527186,
                        "test": [
                          0.5870741576
                        ]
                      },
                      {
                        "learn": [
                          0.5515429399
                        ],
                        "iteration": 674,
                        "passed_time": 20.42836588,
                        "remaining_time": 9.835879868,
                        "test": [
                          0.5870918533
                        ]
                      },
                      {
                        "learn": [
                          0.5514714453
                        ],
                        "iteration": 675,
                        "passed_time": 20.53720538,
                        "remaining_time": 9.843275953,
                        "test": [
                          0.5871141803
                        ]
                      },
                      {
                        "learn": [
                          0.5514245783
                        ],
                        "iteration": 676,
                        "passed_time": 20.59687964,
                        "remaining_time": 9.826871676,
                        "test": [
                          0.5871126202
                        ]
                      },
                      {
                        "learn": [
                          0.5513841205
                        ],
                        "iteration": 677,
                        "passed_time": 20.65298678,
                        "remaining_time": 9.808645641,
                        "test": [
                          0.5871333751
                        ]
                      },
                      {
                        "learn": [
                          0.5513129131
                        ],
                        "iteration": 678,
                        "passed_time": 20.71420479,
                        "remaining_time": 9.79272421,
                        "test": [
                          0.5871523547
                        ]
                      },
                      {
                        "learn": [
                          0.5512621865
                        ],
                        "iteration": 679,
                        "passed_time": 20.7695948,
                        "remaining_time": 9.773926965,
                        "test": [
                          0.5871483887
                        ]
                      },
                      {
                        "learn": [
                          0.5512007999
                        ],
                        "iteration": 680,
                        "passed_time": 20.83311308,
                        "remaining_time": 9.758829768,
                        "test": [
                          0.5871137174
                        ]
                      },
                      {
                        "learn": [
                          0.5511346224
                        ],
                        "iteration": 681,
                        "passed_time": 20.89481291,
                        "remaining_time": 9.742742678,
                        "test": [
                          0.5871104309
                        ]
                      },
                      {
                        "learn": [
                          0.5510943713
                        ],
                        "iteration": 682,
                        "passed_time": 20.94238567,
                        "remaining_time": 9.719965236,
                        "test": [
                          0.5871038699
                        ]
                      },
                      {
                        "learn": [
                          0.5510592429
                        ],
                        "iteration": 683,
                        "passed_time": 20.9954096,
                        "remaining_time": 9.699633676,
                        "test": [
                          0.587103013
                        ]
                      },
                      {
                        "learn": [
                          0.5510260928
                        ],
                        "iteration": 684,
                        "passed_time": 21.0504723,
                        "remaining_time": 9.680144195,
                        "test": [
                          0.5871094665
                        ]
                      },
                      {
                        "learn": [
                          0.5510112398
                        ],
                        "iteration": 685,
                        "passed_time": 21.10494987,
                        "remaining_time": 9.660283176,
                        "test": [
                          0.5871151834
                        ]
                      },
                      {
                        "learn": [
                          0.5509578346
                        ],
                        "iteration": 686,
                        "passed_time": 21.14985942,
                        "remaining_time": 9.635962154,
                        "test": [
                          0.5871136192
                        ]
                      },
                      {
                        "learn": [
                          0.5509197115
                        ],
                        "iteration": 687,
                        "passed_time": 21.20700145,
                        "remaining_time": 9.617128565,
                        "test": [
                          0.5871269954
                        ]
                      },
                      {
                        "learn": [
                          0.5508888382
                        ],
                        "iteration": 688,
                        "passed_time": 21.25706742,
                        "remaining_time": 9.594989795,
                        "test": [
                          0.5871237273
                        ]
                      },
                      {
                        "learn": [
                          0.5508648963
                        ],
                        "iteration": 689,
                        "passed_time": 21.31064736,
                        "remaining_time": 9.574348813,
                        "test": [
                          0.5871564879
                        ]
                      },
                      {
                        "learn": [
                          0.5508158661
                        ],
                        "iteration": 690,
                        "passed_time": 21.35714333,
                        "remaining_time": 9.5504447,
                        "test": [
                          0.5871522334
                        ]
                      },
                      {
                        "learn": [
                          0.5507549553
                        ],
                        "iteration": 691,
                        "passed_time": 21.42031246,
                        "remaining_time": 9.533896297,
                        "test": [
                          0.5871483134
                        ]
                      },
                      {
                        "learn": [
                          0.5507154685
                        ],
                        "iteration": 692,
                        "passed_time": 21.47122733,
                        "remaining_time": 9.51178469,
                        "test": [
                          0.5871672948
                        ]
                      },
                      {
                        "learn": [
                          0.5506854971
                        ],
                        "iteration": 693,
                        "passed_time": 21.54479526,
                        "remaining_time": 9.499578313,
                        "test": [
                          0.5871704613
                        ]
                      },
                      {
                        "learn": [
                          0.5506430025
                        ],
                        "iteration": 694,
                        "passed_time": 21.62358676,
                        "remaining_time": 9.489487713,
                        "test": [
                          0.5871774482
                        ]
                      },
                      {
                        "learn": [
                          0.5505850989
                        ],
                        "iteration": 695,
                        "passed_time": 21.69294735,
                        "remaining_time": 9.47508045,
                        "test": [
                          0.5871749188
                        ]
                      },
                      {
                        "learn": [
                          0.5505457829
                        ],
                        "iteration": 696,
                        "passed_time": 21.75454421,
                        "remaining_time": 9.457140455,
                        "test": [
                          0.5871685327
                        ]
                      },
                      {
                        "learn": [
                          0.5504937789
                        ],
                        "iteration": 697,
                        "passed_time": 21.80895404,
                        "remaining_time": 9.435965787,
                        "test": [
                          0.5871325906
                        ]
                      },
                      {
                        "learn": [
                          0.5504519281
                        ],
                        "iteration": 698,
                        "passed_time": 21.8470487,
                        "remaining_time": 9.407670468,
                        "test": [
                          0.5871125293
                        ]
                      },
                      {
                        "learn": [
                          0.5504395143
                        ],
                        "iteration": 699,
                        "passed_time": 21.87724887,
                        "remaining_time": 9.3759638,
                        "test": [
                          0.5871216167
                        ]
                      },
                      {
                        "learn": [
                          0.5503746186
                        ],
                        "iteration": 700,
                        "passed_time": 21.92100612,
                        "remaining_time": 9.35004398,
                        "test": [
                          0.5870806102
                        ]
                      },
                      {
                        "learn": [
                          0.5503475207
                        ],
                        "iteration": 701,
                        "passed_time": 21.95687892,
                        "remaining_time": 9.320726377,
                        "test": [
                          0.5871096341
                        ]
                      },
                      {
                        "learn": [
                          0.5502978457
                        ],
                        "iteration": 702,
                        "passed_time": 21.97897978,
                        "remaining_time": 9.285571829,
                        "test": [
                          0.5871466545
                        ]
                      },
                      {
                        "learn": [
                          0.5502638394
                        ],
                        "iteration": 703,
                        "passed_time": 22.01034825,
                        "remaining_time": 9.25435097,
                        "test": [
                          0.5871521191
                        ]
                      },
                      {
                        "learn": [
                          0.5502152776
                        ],
                        "iteration": 704,
                        "passed_time": 22.04012008,
                        "remaining_time": 9.222461594,
                        "test": [
                          0.587155204
                        ]
                      },
                      {
                        "learn": [
                          0.550158389
                        ],
                        "iteration": 705,
                        "passed_time": 22.06866775,
                        "remaining_time": 9.19006844,
                        "test": [
                          0.5871502264
                        ]
                      },
                      {
                        "learn": [
                          0.5501253416
                        ],
                        "iteration": 706,
                        "passed_time": 22.09293693,
                        "remaining_time": 9.155913041,
                        "test": [
                          0.5871497574
                        ]
                      },
                      {
                        "learn": [
                          0.5500779247
                        ],
                        "iteration": 707,
                        "passed_time": 22.11541503,
                        "remaining_time": 9.121046875,
                        "test": [
                          0.5871548055
                        ]
                      },
                      {
                        "learn": [
                          0.550033922
                        ],
                        "iteration": 708,
                        "passed_time": 22.13850956,
                        "remaining_time": 9.086468664,
                        "test": [
                          0.5871622824
                        ]
                      },
                      {
                        "learn": [
                          0.5499903668
                        ],
                        "iteration": 709,
                        "passed_time": 22.16143892,
                        "remaining_time": 9.051855332,
                        "test": [
                          0.5871766001
                        ]
                      },
                      {
                        "learn": [
                          0.5499319985
                        ],
                        "iteration": 710,
                        "passed_time": 22.18507641,
                        "remaining_time": 9.017562705,
                        "test": [
                          0.5871762851
                        ]
                      },
                      {
                        "learn": [
                          0.5498818174
                        ],
                        "iteration": 711,
                        "passed_time": 22.2081465,
                        "remaining_time": 8.983070494,
                        "test": [
                          0.5871581072
                        ]
                      },
                      {
                        "learn": [
                          0.5498382981
                        ],
                        "iteration": 712,
                        "passed_time": 22.23107619,
                        "remaining_time": 8.948553809,
                        "test": [
                          0.5871527559
                        ]
                      },
                      {
                        "learn": [
                          0.5497960675
                        ],
                        "iteration": 713,
                        "passed_time": 22.25364064,
                        "remaining_time": 8.913923281,
                        "test": [
                          0.5871231556
                        ]
                      },
                      {
                        "learn": [
                          0.5497166072
                        ],
                        "iteration": 714,
                        "passed_time": 22.27713284,
                        "remaining_time": 8.879696307,
                        "test": [
                          0.5871592251
                        ]
                      },
                      {
                        "learn": [
                          0.5496973534
                        ],
                        "iteration": 715,
                        "passed_time": 22.29972049,
                        "remaining_time": 8.84514053,
                        "test": [
                          0.5871618962
                        ]
                      },
                      {
                        "learn": [
                          0.5496187703
                        ],
                        "iteration": 716,
                        "passed_time": 22.32328772,
                        "remaining_time": 8.811004775,
                        "test": [
                          0.5871637893
                        ]
                      },
                      {
                        "learn": [
                          0.5495595952
                        ],
                        "iteration": 717,
                        "passed_time": 22.34857029,
                        "remaining_time": 8.777572173,
                        "test": [
                          0.5871871091
                        ]
                      },
                      {
                        "learn": [
                          0.5495030321
                        ],
                        "iteration": 718,
                        "passed_time": 22.37143184,
                        "remaining_time": 8.743216061,
                        "test": [
                          0.5871751008
                        ]
                      },
                      {
                        "learn": [
                          0.5494733515
                        ],
                        "iteration": 719,
                        "passed_time": 22.39321603,
                        "remaining_time": 8.708472902,
                        "test": [
                          0.5871704358
                        ]
                      },
                      {
                        "learn": [
                          0.5494388245
                        ],
                        "iteration": 720,
                        "passed_time": 22.41576069,
                        "remaining_time": 8.674059962,
                        "test": [
                          0.5871529377
                        ]
                      },
                      {
                        "learn": [
                          0.5493968567
                        ],
                        "iteration": 721,
                        "passed_time": 22.43940145,
                        "remaining_time": 8.640101943,
                        "test": [
                          0.5871437413
                        ]
                      },
                      {
                        "learn": [
                          0.5493324005
                        ],
                        "iteration": 722,
                        "passed_time": 22.46199814,
                        "remaining_time": 8.605772456,
                        "test": [
                          0.5871429584
                        ]
                      },
                      {
                        "learn": [
                          0.5493259023
                        ],
                        "iteration": 723,
                        "passed_time": 22.48223094,
                        "remaining_time": 8.570574227,
                        "test": [
                          0.5871456136
                        ]
                      },
                      {
                        "learn": [
                          0.5492892095
                        ],
                        "iteration": 724,
                        "passed_time": 22.50477208,
                        "remaining_time": 8.536292856,
                        "test": [
                          0.5871520379
                        ]
                      },
                      {
                        "learn": [
                          0.5492612332
                        ],
                        "iteration": 725,
                        "passed_time": 22.52731782,
                        "remaining_time": 8.50204557,
                        "test": [
                          0.5871517399
                        ]
                      },
                      {
                        "learn": [
                          0.54916178
                        ],
                        "iteration": 726,
                        "passed_time": 22.55083758,
                        "remaining_time": 8.46819623,
                        "test": [
                          0.5870697783
                        ]
                      },
                      {
                        "learn": [
                          0.5491295807
                        ],
                        "iteration": 727,
                        "passed_time": 22.57233252,
                        "remaining_time": 8.433618742,
                        "test": [
                          0.5870661447
                        ]
                      },
                      {
                        "learn": [
                          0.5490761081
                        ],
                        "iteration": 728,
                        "passed_time": 22.63050526,
                        "remaining_time": 8.412711833,
                        "test": [
                          0.5870487629
                        ]
                      },
                      {
                        "learn": [
                          0.5490242876
                        ],
                        "iteration": 729,
                        "passed_time": 22.66069521,
                        "remaining_time": 8.381353024,
                        "test": [
                          0.5870437068
                        ]
                      },
                      {
                        "learn": [
                          0.5489679511
                        ],
                        "iteration": 730,
                        "passed_time": 22.69104668,
                        "remaining_time": 8.350056851,
                        "test": [
                          0.5870876483
                        ]
                      },
                      {
                        "learn": [
                          0.5489131347
                        ],
                        "iteration": 731,
                        "passed_time": 22.71540014,
                        "remaining_time": 8.316567266,
                        "test": [
                          0.5870982738
                        ]
                      },
                      {
                        "learn": [
                          0.5488808835
                        ],
                        "iteration": 732,
                        "passed_time": 22.73758002,
                        "remaining_time": 8.282310866,
                        "test": [
                          0.5870994104
                        ]
                      },
                      {
                        "learn": [
                          0.5488519462
                        ],
                        "iteration": 733,
                        "passed_time": 22.75923023,
                        "remaining_time": 8.247895425,
                        "test": [
                          0.5871065141
                        ]
                      },
                      {
                        "learn": [
                          0.5488112088
                        ],
                        "iteration": 734,
                        "passed_time": 22.78053748,
                        "remaining_time": 8.213391063,
                        "test": [
                          0.5870982392
                        ]
                      },
                      {
                        "learn": [
                          0.5487562152
                        ],
                        "iteration": 735,
                        "passed_time": 22.80347757,
                        "remaining_time": 8.179508258,
                        "test": [
                          0.5871060951
                        ]
                      },
                      {
                        "learn": [
                          0.5487190086
                        ],
                        "iteration": 736,
                        "passed_time": 22.82631995,
                        "remaining_time": 8.145620279,
                        "test": [
                          0.5870991222
                        ]
                      },
                      {
                        "learn": [
                          0.5486818344
                        ],
                        "iteration": 737,
                        "passed_time": 22.84906773,
                        "remaining_time": 8.111728653,
                        "test": [
                          0.5871414518
                        ]
                      },
                      {
                        "learn": [
                          0.548614644
                        ],
                        "iteration": 738,
                        "passed_time": 22.8716703,
                        "remaining_time": 8.077815897,
                        "test": [
                          0.5871507765
                        ]
                      },
                      {
                        "learn": [
                          0.5485545067
                        ],
                        "iteration": 739,
                        "passed_time": 22.89590101,
                        "remaining_time": 8.044505761,
                        "test": [
                          0.5871281001
                        ]
                      },
                      {
                        "learn": [
                          0.548538523
                        ],
                        "iteration": 740,
                        "passed_time": 22.92098903,
                        "remaining_time": 8.011519784,
                        "test": [
                          0.5871208458
                        ]
                      },
                      {
                        "learn": [
                          0.5484888518
                        ],
                        "iteration": 741,
                        "passed_time": 22.95082763,
                        "remaining_time": 7.98020691,
                        "test": [
                          0.5871149024
                        ]
                      },
                      {
                        "learn": [
                          0.5484346077
                        ],
                        "iteration": 742,
                        "passed_time": 22.98033615,
                        "remaining_time": 7.948783837,
                        "test": [
                          0.5871161489
                        ]
                      },
                      {
                        "learn": [
                          0.5483785669
                        ],
                        "iteration": 743,
                        "passed_time": 23.00369394,
                        "remaining_time": 7.915249526,
                        "test": [
                          0.5871151274
                        ]
                      },
                      {
                        "learn": [
                          0.5483163477
                        ],
                        "iteration": 744,
                        "passed_time": 23.0263361,
                        "remaining_time": 7.88149759,
                        "test": [
                          0.5871312877
                        ]
                      },
                      {
                        "learn": [
                          0.5482663189
                        ],
                        "iteration": 745,
                        "passed_time": 23.04998035,
                        "remaining_time": 7.848116634,
                        "test": [
                          0.5871246949
                        ]
                      },
                      {
                        "learn": [
                          0.5482326314
                        ],
                        "iteration": 746,
                        "passed_time": 23.07286328,
                        "remaining_time": 7.814503895,
                        "test": [
                          0.5871126666
                        ]
                      },
                      {
                        "learn": [
                          0.5481816415
                        ],
                        "iteration": 747,
                        "passed_time": 23.09518496,
                        "remaining_time": 7.780730761,
                        "test": [
                          0.5871144011
                        ]
                      },
                      {
                        "learn": [
                          0.5481206356
                        ],
                        "iteration": 748,
                        "passed_time": 23.11822947,
                        "remaining_time": 7.747230438,
                        "test": [
                          0.5871219424
                        ]
                      },
                      {
                        "learn": [
                          0.5480314938
                        ],
                        "iteration": 749,
                        "passed_time": 23.14229205,
                        "remaining_time": 7.71409735,
                        "test": [
                          0.5870450007
                        ]
                      },
                      {
                        "learn": [
                          0.547987422
                        ],
                        "iteration": 750,
                        "passed_time": 23.16540863,
                        "remaining_time": 7.680674765,
                        "test": [
                          0.5870465762
                        ]
                      },
                      {
                        "learn": [
                          0.54794122
                        ],
                        "iteration": 751,
                        "passed_time": 23.18849212,
                        "remaining_time": 7.647268677,
                        "test": [
                          0.5870514896
                        ]
                      },
                      {
                        "learn": [
                          0.547891713
                        ],
                        "iteration": 752,
                        "passed_time": 23.21133847,
                        "remaining_time": 7.613812219,
                        "test": [
                          0.5870620781
                        ]
                      },
                      {
                        "learn": [
                          0.5478216744
                        ],
                        "iteration": 753,
                        "passed_time": 23.23417935,
                        "remaining_time": 7.580382123,
                        "test": [
                          0.5870616314
                        ]
                      },
                      {
                        "learn": [
                          0.547788258
                        ],
                        "iteration": 754,
                        "passed_time": 23.25589191,
                        "remaining_time": 7.54661393,
                        "test": [
                          0.5870607982
                        ]
                      },
                      {
                        "learn": [
                          0.5477387202
                        ],
                        "iteration": 755,
                        "passed_time": 23.27988653,
                        "remaining_time": 7.513614171,
                        "test": [
                          0.5870624362
                        ]
                      },
                      {
                        "learn": [
                          0.5476929853
                        ],
                        "iteration": 756,
                        "passed_time": 23.30269365,
                        "remaining_time": 7.480257009,
                        "test": [
                          0.5870734971
                        ]
                      },
                      {
                        "learn": [
                          0.5476499542
                        ],
                        "iteration": 757,
                        "passed_time": 23.32762161,
                        "remaining_time": 7.447604788,
                        "test": [
                          0.5870913399
                        ]
                      },
                      {
                        "learn": [
                          0.5476148817
                        ],
                        "iteration": 758,
                        "passed_time": 23.35000756,
                        "remaining_time": 7.414165773,
                        "test": [
                          0.5871131259
                        ]
                      },
                      {
                        "learn": [
                          0.5475705362
                        ],
                        "iteration": 759,
                        "passed_time": 23.37225288,
                        "remaining_time": 7.380711437,
                        "test": [
                          0.5871228752
                        ]
                      },
                      {
                        "learn": [
                          0.5475066527
                        ],
                        "iteration": 760,
                        "passed_time": 23.39551411,
                        "remaining_time": 7.347605613,
                        "test": [
                          0.5871386259
                        ]
                      },
                      {
                        "learn": [
                          0.5474633752
                        ],
                        "iteration": 761,
                        "passed_time": 23.41776106,
                        "remaining_time": 7.314208836,
                        "test": [
                          0.5871421575
                        ]
                      },
                      {
                        "learn": [
                          0.5474108709
                        ],
                        "iteration": 762,
                        "passed_time": 23.44089069,
                        "remaining_time": 7.281115455,
                        "test": [
                          0.5871687894
                        ]
                      },
                      {
                        "learn": [
                          0.5473729264
                        ],
                        "iteration": 763,
                        "passed_time": 23.46318427,
                        "remaining_time": 7.247789905,
                        "test": [
                          0.5871677709
                        ]
                      },
                      {
                        "learn": [
                          0.547332361
                        ],
                        "iteration": 764,
                        "passed_time": 23.48620055,
                        "remaining_time": 7.214715201,
                        "test": [
                          0.5871914922
                        ]
                      },
                      {
                        "learn": [
                          0.5472715535
                        ],
                        "iteration": 765,
                        "passed_time": 23.50994674,
                        "remaining_time": 7.181889735,
                        "test": [
                          0.5871684889
                        ]
                      },
                      {
                        "learn": [
                          0.5472466911
                        ],
                        "iteration": 766,
                        "passed_time": 23.53096987,
                        "remaining_time": 7.148260729,
                        "test": [
                          0.5871541403
                        ]
                      },
                      {
                        "learn": [
                          0.5472120405
                        ],
                        "iteration": 767,
                        "passed_time": 23.5531264,
                        "remaining_time": 7.115006933,
                        "test": [
                          0.5871703868
                        ]
                      },
                      {
                        "learn": [
                          0.5471788008
                        ],
                        "iteration": 768,
                        "passed_time": 23.57586134,
                        "remaining_time": 7.081955746,
                        "test": [
                          0.5871868747
                        ]
                      },
                      {
                        "learn": [
                          0.5471402241
                        ],
                        "iteration": 769,
                        "passed_time": 23.59825143,
                        "remaining_time": 7.04882835,
                        "test": [
                          0.587184913
                        ]
                      },
                      {
                        "learn": [
                          0.5471056772
                        ],
                        "iteration": 770,
                        "passed_time": 23.65794954,
                        "remaining_time": 7.026809916,
                        "test": [
                          0.5871650476
                        ]
                      },
                      {
                        "learn": [
                          0.5470384829
                        ],
                        "iteration": 771,
                        "passed_time": 23.68918118,
                        "remaining_time": 6.99628667,
                        "test": [
                          0.587165145
                        ]
                      },
                      {
                        "learn": [
                          0.5469762663
                        ],
                        "iteration": 772,
                        "passed_time": 23.72467112,
                        "remaining_time": 6.967012088,
                        "test": [
                          0.5871857423
                        ]
                      },
                      {
                        "learn": [
                          0.5469662266
                        ],
                        "iteration": 773,
                        "passed_time": 23.74623149,
                        "remaining_time": 6.933654157,
                        "test": [
                          0.5871826915
                        ]
                      },
                      {
                        "learn": [
                          0.5469370755
                        ],
                        "iteration": 774,
                        "passed_time": 23.76887418,
                        "remaining_time": 6.900640892,
                        "test": [
                          0.5871886535
                        ]
                      },
                      {
                        "learn": [
                          0.5469046058
                        ],
                        "iteration": 775,
                        "passed_time": 23.79141657,
                        "remaining_time": 6.867625401,
                        "test": [
                          0.5872030966
                        ]
                      },
                      {
                        "learn": [
                          0.5468586659
                        ],
                        "iteration": 776,
                        "passed_time": 23.81450304,
                        "remaining_time": 6.834793021,
                        "test": [
                          0.5871907042
                        ]
                      },
                      {
                        "learn": [
                          0.5468141222
                        ],
                        "iteration": 777,
                        "passed_time": 23.83700894,
                        "remaining_time": 6.801820032,
                        "test": [
                          0.5871903291
                        ]
                      },
                      {
                        "learn": [
                          0.5468058692
                        ],
                        "iteration": 778,
                        "passed_time": 23.85755887,
                        "remaining_time": 6.768319013,
                        "test": [
                          0.5871805477
                        ]
                      },
                      {
                        "learn": [
                          0.5467245445
                        ],
                        "iteration": 779,
                        "passed_time": 23.88164615,
                        "remaining_time": 6.735848915,
                        "test": [
                          0.5871792686
                        ]
                      },
                      {
                        "learn": [
                          0.5466896297
                        ],
                        "iteration": 780,
                        "passed_time": 23.90912983,
                        "remaining_time": 6.704352667,
                        "test": [
                          0.5871980089
                        ]
                      },
                      {
                        "learn": [
                          0.5466677882
                        ],
                        "iteration": 781,
                        "passed_time": 23.932493,
                        "remaining_time": 6.671717999,
                        "test": [
                          0.5871900871
                        ]
                      },
                      {
                        "learn": [
                          0.5466135865
                        ],
                        "iteration": 782,
                        "passed_time": 23.96110883,
                        "remaining_time": 6.640562729,
                        "test": [
                          0.5871774915
                        ]
                      },
                      {
                        "learn": [
                          0.5465747249
                        ],
                        "iteration": 783,
                        "passed_time": 23.99435287,
                        "remaining_time": 6.610689055,
                        "test": [
                          0.5871816563
                        ]
                      },
                      {
                        "learn": [
                          0.5465160385
                        ],
                        "iteration": 784,
                        "passed_time": 24.01710028,
                        "remaining_time": 6.577931925,
                        "test": [
                          0.5871527497
                        ]
                      },
                      {
                        "learn": [
                          0.5464854813
                        ],
                        "iteration": 785,
                        "passed_time": 24.03924334,
                        "remaining_time": 6.545035719,
                        "test": [
                          0.5871372975
                        ]
                      },
                      {
                        "learn": [
                          0.5464301934
                        ],
                        "iteration": 786,
                        "passed_time": 24.07104739,
                        "remaining_time": 6.514781567,
                        "test": [
                          0.5871396644
                        ]
                      },
                      {
                        "learn": [
                          0.5463860711
                        ],
                        "iteration": 787,
                        "passed_time": 24.09473703,
                        "remaining_time": 6.48234042,
                        "test": [
                          0.5871385179
                        ]
                      },
                      {
                        "learn": [
                          0.5463389853
                        ],
                        "iteration": 788,
                        "passed_time": 24.11742846,
                        "remaining_time": 6.449654507,
                        "test": [
                          0.5871421089
                        ]
                      },
                      {
                        "learn": [
                          0.5462755345
                        ],
                        "iteration": 789,
                        "passed_time": 24.14707414,
                        "remaining_time": 6.418842492,
                        "test": [
                          0.587138738
                        ]
                      },
                      {
                        "learn": [
                          0.5462143539
                        ],
                        "iteration": 790,
                        "passed_time": 24.17098101,
                        "remaining_time": 6.386517105,
                        "test": [
                          0.5871107046
                        ]
                      },
                      {
                        "learn": [
                          0.5461809304
                        ],
                        "iteration": 791,
                        "passed_time": 24.19403893,
                        "remaining_time": 6.353990022,
                        "test": [
                          0.5871100375
                        ]
                      },
                      {
                        "learn": [
                          0.546141271
                        ],
                        "iteration": 792,
                        "passed_time": 24.21648533,
                        "remaining_time": 6.321327193,
                        "test": [
                          0.5871098379
                        ]
                      },
                      {
                        "learn": [
                          0.5460833786
                        ],
                        "iteration": 793,
                        "passed_time": 24.23958066,
                        "remaining_time": 6.288858457,
                        "test": [
                          0.5871060976
                        ]
                      },
                      {
                        "learn": [
                          0.5460407358
                        ],
                        "iteration": 794,
                        "passed_time": 24.26187731,
                        "remaining_time": 6.256207356,
                        "test": [
                          0.5870905368
                        ]
                      },
                      {
                        "learn": [
                          0.5459722163
                        ],
                        "iteration": 795,
                        "passed_time": 24.28428947,
                        "remaining_time": 6.223611873,
                        "test": [
                          0.5870402805
                        ]
                      },
                      {
                        "learn": [
                          0.5459223227
                        ],
                        "iteration": 796,
                        "passed_time": 24.30728672,
                        "remaining_time": 6.191190972,
                        "test": [
                          0.5870610101
                        ]
                      },
                      {
                        "learn": [
                          0.5458870524
                        ],
                        "iteration": 797,
                        "passed_time": 24.33275328,
                        "remaining_time": 6.159418749,
                        "test": [
                          0.5870718166
                        ]
                      },
                      {
                        "learn": [
                          0.5458643973
                        ],
                        "iteration": 798,
                        "passed_time": 24.35392416,
                        "remaining_time": 6.126581671,
                        "test": [
                          0.587061106
                        ]
                      },
                      {
                        "learn": [
                          0.545831473
                        ],
                        "iteration": 799,
                        "passed_time": 24.37618824,
                        "remaining_time": 6.094047059,
                        "test": [
                          0.5870718415
                        ]
                      },
                      {
                        "learn": [
                          0.5457909344
                        ],
                        "iteration": 800,
                        "passed_time": 24.39940007,
                        "remaining_time": 6.06177355,
                        "test": [
                          0.5870858965
                        ]
                      },
                      {
                        "learn": [
                          0.5457364304
                        ],
                        "iteration": 801,
                        "passed_time": 24.42422225,
                        "remaining_time": 6.029920205,
                        "test": [
                          0.5870771191
                        ]
                      },
                      {
                        "learn": [
                          0.5456602934
                        ],
                        "iteration": 802,
                        "passed_time": 24.44722972,
                        "remaining_time": 5.997639173,
                        "test": [
                          0.5870679964
                        ]
                      },
                      {
                        "learn": [
                          0.5456296249
                        ],
                        "iteration": 803,
                        "passed_time": 24.47014233,
                        "remaining_time": 5.965358082,
                        "test": [
                          0.5870662972
                        ]
                      },
                      {
                        "learn": [
                          0.5455738918
                        ],
                        "iteration": 804,
                        "passed_time": 24.4923843,
                        "remaining_time": 5.932937811,
                        "test": [
                          0.5870733321
                        ]
                      },
                      {
                        "learn": [
                          0.5455302752
                        ],
                        "iteration": 805,
                        "passed_time": 24.51440914,
                        "remaining_time": 5.900490536,
                        "test": [
                          0.5870793147
                        ]
                      },
                      {
                        "learn": [
                          0.545502717
                        ],
                        "iteration": 806,
                        "passed_time": 24.53619279,
                        "remaining_time": 5.868011411,
                        "test": [
                          0.5870887659
                        ]
                      },
                      {
                        "learn": [
                          0.5454728034
                        ],
                        "iteration": 807,
                        "passed_time": 24.5595181,
                        "remaining_time": 5.835925092,
                        "test": [
                          0.587093427
                        ]
                      },
                      {
                        "learn": [
                          0.5454350714
                        ],
                        "iteration": 808,
                        "passed_time": 24.58149233,
                        "remaining_time": 5.803541453,
                        "test": [
                          0.5870590716
                        ]
                      },
                      {
                        "learn": [
                          0.5454087885
                        ],
                        "iteration": 809,
                        "passed_time": 24.60482266,
                        "remaining_time": 5.771501611,
                        "test": [
                          0.5870569746
                        ]
                      },
                      {
                        "learn": [
                          0.5453762493
                        ],
                        "iteration": 810,
                        "passed_time": 24.63104515,
                        "remaining_time": 5.740157254,
                        "test": [
                          0.5870408461
                        ]
                      },
                      {
                        "learn": [
                          0.5453568659
                        ],
                        "iteration": 811,
                        "passed_time": 24.70271534,
                        "remaining_time": 5.719347888,
                        "test": [
                          0.587046362
                        ]
                      },
                      {
                        "learn": [
                          0.5453006805
                        ],
                        "iteration": 812,
                        "passed_time": 24.72768274,
                        "remaining_time": 5.687671184,
                        "test": [
                          0.5870271135
                        ]
                      },
                      {
                        "learn": [
                          0.5452575379
                        ],
                        "iteration": 813,
                        "passed_time": 24.74968039,
                        "remaining_time": 5.655332374,
                        "test": [
                          0.5870311924
                        ]
                      },
                      {
                        "learn": [
                          0.5452112462
                        ],
                        "iteration": 814,
                        "passed_time": 24.77186898,
                        "remaining_time": 5.623062283,
                        "test": [
                          0.5870352817
                        ]
                      },
                      {
                        "learn": [
                          0.5451679036
                        ],
                        "iteration": 815,
                        "passed_time": 24.79568778,
                        "remaining_time": 5.5911845,
                        "test": [
                          0.5870395483
                        ]
                      },
                      {
                        "learn": [
                          0.5451216691
                        ],
                        "iteration": 816,
                        "passed_time": 24.8195271,
                        "remaining_time": 5.559331039,
                        "test": [
                          0.5870824403
                        ]
                      },
                      {
                        "learn": [
                          0.5451012717
                        ],
                        "iteration": 817,
                        "passed_time": 24.84100434,
                        "remaining_time": 5.526971625,
                        "test": [
                          0.5870901501
                        ]
                      },
                      {
                        "learn": [
                          0.5450433131
                        ],
                        "iteration": 818,
                        "passed_time": 24.86473074,
                        "remaining_time": 5.495135853,
                        "test": [
                          0.5871124541
                        ]
                      },
                      {
                        "learn": [
                          0.5450092294
                        ],
                        "iteration": 819,
                        "passed_time": 24.88687429,
                        "remaining_time": 5.462972405,
                        "test": [
                          0.5871416524
                        ]
                      },
                      {
                        "learn": [
                          0.544917858
                        ],
                        "iteration": 820,
                        "passed_time": 24.92137878,
                        "remaining_time": 5.433528383,
                        "test": [
                          0.5870820013
                        ]
                      },
                      {
                        "learn": [
                          0.5448866051
                        ],
                        "iteration": 821,
                        "passed_time": 24.9432136,
                        "remaining_time": 5.401328492,
                        "test": [
                          0.5871228372
                        ]
                      },
                      {
                        "learn": [
                          0.5448522688
                        ],
                        "iteration": 822,
                        "passed_time": 24.96559884,
                        "remaining_time": 5.369272168,
                        "test": [
                          0.5871346561
                        ]
                      },
                      {
                        "learn": [
                          0.5448234332
                        ],
                        "iteration": 823,
                        "passed_time": 25.00225819,
                        "remaining_time": 5.340288158,
                        "test": [
                          0.5871488157
                        ]
                      },
                      {
                        "learn": [
                          0.5447602563
                        ],
                        "iteration": 824,
                        "passed_time": 25.02627279,
                        "remaining_time": 5.308603318,
                        "test": [
                          0.5871515174
                        ]
                      },
                      {
                        "learn": [
                          0.54472748
                        ],
                        "iteration": 825,
                        "passed_time": 25.05246865,
                        "remaining_time": 5.277396545,
                        "test": [
                          0.5871424908
                        ]
                      },
                      {
                        "learn": [
                          0.5446807875
                        ],
                        "iteration": 826,
                        "passed_time": 25.0751723,
                        "remaining_time": 5.245471353,
                        "test": [
                          0.5871382923
                        ]
                      },
                      {
                        "learn": [
                          0.5446342119
                        ],
                        "iteration": 827,
                        "passed_time": 25.09836174,
                        "remaining_time": 5.213669347,
                        "test": [
                          0.587139952
                        ]
                      },
                      {
                        "learn": [
                          0.5446006274
                        ],
                        "iteration": 828,
                        "passed_time": 25.12047954,
                        "remaining_time": 5.181667071,
                        "test": [
                          0.5871347051
                        ]
                      },
                      {
                        "learn": [
                          0.5445556806
                        ],
                        "iteration": 829,
                        "passed_time": 25.14280532,
                        "remaining_time": 5.14973121,
                        "test": [
                          0.5871351543
                        ]
                      },
                      {
                        "learn": [
                          0.5445242759
                        ],
                        "iteration": 830,
                        "passed_time": 25.16551316,
                        "remaining_time": 5.117896177,
                        "test": [
                          0.5871605606
                        ]
                      },
                      {
                        "learn": [
                          0.5444973156
                        ],
                        "iteration": 831,
                        "passed_time": 25.18855462,
                        "remaining_time": 5.086150453,
                        "test": [
                          0.5871385357
                        ]
                      },
                      {
                        "learn": [
                          0.5444628788
                        ],
                        "iteration": 832,
                        "passed_time": 25.21067785,
                        "remaining_time": 5.054241538,
                        "test": [
                          0.5871185373
                        ]
                      },
                      {
                        "learn": [
                          0.5444222939
                        ],
                        "iteration": 833,
                        "passed_time": 25.23381877,
                        "remaining_time": 5.022558653,
                        "test": [
                          0.5871315172
                        ]
                      },
                      {
                        "learn": [
                          0.5443695295
                        ],
                        "iteration": 834,
                        "passed_time": 25.25735443,
                        "remaining_time": 4.990974229,
                        "test": [
                          0.5871101487
                        ]
                      },
                      {
                        "learn": [
                          0.5443180777
                        ],
                        "iteration": 835,
                        "passed_time": 25.28100797,
                        "remaining_time": 4.959432186,
                        "test": [
                          0.5871330185
                        ]
                      },
                      {
                        "learn": [
                          0.5442677366
                        ],
                        "iteration": 836,
                        "passed_time": 25.30373998,
                        "remaining_time": 4.92772953,
                        "test": [
                          0.5871819452
                        ]
                      },
                      {
                        "learn": [
                          0.5442186726
                        ],
                        "iteration": 837,
                        "passed_time": 25.32918411,
                        "remaining_time": 4.896572584,
                        "test": [
                          0.5871837303
                        ]
                      },
                      {
                        "learn": [
                          0.5441783225
                        ],
                        "iteration": 838,
                        "passed_time": 25.35169017,
                        "remaining_time": 4.864865456,
                        "test": [
                          0.587201748
                        ]
                      },
                      {
                        "learn": [
                          0.5441364432
                        ],
                        "iteration": 839,
                        "passed_time": 25.37368052,
                        "remaining_time": 4.833082003,
                        "test": [
                          0.5871515454
                        ]
                      },
                      {
                        "learn": [
                          0.5440986
                        ],
                        "iteration": 840,
                        "passed_time": 25.39602124,
                        "remaining_time": 4.801388082,
                        "test": [
                          0.5871393002
                        ]
                      },
                      {
                        "learn": [
                          0.5440608061
                        ],
                        "iteration": 841,
                        "passed_time": 25.41848085,
                        "remaining_time": 4.769738687,
                        "test": [
                          0.5871497254
                        ]
                      },
                      {
                        "learn": [
                          0.5440157602
                        ],
                        "iteration": 842,
                        "passed_time": 25.44178983,
                        "remaining_time": 4.73826928,
                        "test": [
                          0.5871507249
                        ]
                      },
                      {
                        "learn": [
                          0.5439779368
                        ],
                        "iteration": 843,
                        "passed_time": 25.46393998,
                        "remaining_time": 4.70660502,
                        "test": [
                          0.5871531065
                        ]
                      },
                      {
                        "learn": [
                          0.5439299304
                        ],
                        "iteration": 844,
                        "passed_time": 25.48772552,
                        "remaining_time": 4.675263261,
                        "test": [
                          0.5871815813
                        ]
                      },
                      {
                        "learn": [
                          0.5438909497
                        ],
                        "iteration": 845,
                        "passed_time": 25.510302,
                        "remaining_time": 4.643719277,
                        "test": [
                          0.5871918985
                        ]
                      },
                      {
                        "learn": [
                          0.5438420634
                        ],
                        "iteration": 846,
                        "passed_time": 25.53180723,
                        "remaining_time": 4.61200296,
                        "test": [
                          0.58721762
                        ]
                      },
                      {
                        "learn": [
                          0.5437958686
                        ],
                        "iteration": 847,
                        "passed_time": 25.55502635,
                        "remaining_time": 4.580617931,
                        "test": [
                          0.5872306219
                        ]
                      },
                      {
                        "learn": [
                          0.5437327637
                        ],
                        "iteration": 848,
                        "passed_time": 25.57888528,
                        "remaining_time": 4.549365933,
                        "test": [
                          0.5872098164
                        ]
                      },
                      {
                        "learn": [
                          0.5436818932
                        ],
                        "iteration": 849,
                        "passed_time": 25.60181713,
                        "remaining_time": 4.517967729,
                        "test": [
                          0.5872122602
                        ]
                      },
                      {
                        "learn": [
                          0.5436338318
                        ],
                        "iteration": 850,
                        "passed_time": 25.62758789,
                        "remaining_time": 4.487086482,
                        "test": [
                          0.5872114129
                        ]
                      },
                      {
                        "learn": [
                          0.5435932037
                        ],
                        "iteration": 851,
                        "passed_time": 25.6516763,
                        "remaining_time": 4.455924991,
                        "test": [
                          0.5872263964
                        ]
                      },
                      {
                        "learn": [
                          0.543581177
                        ],
                        "iteration": 852,
                        "passed_time": 25.7182718,
                        "remaining_time": 4.432105456,
                        "test": [
                          0.5872279577
                        ]
                      },
                      {
                        "learn": [
                          0.5435362918
                        ],
                        "iteration": 853,
                        "passed_time": 25.75106603,
                        "remaining_time": 4.402407074,
                        "test": [
                          0.5871941926
                        ]
                      },
                      {
                        "learn": [
                          0.5434808377
                        ],
                        "iteration": 854,
                        "passed_time": 25.77377888,
                        "remaining_time": 4.37099174,
                        "test": [
                          0.5871980415
                        ]
                      },
                      {
                        "learn": [
                          0.5434329875
                        ],
                        "iteration": 855,
                        "passed_time": 25.79607058,
                        "remaining_time": 4.339525893,
                        "test": [
                          0.5872051498
                        ]
                      },
                      {
                        "learn": [
                          0.543411855
                        ],
                        "iteration": 856,
                        "passed_time": 25.81966502,
                        "remaining_time": 4.308298831,
                        "test": [
                          0.5872313604
                        ]
                      },
                      {
                        "learn": [
                          0.5433820886
                        ],
                        "iteration": 857,
                        "passed_time": 25.84124705,
                        "remaining_time": 4.276756505,
                        "test": [
                          0.5872022359
                        ]
                      },
                      {
                        "learn": [
                          0.5433431059
                        ],
                        "iteration": 858,
                        "passed_time": 25.86461319,
                        "remaining_time": 4.245530221,
                        "test": [
                          0.5872111819
                        ]
                      },
                      {
                        "learn": [
                          0.5433038885
                        ],
                        "iteration": 859,
                        "passed_time": 25.88897579,
                        "remaining_time": 4.214484431,
                        "test": [
                          0.5872374627
                        ]
                      },
                      {
                        "learn": [
                          0.5432531086
                        ],
                        "iteration": 860,
                        "passed_time": 25.91129258,
                        "remaining_time": 4.18312389,
                        "test": [
                          0.5872569756
                        ]
                      },
                      {
                        "learn": [
                          0.5432064736
                        ],
                        "iteration": 861,
                        "passed_time": 25.9417527,
                        "remaining_time": 4.153088019,
                        "test": [
                          0.5872697815
                        ]
                      },
                      {
                        "learn": [
                          0.5431882822
                        ],
                        "iteration": 862,
                        "passed_time": 25.97122775,
                        "remaining_time": 4.122894787,
                        "test": [
                          0.5872947684
                        ]
                      },
                      {
                        "learn": [
                          0.5431623965
                        ],
                        "iteration": 863,
                        "passed_time": 25.99703416,
                        "remaining_time": 4.092125747,
                        "test": [
                          0.5872971807
                        ]
                      },
                      {
                        "learn": [
                          0.5431312161
                        ],
                        "iteration": 864,
                        "passed_time": 26.02828068,
                        "remaining_time": 4.062217216,
                        "test": [
                          0.5872870922
                        ]
                      },
                      {
                        "learn": [
                          0.5430702796
                        ],
                        "iteration": 865,
                        "passed_time": 26.05179395,
                        "remaining_time": 4.031108994,
                        "test": [
                          0.5873128049
                        ]
                      },
                      {
                        "learn": [
                          0.5430450796
                        ],
                        "iteration": 866,
                        "passed_time": 26.07386132,
                        "remaining_time": 3.999796489,
                        "test": [
                          0.5873217032
                        ]
                      },
                      {
                        "learn": [
                          0.5430278551
                        ],
                        "iteration": 867,
                        "passed_time": 26.0964643,
                        "remaining_time": 3.968586737,
                        "test": [
                          0.5873072512
                        ]
                      },
                      {
                        "learn": [
                          0.5429985704
                        ],
                        "iteration": 868,
                        "passed_time": 26.12005309,
                        "remaining_time": 3.937545403,
                        "test": [
                          0.5873027772
                        ]
                      },
                      {
                        "learn": [
                          0.5429677343
                        ],
                        "iteration": 869,
                        "passed_time": 26.14248677,
                        "remaining_time": 3.906348598,
                        "test": [
                          0.5873071597
                        ]
                      },
                      {
                        "learn": [
                          0.5429471685
                        ],
                        "iteration": 870,
                        "passed_time": 26.16576639,
                        "remaining_time": 3.875297204,
                        "test": [
                          0.5872982547
                        ]
                      },
                      {
                        "learn": [
                          0.5429151132
                        ],
                        "iteration": 871,
                        "passed_time": 26.18949701,
                        "remaining_time": 3.844329836,
                        "test": [
                          0.5873156026
                        ]
                      },
                      {
                        "learn": [
                          0.5428225677
                        ],
                        "iteration": 872,
                        "passed_time": 26.213636,
                        "remaining_time": 3.813438455,
                        "test": [
                          0.5872465141
                        ]
                      },
                      {
                        "learn": [
                          0.542791749
                        ],
                        "iteration": 873,
                        "passed_time": 26.23686384,
                        "remaining_time": 3.782431171,
                        "test": [
                          0.5872533655
                        ]
                      },
                      {
                        "learn": [
                          0.542772226
                        ],
                        "iteration": 874,
                        "passed_time": 26.25874993,
                        "remaining_time": 3.751249991,
                        "test": [
                          0.5872517337
                        ]
                      },
                      {
                        "learn": [
                          0.5427368413
                        ],
                        "iteration": 875,
                        "passed_time": 26.28208979,
                        "remaining_time": 3.720295816,
                        "test": [
                          0.5872663277
                        ]
                      },
                      {
                        "learn": [
                          0.5426875228
                        ],
                        "iteration": 876,
                        "passed_time": 26.30765542,
                        "remaining_time": 3.68967117,
                        "test": [
                          0.5872715608
                        ]
                      },
                      {
                        "learn": [
                          0.5426357181
                        ],
                        "iteration": 877,
                        "passed_time": 26.33074688,
                        "remaining_time": 3.65871426,
                        "test": [
                          0.5872756429
                        ]
                      },
                      {
                        "learn": [
                          0.5425904287
                        ],
                        "iteration": 878,
                        "passed_time": 26.35514696,
                        "remaining_time": 3.627955384,
                        "test": [
                          0.5872678546
                        ]
                      },
                      {
                        "learn": [
                          0.5425523409
                        ],
                        "iteration": 879,
                        "passed_time": 26.37768181,
                        "remaining_time": 3.59695661,
                        "test": [
                          0.5872879254
                        ]
                      },
                      {
                        "learn": [
                          0.542513061
                        ],
                        "iteration": 880,
                        "passed_time": 26.39981993,
                        "remaining_time": 3.565923464,
                        "test": [
                          0.5873040931
                        ]
                      },
                      {
                        "learn": [
                          0.5424723799
                        ],
                        "iteration": 881,
                        "passed_time": 26.42180832,
                        "remaining_time": 3.534890455,
                        "test": [
                          0.5872928594
                        ]
                      },
                      {
                        "learn": [
                          0.5424403058
                        ],
                        "iteration": 882,
                        "passed_time": 26.44420787,
                        "remaining_time": 3.503932414,
                        "test": [
                          0.5873158984
                        ]
                      },
                      {
                        "learn": [
                          0.5423783124
                        ],
                        "iteration": 883,
                        "passed_time": 26.46788356,
                        "remaining_time": 3.473161191,
                        "test": [
                          0.5873545883
                        ]
                      },
                      {
                        "learn": [
                          0.5423092369
                        ],
                        "iteration": 884,
                        "passed_time": 26.49280939,
                        "remaining_time": 3.442568452,
                        "test": [
                          0.5873115596
                        ]
                      },
                      {
                        "learn": [
                          0.5422822918
                        ],
                        "iteration": 885,
                        "passed_time": 26.514963,
                        "remaining_time": 3.411631808,
                        "test": [
                          0.5873198176
                        ]
                      },
                      {
                        "learn": [
                          0.5422237636
                        ],
                        "iteration": 886,
                        "passed_time": 26.53808382,
                        "remaining_time": 3.380838187,
                        "test": [
                          0.5873052816
                        ]
                      },
                      {
                        "learn": [
                          0.542194418
                        ],
                        "iteration": 887,
                        "passed_time": 26.56121822,
                        "remaining_time": 3.350063559,
                        "test": [
                          0.587305693
                        ]
                      },
                      {
                        "learn": [
                          0.5421613125
                        ],
                        "iteration": 888,
                        "passed_time": 26.58338476,
                        "remaining_time": 3.319185274,
                        "test": [
                          0.5873137747
                        ]
                      },
                      {
                        "learn": [
                          0.5421060204
                        ],
                        "iteration": 889,
                        "passed_time": 26.60637557,
                        "remaining_time": 3.288428442,
                        "test": [
                          0.5873277518
                        ]
                      },
                      {
                        "learn": [
                          0.5420549999
                        ],
                        "iteration": 890,
                        "passed_time": 26.63196486,
                        "remaining_time": 3.258006924,
                        "test": [
                          0.5873198227
                        ]
                      },
                      {
                        "learn": [
                          0.5420165316
                        ],
                        "iteration": 891,
                        "passed_time": 26.65434509,
                        "remaining_time": 3.227207701,
                        "test": [
                          0.5873270939
                        ]
                      },
                      {
                        "learn": [
                          0.5419759344
                        ],
                        "iteration": 892,
                        "passed_time": 26.67626412,
                        "remaining_time": 3.196372072,
                        "test": [
                          0.5873185322
                        ]
                      },
                      {
                        "learn": [
                          0.5419166801
                        ],
                        "iteration": 893,
                        "passed_time": 26.75733972,
                        "remaining_time": 3.172570481,
                        "test": [
                          0.5872971478
                        ]
                      },
                      {
                        "learn": [
                          0.5418863313
                        ],
                        "iteration": 894,
                        "passed_time": 26.79576825,
                        "remaining_time": 3.143637616,
                        "test": [
                          0.5873093359
                        ]
                      },
                      {
                        "learn": [
                          0.5418557084
                        ],
                        "iteration": 895,
                        "passed_time": 26.8181043,
                        "remaining_time": 3.112815678,
                        "test": [
                          0.5872930539
                        ]
                      },
                      {
                        "learn": [
                          0.5418303512
                        ],
                        "iteration": 896,
                        "passed_time": 26.83974455,
                        "remaining_time": 3.081932763,
                        "test": [
                          0.5873039431
                        ]
                      },
                      {
                        "learn": [
                          0.5417749884
                        ],
                        "iteration": 897,
                        "passed_time": 26.86212205,
                        "remaining_time": 3.051154175,
                        "test": [
                          0.5872971759
                        ]
                      },
                      {
                        "learn": [
                          0.5417243939
                        ],
                        "iteration": 898,
                        "passed_time": 26.88562543,
                        "remaining_time": 3.020520765,
                        "test": [
                          0.5872944318
                        ]
                      },
                      {
                        "learn": [
                          0.5416893393
                        ],
                        "iteration": 899,
                        "passed_time": 26.90849336,
                        "remaining_time": 2.989832595,
                        "test": [
                          0.5872893269
                        ]
                      },
                      {
                        "learn": [
                          0.5416643532
                        ],
                        "iteration": 900,
                        "passed_time": 26.93041114,
                        "remaining_time": 2.959057384,
                        "test": [
                          0.5872860244
                        ]
                      },
                      {
                        "learn": [
                          0.5416189025
                        ],
                        "iteration": 901,
                        "passed_time": 26.95258019,
                        "remaining_time": 2.928329111,
                        "test": [
                          0.5872994568
                        ]
                      },
                      {
                        "learn": [
                          0.5415704898
                        ],
                        "iteration": 902,
                        "passed_time": 26.9745848,
                        "remaining_time": 2.897602133,
                        "test": [
                          0.5873008506
                        ]
                      },
                      {
                        "learn": [
                          0.5415288459
                        ],
                        "iteration": 903,
                        "passed_time": 26.99660174,
                        "remaining_time": 2.86689576,
                        "test": [
                          0.5873196481
                        ]
                      },
                      {
                        "learn": [
                          0.5414992953
                        ],
                        "iteration": 904,
                        "passed_time": 27.02901309,
                        "remaining_time": 2.837299717,
                        "test": [
                          0.5873163356
                        ]
                      },
                      {
                        "learn": [
                          0.5414624559
                        ],
                        "iteration": 905,
                        "passed_time": 27.05879189,
                        "remaining_time": 2.807424324,
                        "test": [
                          0.5873367808
                        ]
                      },
                      {
                        "learn": [
                          0.541424894
                        ],
                        "iteration": 906,
                        "passed_time": 27.08252482,
                        "remaining_time": 2.776929227,
                        "test": [
                          0.587317765
                        ]
                      },
                      {
                        "learn": [
                          0.5414021402
                        ],
                        "iteration": 907,
                        "passed_time": 27.1041563,
                        "remaining_time": 2.746236101,
                        "test": [
                          0.5873045191
                        ]
                      },
                      {
                        "learn": [
                          0.5413537145
                        ],
                        "iteration": 908,
                        "passed_time": 27.12952953,
                        "remaining_time": 2.715937499,
                        "test": [
                          0.5873006204
                        ]
                      },
                      {
                        "learn": [
                          0.5413184629
                        ],
                        "iteration": 909,
                        "passed_time": 27.15221096,
                        "remaining_time": 2.685383502,
                        "test": [
                          0.5873091158
                        ]
                      },
                      {
                        "learn": [
                          0.541262923
                        ],
                        "iteration": 910,
                        "passed_time": 27.17488953,
                        "remaining_time": 2.654846507,
                        "test": [
                          0.587319217
                        ]
                      },
                      {
                        "learn": [
                          0.5412224757
                        ],
                        "iteration": 911,
                        "passed_time": 27.19737381,
                        "remaining_time": 2.624308,
                        "test": [
                          0.5873111584
                        ]
                      },
                      {
                        "learn": [
                          0.5411712791
                        ],
                        "iteration": 912,
                        "passed_time": 27.22088759,
                        "remaining_time": 2.593885235,
                        "test": [
                          0.5873386759
                        ]
                      },
                      {
                        "learn": [
                          0.541142813
                        ],
                        "iteration": 913,
                        "passed_time": 27.24278183,
                        "remaining_time": 2.563325205,
                        "test": [
                          0.5873505425
                        ]
                      },
                      {
                        "learn": [
                          0.5410802185
                        ],
                        "iteration": 914,
                        "passed_time": 27.26655725,
                        "remaining_time": 2.53295887,
                        "test": [
                          0.5873674407
                        ]
                      },
                      {
                        "learn": [
                          0.5410388621
                        ],
                        "iteration": 915,
                        "passed_time": 27.28929395,
                        "remaining_time": 2.502511672,
                        "test": [
                          0.5873773082
                        ]
                      },
                      {
                        "learn": [
                          0.5409989502
                        ],
                        "iteration": 916,
                        "passed_time": 27.31400989,
                        "remaining_time": 2.472260437,
                        "test": [
                          0.5873774753
                        ]
                      },
                      {
                        "learn": [
                          0.5409683555
                        ],
                        "iteration": 917,
                        "passed_time": 27.33597174,
                        "remaining_time": 2.441775254,
                        "test": [
                          0.5873835041
                        ]
                      },
                      {
                        "learn": [
                          0.5409171277
                        ],
                        "iteration": 918,
                        "passed_time": 27.35989941,
                        "remaining_time": 2.411481885,
                        "test": [
                          0.5873905751
                        ]
                      },
                      {
                        "learn": [
                          0.5408685174
                        ],
                        "iteration": 919,
                        "passed_time": 27.38320764,
                        "remaining_time": 2.381148491,
                        "test": [
                          0.5874314534
                        ]
                      },
                      {
                        "learn": [
                          0.5408257129
                        ],
                        "iteration": 920,
                        "passed_time": 27.40600201,
                        "remaining_time": 2.350786274,
                        "test": [
                          0.5874192007
                        ]
                      },
                      {
                        "learn": [
                          0.5407891897
                        ],
                        "iteration": 921,
                        "passed_time": 27.44387416,
                        "remaining_time": 2.321716035,
                        "test": [
                          0.5874115501
                        ]
                      },
                      {
                        "learn": [
                          0.5407393554
                        ],
                        "iteration": 922,
                        "passed_time": 27.46652103,
                        "remaining_time": 2.291356576,
                        "test": [
                          0.5874196858
                        ]
                      },
                      {
                        "learn": [
                          0.5407124358
                        ],
                        "iteration": 923,
                        "passed_time": 27.48853164,
                        "remaining_time": 2.260961477,
                        "test": [
                          0.5874122713
                        ]
                      },
                      {
                        "learn": [
                          0.5406766215
                        ],
                        "iteration": 924,
                        "passed_time": 27.51042672,
                        "remaining_time": 2.23057514,
                        "test": [
                          0.587430704
                        ]
                      },
                      {
                        "learn": [
                          0.5406168992
                        ],
                        "iteration": 925,
                        "passed_time": 27.53325739,
                        "remaining_time": 2.200281908,
                        "test": [
                          0.5874717347
                        ]
                      },
                      {
                        "learn": [
                          0.5405766419
                        ],
                        "iteration": 926,
                        "passed_time": 27.55482781,
                        "remaining_time": 2.169905534,
                        "test": [
                          0.5874726821
                        ]
                      },
                      {
                        "learn": [
                          0.5405378122
                        ],
                        "iteration": 927,
                        "passed_time": 27.57640315,
                        "remaining_time": 2.13954852,
                        "test": [
                          0.5874645148
                        ]
                      },
                      {
                        "learn": [
                          0.5405166312
                        ],
                        "iteration": 928,
                        "passed_time": 27.59832977,
                        "remaining_time": 2.109237259,
                        "test": [
                          0.5874770854
                        ]
                      },
                      {
                        "learn": [
                          0.5404737047
                        ],
                        "iteration": 929,
                        "passed_time": 27.62455536,
                        "remaining_time": 2.079267608,
                        "test": [
                          0.5874632815
                        ]
                      },
                      {
                        "learn": [
                          0.540445318
                        ],
                        "iteration": 930,
                        "passed_time": 27.64686398,
                        "remaining_time": 2.049015698,
                        "test": [
                          0.5874515779
                        ]
                      },
                      {
                        "learn": [
                          0.5404055088
                        ],
                        "iteration": 931,
                        "passed_time": 27.66972116,
                        "remaining_time": 2.018820857,
                        "test": [
                          0.5874620549
                        ]
                      },
                      {
                        "learn": [
                          0.5403477843
                        ],
                        "iteration": 932,
                        "passed_time": 27.69456362,
                        "remaining_time": 1.988784311,
                        "test": [
                          0.5874744073
                        ]
                      },
                      {
                        "learn": [
                          0.5403046231
                        ],
                        "iteration": 933,
                        "passed_time": 27.74998789,
                        "remaining_time": 1.960919915,
                        "test": [
                          0.5874847575
                        ]
                      },
                      {
                        "learn": [
                          0.5402810472
                        ],
                        "iteration": 934,
                        "passed_time": 27.78608734,
                        "remaining_time": 1.931653131,
                        "test": [
                          0.5874952187
                        ]
                      },
                      {
                        "learn": [
                          0.5402459392
                        ],
                        "iteration": 935,
                        "passed_time": 27.82236219,
                        "remaining_time": 1.90238374,
                        "test": [
                          0.5874936777
                        ]
                      },
                      {
                        "learn": [
                          0.5402229997
                        ],
                        "iteration": 936,
                        "passed_time": 27.84420115,
                        "remaining_time": 1.872128786,
                        "test": [
                          0.5874929606
                        ]
                      },
                      {
                        "learn": [
                          0.5401814203
                        ],
                        "iteration": 937,
                        "passed_time": 27.8680978,
                        "remaining_time": 1.842027786,
                        "test": [
                          0.5875018448
                        ]
                      },
                      {
                        "learn": [
                          0.5401302417
                        ],
                        "iteration": 938,
                        "passed_time": 27.8915914,
                        "remaining_time": 1.811913818,
                        "test": [
                          0.5874980346
                        ]
                      },
                      {
                        "learn": [
                          0.5400794249
                        ],
                        "iteration": 939,
                        "passed_time": 27.91431687,
                        "remaining_time": 1.781764906,
                        "test": [
                          0.5875058654
                        ]
                      },
                      {
                        "learn": [
                          0.5400524233
                        ],
                        "iteration": 940,
                        "passed_time": 27.93529433,
                        "remaining_time": 1.751522174,
                        "test": [
                          0.5875173521
                        ]
                      },
                      {
                        "learn": [
                          0.5400057544
                        ],
                        "iteration": 941,
                        "passed_time": 27.95921206,
                        "remaining_time": 1.721480148,
                        "test": [
                          0.5875294108
                        ]
                      },
                      {
                        "learn": [
                          0.539970166
                        ],
                        "iteration": 942,
                        "passed_time": 27.98322871,
                        "remaining_time": 1.69145709,
                        "test": [
                          0.5875362128
                        ]
                      },
                      {
                        "learn": [
                          0.539929114
                        ],
                        "iteration": 943,
                        "passed_time": 28.00635675,
                        "remaining_time": 1.661394044,
                        "test": [
                          0.5875677451
                        ]
                      },
                      {
                        "learn": [
                          0.5398889912
                        ],
                        "iteration": 944,
                        "passed_time": 28.03070402,
                        "remaining_time": 1.631416636,
                        "test": [
                          0.5875658307
                        ]
                      },
                      {
                        "learn": [
                          0.539864882
                        ],
                        "iteration": 945,
                        "passed_time": 28.06648901,
                        "remaining_time": 1.602104024,
                        "test": [
                          0.5875543406
                        ]
                      },
                      {
                        "learn": [
                          0.539826986
                        ],
                        "iteration": 946,
                        "passed_time": 28.08879657,
                        "remaining_time": 1.572023462,
                        "test": [
                          0.5875420576
                        ]
                      },
                      {
                        "learn": [
                          0.5397809503
                        ],
                        "iteration": 947,
                        "passed_time": 28.11177279,
                        "remaining_time": 1.541995976,
                        "test": [
                          0.5875417162
                        ]
                      },
                      {
                        "learn": [
                          0.5397504076
                        ],
                        "iteration": 948,
                        "passed_time": 28.13438111,
                        "remaining_time": 1.511963579,
                        "test": [
                          0.5875219844
                        ]
                      },
                      {
                        "learn": [
                          0.5397134234
                        ],
                        "iteration": 949,
                        "passed_time": 28.15772296,
                        "remaining_time": 1.481985419,
                        "test": [
                          0.5875931739
                        ]
                      },
                      {
                        "learn": [
                          0.5396789754
                        ],
                        "iteration": 950,
                        "passed_time": 28.17980612,
                        "remaining_time": 1.451956361,
                        "test": [
                          0.5875949074
                        ]
                      },
                      {
                        "learn": [
                          0.5396470389
                        ],
                        "iteration": 951,
                        "passed_time": 28.20270267,
                        "remaining_time": 1.421985008,
                        "test": [
                          0.5875965937
                        ]
                      },
                      {
                        "learn": [
                          0.5396040462
                        ],
                        "iteration": 952,
                        "passed_time": 28.22580229,
                        "remaining_time": 1.392038518,
                        "test": [
                          0.5876460628
                        ]
                      },
                      {
                        "learn": [
                          0.539569855
                        ],
                        "iteration": 953,
                        "passed_time": 28.24878798,
                        "remaining_time": 1.362100888,
                        "test": [
                          0.5876560656
                        ]
                      },
                      {
                        "learn": [
                          0.5395487462
                        ],
                        "iteration": 954,
                        "passed_time": 28.27034428,
                        "remaining_time": 1.332110463,
                        "test": [
                          0.5876691273
                        ]
                      },
                      {
                        "learn": [
                          0.5395145618
                        ],
                        "iteration": 955,
                        "passed_time": 28.29534486,
                        "remaining_time": 1.302296207,
                        "test": [
                          0.5876792982
                        ]
                      },
                      {
                        "learn": [
                          0.5394555958
                        ],
                        "iteration": 956,
                        "passed_time": 28.31963427,
                        "remaining_time": 1.272460056,
                        "test": [
                          0.587688443
                        ]
                      },
                      {
                        "learn": [
                          0.5394220112
                        ],
                        "iteration": 957,
                        "passed_time": 28.34261663,
                        "remaining_time": 1.242578182,
                        "test": [
                          0.587686566
                        ]
                      },
                      {
                        "learn": [
                          0.539386343
                        ],
                        "iteration": 958,
                        "passed_time": 28.36459729,
                        "remaining_time": 1.212667872,
                        "test": [
                          0.5877325923
                        ]
                      },
                      {
                        "learn": [
                          0.5393680666
                        ],
                        "iteration": 959,
                        "passed_time": 28.38647909,
                        "remaining_time": 1.182769962,
                        "test": [
                          0.5877368444
                        ]
                      },
                      {
                        "learn": [
                          0.539350537
                        ],
                        "iteration": 960,
                        "passed_time": 28.40814167,
                        "remaining_time": 1.152879839,
                        "test": [
                          0.5877400994
                        ]
                      },
                      {
                        "learn": [
                          0.5393153615
                        ],
                        "iteration": 961,
                        "passed_time": 28.4311066,
                        "remaining_time": 1.123058265,
                        "test": [
                          0.5877649841
                        ]
                      },
                      {
                        "learn": [
                          0.5392671777
                        ],
                        "iteration": 962,
                        "passed_time": 28.45335759,
                        "remaining_time": 1.0932235,
                        "test": [
                          0.5877801162
                        ]
                      },
                      {
                        "learn": [
                          0.539207151
                        ],
                        "iteration": 963,
                        "passed_time": 28.47613613,
                        "remaining_time": 1.063424171,
                        "test": [
                          0.5877684603
                        ]
                      },
                      {
                        "learn": [
                          0.5391609279
                        ],
                        "iteration": 964,
                        "passed_time": 28.49853663,
                        "remaining_time": 1.033625681,
                        "test": [
                          0.5878124128
                        ]
                      },
                      {
                        "learn": [
                          0.5391196412
                        ],
                        "iteration": 965,
                        "passed_time": 28.52114183,
                        "remaining_time": 1.003849712,
                        "test": [
                          0.5878128555
                        ]
                      },
                      {
                        "learn": [
                          0.5390804779
                        ],
                        "iteration": 966,
                        "passed_time": 28.54291686,
                        "remaining_time": 0.9740602443,
                        "test": [
                          0.5878360939
                        ]
                      },
                      {
                        "learn": [
                          0.5390341493
                        ],
                        "iteration": 967,
                        "passed_time": 28.5654415,
                        "remaining_time": 0.9443121159,
                        "test": [
                          0.5878421607
                        ]
                      },
                      {
                        "learn": [
                          0.538987774
                        ],
                        "iteration": 968,
                        "passed_time": 28.58804309,
                        "remaining_time": 0.9145813578,
                        "test": [
                          0.5878259283
                        ]
                      },
                      {
                        "learn": [
                          0.5389435498
                        ],
                        "iteration": 969,
                        "passed_time": 28.61067217,
                        "remaining_time": 0.8848661495,
                        "test": [
                          0.5877829865
                        ]
                      },
                      {
                        "learn": [
                          0.5389068483
                        ],
                        "iteration": 970,
                        "passed_time": 28.63566284,
                        "remaining_time": 0.8552360683,
                        "test": [
                          0.5877950736
                        ]
                      },
                      {
                        "learn": [
                          0.5388753183
                        ],
                        "iteration": 971,
                        "passed_time": 28.65898102,
                        "remaining_time": 0.8255673545,
                        "test": [
                          0.5877963267
                        ]
                      },
                      {
                        "learn": [
                          0.5388014844
                        ],
                        "iteration": 972,
                        "passed_time": 28.68364451,
                        "remaining_time": 0.7959490253,
                        "test": [
                          0.5877275742
                        ]
                      },
                      {
                        "learn": [
                          0.5387718162
                        ],
                        "iteration": 973,
                        "passed_time": 28.70658008,
                        "remaining_time": 0.7662947454,
                        "test": [
                          0.5877283151
                        ]
                      },
                      {
                        "learn": [
                          0.5387102159
                        ],
                        "iteration": 974,
                        "passed_time": 28.72896246,
                        "remaining_time": 0.7366400631,
                        "test": [
                          0.5877262881
                        ]
                      },
                      {
                        "learn": [
                          0.5386406803
                        ],
                        "iteration": 975,
                        "passed_time": 28.78524711,
                        "remaining_time": 0.7078339454,
                        "test": [
                          0.587668016
                        ]
                      },
                      {
                        "learn": [
                          0.5386158643
                        ],
                        "iteration": 976,
                        "passed_time": 28.84304358,
                        "remaining_time": 0.6790071671,
                        "test": [
                          0.5876631004
                        ]
                      },
                      {
                        "learn": [
                          0.5386004545
                        ],
                        "iteration": 977,
                        "passed_time": 28.86536706,
                        "remaining_time": 0.6493231854,
                        "test": [
                          0.5876610894
                        ]
                      },
                      {
                        "learn": [
                          0.5385660695
                        ],
                        "iteration": 978,
                        "passed_time": 28.88841576,
                        "remaining_time": 0.6196697967,
                        "test": [
                          0.5876508556
                        ]
                      },
                      {
                        "learn": [
                          0.5385131048
                        ],
                        "iteration": 979,
                        "passed_time": 28.91129921,
                        "remaining_time": 0.5900265146,
                        "test": [
                          0.5876347669
                        ]
                      },
                      {
                        "learn": [
                          0.538488986
                        ],
                        "iteration": 980,
                        "passed_time": 28.93476875,
                        "remaining_time": 0.5604083652,
                        "test": [
                          0.5876323905
                        ]
                      },
                      {
                        "learn": [
                          0.5384517138
                        ],
                        "iteration": 981,
                        "passed_time": 28.95761022,
                        "remaining_time": 0.530791226,
                        "test": [
                          0.5876519204
                        ]
                      },
                      {
                        "learn": [
                          0.538416313
                        ],
                        "iteration": 982,
                        "passed_time": 28.97957767,
                        "remaining_time": 0.5011727572,
                        "test": [
                          0.5876429025
                        ]
                      },
                      {
                        "learn": [
                          0.5383644074
                        ],
                        "iteration": 983,
                        "passed_time": 29.00215398,
                        "remaining_time": 0.4715797395,
                        "test": [
                          0.587650158
                        ]
                      },
                      {
                        "learn": [
                          0.5383394499
                        ],
                        "iteration": 984,
                        "passed_time": 29.02471625,
                        "remaining_time": 0.4420007551,
                        "test": [
                          0.5876609896
                        ]
                      },
                      {
                        "learn": [
                          0.5382936158
                        ],
                        "iteration": 985,
                        "passed_time": 29.05115953,
                        "remaining_time": 0.4124911089,
                        "test": [
                          0.587666144
                        ]
                      },
                      {
                        "learn": [
                          0.5382577852
                        ],
                        "iteration": 986,
                        "passed_time": 29.0876605,
                        "remaining_time": 0.3831201485,
                        "test": [
                          0.5876569414
                        ]
                      },
                      {
                        "learn": [
                          0.538207591
                        ],
                        "iteration": 987,
                        "passed_time": 29.11135693,
                        "remaining_time": 0.353579234,
                        "test": [
                          0.5876925966
                        ]
                      },
                      {
                        "learn": [
                          0.5381653815
                        ],
                        "iteration": 988,
                        "passed_time": 29.13401355,
                        "remaining_time": 0.3240385733,
                        "test": [
                          0.5877183642
                        ]
                      },
                      {
                        "learn": [
                          0.5381394522
                        ],
                        "iteration": 989,
                        "passed_time": 29.15794586,
                        "remaining_time": 0.2945247057,
                        "test": [
                          0.5877020868
                        ]
                      },
                      {
                        "learn": [
                          0.5380873454
                        ],
                        "iteration": 990,
                        "passed_time": 29.18192249,
                        "remaining_time": 0.265022505,
                        "test": [
                          0.5877196212
                        ]
                      },
                      {
                        "learn": [
                          0.5380608088
                        ],
                        "iteration": 991,
                        "passed_time": 29.2037902,
                        "remaining_time": 0.2355144371,
                        "test": [
                          0.5877274349
                        ]
                      },
                      {
                        "learn": [
                          0.5380180737
                        ],
                        "iteration": 992,
                        "passed_time": 29.22609006,
                        "remaining_time": 0.206024804,
                        "test": [
                          0.5877272515
                        ]
                      },
                      {
                        "learn": [
                          0.5379752418
                        ],
                        "iteration": 993,
                        "passed_time": 29.24846068,
                        "remaining_time": 0.1765500645,
                        "test": [
                          0.5877477801
                        ]
                      },
                      {
                        "learn": [
                          0.5379246605
                        ],
                        "iteration": 994,
                        "passed_time": 29.27216912,
                        "remaining_time": 0.1470963272,
                        "test": [
                          0.587722241
                        ]
                      },
                      {
                        "learn": [
                          0.5378628176
                        ],
                        "iteration": 995,
                        "passed_time": 29.29713101,
                        "remaining_time": 0.1176591607,
                        "test": [
                          0.5877402819
                        ]
                      },
                      {
                        "learn": [
                          0.5378120299
                        ],
                        "iteration": 996,
                        "passed_time": 29.31997324,
                        "remaining_time": 0.0882245935,
                        "test": [
                          0.5877774249
                        ]
                      },
                      {
                        "learn": [
                          0.5377671876
                        ],
                        "iteration": 997,
                        "passed_time": 29.34256436,
                        "remaining_time": 0.05880273418,
                        "test": [
                          0.587764763
                        ]
                      },
                      {
                        "learn": [
                          0.5377445705
                        ],
                        "iteration": 998,
                        "passed_time": 29.36470274,
                        "remaining_time": 0.02939409684,
                        "test": [
                          0.5877844895
                        ]
                      },
                      {
                        "learn": [
                          0.5376892917
                        ],
                        "iteration": 999,
                        "passed_time": 29.38865806,
                        "remaining_time": 0,
                        "test": [
                          0.5877963108
                        ]
                      }
                    ],
                    "meta": {
                      "test_sets": [
                        "test"
                      ],
                      "test_metrics": [
                        {
                          "best_value": "Min",
                          "name": "Logloss"
                        }
                      ],
                      "learn_metrics": [
                        {
                          "best_value": "Min",
                          "name": "Logloss"
                        }
                      ],
                      "launch_mode": "Train",
                      "parameters": "",
                      "iteration_count": 1000,
                      "learn_sets": [
                        "learn"
                      ],
                      "name": "experiment"
                    }
                  }
                }
              }
            },
            "layout": "IPY_MODEL_22191fad0b91438797bc8d400d000f9b"
          }
        }
      }
    }
  },
  "cells": [
    {
      "cell_type": "markdown",
      "metadata": {
        "id": "view-in-github",
        "colab_type": "text"
      },
      "source": [
        "<a href=\"https://colab.research.google.com/github/LIvanoff/Big-Data-analysis-technologies-and-tools/blob/main/pr7.ipynb\" target=\"_parent\"><img src=\"https://colab.research.google.com/assets/colab-badge.svg\" alt=\"Open In Colab\"/></a>"
      ]
    },
    {
      "cell_type": "code",
      "source": [
        "!pip install catboost"
      ],
      "metadata": {
        "colab": {
          "base_uri": "https://localhost:8080/"
        },
        "id": "sTFPPDTzDrKV",
        "outputId": "0efad406-88b4-48b2-d796-c45e2522dba9"
      },
      "execution_count": null,
      "outputs": [
        {
          "output_type": "stream",
          "name": "stdout",
          "text": [
            "Collecting catboost\n",
            "  Downloading catboost-1.2.2-cp310-cp310-manylinux2014_x86_64.whl (98.7 MB)\n",
            "\u001b[2K     \u001b[90m━━━━━━━━━━━━━━━━━━━━━━━━━━━━━━━━━━━━━━━━\u001b[0m \u001b[32m98.7/98.7 MB\u001b[0m \u001b[31m6.8 MB/s\u001b[0m eta \u001b[36m0:00:00\u001b[0m\n",
            "\u001b[?25hRequirement already satisfied: graphviz in /usr/local/lib/python3.10/dist-packages (from catboost) (0.20.1)\n",
            "Requirement already satisfied: matplotlib in /usr/local/lib/python3.10/dist-packages (from catboost) (3.7.1)\n",
            "Requirement already satisfied: numpy>=1.16.0 in /usr/local/lib/python3.10/dist-packages (from catboost) (1.23.5)\n",
            "Requirement already satisfied: pandas>=0.24 in /usr/local/lib/python3.10/dist-packages (from catboost) (1.5.3)\n",
            "Requirement already satisfied: scipy in /usr/local/lib/python3.10/dist-packages (from catboost) (1.11.3)\n",
            "Requirement already satisfied: plotly in /usr/local/lib/python3.10/dist-packages (from catboost) (5.15.0)\n",
            "Requirement already satisfied: six in /usr/local/lib/python3.10/dist-packages (from catboost) (1.16.0)\n",
            "Requirement already satisfied: python-dateutil>=2.8.1 in /usr/local/lib/python3.10/dist-packages (from pandas>=0.24->catboost) (2.8.2)\n",
            "Requirement already satisfied: pytz>=2020.1 in /usr/local/lib/python3.10/dist-packages (from pandas>=0.24->catboost) (2023.3.post1)\n",
            "Requirement already satisfied: contourpy>=1.0.1 in /usr/local/lib/python3.10/dist-packages (from matplotlib->catboost) (1.2.0)\n",
            "Requirement already satisfied: cycler>=0.10 in /usr/local/lib/python3.10/dist-packages (from matplotlib->catboost) (0.12.1)\n",
            "Requirement already satisfied: fonttools>=4.22.0 in /usr/local/lib/python3.10/dist-packages (from matplotlib->catboost) (4.44.3)\n",
            "Requirement already satisfied: kiwisolver>=1.0.1 in /usr/local/lib/python3.10/dist-packages (from matplotlib->catboost) (1.4.5)\n",
            "Requirement already satisfied: packaging>=20.0 in /usr/local/lib/python3.10/dist-packages (from matplotlib->catboost) (23.2)\n",
            "Requirement already satisfied: pillow>=6.2.0 in /usr/local/lib/python3.10/dist-packages (from matplotlib->catboost) (9.4.0)\n",
            "Requirement already satisfied: pyparsing>=2.3.1 in /usr/local/lib/python3.10/dist-packages (from matplotlib->catboost) (3.1.1)\n",
            "Requirement already satisfied: tenacity>=6.2.0 in /usr/local/lib/python3.10/dist-packages (from plotly->catboost) (8.2.3)\n",
            "Installing collected packages: catboost\n",
            "Successfully installed catboost-1.2.2\n"
          ]
        }
      ]
    },
    {
      "cell_type": "code",
      "execution_count": null,
      "metadata": {
        "id": "xkqV0HLv6T3G"
      },
      "outputs": [],
      "source": [
        "import pandas as pd\n",
        "import numpy as np\n",
        "import matplotlib.pyplot as plt\n",
        "import seaborn as sns\n",
        "from sklearn.model_selection import train_test_split\n",
        "from sklearn.metrics import confusion_matrix, classification_report, accuracy_score\n",
        "from sklearn.manifold import TSNE\n",
        "from sklearn.ensemble import RandomForestClassifier\n",
        "from sklearn.model_selection import GridSearchCV\n",
        "from sklearn.preprocessing import StandardScaler\n",
        "from catboost import CatBoostClassifier"
      ]
    },
    {
      "cell_type": "markdown",
      "source": [
        "## Задача 1"
      ],
      "metadata": {
        "id": "_hU99xx29o_m"
      }
    },
    {
      "cell_type": "markdown",
      "source": [
        "Найти данные для задачи классификации или для задачи регрессии\n",
        "(данные не должны повторятся в группе)."
      ],
      "metadata": {
        "id": "4jjHPaB59sFw"
      }
    },
    {
      "cell_type": "code",
      "source": [
        "from google.colab import files\n",
        "uploaded = files.upload()"
      ],
      "metadata": {
        "colab": {
          "base_uri": "https://localhost:8080/",
          "height": 73
        },
        "id": "GFsvDCg39yWl",
        "outputId": "fd05e162-3617-40f6-8128-ee8413b87e0b"
      },
      "execution_count": null,
      "outputs": [
        {
          "output_type": "display_data",
          "data": {
            "text/plain": [
              "<IPython.core.display.HTML object>"
            ],
            "text/html": [
              "\n",
              "     <input type=\"file\" id=\"files-f0ade631-d2f9-4396-8f0d-bacf57a53c00\" name=\"files[]\" multiple disabled\n",
              "        style=\"border:none\" />\n",
              "     <output id=\"result-f0ade631-d2f9-4396-8f0d-bacf57a53c00\">\n",
              "      Upload widget is only available when the cell has been executed in the\n",
              "      current browser session. Please rerun this cell to enable.\n",
              "      </output>\n",
              "      <script>// Copyright 2017 Google LLC\n",
              "//\n",
              "// Licensed under the Apache License, Version 2.0 (the \"License\");\n",
              "// you may not use this file except in compliance with the License.\n",
              "// You may obtain a copy of the License at\n",
              "//\n",
              "//      http://www.apache.org/licenses/LICENSE-2.0\n",
              "//\n",
              "// Unless required by applicable law or agreed to in writing, software\n",
              "// distributed under the License is distributed on an \"AS IS\" BASIS,\n",
              "// WITHOUT WARRANTIES OR CONDITIONS OF ANY KIND, either express or implied.\n",
              "// See the License for the specific language governing permissions and\n",
              "// limitations under the License.\n",
              "\n",
              "/**\n",
              " * @fileoverview Helpers for google.colab Python module.\n",
              " */\n",
              "(function(scope) {\n",
              "function span(text, styleAttributes = {}) {\n",
              "  const element = document.createElement('span');\n",
              "  element.textContent = text;\n",
              "  for (const key of Object.keys(styleAttributes)) {\n",
              "    element.style[key] = styleAttributes[key];\n",
              "  }\n",
              "  return element;\n",
              "}\n",
              "\n",
              "// Max number of bytes which will be uploaded at a time.\n",
              "const MAX_PAYLOAD_SIZE = 100 * 1024;\n",
              "\n",
              "function _uploadFiles(inputId, outputId) {\n",
              "  const steps = uploadFilesStep(inputId, outputId);\n",
              "  const outputElement = document.getElementById(outputId);\n",
              "  // Cache steps on the outputElement to make it available for the next call\n",
              "  // to uploadFilesContinue from Python.\n",
              "  outputElement.steps = steps;\n",
              "\n",
              "  return _uploadFilesContinue(outputId);\n",
              "}\n",
              "\n",
              "// This is roughly an async generator (not supported in the browser yet),\n",
              "// where there are multiple asynchronous steps and the Python side is going\n",
              "// to poll for completion of each step.\n",
              "// This uses a Promise to block the python side on completion of each step,\n",
              "// then passes the result of the previous step as the input to the next step.\n",
              "function _uploadFilesContinue(outputId) {\n",
              "  const outputElement = document.getElementById(outputId);\n",
              "  const steps = outputElement.steps;\n",
              "\n",
              "  const next = steps.next(outputElement.lastPromiseValue);\n",
              "  return Promise.resolve(next.value.promise).then((value) => {\n",
              "    // Cache the last promise value to make it available to the next\n",
              "    // step of the generator.\n",
              "    outputElement.lastPromiseValue = value;\n",
              "    return next.value.response;\n",
              "  });\n",
              "}\n",
              "\n",
              "/**\n",
              " * Generator function which is called between each async step of the upload\n",
              " * process.\n",
              " * @param {string} inputId Element ID of the input file picker element.\n",
              " * @param {string} outputId Element ID of the output display.\n",
              " * @return {!Iterable<!Object>} Iterable of next steps.\n",
              " */\n",
              "function* uploadFilesStep(inputId, outputId) {\n",
              "  const inputElement = document.getElementById(inputId);\n",
              "  inputElement.disabled = false;\n",
              "\n",
              "  const outputElement = document.getElementById(outputId);\n",
              "  outputElement.innerHTML = '';\n",
              "\n",
              "  const pickedPromise = new Promise((resolve) => {\n",
              "    inputElement.addEventListener('change', (e) => {\n",
              "      resolve(e.target.files);\n",
              "    });\n",
              "  });\n",
              "\n",
              "  const cancel = document.createElement('button');\n",
              "  inputElement.parentElement.appendChild(cancel);\n",
              "  cancel.textContent = 'Cancel upload';\n",
              "  const cancelPromise = new Promise((resolve) => {\n",
              "    cancel.onclick = () => {\n",
              "      resolve(null);\n",
              "    };\n",
              "  });\n",
              "\n",
              "  // Wait for the user to pick the files.\n",
              "  const files = yield {\n",
              "    promise: Promise.race([pickedPromise, cancelPromise]),\n",
              "    response: {\n",
              "      action: 'starting',\n",
              "    }\n",
              "  };\n",
              "\n",
              "  cancel.remove();\n",
              "\n",
              "  // Disable the input element since further picks are not allowed.\n",
              "  inputElement.disabled = true;\n",
              "\n",
              "  if (!files) {\n",
              "    return {\n",
              "      response: {\n",
              "        action: 'complete',\n",
              "      }\n",
              "    };\n",
              "  }\n",
              "\n",
              "  for (const file of files) {\n",
              "    const li = document.createElement('li');\n",
              "    li.append(span(file.name, {fontWeight: 'bold'}));\n",
              "    li.append(span(\n",
              "        `(${file.type || 'n/a'}) - ${file.size} bytes, ` +\n",
              "        `last modified: ${\n",
              "            file.lastModifiedDate ? file.lastModifiedDate.toLocaleDateString() :\n",
              "                                    'n/a'} - `));\n",
              "    const percent = span('0% done');\n",
              "    li.appendChild(percent);\n",
              "\n",
              "    outputElement.appendChild(li);\n",
              "\n",
              "    const fileDataPromise = new Promise((resolve) => {\n",
              "      const reader = new FileReader();\n",
              "      reader.onload = (e) => {\n",
              "        resolve(e.target.result);\n",
              "      };\n",
              "      reader.readAsArrayBuffer(file);\n",
              "    });\n",
              "    // Wait for the data to be ready.\n",
              "    let fileData = yield {\n",
              "      promise: fileDataPromise,\n",
              "      response: {\n",
              "        action: 'continue',\n",
              "      }\n",
              "    };\n",
              "\n",
              "    // Use a chunked sending to avoid message size limits. See b/62115660.\n",
              "    let position = 0;\n",
              "    do {\n",
              "      const length = Math.min(fileData.byteLength - position, MAX_PAYLOAD_SIZE);\n",
              "      const chunk = new Uint8Array(fileData, position, length);\n",
              "      position += length;\n",
              "\n",
              "      const base64 = btoa(String.fromCharCode.apply(null, chunk));\n",
              "      yield {\n",
              "        response: {\n",
              "          action: 'append',\n",
              "          file: file.name,\n",
              "          data: base64,\n",
              "        },\n",
              "      };\n",
              "\n",
              "      let percentDone = fileData.byteLength === 0 ?\n",
              "          100 :\n",
              "          Math.round((position / fileData.byteLength) * 100);\n",
              "      percent.textContent = `${percentDone}% done`;\n",
              "\n",
              "    } while (position < fileData.byteLength);\n",
              "  }\n",
              "\n",
              "  // All done.\n",
              "  yield {\n",
              "    response: {\n",
              "      action: 'complete',\n",
              "    }\n",
              "  };\n",
              "}\n",
              "\n",
              "scope.google = scope.google || {};\n",
              "scope.google.colab = scope.google.colab || {};\n",
              "scope.google.colab._files = {\n",
              "  _uploadFiles,\n",
              "  _uploadFilesContinue,\n",
              "};\n",
              "})(self);\n",
              "</script> "
            ]
          },
          "metadata": {}
        },
        {
          "output_type": "stream",
          "name": "stdout",
          "text": [
            "Saving dataset13.xlsx to dataset13.xlsx\n"
          ]
        }
      ]
    },
    {
      "cell_type": "code",
      "source": [
        "df = pd.read_excel('dataset13.xlsx')\n",
        "df"
      ],
      "metadata": {
        "colab": {
          "base_uri": "https://localhost:8080/",
          "height": 444
        },
        "id": "IJkmmMXJ-0gF",
        "outputId": "e9764175-790d-4afc-f456-dd72749ba4de"
      },
      "execution_count": null,
      "outputs": [
        {
          "output_type": "execute_result",
          "data": {
            "text/plain": [
              "        ctWinRate  tWinRate  roundNum  ctScore  tScore  ctTeam  tTeam  \\\n",
              "0            52.9      47.1         1   0.0000  0.0000       1      0   \n",
              "1            52.9      47.1         2   0.0625  0.0000       1      0   \n",
              "2            52.9      47.1         3   0.0625  0.0625       1      0   \n",
              "3            52.9      47.1         4   0.0625  0.1250       1      0   \n",
              "4            52.9      47.1         5   0.0625  0.1875       1      0   \n",
              "...           ...       ...       ...      ...     ...     ...    ...   \n",
              "111388       53.9      46.1        24   0.6875  0.7500     309    293   \n",
              "111389       53.9      46.1        25   0.6875  0.8125     309    293   \n",
              "111390       53.9      46.1        26   0.6875  0.8750     309    293   \n",
              "111391       53.9      46.1        27   0.7500  0.8750     309    293   \n",
              "111392       53.9      46.1        28   0.7500  0.9375     309    293   \n",
              "\n",
              "        ctFreezeTimeEndEqVal  ctRoundStartEqVal  ctBuyType  \\\n",
              "0                       4.30               1.00          0   \n",
              "1                      20.45               3.00          3   \n",
              "2                      11.55               4.90          2   \n",
              "3                       5.20               4.70          1   \n",
              "4                      23.80               1.00          3   \n",
              "...                      ...                ...        ...   \n",
              "111388                 29.70              19.95          3   \n",
              "111389                 23.80               1.00          3   \n",
              "111390                 10.10               4.35          2   \n",
              "111391                 31.20              15.50          3   \n",
              "111392                 30.80               8.05          3   \n",
              "\n",
              "        tFreezeTimeEndEqVal  tRoundStartEqVal  tBuyType  ctResult  tResult  \\\n",
              "0                      3.70              1.00         0         1        0   \n",
              "1                      5.25              1.00         1         0        1   \n",
              "2                     22.35              7.35         3         0        1   \n",
              "3                     22.55             11.20         3         0        1   \n",
              "4                     27.05              8.40         3         0        1   \n",
              "...                     ...               ...       ...       ...      ...   \n",
              "111388                25.30              5.50         3         0        1   \n",
              "111389                27.45              4.70         3         0        1   \n",
              "111390                27.45             19.85         3         1        0   \n",
              "111391                26.95              1.00         3         0        1   \n",
              "111392                27.45             15.15         3         0        1   \n",
              "\n",
              "        winningTeam  losingTeam  \n",
              "0                 1           0  \n",
              "1                 0           1  \n",
              "2                 0           1  \n",
              "3                 0           1  \n",
              "4                 0           1  \n",
              "...             ...         ...  \n",
              "111388          293         309  \n",
              "111389          293         309  \n",
              "111390          309         293  \n",
              "111391          293         309  \n",
              "111392          293         309  \n",
              "\n",
              "[111393 rows x 17 columns]"
            ],
            "text/html": [
              "\n",
              "  <div id=\"df-d6689d69-6421-4950-a304-616dd1a273b2\" class=\"colab-df-container\">\n",
              "    <div>\n",
              "<style scoped>\n",
              "    .dataframe tbody tr th:only-of-type {\n",
              "        vertical-align: middle;\n",
              "    }\n",
              "\n",
              "    .dataframe tbody tr th {\n",
              "        vertical-align: top;\n",
              "    }\n",
              "\n",
              "    .dataframe thead th {\n",
              "        text-align: right;\n",
              "    }\n",
              "</style>\n",
              "<table border=\"1\" class=\"dataframe\">\n",
              "  <thead>\n",
              "    <tr style=\"text-align: right;\">\n",
              "      <th></th>\n",
              "      <th>ctWinRate</th>\n",
              "      <th>tWinRate</th>\n",
              "      <th>roundNum</th>\n",
              "      <th>ctScore</th>\n",
              "      <th>tScore</th>\n",
              "      <th>ctTeam</th>\n",
              "      <th>tTeam</th>\n",
              "      <th>ctFreezeTimeEndEqVal</th>\n",
              "      <th>ctRoundStartEqVal</th>\n",
              "      <th>ctBuyType</th>\n",
              "      <th>tFreezeTimeEndEqVal</th>\n",
              "      <th>tRoundStartEqVal</th>\n",
              "      <th>tBuyType</th>\n",
              "      <th>ctResult</th>\n",
              "      <th>tResult</th>\n",
              "      <th>winningTeam</th>\n",
              "      <th>losingTeam</th>\n",
              "    </tr>\n",
              "  </thead>\n",
              "  <tbody>\n",
              "    <tr>\n",
              "      <th>0</th>\n",
              "      <td>52.9</td>\n",
              "      <td>47.1</td>\n",
              "      <td>1</td>\n",
              "      <td>0.0000</td>\n",
              "      <td>0.0000</td>\n",
              "      <td>1</td>\n",
              "      <td>0</td>\n",
              "      <td>4.30</td>\n",
              "      <td>1.00</td>\n",
              "      <td>0</td>\n",
              "      <td>3.70</td>\n",
              "      <td>1.00</td>\n",
              "      <td>0</td>\n",
              "      <td>1</td>\n",
              "      <td>0</td>\n",
              "      <td>1</td>\n",
              "      <td>0</td>\n",
              "    </tr>\n",
              "    <tr>\n",
              "      <th>1</th>\n",
              "      <td>52.9</td>\n",
              "      <td>47.1</td>\n",
              "      <td>2</td>\n",
              "      <td>0.0625</td>\n",
              "      <td>0.0000</td>\n",
              "      <td>1</td>\n",
              "      <td>0</td>\n",
              "      <td>20.45</td>\n",
              "      <td>3.00</td>\n",
              "      <td>3</td>\n",
              "      <td>5.25</td>\n",
              "      <td>1.00</td>\n",
              "      <td>1</td>\n",
              "      <td>0</td>\n",
              "      <td>1</td>\n",
              "      <td>0</td>\n",
              "      <td>1</td>\n",
              "    </tr>\n",
              "    <tr>\n",
              "      <th>2</th>\n",
              "      <td>52.9</td>\n",
              "      <td>47.1</td>\n",
              "      <td>3</td>\n",
              "      <td>0.0625</td>\n",
              "      <td>0.0625</td>\n",
              "      <td>1</td>\n",
              "      <td>0</td>\n",
              "      <td>11.55</td>\n",
              "      <td>4.90</td>\n",
              "      <td>2</td>\n",
              "      <td>22.35</td>\n",
              "      <td>7.35</td>\n",
              "      <td>3</td>\n",
              "      <td>0</td>\n",
              "      <td>1</td>\n",
              "      <td>0</td>\n",
              "      <td>1</td>\n",
              "    </tr>\n",
              "    <tr>\n",
              "      <th>3</th>\n",
              "      <td>52.9</td>\n",
              "      <td>47.1</td>\n",
              "      <td>4</td>\n",
              "      <td>0.0625</td>\n",
              "      <td>0.1250</td>\n",
              "      <td>1</td>\n",
              "      <td>0</td>\n",
              "      <td>5.20</td>\n",
              "      <td>4.70</td>\n",
              "      <td>1</td>\n",
              "      <td>22.55</td>\n",
              "      <td>11.20</td>\n",
              "      <td>3</td>\n",
              "      <td>0</td>\n",
              "      <td>1</td>\n",
              "      <td>0</td>\n",
              "      <td>1</td>\n",
              "    </tr>\n",
              "    <tr>\n",
              "      <th>4</th>\n",
              "      <td>52.9</td>\n",
              "      <td>47.1</td>\n",
              "      <td>5</td>\n",
              "      <td>0.0625</td>\n",
              "      <td>0.1875</td>\n",
              "      <td>1</td>\n",
              "      <td>0</td>\n",
              "      <td>23.80</td>\n",
              "      <td>1.00</td>\n",
              "      <td>3</td>\n",
              "      <td>27.05</td>\n",
              "      <td>8.40</td>\n",
              "      <td>3</td>\n",
              "      <td>0</td>\n",
              "      <td>1</td>\n",
              "      <td>0</td>\n",
              "      <td>1</td>\n",
              "    </tr>\n",
              "    <tr>\n",
              "      <th>...</th>\n",
              "      <td>...</td>\n",
              "      <td>...</td>\n",
              "      <td>...</td>\n",
              "      <td>...</td>\n",
              "      <td>...</td>\n",
              "      <td>...</td>\n",
              "      <td>...</td>\n",
              "      <td>...</td>\n",
              "      <td>...</td>\n",
              "      <td>...</td>\n",
              "      <td>...</td>\n",
              "      <td>...</td>\n",
              "      <td>...</td>\n",
              "      <td>...</td>\n",
              "      <td>...</td>\n",
              "      <td>...</td>\n",
              "      <td>...</td>\n",
              "    </tr>\n",
              "    <tr>\n",
              "      <th>111388</th>\n",
              "      <td>53.9</td>\n",
              "      <td>46.1</td>\n",
              "      <td>24</td>\n",
              "      <td>0.6875</td>\n",
              "      <td>0.7500</td>\n",
              "      <td>309</td>\n",
              "      <td>293</td>\n",
              "      <td>29.70</td>\n",
              "      <td>19.95</td>\n",
              "      <td>3</td>\n",
              "      <td>25.30</td>\n",
              "      <td>5.50</td>\n",
              "      <td>3</td>\n",
              "      <td>0</td>\n",
              "      <td>1</td>\n",
              "      <td>293</td>\n",
              "      <td>309</td>\n",
              "    </tr>\n",
              "    <tr>\n",
              "      <th>111389</th>\n",
              "      <td>53.9</td>\n",
              "      <td>46.1</td>\n",
              "      <td>25</td>\n",
              "      <td>0.6875</td>\n",
              "      <td>0.8125</td>\n",
              "      <td>309</td>\n",
              "      <td>293</td>\n",
              "      <td>23.80</td>\n",
              "      <td>1.00</td>\n",
              "      <td>3</td>\n",
              "      <td>27.45</td>\n",
              "      <td>4.70</td>\n",
              "      <td>3</td>\n",
              "      <td>0</td>\n",
              "      <td>1</td>\n",
              "      <td>293</td>\n",
              "      <td>309</td>\n",
              "    </tr>\n",
              "    <tr>\n",
              "      <th>111390</th>\n",
              "      <td>53.9</td>\n",
              "      <td>46.1</td>\n",
              "      <td>26</td>\n",
              "      <td>0.6875</td>\n",
              "      <td>0.8750</td>\n",
              "      <td>309</td>\n",
              "      <td>293</td>\n",
              "      <td>10.10</td>\n",
              "      <td>4.35</td>\n",
              "      <td>2</td>\n",
              "      <td>27.45</td>\n",
              "      <td>19.85</td>\n",
              "      <td>3</td>\n",
              "      <td>1</td>\n",
              "      <td>0</td>\n",
              "      <td>309</td>\n",
              "      <td>293</td>\n",
              "    </tr>\n",
              "    <tr>\n",
              "      <th>111391</th>\n",
              "      <td>53.9</td>\n",
              "      <td>46.1</td>\n",
              "      <td>27</td>\n",
              "      <td>0.7500</td>\n",
              "      <td>0.8750</td>\n",
              "      <td>309</td>\n",
              "      <td>293</td>\n",
              "      <td>31.20</td>\n",
              "      <td>15.50</td>\n",
              "      <td>3</td>\n",
              "      <td>26.95</td>\n",
              "      <td>1.00</td>\n",
              "      <td>3</td>\n",
              "      <td>0</td>\n",
              "      <td>1</td>\n",
              "      <td>293</td>\n",
              "      <td>309</td>\n",
              "    </tr>\n",
              "    <tr>\n",
              "      <th>111392</th>\n",
              "      <td>53.9</td>\n",
              "      <td>46.1</td>\n",
              "      <td>28</td>\n",
              "      <td>0.7500</td>\n",
              "      <td>0.9375</td>\n",
              "      <td>309</td>\n",
              "      <td>293</td>\n",
              "      <td>30.80</td>\n",
              "      <td>8.05</td>\n",
              "      <td>3</td>\n",
              "      <td>27.45</td>\n",
              "      <td>15.15</td>\n",
              "      <td>3</td>\n",
              "      <td>0</td>\n",
              "      <td>1</td>\n",
              "      <td>293</td>\n",
              "      <td>309</td>\n",
              "    </tr>\n",
              "  </tbody>\n",
              "</table>\n",
              "<p>111393 rows × 17 columns</p>\n",
              "</div>\n",
              "    <div class=\"colab-df-buttons\">\n",
              "\n",
              "  <div class=\"colab-df-container\">\n",
              "    <button class=\"colab-df-convert\" onclick=\"convertToInteractive('df-d6689d69-6421-4950-a304-616dd1a273b2')\"\n",
              "            title=\"Convert this dataframe to an interactive table.\"\n",
              "            style=\"display:none;\">\n",
              "\n",
              "  <svg xmlns=\"http://www.w3.org/2000/svg\" height=\"24px\" viewBox=\"0 -960 960 960\">\n",
              "    <path d=\"M120-120v-720h720v720H120Zm60-500h600v-160H180v160Zm220 220h160v-160H400v160Zm0 220h160v-160H400v160ZM180-400h160v-160H180v160Zm440 0h160v-160H620v160ZM180-180h160v-160H180v160Zm440 0h160v-160H620v160Z\"/>\n",
              "  </svg>\n",
              "    </button>\n",
              "\n",
              "  <style>\n",
              "    .colab-df-container {\n",
              "      display:flex;\n",
              "      gap: 12px;\n",
              "    }\n",
              "\n",
              "    .colab-df-convert {\n",
              "      background-color: #E8F0FE;\n",
              "      border: none;\n",
              "      border-radius: 50%;\n",
              "      cursor: pointer;\n",
              "      display: none;\n",
              "      fill: #1967D2;\n",
              "      height: 32px;\n",
              "      padding: 0 0 0 0;\n",
              "      width: 32px;\n",
              "    }\n",
              "\n",
              "    .colab-df-convert:hover {\n",
              "      background-color: #E2EBFA;\n",
              "      box-shadow: 0px 1px 2px rgba(60, 64, 67, 0.3), 0px 1px 3px 1px rgba(60, 64, 67, 0.15);\n",
              "      fill: #174EA6;\n",
              "    }\n",
              "\n",
              "    .colab-df-buttons div {\n",
              "      margin-bottom: 4px;\n",
              "    }\n",
              "\n",
              "    [theme=dark] .colab-df-convert {\n",
              "      background-color: #3B4455;\n",
              "      fill: #D2E3FC;\n",
              "    }\n",
              "\n",
              "    [theme=dark] .colab-df-convert:hover {\n",
              "      background-color: #434B5C;\n",
              "      box-shadow: 0px 1px 3px 1px rgba(0, 0, 0, 0.15);\n",
              "      filter: drop-shadow(0px 1px 2px rgba(0, 0, 0, 0.3));\n",
              "      fill: #FFFFFF;\n",
              "    }\n",
              "  </style>\n",
              "\n",
              "    <script>\n",
              "      const buttonEl =\n",
              "        document.querySelector('#df-d6689d69-6421-4950-a304-616dd1a273b2 button.colab-df-convert');\n",
              "      buttonEl.style.display =\n",
              "        google.colab.kernel.accessAllowed ? 'block' : 'none';\n",
              "\n",
              "      async function convertToInteractive(key) {\n",
              "        const element = document.querySelector('#df-d6689d69-6421-4950-a304-616dd1a273b2');\n",
              "        const dataTable =\n",
              "          await google.colab.kernel.invokeFunction('convertToInteractive',\n",
              "                                                    [key], {});\n",
              "        if (!dataTable) return;\n",
              "\n",
              "        const docLinkHtml = 'Like what you see? Visit the ' +\n",
              "          '<a target=\"_blank\" href=https://colab.research.google.com/notebooks/data_table.ipynb>data table notebook</a>'\n",
              "          + ' to learn more about interactive tables.';\n",
              "        element.innerHTML = '';\n",
              "        dataTable['output_type'] = 'display_data';\n",
              "        await google.colab.output.renderOutput(dataTable, element);\n",
              "        const docLink = document.createElement('div');\n",
              "        docLink.innerHTML = docLinkHtml;\n",
              "        element.appendChild(docLink);\n",
              "      }\n",
              "    </script>\n",
              "  </div>\n",
              "\n",
              "\n",
              "<div id=\"df-43cc03f2-d318-4ff0-b415-1a57075fc230\">\n",
              "  <button class=\"colab-df-quickchart\" onclick=\"quickchart('df-43cc03f2-d318-4ff0-b415-1a57075fc230')\"\n",
              "            title=\"Suggest charts\"\n",
              "            style=\"display:none;\">\n",
              "\n",
              "<svg xmlns=\"http://www.w3.org/2000/svg\" height=\"24px\"viewBox=\"0 0 24 24\"\n",
              "     width=\"24px\">\n",
              "    <g>\n",
              "        <path d=\"M19 3H5c-1.1 0-2 .9-2 2v14c0 1.1.9 2 2 2h14c1.1 0 2-.9 2-2V5c0-1.1-.9-2-2-2zM9 17H7v-7h2v7zm4 0h-2V7h2v10zm4 0h-2v-4h2v4z\"/>\n",
              "    </g>\n",
              "</svg>\n",
              "  </button>\n",
              "\n",
              "<style>\n",
              "  .colab-df-quickchart {\n",
              "      --bg-color: #E8F0FE;\n",
              "      --fill-color: #1967D2;\n",
              "      --hover-bg-color: #E2EBFA;\n",
              "      --hover-fill-color: #174EA6;\n",
              "      --disabled-fill-color: #AAA;\n",
              "      --disabled-bg-color: #DDD;\n",
              "  }\n",
              "\n",
              "  [theme=dark] .colab-df-quickchart {\n",
              "      --bg-color: #3B4455;\n",
              "      --fill-color: #D2E3FC;\n",
              "      --hover-bg-color: #434B5C;\n",
              "      --hover-fill-color: #FFFFFF;\n",
              "      --disabled-bg-color: #3B4455;\n",
              "      --disabled-fill-color: #666;\n",
              "  }\n",
              "\n",
              "  .colab-df-quickchart {\n",
              "    background-color: var(--bg-color);\n",
              "    border: none;\n",
              "    border-radius: 50%;\n",
              "    cursor: pointer;\n",
              "    display: none;\n",
              "    fill: var(--fill-color);\n",
              "    height: 32px;\n",
              "    padding: 0;\n",
              "    width: 32px;\n",
              "  }\n",
              "\n",
              "  .colab-df-quickchart:hover {\n",
              "    background-color: var(--hover-bg-color);\n",
              "    box-shadow: 0 1px 2px rgba(60, 64, 67, 0.3), 0 1px 3px 1px rgba(60, 64, 67, 0.15);\n",
              "    fill: var(--button-hover-fill-color);\n",
              "  }\n",
              "\n",
              "  .colab-df-quickchart-complete:disabled,\n",
              "  .colab-df-quickchart-complete:disabled:hover {\n",
              "    background-color: var(--disabled-bg-color);\n",
              "    fill: var(--disabled-fill-color);\n",
              "    box-shadow: none;\n",
              "  }\n",
              "\n",
              "  .colab-df-spinner {\n",
              "    border: 2px solid var(--fill-color);\n",
              "    border-color: transparent;\n",
              "    border-bottom-color: var(--fill-color);\n",
              "    animation:\n",
              "      spin 1s steps(1) infinite;\n",
              "  }\n",
              "\n",
              "  @keyframes spin {\n",
              "    0% {\n",
              "      border-color: transparent;\n",
              "      border-bottom-color: var(--fill-color);\n",
              "      border-left-color: var(--fill-color);\n",
              "    }\n",
              "    20% {\n",
              "      border-color: transparent;\n",
              "      border-left-color: var(--fill-color);\n",
              "      border-top-color: var(--fill-color);\n",
              "    }\n",
              "    30% {\n",
              "      border-color: transparent;\n",
              "      border-left-color: var(--fill-color);\n",
              "      border-top-color: var(--fill-color);\n",
              "      border-right-color: var(--fill-color);\n",
              "    }\n",
              "    40% {\n",
              "      border-color: transparent;\n",
              "      border-right-color: var(--fill-color);\n",
              "      border-top-color: var(--fill-color);\n",
              "    }\n",
              "    60% {\n",
              "      border-color: transparent;\n",
              "      border-right-color: var(--fill-color);\n",
              "    }\n",
              "    80% {\n",
              "      border-color: transparent;\n",
              "      border-right-color: var(--fill-color);\n",
              "      border-bottom-color: var(--fill-color);\n",
              "    }\n",
              "    90% {\n",
              "      border-color: transparent;\n",
              "      border-bottom-color: var(--fill-color);\n",
              "    }\n",
              "  }\n",
              "</style>\n",
              "\n",
              "  <script>\n",
              "    async function quickchart(key) {\n",
              "      const quickchartButtonEl =\n",
              "        document.querySelector('#' + key + ' button');\n",
              "      quickchartButtonEl.disabled = true;  // To prevent multiple clicks.\n",
              "      quickchartButtonEl.classList.add('colab-df-spinner');\n",
              "      try {\n",
              "        const charts = await google.colab.kernel.invokeFunction(\n",
              "            'suggestCharts', [key], {});\n",
              "      } catch (error) {\n",
              "        console.error('Error during call to suggestCharts:', error);\n",
              "      }\n",
              "      quickchartButtonEl.classList.remove('colab-df-spinner');\n",
              "      quickchartButtonEl.classList.add('colab-df-quickchart-complete');\n",
              "    }\n",
              "    (() => {\n",
              "      let quickchartButtonEl =\n",
              "        document.querySelector('#df-43cc03f2-d318-4ff0-b415-1a57075fc230 button');\n",
              "      quickchartButtonEl.style.display =\n",
              "        google.colab.kernel.accessAllowed ? 'block' : 'none';\n",
              "    })();\n",
              "  </script>\n",
              "</div>\n",
              "    </div>\n",
              "  </div>\n"
            ]
          },
          "metadata": {},
          "execution_count": 6
        }
      ]
    },
    {
      "cell_type": "code",
      "source": [
        "df = df.drop(['winningTeam','losingTeam', 'tResult'], axis=1)\n",
        "df"
      ],
      "metadata": {
        "colab": {
          "base_uri": "https://localhost:8080/",
          "height": 444
        },
        "id": "imAAd14b_Htr",
        "outputId": "ab7a86b9-0dea-482d-8273-3ca5137b9947"
      },
      "execution_count": null,
      "outputs": [
        {
          "output_type": "execute_result",
          "data": {
            "text/plain": [
              "        ctWinRate  tWinRate  roundNum  ctScore  tScore  ctTeam  tTeam  \\\n",
              "0            52.9      47.1         1   0.0000  0.0000       1      0   \n",
              "1            52.9      47.1         2   0.0625  0.0000       1      0   \n",
              "2            52.9      47.1         3   0.0625  0.0625       1      0   \n",
              "3            52.9      47.1         4   0.0625  0.1250       1      0   \n",
              "4            52.9      47.1         5   0.0625  0.1875       1      0   \n",
              "...           ...       ...       ...      ...     ...     ...    ...   \n",
              "111388       53.9      46.1        24   0.6875  0.7500     309    293   \n",
              "111389       53.9      46.1        25   0.6875  0.8125     309    293   \n",
              "111390       53.9      46.1        26   0.6875  0.8750     309    293   \n",
              "111391       53.9      46.1        27   0.7500  0.8750     309    293   \n",
              "111392       53.9      46.1        28   0.7500  0.9375     309    293   \n",
              "\n",
              "        ctFreezeTimeEndEqVal  ctRoundStartEqVal  ctBuyType  \\\n",
              "0                       4.30               1.00          0   \n",
              "1                      20.45               3.00          3   \n",
              "2                      11.55               4.90          2   \n",
              "3                       5.20               4.70          1   \n",
              "4                      23.80               1.00          3   \n",
              "...                      ...                ...        ...   \n",
              "111388                 29.70              19.95          3   \n",
              "111389                 23.80               1.00          3   \n",
              "111390                 10.10               4.35          2   \n",
              "111391                 31.20              15.50          3   \n",
              "111392                 30.80               8.05          3   \n",
              "\n",
              "        tFreezeTimeEndEqVal  tRoundStartEqVal  tBuyType  ctResult  \n",
              "0                      3.70              1.00         0         1  \n",
              "1                      5.25              1.00         1         0  \n",
              "2                     22.35              7.35         3         0  \n",
              "3                     22.55             11.20         3         0  \n",
              "4                     27.05              8.40         3         0  \n",
              "...                     ...               ...       ...       ...  \n",
              "111388                25.30              5.50         3         0  \n",
              "111389                27.45              4.70         3         0  \n",
              "111390                27.45             19.85         3         1  \n",
              "111391                26.95              1.00         3         0  \n",
              "111392                27.45             15.15         3         0  \n",
              "\n",
              "[111393 rows x 14 columns]"
            ],
            "text/html": [
              "\n",
              "  <div id=\"df-e1562a81-f488-4a5f-9f9a-1b7b453be1a9\" class=\"colab-df-container\">\n",
              "    <div>\n",
              "<style scoped>\n",
              "    .dataframe tbody tr th:only-of-type {\n",
              "        vertical-align: middle;\n",
              "    }\n",
              "\n",
              "    .dataframe tbody tr th {\n",
              "        vertical-align: top;\n",
              "    }\n",
              "\n",
              "    .dataframe thead th {\n",
              "        text-align: right;\n",
              "    }\n",
              "</style>\n",
              "<table border=\"1\" class=\"dataframe\">\n",
              "  <thead>\n",
              "    <tr style=\"text-align: right;\">\n",
              "      <th></th>\n",
              "      <th>ctWinRate</th>\n",
              "      <th>tWinRate</th>\n",
              "      <th>roundNum</th>\n",
              "      <th>ctScore</th>\n",
              "      <th>tScore</th>\n",
              "      <th>ctTeam</th>\n",
              "      <th>tTeam</th>\n",
              "      <th>ctFreezeTimeEndEqVal</th>\n",
              "      <th>ctRoundStartEqVal</th>\n",
              "      <th>ctBuyType</th>\n",
              "      <th>tFreezeTimeEndEqVal</th>\n",
              "      <th>tRoundStartEqVal</th>\n",
              "      <th>tBuyType</th>\n",
              "      <th>ctResult</th>\n",
              "    </tr>\n",
              "  </thead>\n",
              "  <tbody>\n",
              "    <tr>\n",
              "      <th>0</th>\n",
              "      <td>52.9</td>\n",
              "      <td>47.1</td>\n",
              "      <td>1</td>\n",
              "      <td>0.0000</td>\n",
              "      <td>0.0000</td>\n",
              "      <td>1</td>\n",
              "      <td>0</td>\n",
              "      <td>4.30</td>\n",
              "      <td>1.00</td>\n",
              "      <td>0</td>\n",
              "      <td>3.70</td>\n",
              "      <td>1.00</td>\n",
              "      <td>0</td>\n",
              "      <td>1</td>\n",
              "    </tr>\n",
              "    <tr>\n",
              "      <th>1</th>\n",
              "      <td>52.9</td>\n",
              "      <td>47.1</td>\n",
              "      <td>2</td>\n",
              "      <td>0.0625</td>\n",
              "      <td>0.0000</td>\n",
              "      <td>1</td>\n",
              "      <td>0</td>\n",
              "      <td>20.45</td>\n",
              "      <td>3.00</td>\n",
              "      <td>3</td>\n",
              "      <td>5.25</td>\n",
              "      <td>1.00</td>\n",
              "      <td>1</td>\n",
              "      <td>0</td>\n",
              "    </tr>\n",
              "    <tr>\n",
              "      <th>2</th>\n",
              "      <td>52.9</td>\n",
              "      <td>47.1</td>\n",
              "      <td>3</td>\n",
              "      <td>0.0625</td>\n",
              "      <td>0.0625</td>\n",
              "      <td>1</td>\n",
              "      <td>0</td>\n",
              "      <td>11.55</td>\n",
              "      <td>4.90</td>\n",
              "      <td>2</td>\n",
              "      <td>22.35</td>\n",
              "      <td>7.35</td>\n",
              "      <td>3</td>\n",
              "      <td>0</td>\n",
              "    </tr>\n",
              "    <tr>\n",
              "      <th>3</th>\n",
              "      <td>52.9</td>\n",
              "      <td>47.1</td>\n",
              "      <td>4</td>\n",
              "      <td>0.0625</td>\n",
              "      <td>0.1250</td>\n",
              "      <td>1</td>\n",
              "      <td>0</td>\n",
              "      <td>5.20</td>\n",
              "      <td>4.70</td>\n",
              "      <td>1</td>\n",
              "      <td>22.55</td>\n",
              "      <td>11.20</td>\n",
              "      <td>3</td>\n",
              "      <td>0</td>\n",
              "    </tr>\n",
              "    <tr>\n",
              "      <th>4</th>\n",
              "      <td>52.9</td>\n",
              "      <td>47.1</td>\n",
              "      <td>5</td>\n",
              "      <td>0.0625</td>\n",
              "      <td>0.1875</td>\n",
              "      <td>1</td>\n",
              "      <td>0</td>\n",
              "      <td>23.80</td>\n",
              "      <td>1.00</td>\n",
              "      <td>3</td>\n",
              "      <td>27.05</td>\n",
              "      <td>8.40</td>\n",
              "      <td>3</td>\n",
              "      <td>0</td>\n",
              "    </tr>\n",
              "    <tr>\n",
              "      <th>...</th>\n",
              "      <td>...</td>\n",
              "      <td>...</td>\n",
              "      <td>...</td>\n",
              "      <td>...</td>\n",
              "      <td>...</td>\n",
              "      <td>...</td>\n",
              "      <td>...</td>\n",
              "      <td>...</td>\n",
              "      <td>...</td>\n",
              "      <td>...</td>\n",
              "      <td>...</td>\n",
              "      <td>...</td>\n",
              "      <td>...</td>\n",
              "      <td>...</td>\n",
              "    </tr>\n",
              "    <tr>\n",
              "      <th>111388</th>\n",
              "      <td>53.9</td>\n",
              "      <td>46.1</td>\n",
              "      <td>24</td>\n",
              "      <td>0.6875</td>\n",
              "      <td>0.7500</td>\n",
              "      <td>309</td>\n",
              "      <td>293</td>\n",
              "      <td>29.70</td>\n",
              "      <td>19.95</td>\n",
              "      <td>3</td>\n",
              "      <td>25.30</td>\n",
              "      <td>5.50</td>\n",
              "      <td>3</td>\n",
              "      <td>0</td>\n",
              "    </tr>\n",
              "    <tr>\n",
              "      <th>111389</th>\n",
              "      <td>53.9</td>\n",
              "      <td>46.1</td>\n",
              "      <td>25</td>\n",
              "      <td>0.6875</td>\n",
              "      <td>0.8125</td>\n",
              "      <td>309</td>\n",
              "      <td>293</td>\n",
              "      <td>23.80</td>\n",
              "      <td>1.00</td>\n",
              "      <td>3</td>\n",
              "      <td>27.45</td>\n",
              "      <td>4.70</td>\n",
              "      <td>3</td>\n",
              "      <td>0</td>\n",
              "    </tr>\n",
              "    <tr>\n",
              "      <th>111390</th>\n",
              "      <td>53.9</td>\n",
              "      <td>46.1</td>\n",
              "      <td>26</td>\n",
              "      <td>0.6875</td>\n",
              "      <td>0.8750</td>\n",
              "      <td>309</td>\n",
              "      <td>293</td>\n",
              "      <td>10.10</td>\n",
              "      <td>4.35</td>\n",
              "      <td>2</td>\n",
              "      <td>27.45</td>\n",
              "      <td>19.85</td>\n",
              "      <td>3</td>\n",
              "      <td>1</td>\n",
              "    </tr>\n",
              "    <tr>\n",
              "      <th>111391</th>\n",
              "      <td>53.9</td>\n",
              "      <td>46.1</td>\n",
              "      <td>27</td>\n",
              "      <td>0.7500</td>\n",
              "      <td>0.8750</td>\n",
              "      <td>309</td>\n",
              "      <td>293</td>\n",
              "      <td>31.20</td>\n",
              "      <td>15.50</td>\n",
              "      <td>3</td>\n",
              "      <td>26.95</td>\n",
              "      <td>1.00</td>\n",
              "      <td>3</td>\n",
              "      <td>0</td>\n",
              "    </tr>\n",
              "    <tr>\n",
              "      <th>111392</th>\n",
              "      <td>53.9</td>\n",
              "      <td>46.1</td>\n",
              "      <td>28</td>\n",
              "      <td>0.7500</td>\n",
              "      <td>0.9375</td>\n",
              "      <td>309</td>\n",
              "      <td>293</td>\n",
              "      <td>30.80</td>\n",
              "      <td>8.05</td>\n",
              "      <td>3</td>\n",
              "      <td>27.45</td>\n",
              "      <td>15.15</td>\n",
              "      <td>3</td>\n",
              "      <td>0</td>\n",
              "    </tr>\n",
              "  </tbody>\n",
              "</table>\n",
              "<p>111393 rows × 14 columns</p>\n",
              "</div>\n",
              "    <div class=\"colab-df-buttons\">\n",
              "\n",
              "  <div class=\"colab-df-container\">\n",
              "    <button class=\"colab-df-convert\" onclick=\"convertToInteractive('df-e1562a81-f488-4a5f-9f9a-1b7b453be1a9')\"\n",
              "            title=\"Convert this dataframe to an interactive table.\"\n",
              "            style=\"display:none;\">\n",
              "\n",
              "  <svg xmlns=\"http://www.w3.org/2000/svg\" height=\"24px\" viewBox=\"0 -960 960 960\">\n",
              "    <path d=\"M120-120v-720h720v720H120Zm60-500h600v-160H180v160Zm220 220h160v-160H400v160Zm0 220h160v-160H400v160ZM180-400h160v-160H180v160Zm440 0h160v-160H620v160ZM180-180h160v-160H180v160Zm440 0h160v-160H620v160Z\"/>\n",
              "  </svg>\n",
              "    </button>\n",
              "\n",
              "  <style>\n",
              "    .colab-df-container {\n",
              "      display:flex;\n",
              "      gap: 12px;\n",
              "    }\n",
              "\n",
              "    .colab-df-convert {\n",
              "      background-color: #E8F0FE;\n",
              "      border: none;\n",
              "      border-radius: 50%;\n",
              "      cursor: pointer;\n",
              "      display: none;\n",
              "      fill: #1967D2;\n",
              "      height: 32px;\n",
              "      padding: 0 0 0 0;\n",
              "      width: 32px;\n",
              "    }\n",
              "\n",
              "    .colab-df-convert:hover {\n",
              "      background-color: #E2EBFA;\n",
              "      box-shadow: 0px 1px 2px rgba(60, 64, 67, 0.3), 0px 1px 3px 1px rgba(60, 64, 67, 0.15);\n",
              "      fill: #174EA6;\n",
              "    }\n",
              "\n",
              "    .colab-df-buttons div {\n",
              "      margin-bottom: 4px;\n",
              "    }\n",
              "\n",
              "    [theme=dark] .colab-df-convert {\n",
              "      background-color: #3B4455;\n",
              "      fill: #D2E3FC;\n",
              "    }\n",
              "\n",
              "    [theme=dark] .colab-df-convert:hover {\n",
              "      background-color: #434B5C;\n",
              "      box-shadow: 0px 1px 3px 1px rgba(0, 0, 0, 0.15);\n",
              "      filter: drop-shadow(0px 1px 2px rgba(0, 0, 0, 0.3));\n",
              "      fill: #FFFFFF;\n",
              "    }\n",
              "  </style>\n",
              "\n",
              "    <script>\n",
              "      const buttonEl =\n",
              "        document.querySelector('#df-e1562a81-f488-4a5f-9f9a-1b7b453be1a9 button.colab-df-convert');\n",
              "      buttonEl.style.display =\n",
              "        google.colab.kernel.accessAllowed ? 'block' : 'none';\n",
              "\n",
              "      async function convertToInteractive(key) {\n",
              "        const element = document.querySelector('#df-e1562a81-f488-4a5f-9f9a-1b7b453be1a9');\n",
              "        const dataTable =\n",
              "          await google.colab.kernel.invokeFunction('convertToInteractive',\n",
              "                                                    [key], {});\n",
              "        if (!dataTable) return;\n",
              "\n",
              "        const docLinkHtml = 'Like what you see? Visit the ' +\n",
              "          '<a target=\"_blank\" href=https://colab.research.google.com/notebooks/data_table.ipynb>data table notebook</a>'\n",
              "          + ' to learn more about interactive tables.';\n",
              "        element.innerHTML = '';\n",
              "        dataTable['output_type'] = 'display_data';\n",
              "        await google.colab.output.renderOutput(dataTable, element);\n",
              "        const docLink = document.createElement('div');\n",
              "        docLink.innerHTML = docLinkHtml;\n",
              "        element.appendChild(docLink);\n",
              "      }\n",
              "    </script>\n",
              "  </div>\n",
              "\n",
              "\n",
              "<div id=\"df-29d5179a-abb1-462e-a087-04a73587f1e4\">\n",
              "  <button class=\"colab-df-quickchart\" onclick=\"quickchart('df-29d5179a-abb1-462e-a087-04a73587f1e4')\"\n",
              "            title=\"Suggest charts\"\n",
              "            style=\"display:none;\">\n",
              "\n",
              "<svg xmlns=\"http://www.w3.org/2000/svg\" height=\"24px\"viewBox=\"0 0 24 24\"\n",
              "     width=\"24px\">\n",
              "    <g>\n",
              "        <path d=\"M19 3H5c-1.1 0-2 .9-2 2v14c0 1.1.9 2 2 2h14c1.1 0 2-.9 2-2V5c0-1.1-.9-2-2-2zM9 17H7v-7h2v7zm4 0h-2V7h2v10zm4 0h-2v-4h2v4z\"/>\n",
              "    </g>\n",
              "</svg>\n",
              "  </button>\n",
              "\n",
              "<style>\n",
              "  .colab-df-quickchart {\n",
              "      --bg-color: #E8F0FE;\n",
              "      --fill-color: #1967D2;\n",
              "      --hover-bg-color: #E2EBFA;\n",
              "      --hover-fill-color: #174EA6;\n",
              "      --disabled-fill-color: #AAA;\n",
              "      --disabled-bg-color: #DDD;\n",
              "  }\n",
              "\n",
              "  [theme=dark] .colab-df-quickchart {\n",
              "      --bg-color: #3B4455;\n",
              "      --fill-color: #D2E3FC;\n",
              "      --hover-bg-color: #434B5C;\n",
              "      --hover-fill-color: #FFFFFF;\n",
              "      --disabled-bg-color: #3B4455;\n",
              "      --disabled-fill-color: #666;\n",
              "  }\n",
              "\n",
              "  .colab-df-quickchart {\n",
              "    background-color: var(--bg-color);\n",
              "    border: none;\n",
              "    border-radius: 50%;\n",
              "    cursor: pointer;\n",
              "    display: none;\n",
              "    fill: var(--fill-color);\n",
              "    height: 32px;\n",
              "    padding: 0;\n",
              "    width: 32px;\n",
              "  }\n",
              "\n",
              "  .colab-df-quickchart:hover {\n",
              "    background-color: var(--hover-bg-color);\n",
              "    box-shadow: 0 1px 2px rgba(60, 64, 67, 0.3), 0 1px 3px 1px rgba(60, 64, 67, 0.15);\n",
              "    fill: var(--button-hover-fill-color);\n",
              "  }\n",
              "\n",
              "  .colab-df-quickchart-complete:disabled,\n",
              "  .colab-df-quickchart-complete:disabled:hover {\n",
              "    background-color: var(--disabled-bg-color);\n",
              "    fill: var(--disabled-fill-color);\n",
              "    box-shadow: none;\n",
              "  }\n",
              "\n",
              "  .colab-df-spinner {\n",
              "    border: 2px solid var(--fill-color);\n",
              "    border-color: transparent;\n",
              "    border-bottom-color: var(--fill-color);\n",
              "    animation:\n",
              "      spin 1s steps(1) infinite;\n",
              "  }\n",
              "\n",
              "  @keyframes spin {\n",
              "    0% {\n",
              "      border-color: transparent;\n",
              "      border-bottom-color: var(--fill-color);\n",
              "      border-left-color: var(--fill-color);\n",
              "    }\n",
              "    20% {\n",
              "      border-color: transparent;\n",
              "      border-left-color: var(--fill-color);\n",
              "      border-top-color: var(--fill-color);\n",
              "    }\n",
              "    30% {\n",
              "      border-color: transparent;\n",
              "      border-left-color: var(--fill-color);\n",
              "      border-top-color: var(--fill-color);\n",
              "      border-right-color: var(--fill-color);\n",
              "    }\n",
              "    40% {\n",
              "      border-color: transparent;\n",
              "      border-right-color: var(--fill-color);\n",
              "      border-top-color: var(--fill-color);\n",
              "    }\n",
              "    60% {\n",
              "      border-color: transparent;\n",
              "      border-right-color: var(--fill-color);\n",
              "    }\n",
              "    80% {\n",
              "      border-color: transparent;\n",
              "      border-right-color: var(--fill-color);\n",
              "      border-bottom-color: var(--fill-color);\n",
              "    }\n",
              "    90% {\n",
              "      border-color: transparent;\n",
              "      border-bottom-color: var(--fill-color);\n",
              "    }\n",
              "  }\n",
              "</style>\n",
              "\n",
              "  <script>\n",
              "    async function quickchart(key) {\n",
              "      const quickchartButtonEl =\n",
              "        document.querySelector('#' + key + ' button');\n",
              "      quickchartButtonEl.disabled = true;  // To prevent multiple clicks.\n",
              "      quickchartButtonEl.classList.add('colab-df-spinner');\n",
              "      try {\n",
              "        const charts = await google.colab.kernel.invokeFunction(\n",
              "            'suggestCharts', [key], {});\n",
              "      } catch (error) {\n",
              "        console.error('Error during call to suggestCharts:', error);\n",
              "      }\n",
              "      quickchartButtonEl.classList.remove('colab-df-spinner');\n",
              "      quickchartButtonEl.classList.add('colab-df-quickchart-complete');\n",
              "    }\n",
              "    (() => {\n",
              "      let quickchartButtonEl =\n",
              "        document.querySelector('#df-29d5179a-abb1-462e-a087-04a73587f1e4 button');\n",
              "      quickchartButtonEl.style.display =\n",
              "        google.colab.kernel.accessAllowed ? 'block' : 'none';\n",
              "    })();\n",
              "  </script>\n",
              "</div>\n",
              "    </div>\n",
              "  </div>\n"
            ]
          },
          "metadata": {},
          "execution_count": 7
        }
      ]
    },
    {
      "cell_type": "code",
      "source": [
        "y = df['ctResult'].values\n",
        "X = df.drop(['ctResult'], axis=1).values"
      ],
      "metadata": {
        "id": "dr4Zmis-_vrw"
      },
      "execution_count": null,
      "outputs": []
    },
    {
      "cell_type": "code",
      "source": [
        "X.shape, y.shape"
      ],
      "metadata": {
        "colab": {
          "base_uri": "https://localhost:8080/"
        },
        "id": "cX8XXymCAts6",
        "outputId": "12aeae15-9186-41f5-84de-58cc0835e880"
      },
      "execution_count": null,
      "outputs": [
        {
          "output_type": "execute_result",
          "data": {
            "text/plain": [
              "((111393, 13), (111393,))"
            ]
          },
          "metadata": {},
          "execution_count": 16
        }
      ]
    },
    {
      "cell_type": "code",
      "source": [
        "stand_sc = StandardScaler()\n",
        "X = stand_sc.fit_transform(X)"
      ],
      "metadata": {
        "id": "126SSLqKD2ly"
      },
      "execution_count": null,
      "outputs": []
    },
    {
      "cell_type": "markdown",
      "source": [
        "Разделим данные на тренировочную и отложенную выборку"
      ],
      "metadata": {
        "id": "Wm1BJI_KHf2T"
      }
    },
    {
      "cell_type": "code",
      "source": [
        "X_train, X_test, y_train, y_test = train_test_split(X, y, random_state=42, test_size=0.15)"
      ],
      "metadata": {
        "id": "fjBKom7Q_kVY"
      },
      "execution_count": null,
      "outputs": []
    },
    {
      "cell_type": "code",
      "source": [
        "X_train.shape, X_test.shape, y_train.shape, y_test.shape"
      ],
      "metadata": {
        "colab": {
          "base_uri": "https://localhost:8080/"
        },
        "id": "SrcmEm5aA100",
        "outputId": "73c69e5a-5eee-4fd7-c10b-873a065e8018"
      },
      "execution_count": null,
      "outputs": [
        {
          "output_type": "execute_result",
          "data": {
            "text/plain": [
              "((94684, 13), (16709, 13), (94684,), (16709,))"
            ]
          },
          "metadata": {},
          "execution_count": 36
        }
      ]
    },
    {
      "cell_type": "markdown",
      "source": [
        "## Задание 2"
      ],
      "metadata": {
        "id": "35ZiVqLW_WkC"
      }
    },
    {
      "cell_type": "markdown",
      "source": [
        "Реализовать баггинг"
      ],
      "metadata": {
        "id": "NlWUSwvS_c2G"
      }
    },
    {
      "cell_type": "code",
      "source": [
        "clf = RandomForestClassifier(max_depth=15, random_state=42)\n",
        "clf.fit(X_train, y_train)"
      ],
      "metadata": {
        "colab": {
          "base_uri": "https://localhost:8080/",
          "height": 75
        },
        "id": "7lcybmYzBE9k",
        "outputId": "3679be35-d9a2-45b0-fe7c-1e7fce626403"
      },
      "execution_count": null,
      "outputs": [
        {
          "output_type": "execute_result",
          "data": {
            "text/plain": [
              "RandomForestClassifier(max_depth=15, random_state=42)"
            ],
            "text/html": [
              "<style>#sk-container-id-4 {color: black;background-color: white;}#sk-container-id-4 pre{padding: 0;}#sk-container-id-4 div.sk-toggleable {background-color: white;}#sk-container-id-4 label.sk-toggleable__label {cursor: pointer;display: block;width: 100%;margin-bottom: 0;padding: 0.3em;box-sizing: border-box;text-align: center;}#sk-container-id-4 label.sk-toggleable__label-arrow:before {content: \"▸\";float: left;margin-right: 0.25em;color: #696969;}#sk-container-id-4 label.sk-toggleable__label-arrow:hover:before {color: black;}#sk-container-id-4 div.sk-estimator:hover label.sk-toggleable__label-arrow:before {color: black;}#sk-container-id-4 div.sk-toggleable__content {max-height: 0;max-width: 0;overflow: hidden;text-align: left;background-color: #f0f8ff;}#sk-container-id-4 div.sk-toggleable__content pre {margin: 0.2em;color: black;border-radius: 0.25em;background-color: #f0f8ff;}#sk-container-id-4 input.sk-toggleable__control:checked~div.sk-toggleable__content {max-height: 200px;max-width: 100%;overflow: auto;}#sk-container-id-4 input.sk-toggleable__control:checked~label.sk-toggleable__label-arrow:before {content: \"▾\";}#sk-container-id-4 div.sk-estimator input.sk-toggleable__control:checked~label.sk-toggleable__label {background-color: #d4ebff;}#sk-container-id-4 div.sk-label input.sk-toggleable__control:checked~label.sk-toggleable__label {background-color: #d4ebff;}#sk-container-id-4 input.sk-hidden--visually {border: 0;clip: rect(1px 1px 1px 1px);clip: rect(1px, 1px, 1px, 1px);height: 1px;margin: -1px;overflow: hidden;padding: 0;position: absolute;width: 1px;}#sk-container-id-4 div.sk-estimator {font-family: monospace;background-color: #f0f8ff;border: 1px dotted black;border-radius: 0.25em;box-sizing: border-box;margin-bottom: 0.5em;}#sk-container-id-4 div.sk-estimator:hover {background-color: #d4ebff;}#sk-container-id-4 div.sk-parallel-item::after {content: \"\";width: 100%;border-bottom: 1px solid gray;flex-grow: 1;}#sk-container-id-4 div.sk-label:hover label.sk-toggleable__label {background-color: #d4ebff;}#sk-container-id-4 div.sk-serial::before {content: \"\";position: absolute;border-left: 1px solid gray;box-sizing: border-box;top: 0;bottom: 0;left: 50%;z-index: 0;}#sk-container-id-4 div.sk-serial {display: flex;flex-direction: column;align-items: center;background-color: white;padding-right: 0.2em;padding-left: 0.2em;position: relative;}#sk-container-id-4 div.sk-item {position: relative;z-index: 1;}#sk-container-id-4 div.sk-parallel {display: flex;align-items: stretch;justify-content: center;background-color: white;position: relative;}#sk-container-id-4 div.sk-item::before, #sk-container-id-4 div.sk-parallel-item::before {content: \"\";position: absolute;border-left: 1px solid gray;box-sizing: border-box;top: 0;bottom: 0;left: 50%;z-index: -1;}#sk-container-id-4 div.sk-parallel-item {display: flex;flex-direction: column;z-index: 1;position: relative;background-color: white;}#sk-container-id-4 div.sk-parallel-item:first-child::after {align-self: flex-end;width: 50%;}#sk-container-id-4 div.sk-parallel-item:last-child::after {align-self: flex-start;width: 50%;}#sk-container-id-4 div.sk-parallel-item:only-child::after {width: 0;}#sk-container-id-4 div.sk-dashed-wrapped {border: 1px dashed gray;margin: 0 0.4em 0.5em 0.4em;box-sizing: border-box;padding-bottom: 0.4em;background-color: white;}#sk-container-id-4 div.sk-label label {font-family: monospace;font-weight: bold;display: inline-block;line-height: 1.2em;}#sk-container-id-4 div.sk-label-container {text-align: center;}#sk-container-id-4 div.sk-container {/* jupyter's `normalize.less` sets `[hidden] { display: none; }` but bootstrap.min.css set `[hidden] { display: none !important; }` so we also need the `!important` here to be able to override the default hidden behavior on the sphinx rendered scikit-learn.org. See: https://github.com/scikit-learn/scikit-learn/issues/21755 */display: inline-block !important;position: relative;}#sk-container-id-4 div.sk-text-repr-fallback {display: none;}</style><div id=\"sk-container-id-4\" class=\"sk-top-container\"><div class=\"sk-text-repr-fallback\"><pre>RandomForestClassifier(max_depth=15, random_state=42)</pre><b>In a Jupyter environment, please rerun this cell to show the HTML representation or trust the notebook. <br />On GitHub, the HTML representation is unable to render, please try loading this page with nbviewer.org.</b></div><div class=\"sk-container\" hidden><div class=\"sk-item\"><div class=\"sk-estimator sk-toggleable\"><input class=\"sk-toggleable__control sk-hidden--visually\" id=\"sk-estimator-id-4\" type=\"checkbox\" checked><label for=\"sk-estimator-id-4\" class=\"sk-toggleable__label sk-toggleable__label-arrow\">RandomForestClassifier</label><div class=\"sk-toggleable__content\"><pre>RandomForestClassifier(max_depth=15, random_state=42)</pre></div></div></div></div></div>"
            ]
          },
          "metadata": {},
          "execution_count": 42
        }
      ]
    },
    {
      "cell_type": "code",
      "source": [
        "accuracy_score(clf.predict(X_test), y_test)"
      ],
      "metadata": {
        "colab": {
          "base_uri": "https://localhost:8080/"
        },
        "id": "t5bAHYSHBQhA",
        "outputId": "179c4102-77a7-42fb-e4a0-8527bf28bb1f"
      },
      "execution_count": null,
      "outputs": [
        {
          "output_type": "execute_result",
          "data": {
            "text/plain": [
              "0.6460590101143097"
            ]
          },
          "metadata": {},
          "execution_count": 43
        }
      ]
    },
    {
      "cell_type": "code",
      "source": [
        "feats = {}\n",
        "for feature, importance in zip(df.columns, clf.feature_importances_):\n",
        "    feats[feature] = importance\n",
        "importances = pd.DataFrame.from_dict(feats, orient='index').rename(columns={0: 'Gini-Importance'})\n",
        "importances = importances.sort_values(by='Gini-Importance', ascending=False)\n",
        "importances = importances.reset_index()\n",
        "importances = importances.rename(columns={'index': 'Features'})\n",
        "sns.set(font_scale = 5)\n",
        "sns.set(style=\"whitegrid\", color_codes=True, font_scale = 1.7)\n",
        "fig, ax = plt.subplots()\n",
        "fig.set_size_inches(30,15)\n",
        "sns.barplot(x=importances['Gini-Importance'], y=importances['Features'], data=importances, color='skyblue')\n",
        "plt.xlabel('Важность', fontsize=25, weight = 'bold')\n",
        "plt.ylabel('Признаки', fontsize=25, weight = 'bold')\n",
        "plt.title('Важность признаков', fontsize=25, weight = 'bold')\n",
        "display(plt.show())\n",
        "display(importances)"
      ],
      "metadata": {
        "colab": {
          "base_uri": "https://localhost:8080/",
          "height": 910
        },
        "id": "9uHtu_0FCNsv",
        "outputId": "a55eedef-16e7-45a7-c43e-61fa35508183"
      },
      "execution_count": null,
      "outputs": [
        {
          "output_type": "display_data",
          "data": {
            "text/plain": [
              "<Figure size 3000x1500 with 1 Axes>"
            ],
            "image/png": "[encoded data removed]"
          },
          "metadata": {}
        },
        {
          "output_type": "display_data",
          "data": {
            "text/plain": [
              "None"
            ]
          },
          "metadata": {}
        },
        {
          "output_type": "display_data",
          "data": {
            "text/plain": [
              "                Features  Gini-Importance\n",
              "0   ctFreezeTimeEndEqVal         0.201870\n",
              "1    tFreezeTimeEndEqVal         0.187807\n",
              "2              ctBuyType         0.084445\n",
              "3       tRoundStartEqVal         0.077222\n",
              "4      ctRoundStartEqVal         0.075448\n",
              "5                 ctTeam         0.074588\n",
              "6                  tTeam         0.073517\n",
              "7               tBuyType         0.067520\n",
              "8               roundNum         0.042413\n",
              "9                 tScore         0.037333\n",
              "10               ctScore         0.036695\n",
              "11              tWinRate         0.020597\n",
              "12             ctWinRate         0.020548"
            ],
            "text/html": [
              "\n",
              "  <div id=\"df-637dd5c4-bae7-4c12-a0b1-a9edd4b6556b\" class=\"colab-df-container\">\n",
              "    <div>\n",
              "<style scoped>\n",
              "    .dataframe tbody tr th:only-of-type {\n",
              "        vertical-align: middle;\n",
              "    }\n",
              "\n",
              "    .dataframe tbody tr th {\n",
              "        vertical-align: top;\n",
              "    }\n",
              "\n",
              "    .dataframe thead th {\n",
              "        text-align: right;\n",
              "    }\n",
              "</style>\n",
              "<table border=\"1\" class=\"dataframe\">\n",
              "  <thead>\n",
              "    <tr style=\"text-align: right;\">\n",
              "      <th></th>\n",
              "      <th>Features</th>\n",
              "      <th>Gini-Importance</th>\n",
              "    </tr>\n",
              "  </thead>\n",
              "  <tbody>\n",
              "    <tr>\n",
              "      <th>0</th>\n",
              "      <td>ctFreezeTimeEndEqVal</td>\n",
              "      <td>0.201870</td>\n",
              "    </tr>\n",
              "    <tr>\n",
              "      <th>1</th>\n",
              "      <td>tFreezeTimeEndEqVal</td>\n",
              "      <td>0.187807</td>\n",
              "    </tr>\n",
              "    <tr>\n",
              "      <th>2</th>\n",
              "      <td>ctBuyType</td>\n",
              "      <td>0.084445</td>\n",
              "    </tr>\n",
              "    <tr>\n",
              "      <th>3</th>\n",
              "      <td>tRoundStartEqVal</td>\n",
              "      <td>0.077222</td>\n",
              "    </tr>\n",
              "    <tr>\n",
              "      <th>4</th>\n",
              "      <td>ctRoundStartEqVal</td>\n",
              "      <td>0.075448</td>\n",
              "    </tr>\n",
              "    <tr>\n",
              "      <th>5</th>\n",
              "      <td>ctTeam</td>\n",
              "      <td>0.074588</td>\n",
              "    </tr>\n",
              "    <tr>\n",
              "      <th>6</th>\n",
              "      <td>tTeam</td>\n",
              "      <td>0.073517</td>\n",
              "    </tr>\n",
              "    <tr>\n",
              "      <th>7</th>\n",
              "      <td>tBuyType</td>\n",
              "      <td>0.067520</td>\n",
              "    </tr>\n",
              "    <tr>\n",
              "      <th>8</th>\n",
              "      <td>roundNum</td>\n",
              "      <td>0.042413</td>\n",
              "    </tr>\n",
              "    <tr>\n",
              "      <th>9</th>\n",
              "      <td>tScore</td>\n",
              "      <td>0.037333</td>\n",
              "    </tr>\n",
              "    <tr>\n",
              "      <th>10</th>\n",
              "      <td>ctScore</td>\n",
              "      <td>0.036695</td>\n",
              "    </tr>\n",
              "    <tr>\n",
              "      <th>11</th>\n",
              "      <td>tWinRate</td>\n",
              "      <td>0.020597</td>\n",
              "    </tr>\n",
              "    <tr>\n",
              "      <th>12</th>\n",
              "      <td>ctWinRate</td>\n",
              "      <td>0.020548</td>\n",
              "    </tr>\n",
              "  </tbody>\n",
              "</table>\n",
              "</div>\n",
              "    <div class=\"colab-df-buttons\">\n",
              "\n",
              "  <div class=\"colab-df-container\">\n",
              "    <button class=\"colab-df-convert\" onclick=\"convertToInteractive('df-637dd5c4-bae7-4c12-a0b1-a9edd4b6556b')\"\n",
              "            title=\"Convert this dataframe to an interactive table.\"\n",
              "            style=\"display:none;\">\n",
              "\n",
              "  <svg xmlns=\"http://www.w3.org/2000/svg\" height=\"24px\" viewBox=\"0 -960 960 960\">\n",
              "    <path d=\"M120-120v-720h720v720H120Zm60-500h600v-160H180v160Zm220 220h160v-160H400v160Zm0 220h160v-160H400v160ZM180-400h160v-160H180v160Zm440 0h160v-160H620v160ZM180-180h160v-160H180v160Zm440 0h160v-160H620v160Z\"/>\n",
              "  </svg>\n",
              "    </button>\n",
              "\n",
              "  <style>\n",
              "    .colab-df-container {\n",
              "      display:flex;\n",
              "      gap: 12px;\n",
              "    }\n",
              "\n",
              "    .colab-df-convert {\n",
              "      background-color: #E8F0FE;\n",
              "      border: none;\n",
              "      border-radius: 50%;\n",
              "      cursor: pointer;\n",
              "      display: none;\n",
              "      fill: #1967D2;\n",
              "      height: 32px;\n",
              "      padding: 0 0 0 0;\n",
              "      width: 32px;\n",
              "    }\n",
              "\n",
              "    .colab-df-convert:hover {\n",
              "      background-color: #E2EBFA;\n",
              "      box-shadow: 0px 1px 2px rgba(60, 64, 67, 0.3), 0px 1px 3px 1px rgba(60, 64, 67, 0.15);\n",
              "      fill: #174EA6;\n",
              "    }\n",
              "\n",
              "    .colab-df-buttons div {\n",
              "      margin-bottom: 4px;\n",
              "    }\n",
              "\n",
              "    [theme=dark] .colab-df-convert {\n",
              "      background-color: #3B4455;\n",
              "      fill: #D2E3FC;\n",
              "    }\n",
              "\n",
              "    [theme=dark] .colab-df-convert:hover {\n",
              "      background-color: #434B5C;\n",
              "      box-shadow: 0px 1px 3px 1px rgba(0, 0, 0, 0.15);\n",
              "      filter: drop-shadow(0px 1px 2px rgba(0, 0, 0, 0.3));\n",
              "      fill: #FFFFFF;\n",
              "    }\n",
              "  </style>\n",
              "\n",
              "    <script>\n",
              "      const buttonEl =\n",
              "        document.querySelector('#df-637dd5c4-bae7-4c12-a0b1-a9edd4b6556b button.colab-df-convert');\n",
              "      buttonEl.style.display =\n",
              "        google.colab.kernel.accessAllowed ? 'block' : 'none';\n",
              "\n",
              "      async function convertToInteractive(key) {\n",
              "        const element = document.querySelector('#df-637dd5c4-bae7-4c12-a0b1-a9edd4b6556b');\n",
              "        const dataTable =\n",
              "          await google.colab.kernel.invokeFunction('convertToInteractive',\n",
              "                                                    [key], {});\n",
              "        if (!dataTable) return;\n",
              "\n",
              "        const docLinkHtml = 'Like what you see? Visit the ' +\n",
              "          '<a target=\"_blank\" href=https://colab.research.google.com/notebooks/data_table.ipynb>data table notebook</a>'\n",
              "          + ' to learn more about interactive tables.';\n",
              "        element.innerHTML = '';\n",
              "        dataTable['output_type'] = 'display_data';\n",
              "        await google.colab.output.renderOutput(dataTable, element);\n",
              "        const docLink = document.createElement('div');\n",
              "        docLink.innerHTML = docLinkHtml;\n",
              "        element.appendChild(docLink);\n",
              "      }\n",
              "    </script>\n",
              "  </div>\n",
              "\n",
              "\n",
              "<div id=\"df-62989a60-3360-43ec-9911-c901565bc26c\">\n",
              "  <button class=\"colab-df-quickchart\" onclick=\"quickchart('df-62989a60-3360-43ec-9911-c901565bc26c')\"\n",
              "            title=\"Suggest charts\"\n",
              "            style=\"display:none;\">\n",
              "\n",
              "<svg xmlns=\"http://www.w3.org/2000/svg\" height=\"24px\"viewBox=\"0 0 24 24\"\n",
              "     width=\"24px\">\n",
              "    <g>\n",
              "        <path d=\"M19 3H5c-1.1 0-2 .9-2 2v14c0 1.1.9 2 2 2h14c1.1 0 2-.9 2-2V5c0-1.1-.9-2-2-2zM9 17H7v-7h2v7zm4 0h-2V7h2v10zm4 0h-2v-4h2v4z\"/>\n",
              "    </g>\n",
              "</svg>\n",
              "  </button>\n",
              "\n",
              "<style>\n",
              "  .colab-df-quickchart {\n",
              "      --bg-color: #E8F0FE;\n",
              "      --fill-color: #1967D2;\n",
              "      --hover-bg-color: #E2EBFA;\n",
              "      --hover-fill-color: #174EA6;\n",
              "      --disabled-fill-color: #AAA;\n",
              "      --disabled-bg-color: #DDD;\n",
              "  }\n",
              "\n",
              "  [theme=dark] .colab-df-quickchart {\n",
              "      --bg-color: #3B4455;\n",
              "      --fill-color: #D2E3FC;\n",
              "      --hover-bg-color: #434B5C;\n",
              "      --hover-fill-color: #FFFFFF;\n",
              "      --disabled-bg-color: #3B4455;\n",
              "      --disabled-fill-color: #666;\n",
              "  }\n",
              "\n",
              "  .colab-df-quickchart {\n",
              "    background-color: var(--bg-color);\n",
              "    border: none;\n",
              "    border-radius: 50%;\n",
              "    cursor: pointer;\n",
              "    display: none;\n",
              "    fill: var(--fill-color);\n",
              "    height: 32px;\n",
              "    padding: 0;\n",
              "    width: 32px;\n",
              "  }\n",
              "\n",
              "  .colab-df-quickchart:hover {\n",
              "    background-color: var(--hover-bg-color);\n",
              "    box-shadow: 0 1px 2px rgba(60, 64, 67, 0.3), 0 1px 3px 1px rgba(60, 64, 67, 0.15);\n",
              "    fill: var(--button-hover-fill-color);\n",
              "  }\n",
              "\n",
              "  .colab-df-quickchart-complete:disabled,\n",
              "  .colab-df-quickchart-complete:disabled:hover {\n",
              "    background-color: var(--disabled-bg-color);\n",
              "    fill: var(--disabled-fill-color);\n",
              "    box-shadow: none;\n",
              "  }\n",
              "\n",
              "  .colab-df-spinner {\n",
              "    border: 2px solid var(--fill-color);\n",
              "    border-color: transparent;\n",
              "    border-bottom-color: var(--fill-color);\n",
              "    animation:\n",
              "      spin 1s steps(1) infinite;\n",
              "  }\n",
              "\n",
              "  @keyframes spin {\n",
              "    0% {\n",
              "      border-color: transparent;\n",
              "      border-bottom-color: var(--fill-color);\n",
              "      border-left-color: var(--fill-color);\n",
              "    }\n",
              "    20% {\n",
              "      border-color: transparent;\n",
              "      border-left-color: var(--fill-color);\n",
              "      border-top-color: var(--fill-color);\n",
              "    }\n",
              "    30% {\n",
              "      border-color: transparent;\n",
              "      border-left-color: var(--fill-color);\n",
              "      border-top-color: var(--fill-color);\n",
              "      border-right-color: var(--fill-color);\n",
              "    }\n",
              "    40% {\n",
              "      border-color: transparent;\n",
              "      border-right-color: var(--fill-color);\n",
              "      border-top-color: var(--fill-color);\n",
              "    }\n",
              "    60% {\n",
              "      border-color: transparent;\n",
              "      border-right-color: var(--fill-color);\n",
              "    }\n",
              "    80% {\n",
              "      border-color: transparent;\n",
              "      border-right-color: var(--fill-color);\n",
              "      border-bottom-color: var(--fill-color);\n",
              "    }\n",
              "    90% {\n",
              "      border-color: transparent;\n",
              "      border-bottom-color: var(--fill-color);\n",
              "    }\n",
              "  }\n",
              "</style>\n",
              "\n",
              "  <script>\n",
              "    async function quickchart(key) {\n",
              "      const quickchartButtonEl =\n",
              "        document.querySelector('#' + key + ' button');\n",
              "      quickchartButtonEl.disabled = true;  // To prevent multiple clicks.\n",
              "      quickchartButtonEl.classList.add('colab-df-spinner');\n",
              "      try {\n",
              "        const charts = await google.colab.kernel.invokeFunction(\n",
              "            'suggestCharts', [key], {});\n",
              "      } catch (error) {\n",
              "        console.error('Error during call to suggestCharts:', error);\n",
              "      }\n",
              "      quickchartButtonEl.classList.remove('colab-df-spinner');\n",
              "      quickchartButtonEl.classList.add('colab-df-quickchart-complete');\n",
              "    }\n",
              "    (() => {\n",
              "      let quickchartButtonEl =\n",
              "        document.querySelector('#df-62989a60-3360-43ec-9911-c901565bc26c button');\n",
              "      quickchartButtonEl.style.display =\n",
              "        google.colab.kernel.accessAllowed ? 'block' : 'none';\n",
              "    })();\n",
              "  </script>\n",
              "</div>\n",
              "    </div>\n",
              "  </div>\n"
            ]
          },
          "metadata": {}
        }
      ]
    },
    {
      "cell_type": "markdown",
      "source": [
        "## Задание 3"
      ],
      "metadata": {
        "id": "1mpYRplcCxqt"
      }
    },
    {
      "cell_type": "markdown",
      "source": [
        "Реализовать бустинг на тех же данных, что использовались для баггинга.\n"
      ],
      "metadata": {
        "id": "xAsI4AYJCzlU"
      }
    },
    {
      "cell_type": "code",
      "source": [
        "cat = CatBoostClassifier(\n",
        "    # cat_features=cat_cols,\n",
        "    iterations=1000,\n",
        "    # task_type=\"GPU\",\n",
        "    random_seed=42,\n",
        "    loss_function='Logloss' #  No boosting_type='Plain', bootstrap_type='Bernoulli',\n",
        "    )\n",
        "\n",
        "cat.fit(X_train,\n",
        "        y_train,\n",
        "        # cat_features=cat_cols,\n",
        "        verbose=False,\n",
        "        plot=True,\n",
        "        eval_set=(X_test, y_test)\n",
        "        )"
      ],
      "metadata": {
        "colab": {
          "base_uri": "https://localhost:8080/",
          "height": 34,
          "referenced_widgets": [
            "e8bf98d20a704f5eb500ab22d9e62ae5"
          ]
        },
        "id": "wHQCosCNC2La",
        "outputId": "e663f83b-e3b0-42f6-9627-d109652dbe1e"
      },
      "execution_count": null,
      "outputs": [
        {
          "output_type": "display_data",
          "data": {
            "text/plain": [
              "MetricVisualizer(layout=Layout(align_self='stretch', height='500px'))"
            ],
            "application/vnd.jupyter.widget-view+json": {
              "version_major": 2,
              "version_minor": 0,
              "model_id": "e8bf98d20a704f5eb500ab22d9e62ae5"
            }
          },
          "metadata": {}
        },
        {
          "output_type": "execute_result",
          "data": {
            "text/plain": [
              "<catboost.core.CatBoostClassifier at 0x7a9bc00ebca0>"
            ]
          },
          "metadata": {},
          "execution_count": 47
        }
      ]
    },
    {
      "cell_type": "code",
      "source": [
        "print(f'Accuracy Score: {accuracy_score(cat.predict(X_test), y_test)}')"
      ],
      "metadata": {
        "colab": {
          "base_uri": "https://localhost:8080/"
        },
        "id": "Rexj4MTPE6L7",
        "outputId": "c6ef4974-21e3-42c7-e7f5-d6d24cf160b8"
      },
      "execution_count": null,
      "outputs": [
        {
          "output_type": "stream",
          "name": "stdout",
          "text": [
            "Accuracy Score: 0.6512059369202227\n"
          ]
        }
      ]
    },
    {
      "cell_type": "markdown",
      "source": [
        "## Задание 4"
      ],
      "metadata": {
        "id": "PqqPK4yhGQ4k"
      }
    },
    {
      "cell_type": "markdown",
      "source": [
        "Сравнить результаты работы алгоритмов (время работы и качество моделей)"
      ],
      "metadata": {
        "id": "CrNR1WssGTBH"
      }
    },
    {
      "cell_type": "markdown",
      "source": [
        "Сравнивать время работы в данном случае не совсем корректно, учитывая тот факт, что у Рандомного леса отсутствует гиперпараметр iterations. Но как можно видеть модель обученная с помощью CatBoost получила прирост в точности."
      ],
      "metadata": {
        "id": "AB0bI7LwGWlR"
      }
    }
  ]
}